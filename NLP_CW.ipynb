{
  "cells": [
    {
      "cell_type": "markdown",
      "metadata": {
        "id": "sJS7TgvnJs8t"
      },
      "source": []
    },
    {
      "cell_type": "code",
      "execution_count": 1,
      "metadata": {
        "colab": {
          "base_uri": "https://localhost:8080/"
        },
        "id": "LjcOJlRcJrsm",
        "outputId": "2a6d545e-0d14-411f-c4c3-12d79d027d07"
      },
      "outputs": [
        {
          "name": "stdout",
          "output_type": "stream",
          "text": [
            "Collecting datasets\n",
            "  Using cached datasets-2.19.1-py3-none-any.whl.metadata (19 kB)\n",
            "Collecting filelock (from datasets)\n",
            "  Downloading filelock-3.14.0-py3-none-any.whl.metadata (2.8 kB)\n",
            "Collecting numpy>=1.17 (from datasets)\n",
            "  Using cached numpy-1.26.4-cp310-cp310-manylinux_2_17_x86_64.manylinux2014_x86_64.whl.metadata (61 kB)\n",
            "Collecting pyarrow>=12.0.0 (from datasets)\n",
            "  Using cached pyarrow-16.0.0-cp310-cp310-manylinux_2_28_x86_64.whl.metadata (3.0 kB)\n",
            "Collecting pyarrow-hotfix (from datasets)\n",
            "  Using cached pyarrow_hotfix-0.6-py3-none-any.whl.metadata (3.6 kB)\n",
            "Collecting dill<0.3.9,>=0.3.0 (from datasets)\n",
            "  Using cached dill-0.3.8-py3-none-any.whl.metadata (10 kB)\n",
            "Collecting pandas (from datasets)\n",
            "  Using cached pandas-2.2.2-cp310-cp310-manylinux_2_17_x86_64.manylinux2014_x86_64.whl.metadata (19 kB)\n",
            "Collecting requests>=2.19.0 (from datasets)\n",
            "  Using cached requests-2.31.0-py3-none-any.whl.metadata (4.6 kB)\n",
            "Collecting tqdm>=4.62.1 (from datasets)\n",
            "  Downloading tqdm-4.66.4-py3-none-any.whl.metadata (57 kB)\n",
            "\u001b[2K     \u001b[90m━━━━━━━━━━━━━━━━━━━━━━━━━━━━━━━━━━━━━━━━\u001b[0m \u001b[32m57.6/57.6 kB\u001b[0m \u001b[31m8.2 MB/s\u001b[0m eta \u001b[36m0:00:00\u001b[0m\n",
            "\u001b[?25hCollecting xxhash (from datasets)\n",
            "  Using cached xxhash-3.4.1-cp310-cp310-manylinux_2_17_x86_64.manylinux2014_x86_64.whl.metadata (12 kB)\n",
            "Collecting multiprocess (from datasets)\n",
            "  Using cached multiprocess-0.70.16-py310-none-any.whl.metadata (7.2 kB)\n",
            "Collecting fsspec<=2024.3.1,>=2023.1.0 (from fsspec[http]<=2024.3.1,>=2023.1.0->datasets)\n",
            "  Using cached fsspec-2024.3.1-py3-none-any.whl.metadata (6.8 kB)\n",
            "Collecting aiohttp (from datasets)\n",
            "  Using cached aiohttp-3.9.5-cp310-cp310-manylinux_2_17_x86_64.manylinux2014_x86_64.whl.metadata (7.5 kB)\n",
            "Collecting huggingface-hub>=0.21.2 (from datasets)\n",
            "  Using cached huggingface_hub-0.23.0-py3-none-any.whl.metadata (12 kB)\n",
            "Requirement already satisfied: packaging in /home/sevi/AdvancedCV/.conda/lib/python3.10/site-packages (from datasets) (24.0)\n",
            "Collecting pyyaml>=5.1 (from datasets)\n",
            "  Using cached PyYAML-6.0.1-cp310-cp310-manylinux_2_17_x86_64.manylinux2014_x86_64.whl.metadata (2.1 kB)\n",
            "Collecting aiosignal>=1.1.2 (from aiohttp->datasets)\n",
            "  Using cached aiosignal-1.3.1-py3-none-any.whl.metadata (4.0 kB)\n",
            "Collecting attrs>=17.3.0 (from aiohttp->datasets)\n",
            "  Using cached attrs-23.2.0-py3-none-any.whl.metadata (9.5 kB)\n",
            "Collecting frozenlist>=1.1.1 (from aiohttp->datasets)\n",
            "  Using cached frozenlist-1.4.1-cp310-cp310-manylinux_2_5_x86_64.manylinux1_x86_64.manylinux_2_17_x86_64.manylinux2014_x86_64.whl.metadata (12 kB)\n",
            "Collecting multidict<7.0,>=4.5 (from aiohttp->datasets)\n",
            "  Using cached multidict-6.0.5-cp310-cp310-manylinux_2_17_x86_64.manylinux2014_x86_64.whl.metadata (4.2 kB)\n",
            "Collecting yarl<2.0,>=1.0 (from aiohttp->datasets)\n",
            "  Using cached yarl-1.9.4-cp310-cp310-manylinux_2_17_x86_64.manylinux2014_x86_64.whl.metadata (31 kB)\n",
            "Collecting async-timeout<5.0,>=4.0 (from aiohttp->datasets)\n",
            "  Using cached async_timeout-4.0.3-py3-none-any.whl.metadata (4.2 kB)\n",
            "Requirement already satisfied: typing-extensions>=3.7.4.3 in /home/sevi/AdvancedCV/.conda/lib/python3.10/site-packages (from huggingface-hub>=0.21.2->datasets) (4.11.0)\n",
            "Collecting charset-normalizer<4,>=2 (from requests>=2.19.0->datasets)\n",
            "  Using cached charset_normalizer-3.3.2-cp310-cp310-manylinux_2_17_x86_64.manylinux2014_x86_64.whl.metadata (33 kB)\n",
            "Collecting idna<4,>=2.5 (from requests>=2.19.0->datasets)\n",
            "  Using cached idna-3.7-py3-none-any.whl.metadata (9.9 kB)\n",
            "Collecting urllib3<3,>=1.21.1 (from requests>=2.19.0->datasets)\n",
            "  Using cached urllib3-2.2.1-py3-none-any.whl.metadata (6.4 kB)\n",
            "Collecting certifi>=2017.4.17 (from requests>=2.19.0->datasets)\n",
            "  Using cached certifi-2024.2.2-py3-none-any.whl.metadata (2.2 kB)\n",
            "Requirement already satisfied: python-dateutil>=2.8.2 in /home/sevi/AdvancedCV/.conda/lib/python3.10/site-packages (from pandas->datasets) (2.9.0)\n",
            "Collecting pytz>=2020.1 (from pandas->datasets)\n",
            "  Using cached pytz-2024.1-py2.py3-none-any.whl.metadata (22 kB)\n",
            "Collecting tzdata>=2022.7 (from pandas->datasets)\n",
            "  Using cached tzdata-2024.1-py2.py3-none-any.whl.metadata (1.4 kB)\n",
            "Requirement already satisfied: six>=1.5 in /home/sevi/AdvancedCV/.conda/lib/python3.10/site-packages (from python-dateutil>=2.8.2->pandas->datasets) (1.16.0)\n",
            "Using cached datasets-2.19.1-py3-none-any.whl (542 kB)\n",
            "Using cached dill-0.3.8-py3-none-any.whl (116 kB)\n",
            "Using cached fsspec-2024.3.1-py3-none-any.whl (171 kB)\n",
            "Using cached aiohttp-3.9.5-cp310-cp310-manylinux_2_17_x86_64.manylinux2014_x86_64.whl (1.2 MB)\n",
            "Using cached huggingface_hub-0.23.0-py3-none-any.whl (401 kB)\n",
            "Using cached numpy-1.26.4-cp310-cp310-manylinux_2_17_x86_64.manylinux2014_x86_64.whl (18.2 MB)\n",
            "Using cached pyarrow-16.0.0-cp310-cp310-manylinux_2_28_x86_64.whl (40.8 MB)\n",
            "Using cached PyYAML-6.0.1-cp310-cp310-manylinux_2_17_x86_64.manylinux2014_x86_64.whl (705 kB)\n",
            "Using cached requests-2.31.0-py3-none-any.whl (62 kB)\n",
            "Downloading tqdm-4.66.4-py3-none-any.whl (78 kB)\n",
            "\u001b[2K   \u001b[90m━━━━━━━━━━━━━━━━━━━━━━━━━━━━━━━━━━━━━━━━\u001b[0m \u001b[32m78.3/78.3 kB\u001b[0m \u001b[31m22.9 MB/s\u001b[0m eta \u001b[36m0:00:00\u001b[0m\n",
            "\u001b[?25hDownloading filelock-3.14.0-py3-none-any.whl (12 kB)\n",
            "Using cached multiprocess-0.70.16-py310-none-any.whl (134 kB)\n",
            "Using cached pandas-2.2.2-cp310-cp310-manylinux_2_17_x86_64.manylinux2014_x86_64.whl (13.0 MB)\n",
            "Using cached pyarrow_hotfix-0.6-py3-none-any.whl (7.9 kB)\n",
            "Using cached xxhash-3.4.1-cp310-cp310-manylinux_2_17_x86_64.manylinux2014_x86_64.whl (194 kB)\n",
            "Using cached aiosignal-1.3.1-py3-none-any.whl (7.6 kB)\n",
            "Using cached async_timeout-4.0.3-py3-none-any.whl (5.7 kB)\n",
            "Using cached attrs-23.2.0-py3-none-any.whl (60 kB)\n",
            "Using cached certifi-2024.2.2-py3-none-any.whl (163 kB)\n",
            "Using cached charset_normalizer-3.3.2-cp310-cp310-manylinux_2_17_x86_64.manylinux2014_x86_64.whl (142 kB)\n",
            "Using cached frozenlist-1.4.1-cp310-cp310-manylinux_2_5_x86_64.manylinux1_x86_64.manylinux_2_17_x86_64.manylinux2014_x86_64.whl (239 kB)\n",
            "Using cached idna-3.7-py3-none-any.whl (66 kB)\n",
            "Using cached multidict-6.0.5-cp310-cp310-manylinux_2_17_x86_64.manylinux2014_x86_64.whl (124 kB)\n",
            "Using cached pytz-2024.1-py2.py3-none-any.whl (505 kB)\n",
            "Using cached tzdata-2024.1-py2.py3-none-any.whl (345 kB)\n",
            "Using cached urllib3-2.2.1-py3-none-any.whl (121 kB)\n",
            "Using cached yarl-1.9.4-cp310-cp310-manylinux_2_17_x86_64.manylinux2014_x86_64.whl (301 kB)\n",
            "Installing collected packages: pytz, xxhash, urllib3, tzdata, tqdm, pyyaml, pyarrow-hotfix, numpy, multidict, idna, fsspec, frozenlist, filelock, dill, charset-normalizer, certifi, attrs, async-timeout, yarl, requests, pyarrow, pandas, multiprocess, aiosignal, huggingface-hub, aiohttp, datasets\n",
            "Successfully installed aiohttp-3.9.5 aiosignal-1.3.1 async-timeout-4.0.3 attrs-23.2.0 certifi-2024.2.2 charset-normalizer-3.3.2 datasets-2.19.1 dill-0.3.8 filelock-3.14.0 frozenlist-1.4.1 fsspec-2024.3.1 huggingface-hub-0.23.0 idna-3.7 multidict-6.0.5 multiprocess-0.70.16 numpy-1.26.4 pandas-2.2.2 pyarrow-16.0.0 pyarrow-hotfix-0.6 pytz-2024.1 pyyaml-6.0.1 requests-2.31.0 tqdm-4.66.4 tzdata-2024.1 urllib3-2.2.1 xxhash-3.4.1 yarl-1.9.4\n",
            "Note: you may need to restart the kernel to use updated packages.\n",
            "Collecting transformers\n",
            "  Downloading transformers-4.40.2-py3-none-any.whl.metadata (137 kB)\n",
            "\u001b[2K     \u001b[90m━━━━━━━━━━━━━━━━━━━━━━━━━━━━━━━━━━━━━━\u001b[0m \u001b[32m138.0/138.0 kB\u001b[0m \u001b[31m11.0 MB/s\u001b[0m eta \u001b[36m0:00:00\u001b[0m\n",
            "\u001b[?25hRequirement already satisfied: filelock in /home/sevi/AdvancedCV/.conda/lib/python3.10/site-packages (from transformers) (3.14.0)\n",
            "Requirement already satisfied: huggingface-hub<1.0,>=0.19.3 in /home/sevi/AdvancedCV/.conda/lib/python3.10/site-packages (from transformers) (0.23.0)\n",
            "Requirement already satisfied: numpy>=1.17 in /home/sevi/AdvancedCV/.conda/lib/python3.10/site-packages (from transformers) (1.26.4)\n",
            "Requirement already satisfied: packaging>=20.0 in /home/sevi/AdvancedCV/.conda/lib/python3.10/site-packages (from transformers) (24.0)\n",
            "Requirement already satisfied: pyyaml>=5.1 in /home/sevi/AdvancedCV/.conda/lib/python3.10/site-packages (from transformers) (6.0.1)\n",
            "Collecting regex!=2019.12.17 (from transformers)\n",
            "  Downloading regex-2024.5.10-cp310-cp310-manylinux_2_17_x86_64.manylinux2014_x86_64.whl.metadata (40 kB)\n",
            "\u001b[2K     \u001b[90m━━━━━━━━━━━━━━━━━━━━━━━━━━━━━━━━━━━━━━━━\u001b[0m \u001b[32m40.9/40.9 kB\u001b[0m \u001b[31m2.1 MB/s\u001b[0m eta \u001b[36m0:00:00\u001b[0m\n",
            "\u001b[?25hRequirement already satisfied: requests in /home/sevi/AdvancedCV/.conda/lib/python3.10/site-packages (from transformers) (2.31.0)\n",
            "Collecting tokenizers<0.20,>=0.19 (from transformers)\n",
            "  Using cached tokenizers-0.19.1-cp310-cp310-manylinux_2_17_x86_64.manylinux2014_x86_64.whl.metadata (6.7 kB)\n",
            "Collecting safetensors>=0.4.1 (from transformers)\n",
            "  Using cached safetensors-0.4.3-cp310-cp310-manylinux_2_17_x86_64.manylinux2014_x86_64.whl.metadata (3.8 kB)\n",
            "Requirement already satisfied: tqdm>=4.27 in /home/sevi/AdvancedCV/.conda/lib/python3.10/site-packages (from transformers) (4.66.4)\n",
            "Requirement already satisfied: fsspec>=2023.5.0 in /home/sevi/AdvancedCV/.conda/lib/python3.10/site-packages (from huggingface-hub<1.0,>=0.19.3->transformers) (2024.3.1)\n",
            "Requirement already satisfied: typing-extensions>=3.7.4.3 in /home/sevi/AdvancedCV/.conda/lib/python3.10/site-packages (from huggingface-hub<1.0,>=0.19.3->transformers) (4.11.0)\n",
            "Requirement already satisfied: charset-normalizer<4,>=2 in /home/sevi/AdvancedCV/.conda/lib/python3.10/site-packages (from requests->transformers) (3.3.2)\n",
            "Requirement already satisfied: idna<4,>=2.5 in /home/sevi/AdvancedCV/.conda/lib/python3.10/site-packages (from requests->transformers) (3.7)\n",
            "Requirement already satisfied: urllib3<3,>=1.21.1 in /home/sevi/AdvancedCV/.conda/lib/python3.10/site-packages (from requests->transformers) (2.2.1)\n",
            "Requirement already satisfied: certifi>=2017.4.17 in /home/sevi/AdvancedCV/.conda/lib/python3.10/site-packages (from requests->transformers) (2024.2.2)\n",
            "Downloading transformers-4.40.2-py3-none-any.whl (9.0 MB)\n",
            "\u001b[2K   \u001b[90m━━━━━━━━━━━━━━━━━━━━━━━━━━━━━━━━━━━━━━━━\u001b[0m \u001b[32m9.0/9.0 MB\u001b[0m \u001b[31m54.8 MB/s\u001b[0m eta \u001b[36m0:00:00\u001b[0ma \u001b[36m0:00:01\u001b[0m\n",
            "\u001b[?25hDownloading regex-2024.5.10-cp310-cp310-manylinux_2_17_x86_64.manylinux2014_x86_64.whl (774 kB)\n",
            "\u001b[2K   \u001b[90m━━━━━━━━━━━━━━━━━━━━━━━━━━━━━━━━━━━━━━━\u001b[0m \u001b[32m774.1/774.1 kB\u001b[0m \u001b[31m107.6 MB/s\u001b[0m eta \u001b[36m0:00:00\u001b[0m\n",
            "\u001b[?25hUsing cached safetensors-0.4.3-cp310-cp310-manylinux_2_17_x86_64.manylinux2014_x86_64.whl (1.2 MB)\n",
            "Using cached tokenizers-0.19.1-cp310-cp310-manylinux_2_17_x86_64.manylinux2014_x86_64.whl (3.6 MB)\n",
            "Installing collected packages: safetensors, regex, tokenizers, transformers\n",
            "Successfully installed regex-2024.5.10 safetensors-0.4.3 tokenizers-0.19.1 transformers-4.40.2\n",
            "Note: you may need to restart the kernel to use updated packages.\n",
            "Collecting spacy\n",
            "  Using cached spacy-3.7.4-cp310-cp310-manylinux_2_17_x86_64.manylinux2014_x86_64.whl.metadata (27 kB)\n",
            "Collecting spacy-legacy<3.1.0,>=3.0.11 (from spacy)\n",
            "  Using cached spacy_legacy-3.0.12-py2.py3-none-any.whl.metadata (2.8 kB)\n",
            "Collecting spacy-loggers<2.0.0,>=1.0.0 (from spacy)\n",
            "  Using cached spacy_loggers-1.0.5-py3-none-any.whl.metadata (23 kB)\n",
            "Collecting murmurhash<1.1.0,>=0.28.0 (from spacy)\n",
            "  Using cached murmurhash-1.0.10-cp310-cp310-manylinux_2_5_x86_64.manylinux1_x86_64.manylinux_2_17_x86_64.manylinux2014_x86_64.whl.metadata (2.0 kB)\n",
            "Collecting cymem<2.1.0,>=2.0.2 (from spacy)\n",
            "  Using cached cymem-2.0.8-cp310-cp310-manylinux_2_17_x86_64.manylinux2014_x86_64.whl.metadata (8.4 kB)\n",
            "Collecting preshed<3.1.0,>=3.0.2 (from spacy)\n",
            "  Using cached preshed-3.0.9-cp310-cp310-manylinux_2_5_x86_64.manylinux1_x86_64.manylinux_2_17_x86_64.manylinux2014_x86_64.whl.metadata (2.2 kB)\n",
            "Collecting thinc<8.3.0,>=8.2.2 (from spacy)\n",
            "  Using cached thinc-8.2.3-cp310-cp310-manylinux_2_17_x86_64.manylinux2014_x86_64.whl.metadata (15 kB)\n",
            "Collecting wasabi<1.2.0,>=0.9.1 (from spacy)\n",
            "  Using cached wasabi-1.1.2-py3-none-any.whl.metadata (28 kB)\n",
            "Collecting srsly<3.0.0,>=2.4.3 (from spacy)\n",
            "  Using cached srsly-2.4.8-cp310-cp310-manylinux_2_17_x86_64.manylinux2014_x86_64.whl.metadata (20 kB)\n",
            "Collecting catalogue<2.1.0,>=2.0.6 (from spacy)\n",
            "  Using cached catalogue-2.0.10-py3-none-any.whl.metadata (14 kB)\n",
            "Collecting weasel<0.4.0,>=0.1.0 (from spacy)\n",
            "  Using cached weasel-0.3.4-py3-none-any.whl.metadata (4.7 kB)\n",
            "Collecting typer<0.10.0,>=0.3.0 (from spacy)\n",
            "  Using cached typer-0.9.4-py3-none-any.whl.metadata (14 kB)\n",
            "Collecting smart-open<7.0.0,>=5.2.1 (from spacy)\n",
            "  Using cached smart_open-6.4.0-py3-none-any.whl.metadata (21 kB)\n",
            "Requirement already satisfied: tqdm<5.0.0,>=4.38.0 in /home/sevi/AdvancedCV/.conda/lib/python3.10/site-packages (from spacy) (4.66.4)\n",
            "Requirement already satisfied: requests<3.0.0,>=2.13.0 in /home/sevi/AdvancedCV/.conda/lib/python3.10/site-packages (from spacy) (2.31.0)\n",
            "Collecting pydantic!=1.8,!=1.8.1,<3.0.0,>=1.7.4 (from spacy)\n",
            "  Using cached pydantic-2.7.1-py3-none-any.whl.metadata (107 kB)\n",
            "Collecting jinja2 (from spacy)\n",
            "  Downloading jinja2-3.1.4-py3-none-any.whl.metadata (2.6 kB)\n",
            "Requirement already satisfied: setuptools in /home/sevi/AdvancedCV/.conda/lib/python3.10/site-packages (from spacy) (69.5.1)\n",
            "Requirement already satisfied: packaging>=20.0 in /home/sevi/AdvancedCV/.conda/lib/python3.10/site-packages (from spacy) (24.0)\n",
            "Collecting langcodes<4.0.0,>=3.2.0 (from spacy)\n",
            "  Using cached langcodes-3.4.0-py3-none-any.whl.metadata (29 kB)\n",
            "Requirement already satisfied: numpy>=1.19.0 in /home/sevi/AdvancedCV/.conda/lib/python3.10/site-packages (from spacy) (1.26.4)\n",
            "Collecting language-data>=1.2 (from langcodes<4.0.0,>=3.2.0->spacy)\n",
            "  Using cached language_data-1.2.0-py3-none-any.whl.metadata (4.3 kB)\n",
            "Collecting annotated-types>=0.4.0 (from pydantic!=1.8,!=1.8.1,<3.0.0,>=1.7.4->spacy)\n",
            "  Using cached annotated_types-0.6.0-py3-none-any.whl.metadata (12 kB)\n",
            "Collecting pydantic-core==2.18.2 (from pydantic!=1.8,!=1.8.1,<3.0.0,>=1.7.4->spacy)\n",
            "  Using cached pydantic_core-2.18.2-cp310-cp310-manylinux_2_17_x86_64.manylinux2014_x86_64.whl.metadata (6.5 kB)\n",
            "Requirement already satisfied: typing-extensions>=4.6.1 in /home/sevi/AdvancedCV/.conda/lib/python3.10/site-packages (from pydantic!=1.8,!=1.8.1,<3.0.0,>=1.7.4->spacy) (4.11.0)\n",
            "Requirement already satisfied: charset-normalizer<4,>=2 in /home/sevi/AdvancedCV/.conda/lib/python3.10/site-packages (from requests<3.0.0,>=2.13.0->spacy) (3.3.2)\n",
            "Requirement already satisfied: idna<4,>=2.5 in /home/sevi/AdvancedCV/.conda/lib/python3.10/site-packages (from requests<3.0.0,>=2.13.0->spacy) (3.7)\n",
            "Requirement already satisfied: urllib3<3,>=1.21.1 in /home/sevi/AdvancedCV/.conda/lib/python3.10/site-packages (from requests<3.0.0,>=2.13.0->spacy) (2.2.1)\n",
            "Requirement already satisfied: certifi>=2017.4.17 in /home/sevi/AdvancedCV/.conda/lib/python3.10/site-packages (from requests<3.0.0,>=2.13.0->spacy) (2024.2.2)\n",
            "Collecting blis<0.8.0,>=0.7.8 (from thinc<8.3.0,>=8.2.2->spacy)\n",
            "  Using cached blis-0.7.11-cp310-cp310-manylinux_2_17_x86_64.manylinux2014_x86_64.whl.metadata (7.4 kB)\n",
            "Collecting confection<1.0.0,>=0.0.1 (from thinc<8.3.0,>=8.2.2->spacy)\n",
            "  Using cached confection-0.1.4-py3-none-any.whl.metadata (19 kB)\n",
            "Collecting click<9.0.0,>=7.1.1 (from typer<0.10.0,>=0.3.0->spacy)\n",
            "  Using cached click-8.1.7-py3-none-any.whl.metadata (3.0 kB)\n",
            "Collecting cloudpathlib<0.17.0,>=0.7.0 (from weasel<0.4.0,>=0.1.0->spacy)\n",
            "  Using cached cloudpathlib-0.16.0-py3-none-any.whl.metadata (14 kB)\n",
            "Collecting MarkupSafe>=2.0 (from jinja2->spacy)\n",
            "  Using cached MarkupSafe-2.1.5-cp310-cp310-manylinux_2_17_x86_64.manylinux2014_x86_64.whl.metadata (3.0 kB)\n",
            "Collecting marisa-trie>=0.7.7 (from language-data>=1.2->langcodes<4.0.0,>=3.2.0->spacy)\n",
            "  Downloading marisa_trie-1.1.1-cp310-cp310-manylinux_2_17_x86_64.manylinux2014_x86_64.whl.metadata (8.6 kB)\n",
            "Using cached spacy-3.7.4-cp310-cp310-manylinux_2_17_x86_64.manylinux2014_x86_64.whl (6.6 MB)\n",
            "Using cached catalogue-2.0.10-py3-none-any.whl (17 kB)\n",
            "Using cached cymem-2.0.8-cp310-cp310-manylinux_2_17_x86_64.manylinux2014_x86_64.whl (46 kB)\n",
            "Using cached langcodes-3.4.0-py3-none-any.whl (182 kB)\n",
            "Using cached murmurhash-1.0.10-cp310-cp310-manylinux_2_5_x86_64.manylinux1_x86_64.manylinux_2_17_x86_64.manylinux2014_x86_64.whl (29 kB)\n",
            "Using cached preshed-3.0.9-cp310-cp310-manylinux_2_5_x86_64.manylinux1_x86_64.manylinux_2_17_x86_64.manylinux2014_x86_64.whl (156 kB)\n",
            "Using cached pydantic-2.7.1-py3-none-any.whl (409 kB)\n",
            "Using cached pydantic_core-2.18.2-cp310-cp310-manylinux_2_17_x86_64.manylinux2014_x86_64.whl (2.1 MB)\n",
            "Using cached smart_open-6.4.0-py3-none-any.whl (57 kB)\n",
            "Using cached spacy_legacy-3.0.12-py2.py3-none-any.whl (29 kB)\n",
            "Using cached spacy_loggers-1.0.5-py3-none-any.whl (22 kB)\n",
            "Using cached srsly-2.4.8-cp310-cp310-manylinux_2_17_x86_64.manylinux2014_x86_64.whl (493 kB)\n",
            "Using cached thinc-8.2.3-cp310-cp310-manylinux_2_17_x86_64.manylinux2014_x86_64.whl (922 kB)\n",
            "Using cached typer-0.9.4-py3-none-any.whl (45 kB)\n",
            "Using cached wasabi-1.1.2-py3-none-any.whl (27 kB)\n",
            "Using cached weasel-0.3.4-py3-none-any.whl (50 kB)\n",
            "Downloading jinja2-3.1.4-py3-none-any.whl (133 kB)\n",
            "\u001b[2K   \u001b[90m━━━━━━━━━━━━━━━━━━━━━━━━━━━━━━━━━━━━━━━━\u001b[0m \u001b[32m133.3/133.3 kB\u001b[0m \u001b[31m14.8 MB/s\u001b[0m eta \u001b[36m0:00:00\u001b[0m\n",
            "\u001b[?25hUsing cached annotated_types-0.6.0-py3-none-any.whl (12 kB)\n",
            "Using cached blis-0.7.11-cp310-cp310-manylinux_2_17_x86_64.manylinux2014_x86_64.whl (10.2 MB)\n",
            "Using cached click-8.1.7-py3-none-any.whl (97 kB)\n",
            "Using cached cloudpathlib-0.16.0-py3-none-any.whl (45 kB)\n",
            "Using cached confection-0.1.4-py3-none-any.whl (35 kB)\n",
            "Using cached language_data-1.2.0-py3-none-any.whl (5.4 MB)\n",
            "Using cached MarkupSafe-2.1.5-cp310-cp310-manylinux_2_17_x86_64.manylinux2014_x86_64.whl (25 kB)\n",
            "Downloading marisa_trie-1.1.1-cp310-cp310-manylinux_2_17_x86_64.manylinux2014_x86_64.whl (1.3 MB)\n",
            "\u001b[2K   \u001b[90m━━━━━━━━━━━━━━━━━━━━━━━━━━━━━━━━━━━━━━━━\u001b[0m \u001b[32m1.3/1.3 MB\u001b[0m \u001b[31m38.4 MB/s\u001b[0m eta \u001b[36m0:00:00\u001b[0m00:01\u001b[0m\n",
            "\u001b[?25hInstalling collected packages: cymem, wasabi, spacy-loggers, spacy-legacy, smart-open, pydantic-core, murmurhash, MarkupSafe, marisa-trie, cloudpathlib, click, catalogue, blis, annotated-types, typer, srsly, pydantic, preshed, language-data, jinja2, langcodes, confection, weasel, thinc, spacy\n",
            "Successfully installed MarkupSafe-2.1.5 annotated-types-0.6.0 blis-0.7.11 catalogue-2.0.10 click-8.1.7 cloudpathlib-0.16.0 confection-0.1.4 cymem-2.0.8 jinja2-3.1.4 langcodes-3.4.0 language-data-1.2.0 marisa-trie-1.1.1 murmurhash-1.0.10 preshed-3.0.9 pydantic-2.7.1 pydantic-core-2.18.2 smart-open-6.4.0 spacy-3.7.4 spacy-legacy-3.0.12 spacy-loggers-1.0.5 srsly-2.4.8 thinc-8.2.3 typer-0.9.4 wasabi-1.1.2 weasel-0.3.4\n",
            "Note: you may need to restart the kernel to use updated packages.\n",
            "Collecting torch\n",
            "  Using cached torch-2.3.0-cp310-cp310-manylinux1_x86_64.whl.metadata (26 kB)\n",
            "Requirement already satisfied: filelock in /home/sevi/AdvancedCV/.conda/lib/python3.10/site-packages (from torch) (3.14.0)\n",
            "Requirement already satisfied: typing-extensions>=4.8.0 in /home/sevi/AdvancedCV/.conda/lib/python3.10/site-packages (from torch) (4.11.0)\n",
            "Collecting sympy (from torch)\n",
            "  Using cached sympy-1.12-py3-none-any.whl.metadata (12 kB)\n",
            "Collecting networkx (from torch)\n",
            "  Using cached networkx-3.3-py3-none-any.whl.metadata (5.1 kB)\n",
            "Requirement already satisfied: jinja2 in /home/sevi/AdvancedCV/.conda/lib/python3.10/site-packages (from torch) (3.1.4)\n",
            "Requirement already satisfied: fsspec in /home/sevi/AdvancedCV/.conda/lib/python3.10/site-packages (from torch) (2024.3.1)\n",
            "Collecting nvidia-cuda-nvrtc-cu12==12.1.105 (from torch)\n",
            "  Using cached nvidia_cuda_nvrtc_cu12-12.1.105-py3-none-manylinux1_x86_64.whl.metadata (1.5 kB)\n",
            "Collecting nvidia-cuda-runtime-cu12==12.1.105 (from torch)\n",
            "  Using cached nvidia_cuda_runtime_cu12-12.1.105-py3-none-manylinux1_x86_64.whl.metadata (1.5 kB)\n",
            "Collecting nvidia-cuda-cupti-cu12==12.1.105 (from torch)\n",
            "  Using cached nvidia_cuda_cupti_cu12-12.1.105-py3-none-manylinux1_x86_64.whl.metadata (1.6 kB)\n",
            "Collecting nvidia-cudnn-cu12==8.9.2.26 (from torch)\n",
            "  Using cached nvidia_cudnn_cu12-8.9.2.26-py3-none-manylinux1_x86_64.whl.metadata (1.6 kB)\n",
            "Collecting nvidia-cublas-cu12==12.1.3.1 (from torch)\n",
            "  Using cached nvidia_cublas_cu12-12.1.3.1-py3-none-manylinux1_x86_64.whl.metadata (1.5 kB)\n",
            "Collecting nvidia-cufft-cu12==11.0.2.54 (from torch)\n",
            "  Using cached nvidia_cufft_cu12-11.0.2.54-py3-none-manylinux1_x86_64.whl.metadata (1.5 kB)\n",
            "Collecting nvidia-curand-cu12==10.3.2.106 (from torch)\n",
            "  Using cached nvidia_curand_cu12-10.3.2.106-py3-none-manylinux1_x86_64.whl.metadata (1.5 kB)\n",
            "Collecting nvidia-cusolver-cu12==11.4.5.107 (from torch)\n",
            "  Using cached nvidia_cusolver_cu12-11.4.5.107-py3-none-manylinux1_x86_64.whl.metadata (1.6 kB)\n",
            "Collecting nvidia-cusparse-cu12==12.1.0.106 (from torch)\n",
            "  Using cached nvidia_cusparse_cu12-12.1.0.106-py3-none-manylinux1_x86_64.whl.metadata (1.6 kB)\n",
            "Collecting nvidia-nccl-cu12==2.20.5 (from torch)\n",
            "  Using cached nvidia_nccl_cu12-2.20.5-py3-none-manylinux2014_x86_64.whl.metadata (1.8 kB)\n",
            "Collecting nvidia-nvtx-cu12==12.1.105 (from torch)\n",
            "  Using cached nvidia_nvtx_cu12-12.1.105-py3-none-manylinux1_x86_64.whl.metadata (1.7 kB)\n",
            "Collecting triton==2.3.0 (from torch)\n",
            "  Using cached triton-2.3.0-cp310-cp310-manylinux_2_17_x86_64.manylinux2014_x86_64.whl.metadata (1.4 kB)\n",
            "Collecting nvidia-nvjitlink-cu12 (from nvidia-cusolver-cu12==11.4.5.107->torch)\n",
            "  Using cached nvidia_nvjitlink_cu12-12.4.127-py3-none-manylinux2014_x86_64.whl.metadata (1.5 kB)\n",
            "Requirement already satisfied: MarkupSafe>=2.0 in /home/sevi/AdvancedCV/.conda/lib/python3.10/site-packages (from jinja2->torch) (2.1.5)\n",
            "Collecting mpmath>=0.19 (from sympy->torch)\n",
            "  Using cached mpmath-1.3.0-py3-none-any.whl.metadata (8.6 kB)\n",
            "Using cached torch-2.3.0-cp310-cp310-manylinux1_x86_64.whl (779.1 MB)\n",
            "Using cached nvidia_cublas_cu12-12.1.3.1-py3-none-manylinux1_x86_64.whl (410.6 MB)\n",
            "Using cached nvidia_cuda_cupti_cu12-12.1.105-py3-none-manylinux1_x86_64.whl (14.1 MB)\n",
            "Using cached nvidia_cuda_nvrtc_cu12-12.1.105-py3-none-manylinux1_x86_64.whl (23.7 MB)\n",
            "Using cached nvidia_cuda_runtime_cu12-12.1.105-py3-none-manylinux1_x86_64.whl (823 kB)\n",
            "Using cached nvidia_cudnn_cu12-8.9.2.26-py3-none-manylinux1_x86_64.whl (731.7 MB)\n",
            "Using cached nvidia_cufft_cu12-11.0.2.54-py3-none-manylinux1_x86_64.whl (121.6 MB)\n",
            "Using cached nvidia_curand_cu12-10.3.2.106-py3-none-manylinux1_x86_64.whl (56.5 MB)\n",
            "Using cached nvidia_cusolver_cu12-11.4.5.107-py3-none-manylinux1_x86_64.whl (124.2 MB)\n",
            "Using cached nvidia_cusparse_cu12-12.1.0.106-py3-none-manylinux1_x86_64.whl (196.0 MB)\n",
            "Using cached nvidia_nccl_cu12-2.20.5-py3-none-manylinux2014_x86_64.whl (176.2 MB)\n",
            "Using cached nvidia_nvtx_cu12-12.1.105-py3-none-manylinux1_x86_64.whl (99 kB)\n",
            "Using cached triton-2.3.0-cp310-cp310-manylinux_2_17_x86_64.manylinux2014_x86_64.whl (168.1 MB)\n",
            "Using cached networkx-3.3-py3-none-any.whl (1.7 MB)\n",
            "Using cached sympy-1.12-py3-none-any.whl (5.7 MB)\n",
            "Using cached mpmath-1.3.0-py3-none-any.whl (536 kB)\n",
            "Using cached nvidia_nvjitlink_cu12-12.4.127-py3-none-manylinux2014_x86_64.whl (21.1 MB)\n",
            "Installing collected packages: mpmath, triton, sympy, nvidia-nvtx-cu12, nvidia-nvjitlink-cu12, nvidia-nccl-cu12, nvidia-curand-cu12, nvidia-cufft-cu12, nvidia-cuda-runtime-cu12, nvidia-cuda-nvrtc-cu12, nvidia-cuda-cupti-cu12, nvidia-cublas-cu12, networkx, nvidia-cusparse-cu12, nvidia-cudnn-cu12, nvidia-cusolver-cu12, torch\n",
            "Successfully installed mpmath-1.3.0 networkx-3.3 nvidia-cublas-cu12-12.1.3.1 nvidia-cuda-cupti-cu12-12.1.105 nvidia-cuda-nvrtc-cu12-12.1.105 nvidia-cuda-runtime-cu12-12.1.105 nvidia-cudnn-cu12-8.9.2.26 nvidia-cufft-cu12-11.0.2.54 nvidia-curand-cu12-10.3.2.106 nvidia-cusolver-cu12-11.4.5.107 nvidia-cusparse-cu12-12.1.0.106 nvidia-nccl-cu12-2.20.5 nvidia-nvjitlink-cu12-12.4.127 nvidia-nvtx-cu12-12.1.105 sympy-1.12 torch-2.3.0 triton-2.3.0\n",
            "Note: you may need to restart the kernel to use updated packages.\n",
            "Collecting torchtext\n",
            "  Using cached torchtext-0.18.0-cp310-cp310-manylinux1_x86_64.whl.metadata (7.9 kB)\n",
            "Requirement already satisfied: tqdm in /home/sevi/AdvancedCV/.conda/lib/python3.10/site-packages (from torchtext) (4.66.4)\n",
            "Requirement already satisfied: requests in /home/sevi/AdvancedCV/.conda/lib/python3.10/site-packages (from torchtext) (2.31.0)\n",
            "Requirement already satisfied: torch>=2.3.0 in /home/sevi/AdvancedCV/.conda/lib/python3.10/site-packages (from torchtext) (2.3.0)\n",
            "Requirement already satisfied: numpy in /home/sevi/AdvancedCV/.conda/lib/python3.10/site-packages (from torchtext) (1.26.4)\n",
            "Requirement already satisfied: filelock in /home/sevi/AdvancedCV/.conda/lib/python3.10/site-packages (from torch>=2.3.0->torchtext) (3.14.0)\n",
            "Requirement already satisfied: typing-extensions>=4.8.0 in /home/sevi/AdvancedCV/.conda/lib/python3.10/site-packages (from torch>=2.3.0->torchtext) (4.11.0)\n",
            "Requirement already satisfied: sympy in /home/sevi/AdvancedCV/.conda/lib/python3.10/site-packages (from torch>=2.3.0->torchtext) (1.12)\n",
            "Requirement already satisfied: networkx in /home/sevi/AdvancedCV/.conda/lib/python3.10/site-packages (from torch>=2.3.0->torchtext) (3.3)\n",
            "Requirement already satisfied: jinja2 in /home/sevi/AdvancedCV/.conda/lib/python3.10/site-packages (from torch>=2.3.0->torchtext) (3.1.4)\n",
            "Requirement already satisfied: fsspec in /home/sevi/AdvancedCV/.conda/lib/python3.10/site-packages (from torch>=2.3.0->torchtext) (2024.3.1)\n",
            "Requirement already satisfied: nvidia-cuda-nvrtc-cu12==12.1.105 in /home/sevi/AdvancedCV/.conda/lib/python3.10/site-packages (from torch>=2.3.0->torchtext) (12.1.105)\n",
            "Requirement already satisfied: nvidia-cuda-runtime-cu12==12.1.105 in /home/sevi/AdvancedCV/.conda/lib/python3.10/site-packages (from torch>=2.3.0->torchtext) (12.1.105)\n",
            "Requirement already satisfied: nvidia-cuda-cupti-cu12==12.1.105 in /home/sevi/AdvancedCV/.conda/lib/python3.10/site-packages (from torch>=2.3.0->torchtext) (12.1.105)\n",
            "Requirement already satisfied: nvidia-cudnn-cu12==8.9.2.26 in /home/sevi/AdvancedCV/.conda/lib/python3.10/site-packages (from torch>=2.3.0->torchtext) (8.9.2.26)\n",
            "Requirement already satisfied: nvidia-cublas-cu12==12.1.3.1 in /home/sevi/AdvancedCV/.conda/lib/python3.10/site-packages (from torch>=2.3.0->torchtext) (12.1.3.1)\n",
            "Requirement already satisfied: nvidia-cufft-cu12==11.0.2.54 in /home/sevi/AdvancedCV/.conda/lib/python3.10/site-packages (from torch>=2.3.0->torchtext) (11.0.2.54)\n",
            "Requirement already satisfied: nvidia-curand-cu12==10.3.2.106 in /home/sevi/AdvancedCV/.conda/lib/python3.10/site-packages (from torch>=2.3.0->torchtext) (10.3.2.106)\n",
            "Requirement already satisfied: nvidia-cusolver-cu12==11.4.5.107 in /home/sevi/AdvancedCV/.conda/lib/python3.10/site-packages (from torch>=2.3.0->torchtext) (11.4.5.107)\n",
            "Requirement already satisfied: nvidia-cusparse-cu12==12.1.0.106 in /home/sevi/AdvancedCV/.conda/lib/python3.10/site-packages (from torch>=2.3.0->torchtext) (12.1.0.106)\n",
            "Requirement already satisfied: nvidia-nccl-cu12==2.20.5 in /home/sevi/AdvancedCV/.conda/lib/python3.10/site-packages (from torch>=2.3.0->torchtext) (2.20.5)\n",
            "Requirement already satisfied: nvidia-nvtx-cu12==12.1.105 in /home/sevi/AdvancedCV/.conda/lib/python3.10/site-packages (from torch>=2.3.0->torchtext) (12.1.105)\n",
            "Requirement already satisfied: triton==2.3.0 in /home/sevi/AdvancedCV/.conda/lib/python3.10/site-packages (from torch>=2.3.0->torchtext) (2.3.0)\n",
            "Requirement already satisfied: nvidia-nvjitlink-cu12 in /home/sevi/AdvancedCV/.conda/lib/python3.10/site-packages (from nvidia-cusolver-cu12==11.4.5.107->torch>=2.3.0->torchtext) (12.4.127)\n",
            "Requirement already satisfied: charset-normalizer<4,>=2 in /home/sevi/AdvancedCV/.conda/lib/python3.10/site-packages (from requests->torchtext) (3.3.2)\n",
            "Requirement already satisfied: idna<4,>=2.5 in /home/sevi/AdvancedCV/.conda/lib/python3.10/site-packages (from requests->torchtext) (3.7)\n",
            "Requirement already satisfied: urllib3<3,>=1.21.1 in /home/sevi/AdvancedCV/.conda/lib/python3.10/site-packages (from requests->torchtext) (2.2.1)\n",
            "Requirement already satisfied: certifi>=2017.4.17 in /home/sevi/AdvancedCV/.conda/lib/python3.10/site-packages (from requests->torchtext) (2024.2.2)\n",
            "Requirement already satisfied: MarkupSafe>=2.0 in /home/sevi/AdvancedCV/.conda/lib/python3.10/site-packages (from jinja2->torch>=2.3.0->torchtext) (2.1.5)\n",
            "Requirement already satisfied: mpmath>=0.19 in /home/sevi/AdvancedCV/.conda/lib/python3.10/site-packages (from sympy->torch>=2.3.0->torchtext) (1.3.0)\n",
            "Using cached torchtext-0.18.0-cp310-cp310-manylinux1_x86_64.whl (2.0 MB)\n",
            "Installing collected packages: torchtext\n",
            "Successfully installed torchtext-0.18.0\n",
            "Note: you may need to restart the kernel to use updated packages.\n",
            "Collecting spacy-transformers\n",
            "  Using cached spacy_transformers-1.3.5-cp310-cp310-manylinux_2_17_x86_64.manylinux2014_x86_64.whl.metadata (7.0 kB)\n",
            "Requirement already satisfied: spacy<4.1.0,>=3.5.0 in /home/sevi/AdvancedCV/.conda/lib/python3.10/site-packages (from spacy-transformers) (3.7.4)\n",
            "Collecting transformers<4.37.0,>=3.4.0 (from spacy-transformers)\n",
            "  Using cached transformers-4.36.2-py3-none-any.whl.metadata (126 kB)\n",
            "Requirement already satisfied: torch>=1.8.0 in /home/sevi/AdvancedCV/.conda/lib/python3.10/site-packages (from spacy-transformers) (2.3.0)\n",
            "Requirement already satisfied: srsly<3.0.0,>=2.4.0 in /home/sevi/AdvancedCV/.conda/lib/python3.10/site-packages (from spacy-transformers) (2.4.8)\n",
            "Collecting spacy-alignments<1.0.0,>=0.7.2 (from spacy-transformers)\n",
            "  Using cached spacy_alignments-0.9.1-cp310-cp310-manylinux_2_17_x86_64.manylinux2014_x86_64.whl.metadata (2.7 kB)\n",
            "Requirement already satisfied: numpy>=1.19.0 in /home/sevi/AdvancedCV/.conda/lib/python3.10/site-packages (from spacy-transformers) (1.26.4)\n",
            "Requirement already satisfied: spacy-legacy<3.1.0,>=3.0.11 in /home/sevi/AdvancedCV/.conda/lib/python3.10/site-packages (from spacy<4.1.0,>=3.5.0->spacy-transformers) (3.0.12)\n",
            "Requirement already satisfied: spacy-loggers<2.0.0,>=1.0.0 in /home/sevi/AdvancedCV/.conda/lib/python3.10/site-packages (from spacy<4.1.0,>=3.5.0->spacy-transformers) (1.0.5)\n",
            "Requirement already satisfied: murmurhash<1.1.0,>=0.28.0 in /home/sevi/AdvancedCV/.conda/lib/python3.10/site-packages (from spacy<4.1.0,>=3.5.0->spacy-transformers) (1.0.10)\n",
            "Requirement already satisfied: cymem<2.1.0,>=2.0.2 in /home/sevi/AdvancedCV/.conda/lib/python3.10/site-packages (from spacy<4.1.0,>=3.5.0->spacy-transformers) (2.0.8)\n",
            "Requirement already satisfied: preshed<3.1.0,>=3.0.2 in /home/sevi/AdvancedCV/.conda/lib/python3.10/site-packages (from spacy<4.1.0,>=3.5.0->spacy-transformers) (3.0.9)\n",
            "Requirement already satisfied: thinc<8.3.0,>=8.2.2 in /home/sevi/AdvancedCV/.conda/lib/python3.10/site-packages (from spacy<4.1.0,>=3.5.0->spacy-transformers) (8.2.3)\n",
            "Requirement already satisfied: wasabi<1.2.0,>=0.9.1 in /home/sevi/AdvancedCV/.conda/lib/python3.10/site-packages (from spacy<4.1.0,>=3.5.0->spacy-transformers) (1.1.2)\n",
            "Requirement already satisfied: catalogue<2.1.0,>=2.0.6 in /home/sevi/AdvancedCV/.conda/lib/python3.10/site-packages (from spacy<4.1.0,>=3.5.0->spacy-transformers) (2.0.10)\n",
            "Requirement already satisfied: weasel<0.4.0,>=0.1.0 in /home/sevi/AdvancedCV/.conda/lib/python3.10/site-packages (from spacy<4.1.0,>=3.5.0->spacy-transformers) (0.3.4)\n",
            "Requirement already satisfied: typer<0.10.0,>=0.3.0 in /home/sevi/AdvancedCV/.conda/lib/python3.10/site-packages (from spacy<4.1.0,>=3.5.0->spacy-transformers) (0.9.4)\n",
            "Requirement already satisfied: smart-open<7.0.0,>=5.2.1 in /home/sevi/AdvancedCV/.conda/lib/python3.10/site-packages (from spacy<4.1.0,>=3.5.0->spacy-transformers) (6.4.0)\n",
            "Requirement already satisfied: tqdm<5.0.0,>=4.38.0 in /home/sevi/AdvancedCV/.conda/lib/python3.10/site-packages (from spacy<4.1.0,>=3.5.0->spacy-transformers) (4.66.4)\n",
            "Requirement already satisfied: requests<3.0.0,>=2.13.0 in /home/sevi/AdvancedCV/.conda/lib/python3.10/site-packages (from spacy<4.1.0,>=3.5.0->spacy-transformers) (2.31.0)\n",
            "Requirement already satisfied: pydantic!=1.8,!=1.8.1,<3.0.0,>=1.7.4 in /home/sevi/AdvancedCV/.conda/lib/python3.10/site-packages (from spacy<4.1.0,>=3.5.0->spacy-transformers) (2.7.1)\n",
            "Requirement already satisfied: jinja2 in /home/sevi/AdvancedCV/.conda/lib/python3.10/site-packages (from spacy<4.1.0,>=3.5.0->spacy-transformers) (3.1.4)\n",
            "Requirement already satisfied: setuptools in /home/sevi/AdvancedCV/.conda/lib/python3.10/site-packages (from spacy<4.1.0,>=3.5.0->spacy-transformers) (69.5.1)\n",
            "Requirement already satisfied: packaging>=20.0 in /home/sevi/AdvancedCV/.conda/lib/python3.10/site-packages (from spacy<4.1.0,>=3.5.0->spacy-transformers) (24.0)\n",
            "Requirement already satisfied: langcodes<4.0.0,>=3.2.0 in /home/sevi/AdvancedCV/.conda/lib/python3.10/site-packages (from spacy<4.1.0,>=3.5.0->spacy-transformers) (3.4.0)\n",
            "Requirement already satisfied: filelock in /home/sevi/AdvancedCV/.conda/lib/python3.10/site-packages (from torch>=1.8.0->spacy-transformers) (3.14.0)\n",
            "Requirement already satisfied: typing-extensions>=4.8.0 in /home/sevi/AdvancedCV/.conda/lib/python3.10/site-packages (from torch>=1.8.0->spacy-transformers) (4.11.0)\n",
            "Requirement already satisfied: sympy in /home/sevi/AdvancedCV/.conda/lib/python3.10/site-packages (from torch>=1.8.0->spacy-transformers) (1.12)\n",
            "Requirement already satisfied: networkx in /home/sevi/AdvancedCV/.conda/lib/python3.10/site-packages (from torch>=1.8.0->spacy-transformers) (3.3)\n",
            "Requirement already satisfied: fsspec in /home/sevi/AdvancedCV/.conda/lib/python3.10/site-packages (from torch>=1.8.0->spacy-transformers) (2024.3.1)\n",
            "Requirement already satisfied: nvidia-cuda-nvrtc-cu12==12.1.105 in /home/sevi/AdvancedCV/.conda/lib/python3.10/site-packages (from torch>=1.8.0->spacy-transformers) (12.1.105)\n",
            "Requirement already satisfied: nvidia-cuda-runtime-cu12==12.1.105 in /home/sevi/AdvancedCV/.conda/lib/python3.10/site-packages (from torch>=1.8.0->spacy-transformers) (12.1.105)\n",
            "Requirement already satisfied: nvidia-cuda-cupti-cu12==12.1.105 in /home/sevi/AdvancedCV/.conda/lib/python3.10/site-packages (from torch>=1.8.0->spacy-transformers) (12.1.105)\n",
            "Requirement already satisfied: nvidia-cudnn-cu12==8.9.2.26 in /home/sevi/AdvancedCV/.conda/lib/python3.10/site-packages (from torch>=1.8.0->spacy-transformers) (8.9.2.26)\n",
            "Requirement already satisfied: nvidia-cublas-cu12==12.1.3.1 in /home/sevi/AdvancedCV/.conda/lib/python3.10/site-packages (from torch>=1.8.0->spacy-transformers) (12.1.3.1)\n",
            "Requirement already satisfied: nvidia-cufft-cu12==11.0.2.54 in /home/sevi/AdvancedCV/.conda/lib/python3.10/site-packages (from torch>=1.8.0->spacy-transformers) (11.0.2.54)\n",
            "Requirement already satisfied: nvidia-curand-cu12==10.3.2.106 in /home/sevi/AdvancedCV/.conda/lib/python3.10/site-packages (from torch>=1.8.0->spacy-transformers) (10.3.2.106)\n",
            "Requirement already satisfied: nvidia-cusolver-cu12==11.4.5.107 in /home/sevi/AdvancedCV/.conda/lib/python3.10/site-packages (from torch>=1.8.0->spacy-transformers) (11.4.5.107)\n",
            "Requirement already satisfied: nvidia-cusparse-cu12==12.1.0.106 in /home/sevi/AdvancedCV/.conda/lib/python3.10/site-packages (from torch>=1.8.0->spacy-transformers) (12.1.0.106)\n",
            "Requirement already satisfied: nvidia-nccl-cu12==2.20.5 in /home/sevi/AdvancedCV/.conda/lib/python3.10/site-packages (from torch>=1.8.0->spacy-transformers) (2.20.5)\n",
            "Requirement already satisfied: nvidia-nvtx-cu12==12.1.105 in /home/sevi/AdvancedCV/.conda/lib/python3.10/site-packages (from torch>=1.8.0->spacy-transformers) (12.1.105)\n",
            "Requirement already satisfied: triton==2.3.0 in /home/sevi/AdvancedCV/.conda/lib/python3.10/site-packages (from torch>=1.8.0->spacy-transformers) (2.3.0)\n",
            "Requirement already satisfied: nvidia-nvjitlink-cu12 in /home/sevi/AdvancedCV/.conda/lib/python3.10/site-packages (from nvidia-cusolver-cu12==11.4.5.107->torch>=1.8.0->spacy-transformers) (12.4.127)\n",
            "Requirement already satisfied: huggingface-hub<1.0,>=0.19.3 in /home/sevi/AdvancedCV/.conda/lib/python3.10/site-packages (from transformers<4.37.0,>=3.4.0->spacy-transformers) (0.23.0)\n",
            "Requirement already satisfied: pyyaml>=5.1 in /home/sevi/AdvancedCV/.conda/lib/python3.10/site-packages (from transformers<4.37.0,>=3.4.0->spacy-transformers) (6.0.1)\n",
            "Requirement already satisfied: regex!=2019.12.17 in /home/sevi/AdvancedCV/.conda/lib/python3.10/site-packages (from transformers<4.37.0,>=3.4.0->spacy-transformers) (2024.5.10)\n",
            "Collecting tokenizers<0.19,>=0.14 (from transformers<4.37.0,>=3.4.0->spacy-transformers)\n",
            "  Using cached tokenizers-0.15.2-cp310-cp310-manylinux_2_17_x86_64.manylinux2014_x86_64.whl.metadata (6.7 kB)\n",
            "Requirement already satisfied: safetensors>=0.3.1 in /home/sevi/AdvancedCV/.conda/lib/python3.10/site-packages (from transformers<4.37.0,>=3.4.0->spacy-transformers) (0.4.3)\n",
            "Requirement already satisfied: language-data>=1.2 in /home/sevi/AdvancedCV/.conda/lib/python3.10/site-packages (from langcodes<4.0.0,>=3.2.0->spacy<4.1.0,>=3.5.0->spacy-transformers) (1.2.0)\n",
            "Requirement already satisfied: annotated-types>=0.4.0 in /home/sevi/AdvancedCV/.conda/lib/python3.10/site-packages (from pydantic!=1.8,!=1.8.1,<3.0.0,>=1.7.4->spacy<4.1.0,>=3.5.0->spacy-transformers) (0.6.0)\n",
            "Requirement already satisfied: pydantic-core==2.18.2 in /home/sevi/AdvancedCV/.conda/lib/python3.10/site-packages (from pydantic!=1.8,!=1.8.1,<3.0.0,>=1.7.4->spacy<4.1.0,>=3.5.0->spacy-transformers) (2.18.2)\n",
            "Requirement already satisfied: charset-normalizer<4,>=2 in /home/sevi/AdvancedCV/.conda/lib/python3.10/site-packages (from requests<3.0.0,>=2.13.0->spacy<4.1.0,>=3.5.0->spacy-transformers) (3.3.2)\n",
            "Requirement already satisfied: idna<4,>=2.5 in /home/sevi/AdvancedCV/.conda/lib/python3.10/site-packages (from requests<3.0.0,>=2.13.0->spacy<4.1.0,>=3.5.0->spacy-transformers) (3.7)\n",
            "Requirement already satisfied: urllib3<3,>=1.21.1 in /home/sevi/AdvancedCV/.conda/lib/python3.10/site-packages (from requests<3.0.0,>=2.13.0->spacy<4.1.0,>=3.5.0->spacy-transformers) (2.2.1)\n",
            "Requirement already satisfied: certifi>=2017.4.17 in /home/sevi/AdvancedCV/.conda/lib/python3.10/site-packages (from requests<3.0.0,>=2.13.0->spacy<4.1.0,>=3.5.0->spacy-transformers) (2024.2.2)\n",
            "Requirement already satisfied: blis<0.8.0,>=0.7.8 in /home/sevi/AdvancedCV/.conda/lib/python3.10/site-packages (from thinc<8.3.0,>=8.2.2->spacy<4.1.0,>=3.5.0->spacy-transformers) (0.7.11)\n",
            "Requirement already satisfied: confection<1.0.0,>=0.0.1 in /home/sevi/AdvancedCV/.conda/lib/python3.10/site-packages (from thinc<8.3.0,>=8.2.2->spacy<4.1.0,>=3.5.0->spacy-transformers) (0.1.4)\n",
            "Requirement already satisfied: click<9.0.0,>=7.1.1 in /home/sevi/AdvancedCV/.conda/lib/python3.10/site-packages (from typer<0.10.0,>=0.3.0->spacy<4.1.0,>=3.5.0->spacy-transformers) (8.1.7)\n",
            "Requirement already satisfied: cloudpathlib<0.17.0,>=0.7.0 in /home/sevi/AdvancedCV/.conda/lib/python3.10/site-packages (from weasel<0.4.0,>=0.1.0->spacy<4.1.0,>=3.5.0->spacy-transformers) (0.16.0)\n",
            "Requirement already satisfied: MarkupSafe>=2.0 in /home/sevi/AdvancedCV/.conda/lib/python3.10/site-packages (from jinja2->spacy<4.1.0,>=3.5.0->spacy-transformers) (2.1.5)\n",
            "Requirement already satisfied: mpmath>=0.19 in /home/sevi/AdvancedCV/.conda/lib/python3.10/site-packages (from sympy->torch>=1.8.0->spacy-transformers) (1.3.0)\n",
            "Requirement already satisfied: marisa-trie>=0.7.7 in /home/sevi/AdvancedCV/.conda/lib/python3.10/site-packages (from language-data>=1.2->langcodes<4.0.0,>=3.2.0->spacy<4.1.0,>=3.5.0->spacy-transformers) (1.1.1)\n",
            "Using cached spacy_transformers-1.3.5-cp310-cp310-manylinux_2_17_x86_64.manylinux2014_x86_64.whl (197 kB)\n",
            "Using cached spacy_alignments-0.9.1-cp310-cp310-manylinux_2_17_x86_64.manylinux2014_x86_64.whl (313 kB)\n",
            "Using cached transformers-4.36.2-py3-none-any.whl (8.2 MB)\n",
            "Using cached tokenizers-0.15.2-cp310-cp310-manylinux_2_17_x86_64.manylinux2014_x86_64.whl (3.6 MB)\n",
            "Installing collected packages: spacy-alignments, tokenizers, transformers, spacy-transformers\n",
            "  Attempting uninstall: tokenizers\n",
            "    Found existing installation: tokenizers 0.19.1\n",
            "    Uninstalling tokenizers-0.19.1:\n",
            "      Successfully uninstalled tokenizers-0.19.1\n",
            "  Attempting uninstall: transformers\n",
            "    Found existing installation: transformers 4.40.2\n",
            "    Uninstalling transformers-4.40.2:\n",
            "      Successfully uninstalled transformers-4.40.2\n",
            "Successfully installed spacy-alignments-0.9.1 spacy-transformers-1.3.5 tokenizers-0.15.2 transformers-4.36.2\n",
            "Note: you may need to restart the kernel to use updated packages.\n",
            "Requirement already satisfied: transformers[torch] in /home/sevi/AdvancedCV/.conda/lib/python3.10/site-packages (4.36.2)\n",
            "Requirement already satisfied: filelock in /home/sevi/AdvancedCV/.conda/lib/python3.10/site-packages (from transformers[torch]) (3.14.0)\n",
            "Requirement already satisfied: huggingface-hub<1.0,>=0.19.3 in /home/sevi/AdvancedCV/.conda/lib/python3.10/site-packages (from transformers[torch]) (0.23.0)\n",
            "Requirement already satisfied: numpy>=1.17 in /home/sevi/AdvancedCV/.conda/lib/python3.10/site-packages (from transformers[torch]) (1.26.4)\n",
            "Requirement already satisfied: packaging>=20.0 in /home/sevi/AdvancedCV/.conda/lib/python3.10/site-packages (from transformers[torch]) (24.0)\n",
            "Requirement already satisfied: pyyaml>=5.1 in /home/sevi/AdvancedCV/.conda/lib/python3.10/site-packages (from transformers[torch]) (6.0.1)\n",
            "Requirement already satisfied: regex!=2019.12.17 in /home/sevi/AdvancedCV/.conda/lib/python3.10/site-packages (from transformers[torch]) (2024.5.10)\n",
            "Requirement already satisfied: requests in /home/sevi/AdvancedCV/.conda/lib/python3.10/site-packages (from transformers[torch]) (2.31.0)\n",
            "Requirement already satisfied: tokenizers<0.19,>=0.14 in /home/sevi/AdvancedCV/.conda/lib/python3.10/site-packages (from transformers[torch]) (0.15.2)\n",
            "Requirement already satisfied: safetensors>=0.3.1 in /home/sevi/AdvancedCV/.conda/lib/python3.10/site-packages (from transformers[torch]) (0.4.3)\n",
            "Requirement already satisfied: tqdm>=4.27 in /home/sevi/AdvancedCV/.conda/lib/python3.10/site-packages (from transformers[torch]) (4.66.4)\n",
            "Requirement already satisfied: torch!=1.12.0,>=1.10 in /home/sevi/AdvancedCV/.conda/lib/python3.10/site-packages (from transformers[torch]) (2.3.0)\n",
            "Collecting accelerate>=0.21.0 (from transformers[torch])\n",
            "  Downloading accelerate-0.30.1-py3-none-any.whl.metadata (18 kB)\n",
            "Requirement already satisfied: psutil in /home/sevi/AdvancedCV/.conda/lib/python3.10/site-packages (from accelerate>=0.21.0->transformers[torch]) (5.9.0)\n",
            "Requirement already satisfied: fsspec>=2023.5.0 in /home/sevi/AdvancedCV/.conda/lib/python3.10/site-packages (from huggingface-hub<1.0,>=0.19.3->transformers[torch]) (2024.3.1)\n",
            "Requirement already satisfied: typing-extensions>=3.7.4.3 in /home/sevi/AdvancedCV/.conda/lib/python3.10/site-packages (from huggingface-hub<1.0,>=0.19.3->transformers[torch]) (4.11.0)\n",
            "Requirement already satisfied: sympy in /home/sevi/AdvancedCV/.conda/lib/python3.10/site-packages (from torch!=1.12.0,>=1.10->transformers[torch]) (1.12)\n",
            "Requirement already satisfied: networkx in /home/sevi/AdvancedCV/.conda/lib/python3.10/site-packages (from torch!=1.12.0,>=1.10->transformers[torch]) (3.3)\n",
            "Requirement already satisfied: jinja2 in /home/sevi/AdvancedCV/.conda/lib/python3.10/site-packages (from torch!=1.12.0,>=1.10->transformers[torch]) (3.1.4)\n",
            "Requirement already satisfied: nvidia-cuda-nvrtc-cu12==12.1.105 in /home/sevi/AdvancedCV/.conda/lib/python3.10/site-packages (from torch!=1.12.0,>=1.10->transformers[torch]) (12.1.105)\n",
            "Requirement already satisfied: nvidia-cuda-runtime-cu12==12.1.105 in /home/sevi/AdvancedCV/.conda/lib/python3.10/site-packages (from torch!=1.12.0,>=1.10->transformers[torch]) (12.1.105)\n",
            "Requirement already satisfied: nvidia-cuda-cupti-cu12==12.1.105 in /home/sevi/AdvancedCV/.conda/lib/python3.10/site-packages (from torch!=1.12.0,>=1.10->transformers[torch]) (12.1.105)\n",
            "Requirement already satisfied: nvidia-cudnn-cu12==8.9.2.26 in /home/sevi/AdvancedCV/.conda/lib/python3.10/site-packages (from torch!=1.12.0,>=1.10->transformers[torch]) (8.9.2.26)\n",
            "Requirement already satisfied: nvidia-cublas-cu12==12.1.3.1 in /home/sevi/AdvancedCV/.conda/lib/python3.10/site-packages (from torch!=1.12.0,>=1.10->transformers[torch]) (12.1.3.1)\n",
            "Requirement already satisfied: nvidia-cufft-cu12==11.0.2.54 in /home/sevi/AdvancedCV/.conda/lib/python3.10/site-packages (from torch!=1.12.0,>=1.10->transformers[torch]) (11.0.2.54)\n",
            "Requirement already satisfied: nvidia-curand-cu12==10.3.2.106 in /home/sevi/AdvancedCV/.conda/lib/python3.10/site-packages (from torch!=1.12.0,>=1.10->transformers[torch]) (10.3.2.106)\n",
            "Requirement already satisfied: nvidia-cusolver-cu12==11.4.5.107 in /home/sevi/AdvancedCV/.conda/lib/python3.10/site-packages (from torch!=1.12.0,>=1.10->transformers[torch]) (11.4.5.107)\n",
            "Requirement already satisfied: nvidia-cusparse-cu12==12.1.0.106 in /home/sevi/AdvancedCV/.conda/lib/python3.10/site-packages (from torch!=1.12.0,>=1.10->transformers[torch]) (12.1.0.106)\n",
            "Requirement already satisfied: nvidia-nccl-cu12==2.20.5 in /home/sevi/AdvancedCV/.conda/lib/python3.10/site-packages (from torch!=1.12.0,>=1.10->transformers[torch]) (2.20.5)\n",
            "Requirement already satisfied: nvidia-nvtx-cu12==12.1.105 in /home/sevi/AdvancedCV/.conda/lib/python3.10/site-packages (from torch!=1.12.0,>=1.10->transformers[torch]) (12.1.105)\n",
            "Requirement already satisfied: triton==2.3.0 in /home/sevi/AdvancedCV/.conda/lib/python3.10/site-packages (from torch!=1.12.0,>=1.10->transformers[torch]) (2.3.0)\n",
            "Requirement already satisfied: nvidia-nvjitlink-cu12 in /home/sevi/AdvancedCV/.conda/lib/python3.10/site-packages (from nvidia-cusolver-cu12==11.4.5.107->torch!=1.12.0,>=1.10->transformers[torch]) (12.4.127)\n",
            "Requirement already satisfied: charset-normalizer<4,>=2 in /home/sevi/AdvancedCV/.conda/lib/python3.10/site-packages (from requests->transformers[torch]) (3.3.2)\n",
            "Requirement already satisfied: idna<4,>=2.5 in /home/sevi/AdvancedCV/.conda/lib/python3.10/site-packages (from requests->transformers[torch]) (3.7)\n",
            "Requirement already satisfied: urllib3<3,>=1.21.1 in /home/sevi/AdvancedCV/.conda/lib/python3.10/site-packages (from requests->transformers[torch]) (2.2.1)\n",
            "Requirement already satisfied: certifi>=2017.4.17 in /home/sevi/AdvancedCV/.conda/lib/python3.10/site-packages (from requests->transformers[torch]) (2024.2.2)\n",
            "Requirement already satisfied: MarkupSafe>=2.0 in /home/sevi/AdvancedCV/.conda/lib/python3.10/site-packages (from jinja2->torch!=1.12.0,>=1.10->transformers[torch]) (2.1.5)\n",
            "Requirement already satisfied: mpmath>=0.19 in /home/sevi/AdvancedCV/.conda/lib/python3.10/site-packages (from sympy->torch!=1.12.0,>=1.10->transformers[torch]) (1.3.0)\n",
            "Downloading accelerate-0.30.1-py3-none-any.whl (302 kB)\n",
            "\u001b[2K   \u001b[90m━━━━━━━━━━━━━━━━━━━━━━━━━━━━━━━━━━━━━━━━\u001b[0m \u001b[32m302.6/302.6 kB\u001b[0m \u001b[31m28.1 MB/s\u001b[0m eta \u001b[36m0:00:00\u001b[0m\n",
            "\u001b[?25hInstalling collected packages: accelerate\n",
            "Successfully installed accelerate-0.30.1\n",
            "Note: you may need to restart the kernel to use updated packages.\n",
            "Collecting seqeval\n",
            "  Using cached seqeval-1.2.2-py3-none-any.whl\n",
            "Requirement already satisfied: numpy>=1.14.0 in /home/sevi/AdvancedCV/.conda/lib/python3.10/site-packages (from seqeval) (1.26.4)\n",
            "Collecting scikit-learn>=0.21.3 (from seqeval)\n",
            "  Using cached scikit_learn-1.4.2-cp310-cp310-manylinux_2_17_x86_64.manylinux2014_x86_64.whl.metadata (11 kB)\n",
            "Collecting scipy>=1.6.0 (from scikit-learn>=0.21.3->seqeval)\n",
            "  Using cached scipy-1.13.0-cp310-cp310-manylinux_2_17_x86_64.manylinux2014_x86_64.whl.metadata (60 kB)\n",
            "Collecting joblib>=1.2.0 (from scikit-learn>=0.21.3->seqeval)\n",
            "  Downloading joblib-1.4.2-py3-none-any.whl.metadata (5.4 kB)\n",
            "Collecting threadpoolctl>=2.0.0 (from scikit-learn>=0.21.3->seqeval)\n",
            "  Downloading threadpoolctl-3.5.0-py3-none-any.whl.metadata (13 kB)\n",
            "Using cached scikit_learn-1.4.2-cp310-cp310-manylinux_2_17_x86_64.manylinux2014_x86_64.whl (12.1 MB)\n",
            "Downloading joblib-1.4.2-py3-none-any.whl (301 kB)\n",
            "\u001b[2K   \u001b[90m━━━━━━━━━━━━━━━━━━━━━━━━━━━━━━━━━━━━━━━━\u001b[0m \u001b[32m301.8/301.8 kB\u001b[0m \u001b[31m25.9 MB/s\u001b[0m eta \u001b[36m0:00:00\u001b[0m\n",
            "\u001b[?25hUsing cached scipy-1.13.0-cp310-cp310-manylinux_2_17_x86_64.manylinux2014_x86_64.whl (38.6 MB)\n",
            "Downloading threadpoolctl-3.5.0-py3-none-any.whl (18 kB)\n",
            "Installing collected packages: threadpoolctl, scipy, joblib, scikit-learn, seqeval\n",
            "Successfully installed joblib-1.4.2 scikit-learn-1.4.2 scipy-1.13.0 seqeval-1.2.2 threadpoolctl-3.5.0\n",
            "Note: you may need to restart the kernel to use updated packages.\n",
            "ERROR: unknown command \"instlall\" - maybe you meant \"install\"\n",
            "Note: you may need to restart the kernel to use updated packages.\n",
            "Collecting gensim\n",
            "  Using cached gensim-4.3.2-cp310-cp310-manylinux_2_17_x86_64.manylinux2014_x86_64.whl.metadata (8.4 kB)\n",
            "Requirement already satisfied: numpy>=1.18.5 in /home/sevi/AdvancedCV/.conda/lib/python3.10/site-packages (from gensim) (1.26.4)\n",
            "Requirement already satisfied: scipy>=1.7.0 in /home/sevi/AdvancedCV/.conda/lib/python3.10/site-packages (from gensim) (1.13.0)\n",
            "Requirement already satisfied: smart-open>=1.8.1 in /home/sevi/AdvancedCV/.conda/lib/python3.10/site-packages (from gensim) (6.4.0)\n",
            "Using cached gensim-4.3.2-cp310-cp310-manylinux_2_17_x86_64.manylinux2014_x86_64.whl (26.5 MB)\n",
            "Installing collected packages: gensim\n",
            "Successfully installed gensim-4.3.2\n",
            "Note: you may need to restart the kernel to use updated packages.\n",
            "Note: you may need to restart the kernel to use updated packages.\n",
            "Note: you may need to restart the kernel to use updated packages.\n",
            "Requirement already satisfied: scikit-learn in /home/sevi/AdvancedCV/.conda/lib/python3.10/site-packages (1.4.2)\n",
            "Requirement already satisfied: numpy>=1.19.5 in /home/sevi/AdvancedCV/.conda/lib/python3.10/site-packages (from scikit-learn) (1.26.4)\n",
            "Requirement already satisfied: scipy>=1.6.0 in /home/sevi/AdvancedCV/.conda/lib/python3.10/site-packages (from scikit-learn) (1.13.0)\n",
            "Requirement already satisfied: joblib>=1.2.0 in /home/sevi/AdvancedCV/.conda/lib/python3.10/site-packages (from scikit-learn) (1.4.2)\n",
            "Requirement already satisfied: threadpoolctl>=2.0.0 in /home/sevi/AdvancedCV/.conda/lib/python3.10/site-packages (from scikit-learn) (3.5.0)\n",
            "Note: you may need to restart the kernel to use updated packages.\n",
            "Collecting sklearn_crfsuite\n",
            "  Using cached sklearn_crfsuite-0.3.6-py2.py3-none-any.whl.metadata (3.8 kB)\n",
            "Collecting python-crfsuite>=0.8.3 (from sklearn_crfsuite)\n",
            "  Using cached python_crfsuite-0.9.10-cp310-cp310-manylinux_2_17_x86_64.manylinux2014_x86_64.whl.metadata (4.2 kB)\n",
            "Requirement already satisfied: six in /home/sevi/AdvancedCV/.conda/lib/python3.10/site-packages (from sklearn_crfsuite) (1.16.0)\n",
            "Collecting tabulate (from sklearn_crfsuite)\n",
            "  Using cached tabulate-0.9.0-py3-none-any.whl.metadata (34 kB)\n",
            "Requirement already satisfied: tqdm>=2.0 in /home/sevi/AdvancedCV/.conda/lib/python3.10/site-packages (from sklearn_crfsuite) (4.66.4)\n",
            "Using cached sklearn_crfsuite-0.3.6-py2.py3-none-any.whl (12 kB)\n",
            "Using cached python_crfsuite-0.9.10-cp310-cp310-manylinux_2_17_x86_64.manylinux2014_x86_64.whl (1.1 MB)\n",
            "Using cached tabulate-0.9.0-py3-none-any.whl (35 kB)\n",
            "Installing collected packages: python-crfsuite, tabulate, sklearn_crfsuite\n",
            "Successfully installed python-crfsuite-0.9.10 sklearn_crfsuite-0.3.6 tabulate-0.9.0\n",
            "Note: you may need to restart the kernel to use updated packages.\n"
          ]
        }
      ],
      "source": [
        "# Install the necessary dependencies\n",
        "%pip install datasets\n",
        "%pip install transformers\n",
        "%pip install spacy\n",
        "%pip install torch\n",
        "%pip install torchtext\n",
        "%pip install spacy-transformers\n",
        "%pip install transformers[torch]\n",
        "%pip install seqeval\n",
        "%pip instlall word2vec\n",
        "%pip install gensim\n",
        "%pip install -qq \"spacy >= 3.0.6\"\n",
        "%pip install -qU wandb\n",
        "%pip install scikit-learn\n",
        "%pip install sklearn_crfsuite"
      ]
    },
    {
      "cell_type": "code",
      "execution_count": 8,
      "metadata": {},
      "outputs": [
        {
          "name": "stdout",
          "output_type": "stream",
          "text": [
            "Requirement already satisfied: matplotlib in /home/sevi/AdvancedCV/.conda/lib/python3.10/site-packages (3.8.4)\n",
            "Requirement already satisfied: contourpy>=1.0.1 in /home/sevi/AdvancedCV/.conda/lib/python3.10/site-packages (from matplotlib) (1.2.1)\n",
            "Requirement already satisfied: cycler>=0.10 in /home/sevi/AdvancedCV/.conda/lib/python3.10/site-packages (from matplotlib) (0.12.1)\n",
            "Requirement already satisfied: fonttools>=4.22.0 in /home/sevi/AdvancedCV/.conda/lib/python3.10/site-packages (from matplotlib) (4.51.0)\n",
            "Requirement already satisfied: kiwisolver>=1.3.1 in /home/sevi/AdvancedCV/.conda/lib/python3.10/site-packages (from matplotlib) (1.4.5)\n",
            "Requirement already satisfied: numpy>=1.21 in /home/sevi/AdvancedCV/.conda/lib/python3.10/site-packages (from matplotlib) (1.26.4)\n",
            "Requirement already satisfied: packaging>=20.0 in /home/sevi/AdvancedCV/.conda/lib/python3.10/site-packages (from matplotlib) (24.0)\n",
            "Requirement already satisfied: pillow>=8 in /home/sevi/AdvancedCV/.conda/lib/python3.10/site-packages (from matplotlib) (10.3.0)\n",
            "Requirement already satisfied: pyparsing>=2.3.1 in /home/sevi/AdvancedCV/.conda/lib/python3.10/site-packages (from matplotlib) (3.1.2)\n",
            "Requirement already satisfied: python-dateutil>=2.7 in /home/sevi/AdvancedCV/.conda/lib/python3.10/site-packages (from matplotlib) (2.9.0)\n",
            "Requirement already satisfied: six>=1.5 in /home/sevi/AdvancedCV/.conda/lib/python3.10/site-packages (from python-dateutil>=2.7->matplotlib) (1.16.0)\n",
            "Note: you may need to restart the kernel to use updated packages.\n",
            "Requirement already satisfied: seaborn in /home/sevi/AdvancedCV/.conda/lib/python3.10/site-packages (0.13.2)\n",
            "Requirement already satisfied: numpy!=1.24.0,>=1.20 in /home/sevi/AdvancedCV/.conda/lib/python3.10/site-packages (from seaborn) (1.26.4)\n",
            "Requirement already satisfied: pandas>=1.2 in /home/sevi/AdvancedCV/.conda/lib/python3.10/site-packages (from seaborn) (2.2.2)\n",
            "Requirement already satisfied: matplotlib!=3.6.1,>=3.4 in /home/sevi/AdvancedCV/.conda/lib/python3.10/site-packages (from seaborn) (3.8.4)\n",
            "Requirement already satisfied: contourpy>=1.0.1 in /home/sevi/AdvancedCV/.conda/lib/python3.10/site-packages (from matplotlib!=3.6.1,>=3.4->seaborn) (1.2.1)\n",
            "Requirement already satisfied: cycler>=0.10 in /home/sevi/AdvancedCV/.conda/lib/python3.10/site-packages (from matplotlib!=3.6.1,>=3.4->seaborn) (0.12.1)\n",
            "Requirement already satisfied: fonttools>=4.22.0 in /home/sevi/AdvancedCV/.conda/lib/python3.10/site-packages (from matplotlib!=3.6.1,>=3.4->seaborn) (4.51.0)\n",
            "Requirement already satisfied: kiwisolver>=1.3.1 in /home/sevi/AdvancedCV/.conda/lib/python3.10/site-packages (from matplotlib!=3.6.1,>=3.4->seaborn) (1.4.5)\n",
            "Requirement already satisfied: packaging>=20.0 in /home/sevi/AdvancedCV/.conda/lib/python3.10/site-packages (from matplotlib!=3.6.1,>=3.4->seaborn) (24.0)\n",
            "Requirement already satisfied: pillow>=8 in /home/sevi/AdvancedCV/.conda/lib/python3.10/site-packages (from matplotlib!=3.6.1,>=3.4->seaborn) (10.3.0)\n",
            "Requirement already satisfied: pyparsing>=2.3.1 in /home/sevi/AdvancedCV/.conda/lib/python3.10/site-packages (from matplotlib!=3.6.1,>=3.4->seaborn) (3.1.2)\n",
            "Requirement already satisfied: python-dateutil>=2.7 in /home/sevi/AdvancedCV/.conda/lib/python3.10/site-packages (from matplotlib!=3.6.1,>=3.4->seaborn) (2.9.0)\n",
            "Requirement already satisfied: pytz>=2020.1 in /home/sevi/AdvancedCV/.conda/lib/python3.10/site-packages (from pandas>=1.2->seaborn) (2024.1)\n",
            "Requirement already satisfied: tzdata>=2022.7 in /home/sevi/AdvancedCV/.conda/lib/python3.10/site-packages (from pandas>=1.2->seaborn) (2024.1)\n",
            "Requirement already satisfied: six>=1.5 in /home/sevi/AdvancedCV/.conda/lib/python3.10/site-packages (from python-dateutil>=2.7->matplotlib!=3.6.1,>=3.4->seaborn) (1.16.0)\n",
            "Note: you may need to restart the kernel to use updated packages.\n",
            "Requirement already satisfied: scipy==1.10.1 in /home/sevi/AdvancedCV/.conda/lib/python3.10/site-packages (1.10.1)\n",
            "Requirement already satisfied: numpy<1.27.0,>=1.19.5 in /home/sevi/AdvancedCV/.conda/lib/python3.10/site-packages (from scipy==1.10.1) (1.26.4)\n",
            "Note: you may need to restart the kernel to use updated packages.\n",
            "Requirement already satisfied: nltk in /home/sevi/AdvancedCV/.conda/lib/python3.10/site-packages (3.8.1)\n",
            "Requirement already satisfied: click in /home/sevi/AdvancedCV/.conda/lib/python3.10/site-packages (from nltk) (8.1.7)\n",
            "Requirement already satisfied: joblib in /home/sevi/AdvancedCV/.conda/lib/python3.10/site-packages (from nltk) (1.4.2)\n",
            "Requirement already satisfied: regex>=2021.8.3 in /home/sevi/AdvancedCV/.conda/lib/python3.10/site-packages (from nltk) (2024.5.10)\n",
            "Requirement already satisfied: tqdm in /home/sevi/AdvancedCV/.conda/lib/python3.10/site-packages (from nltk) (4.66.4)\n",
            "Note: you may need to restart the kernel to use updated packages.\n",
            "Requirement already satisfied: fairscale in /home/sevi/AdvancedCV/.conda/lib/python3.10/site-packages (0.4.13)\n",
            "Requirement already satisfied: torch>=1.8.0 in /home/sevi/AdvancedCV/.conda/lib/python3.10/site-packages (from fairscale) (2.3.0)\n",
            "Requirement already satisfied: numpy>=1.22.0 in /home/sevi/AdvancedCV/.conda/lib/python3.10/site-packages (from fairscale) (1.26.4)\n",
            "Requirement already satisfied: filelock in /home/sevi/AdvancedCV/.conda/lib/python3.10/site-packages (from torch>=1.8.0->fairscale) (3.14.0)\n",
            "Requirement already satisfied: typing-extensions>=4.8.0 in /home/sevi/AdvancedCV/.conda/lib/python3.10/site-packages (from torch>=1.8.0->fairscale) (4.11.0)\n",
            "Requirement already satisfied: sympy in /home/sevi/AdvancedCV/.conda/lib/python3.10/site-packages (from torch>=1.8.0->fairscale) (1.12)\n",
            "Requirement already satisfied: networkx in /home/sevi/AdvancedCV/.conda/lib/python3.10/site-packages (from torch>=1.8.0->fairscale) (3.3)\n",
            "Requirement already satisfied: jinja2 in /home/sevi/AdvancedCV/.conda/lib/python3.10/site-packages (from torch>=1.8.0->fairscale) (3.1.4)\n",
            "Requirement already satisfied: fsspec in /home/sevi/AdvancedCV/.conda/lib/python3.10/site-packages (from torch>=1.8.0->fairscale) (2024.3.1)\n",
            "Requirement already satisfied: nvidia-cuda-nvrtc-cu12==12.1.105 in /home/sevi/AdvancedCV/.conda/lib/python3.10/site-packages (from torch>=1.8.0->fairscale) (12.1.105)\n",
            "Requirement already satisfied: nvidia-cuda-runtime-cu12==12.1.105 in /home/sevi/AdvancedCV/.conda/lib/python3.10/site-packages (from torch>=1.8.0->fairscale) (12.1.105)\n",
            "Requirement already satisfied: nvidia-cuda-cupti-cu12==12.1.105 in /home/sevi/AdvancedCV/.conda/lib/python3.10/site-packages (from torch>=1.8.0->fairscale) (12.1.105)\n",
            "Requirement already satisfied: nvidia-cudnn-cu12==8.9.2.26 in /home/sevi/AdvancedCV/.conda/lib/python3.10/site-packages (from torch>=1.8.0->fairscale) (8.9.2.26)\n",
            "Requirement already satisfied: nvidia-cublas-cu12==12.1.3.1 in /home/sevi/AdvancedCV/.conda/lib/python3.10/site-packages (from torch>=1.8.0->fairscale) (12.1.3.1)\n",
            "Requirement already satisfied: nvidia-cufft-cu12==11.0.2.54 in /home/sevi/AdvancedCV/.conda/lib/python3.10/site-packages (from torch>=1.8.0->fairscale) (11.0.2.54)\n",
            "Requirement already satisfied: nvidia-curand-cu12==10.3.2.106 in /home/sevi/AdvancedCV/.conda/lib/python3.10/site-packages (from torch>=1.8.0->fairscale) (10.3.2.106)\n",
            "Requirement already satisfied: nvidia-cusolver-cu12==11.4.5.107 in /home/sevi/AdvancedCV/.conda/lib/python3.10/site-packages (from torch>=1.8.0->fairscale) (11.4.5.107)\n",
            "Requirement already satisfied: nvidia-cusparse-cu12==12.1.0.106 in /home/sevi/AdvancedCV/.conda/lib/python3.10/site-packages (from torch>=1.8.0->fairscale) (12.1.0.106)\n",
            "Requirement already satisfied: nvidia-nccl-cu12==2.20.5 in /home/sevi/AdvancedCV/.conda/lib/python3.10/site-packages (from torch>=1.8.0->fairscale) (2.20.5)\n",
            "Requirement already satisfied: nvidia-nvtx-cu12==12.1.105 in /home/sevi/AdvancedCV/.conda/lib/python3.10/site-packages (from torch>=1.8.0->fairscale) (12.1.105)\n",
            "Requirement already satisfied: triton==2.3.0 in /home/sevi/AdvancedCV/.conda/lib/python3.10/site-packages (from torch>=1.8.0->fairscale) (2.3.0)\n",
            "Requirement already satisfied: nvidia-nvjitlink-cu12 in /home/sevi/AdvancedCV/.conda/lib/python3.10/site-packages (from nvidia-cusolver-cu12==11.4.5.107->torch>=1.8.0->fairscale) (12.4.127)\n",
            "Requirement already satisfied: MarkupSafe>=2.0 in /home/sevi/AdvancedCV/.conda/lib/python3.10/site-packages (from jinja2->torch>=1.8.0->fairscale) (2.1.5)\n",
            "Requirement already satisfied: mpmath>=0.19 in /home/sevi/AdvancedCV/.conda/lib/python3.10/site-packages (from sympy->torch>=1.8.0->fairscale) (1.3.0)\n",
            "Note: you may need to restart the kernel to use updated packages.\n",
            "Requirement already satisfied: deepspeed in /home/sevi/AdvancedCV/.conda/lib/python3.10/site-packages (0.14.2)\n",
            "Requirement already satisfied: hjson in /home/sevi/AdvancedCV/.conda/lib/python3.10/site-packages (from deepspeed) (3.1.0)\n",
            "Requirement already satisfied: ninja in /home/sevi/AdvancedCV/.conda/lib/python3.10/site-packages (from deepspeed) (1.11.1.1)\n",
            "Requirement already satisfied: numpy in /home/sevi/AdvancedCV/.conda/lib/python3.10/site-packages (from deepspeed) (1.26.4)\n",
            "Requirement already satisfied: packaging>=20.0 in /home/sevi/AdvancedCV/.conda/lib/python3.10/site-packages (from deepspeed) (24.0)\n",
            "Requirement already satisfied: psutil in /home/sevi/AdvancedCV/.conda/lib/python3.10/site-packages (from deepspeed) (5.9.0)\n",
            "Requirement already satisfied: py-cpuinfo in /home/sevi/AdvancedCV/.conda/lib/python3.10/site-packages (from deepspeed) (9.0.0)\n",
            "Requirement already satisfied: pydantic in /home/sevi/AdvancedCV/.conda/lib/python3.10/site-packages (from deepspeed) (2.7.1)\n",
            "Requirement already satisfied: pynvml in /home/sevi/AdvancedCV/.conda/lib/python3.10/site-packages (from deepspeed) (11.5.0)\n",
            "Requirement already satisfied: torch in /home/sevi/AdvancedCV/.conda/lib/python3.10/site-packages (from deepspeed) (2.3.0)\n",
            "Requirement already satisfied: tqdm in /home/sevi/AdvancedCV/.conda/lib/python3.10/site-packages (from deepspeed) (4.66.4)\n",
            "Requirement already satisfied: annotated-types>=0.4.0 in /home/sevi/AdvancedCV/.conda/lib/python3.10/site-packages (from pydantic->deepspeed) (0.6.0)\n",
            "Requirement already satisfied: pydantic-core==2.18.2 in /home/sevi/AdvancedCV/.conda/lib/python3.10/site-packages (from pydantic->deepspeed) (2.18.2)\n",
            "Requirement already satisfied: typing-extensions>=4.6.1 in /home/sevi/AdvancedCV/.conda/lib/python3.10/site-packages (from pydantic->deepspeed) (4.11.0)\n",
            "Requirement already satisfied: filelock in /home/sevi/AdvancedCV/.conda/lib/python3.10/site-packages (from torch->deepspeed) (3.14.0)\n",
            "Requirement already satisfied: sympy in /home/sevi/AdvancedCV/.conda/lib/python3.10/site-packages (from torch->deepspeed) (1.12)\n",
            "Requirement already satisfied: networkx in /home/sevi/AdvancedCV/.conda/lib/python3.10/site-packages (from torch->deepspeed) (3.3)\n",
            "Requirement already satisfied: jinja2 in /home/sevi/AdvancedCV/.conda/lib/python3.10/site-packages (from torch->deepspeed) (3.1.4)\n",
            "Requirement already satisfied: fsspec in /home/sevi/AdvancedCV/.conda/lib/python3.10/site-packages (from torch->deepspeed) (2024.3.1)\n",
            "Requirement already satisfied: nvidia-cuda-nvrtc-cu12==12.1.105 in /home/sevi/AdvancedCV/.conda/lib/python3.10/site-packages (from torch->deepspeed) (12.1.105)\n",
            "Requirement already satisfied: nvidia-cuda-runtime-cu12==12.1.105 in /home/sevi/AdvancedCV/.conda/lib/python3.10/site-packages (from torch->deepspeed) (12.1.105)\n",
            "Requirement already satisfied: nvidia-cuda-cupti-cu12==12.1.105 in /home/sevi/AdvancedCV/.conda/lib/python3.10/site-packages (from torch->deepspeed) (12.1.105)\n",
            "Requirement already satisfied: nvidia-cudnn-cu12==8.9.2.26 in /home/sevi/AdvancedCV/.conda/lib/python3.10/site-packages (from torch->deepspeed) (8.9.2.26)\n",
            "Requirement already satisfied: nvidia-cublas-cu12==12.1.3.1 in /home/sevi/AdvancedCV/.conda/lib/python3.10/site-packages (from torch->deepspeed) (12.1.3.1)\n",
            "Requirement already satisfied: nvidia-cufft-cu12==11.0.2.54 in /home/sevi/AdvancedCV/.conda/lib/python3.10/site-packages (from torch->deepspeed) (11.0.2.54)\n",
            "Requirement already satisfied: nvidia-curand-cu12==10.3.2.106 in /home/sevi/AdvancedCV/.conda/lib/python3.10/site-packages (from torch->deepspeed) (10.3.2.106)\n",
            "Requirement already satisfied: nvidia-cusolver-cu12==11.4.5.107 in /home/sevi/AdvancedCV/.conda/lib/python3.10/site-packages (from torch->deepspeed) (11.4.5.107)\n",
            "Requirement already satisfied: nvidia-cusparse-cu12==12.1.0.106 in /home/sevi/AdvancedCV/.conda/lib/python3.10/site-packages (from torch->deepspeed) (12.1.0.106)\n",
            "Requirement already satisfied: nvidia-nccl-cu12==2.20.5 in /home/sevi/AdvancedCV/.conda/lib/python3.10/site-packages (from torch->deepspeed) (2.20.5)\n",
            "Requirement already satisfied: nvidia-nvtx-cu12==12.1.105 in /home/sevi/AdvancedCV/.conda/lib/python3.10/site-packages (from torch->deepspeed) (12.1.105)\n",
            "Requirement already satisfied: triton==2.3.0 in /home/sevi/AdvancedCV/.conda/lib/python3.10/site-packages (from torch->deepspeed) (2.3.0)\n",
            "Requirement already satisfied: nvidia-nvjitlink-cu12 in /home/sevi/AdvancedCV/.conda/lib/python3.10/site-packages (from nvidia-cusolver-cu12==11.4.5.107->torch->deepspeed) (12.4.127)\n",
            "Requirement already satisfied: MarkupSafe>=2.0 in /home/sevi/AdvancedCV/.conda/lib/python3.10/site-packages (from jinja2->torch->deepspeed) (2.1.5)\n",
            "Requirement already satisfied: mpmath>=0.19 in /home/sevi/AdvancedCV/.conda/lib/python3.10/site-packages (from sympy->torch->deepspeed) (1.3.0)\n",
            "Note: you may need to restart the kernel to use updated packages.\n",
            "Requirement already satisfied: huggingface_hub in /home/sevi/AdvancedCV/.conda/lib/python3.10/site-packages (0.23.0)\n",
            "Requirement already satisfied: filelock in /home/sevi/AdvancedCV/.conda/lib/python3.10/site-packages (from huggingface_hub) (3.14.0)\n",
            "Requirement already satisfied: fsspec>=2023.5.0 in /home/sevi/AdvancedCV/.conda/lib/python3.10/site-packages (from huggingface_hub) (2024.3.1)\n",
            "Requirement already satisfied: packaging>=20.9 in /home/sevi/AdvancedCV/.conda/lib/python3.10/site-packages (from huggingface_hub) (24.0)\n",
            "Requirement already satisfied: pyyaml>=5.1 in /home/sevi/AdvancedCV/.conda/lib/python3.10/site-packages (from huggingface_hub) (6.0.1)\n",
            "Requirement already satisfied: requests in /home/sevi/AdvancedCV/.conda/lib/python3.10/site-packages (from huggingface_hub) (2.31.0)\n",
            "Requirement already satisfied: tqdm>=4.42.1 in /home/sevi/AdvancedCV/.conda/lib/python3.10/site-packages (from huggingface_hub) (4.66.4)\n",
            "Requirement already satisfied: typing-extensions>=3.7.4.3 in /home/sevi/AdvancedCV/.conda/lib/python3.10/site-packages (from huggingface_hub) (4.11.0)\n",
            "Requirement already satisfied: charset-normalizer<4,>=2 in /home/sevi/AdvancedCV/.conda/lib/python3.10/site-packages (from requests->huggingface_hub) (3.3.2)\n",
            "Requirement already satisfied: idna<4,>=2.5 in /home/sevi/AdvancedCV/.conda/lib/python3.10/site-packages (from requests->huggingface_hub) (3.7)\n",
            "Requirement already satisfied: urllib3<3,>=1.21.1 in /home/sevi/AdvancedCV/.conda/lib/python3.10/site-packages (from requests->huggingface_hub) (2.2.1)\n",
            "Requirement already satisfied: certifi>=2017.4.17 in /home/sevi/AdvancedCV/.conda/lib/python3.10/site-packages (from requests->huggingface_hub) (2024.2.2)\n",
            "Note: you may need to restart the kernel to use updated packages.\n"
          ]
        }
      ],
      "source": [
        "%pip install matplotlib\n",
        "%pip install seaborn\n",
        "%pip install scipy==1.10.1\n",
        "%pip install nltk\n",
        "%pip install fairscale\n",
        "%pip install deepspeed\n",
        "%pip install --upgrade huggingface_hub"
      ]
    },
    {
      "cell_type": "markdown",
      "metadata": {
        "id": "L70ikAPDNvEo"
      },
      "source": [
        "### **Imports**"
      ]
    },
    {
      "cell_type": "code",
      "execution_count": 2,
      "metadata": {
        "id": "CuB1nDr5NuF4",
        "metadata": {}
      },
      "outputs": [
        {
          "name": "stderr",
          "output_type": "stream",
          "text": [
            "/home/sevi/AdvancedCV/.conda/lib/python3.10/site-packages/tqdm/auto.py:21: TqdmWarning: IProgress not found. Please update jupyter and ipywidgets. See https://ipywidgets.readthedocs.io/en/stable/user_install.html\n",
            "  from .autonotebook import tqdm as notebook_tqdm\n",
            "/home/sevi/AdvancedCV/.conda/lib/python3.10/site-packages/transformers/utils/generic.py:441: UserWarning: torch.utils._pytree._register_pytree_node is deprecated. Please use torch.utils._pytree.register_pytree_node instead.\n",
            "  _torch_pytree._register_pytree_node(\n",
            "/home/sevi/AdvancedCV/.conda/lib/python3.10/site-packages/transformers/utils/generic.py:309: UserWarning: torch.utils._pytree._register_pytree_node is deprecated. Please use torch.utils._pytree.register_pytree_node instead.\n",
            "  _torch_pytree._register_pytree_node(\n"
          ]
        }
      ],
      "source": [
        "from datasets import load_metric, load_dataset\n",
        "from transformers import AutoTokenizer\n",
        "import numpy as np\n",
        "import torch.cuda\n",
        "import torch\n",
        "import transformers\n",
        "from transformers import EarlyStoppingCallback\n",
        "from tqdm.notebook import tqdm\n",
        "from datasets import ClassLabel, Sequence\n",
        "import random\n",
        "import pandas as pd\n",
        "import torch\n",
        "from IPython.display import display, HTML\n",
        "import matplotlib.pyplot as plt\n",
        "%matplotlib inline\n",
        "import seaborn as sns\n",
        "from sklearn.metrics import confusion_matrix\n",
        "from gensim.test.utils import common_texts, get_tmpfile, simple_preprocess\n",
        "import gensim"
      ]
    },
    {
      "cell_type": "code",
      "execution_count": 3,
      "metadata": {},
      "outputs": [
        {
          "name": "stderr",
          "output_type": "stream",
          "text": [
            "/home/sevi/AdvancedCV/.conda/lib/python3.10/site-packages/transformers/utils/generic.py:309: UserWarning: torch.utils._pytree._register_pytree_node is deprecated. Please use torch.utils._pytree.register_pytree_node instead.\n",
            "  _torch_pytree._register_pytree_node(\n"
          ]
        }
      ],
      "source": [
        "from datasets import load_metric, load_dataset\n",
        "from transformers import AutoTokenizer\n",
        "# from transformers import RobertaTokenizer, RobertaModel, RobertaTokenizerFast ## If Using RoBERTa\n",
        "# from transformers import AlbertTokenizer, AlbertModel, AlbertTokenizerFast ## If using ALBERT\n",
        "from transformers import BertTokenizer, BertModel, BertTokenizer ## If using BERT\n",
        "from transformers import AutoModelForTokenClassification, TrainingArguments, Trainer\n",
        "from transformers import DataCollatorForTokenClassification\n",
        "import numpy as np\n",
        "import wandb\n",
        "import transformers\n",
        "from transformers import EarlyStoppingCallback\n",
        "from tqdm.notebook import tqdm\n",
        "from datasets import ClassLabel, Sequence\n",
        "import random\n",
        "import pandas as pd\n",
        "from IPython.display import display, HTML\n",
        "import matplotlib.pyplot as plt\n",
        "%matplotlib inline\n",
        "import seaborn as sns\n",
        "from sklearn.metrics import confusion_matrix"
      ]
    },
    {
      "cell_type": "code",
      "execution_count": 4,
      "metadata": {
        "metadata": {}
      },
      "outputs": [],
      "source": [
        "from transformers import AutoTokenizer\n",
        "from transformers import RobertaTokenizer, RobertaModel, RobertaTokenizerFast ## If Using RoBERTa\n",
        "# from transformers import AlbertTokenizer, AlbertModel, AlbertTokenizerFast ## If using ALBERT\n",
        "from transformers import BertTokenizer, BertModel, BertTokenizer ## If using BERT\n",
        "from transformers import AutoModelForTokenClassification, TrainingArguments, Trainer\n",
        "from transformers import DataCollatorForTokenClassification\n",
        "from transformers import AutoTokenizer, AutoModelForMaskedLM"
      ]
    },
    {
      "cell_type": "code",
      "execution_count": 5,
      "metadata": {},
      "outputs": [
        {
          "name": "stdout",
          "output_type": "stream",
          "text": [
            "The token has not been saved to the git credentials helper. Pass `add_to_git_credential=True` in this function directly or `--add-to-git-credential` if using via `huggingface-cli` if you want to set the git credential as well.\n",
            "Token is valid (permission: write).\n",
            "Your token has been saved to /home/sevi/.cache/huggingface/token\n",
            "Login successful\n"
          ]
        }
      ],
      "source": [
        "from huggingface_hub import login\n",
        "login(token=\"credentials\")"
      ]
    },
    {
      "cell_type": "code",
      "execution_count": 6,
      "metadata": {
        "colab": {
          "base_uri": "https://localhost:8080/"
        },
        "id": "ABqO-Dq8LPAE",
        "metadata": {},
        "outputId": "0cbf2899-39c5-4fa7-ee6a-94b34d36ac22"
      },
      "outputs": [
        {
          "name": "stderr",
          "output_type": "stream",
          "text": [
            "Failed to detect the name of this notebook, you can set it manually with the WANDB_NOTEBOOK_NAME environment variable to enable code saving.\n",
            "\u001b[34m\u001b[1mwandb\u001b[0m: Currently logged in as: \u001b[33msebimomir\u001b[0m (\u001b[33msevixdd\u001b[0m). Use \u001b[1m`wandb login --relogin`\u001b[0m to force relogin\n"
          ]
        },
        {
          "name": "stdout",
          "output_type": "stream",
          "text": [
            "env: WANDB_LOG_MODEL=true\n",
            "env: WANDB_WATCH=all\n"
          ]
        }
      ],
      "source": [
        "#WANDB for hyperparam tuning\n",
        "import wandb\n",
        "wandb.login()\n",
        "%env WANDB_LOG_MODEL=true\n",
        "%env WANDB_WATCH=all\n",
        "# %env TOKENIZERS_PARALLELISM = False ## If you are using multiple GPUs, set this to True\n",
        "# sweep_config = {\n",
        "#     'method': 'random'\n",
        "#     }\n",
        "# metric = {\n",
        "#     'name': 'loss',\n",
        "#     'goal': 'minimize'   \n",
        "#     }\n",
        "\n",
        "# sweep_config['metric'] = metric\n",
        "# parameters_dict ={\n",
        "#     'weight_decay': {\n",
        "#         # a flat distribution between 0 and 0.1\n",
        "#         'distribution': 'uniform',\n",
        "#         'min': 0,\n",
        "#         'max': 0.0001\n",
        "#       },\n",
        "#     'learning_rate': {\n",
        "#         # a flat distribution between 0 and 0.1\n",
        "#         'distribution': 'uniform',\n",
        "#         'min': 0,\n",
        "#         'max': 0.1\n",
        "#       },\n",
        "#     'batch_size': {\n",
        "#         # integers between 32 and 256\n",
        "#         # with evenly-distributed logarithms \n",
        "#         'distribution': 'q_log_uniform_values',\n",
        "#         'q': 2,\n",
        "#         'min': 4,\n",
        "#         'max': 8,\n",
        "#       }\n",
        "# }\n",
        "# sweep_id = wandb.sweep(sweep_config, project=\"NLP\")"
      ]
    },
    {
      "cell_type": "code",
      "execution_count": 17,
      "metadata": {
        "metadata": {}
      },
      "outputs": [],
      "source": [
        "import torch\n",
        "torch.cuda.is_available()\n",
        "device = torch.device(\"cpu\")"
      ]
    },
    {
      "cell_type": "markdown",
      "metadata": {
        "id": "_UJM3FAO-uMm"
      },
      "source": [
        "1.\n",
        "Analyse and visualise the dataset – produce charts and document observations (5 marks).\n",
        "Use papers in the reference to think of how you can analyse the dataset."
      ]
    },
    {
      "cell_type": "markdown",
      "metadata": {
        "id": "an4eNotSMBym"
      },
      "source": [
        "### **Data Processing:**"
      ]
    },
    {
      "cell_type": "code",
      "execution_count": 7,
      "metadata": {
        "id": "lHh2uHxBJQ-f",
        "metadata": {}
      },
      "outputs": [],
      "source": [
        "from datasets import load_dataset, load_metric\n",
        "#dataset = load_dataset(\"surrey-nlp/PLOD-CW\")\n",
        "dataset = load_dataset(\"surrey-nlp/PLOD-filtered\")"
      ]
    },
    {
      "cell_type": "code",
      "execution_count": 7,
      "metadata": {
        "id": "hrBc2Cuo6Tif",
        "metadata": {}
      },
      "outputs": [],
      "source": [
        "from datasets import load_dataset, load_metric\n",
        "datasets = load_dataset(\"surrey-nlp/PLOD-CW\")"
      ]
    },
    {
      "cell_type": "markdown",
      "metadata": {},
      "source": [
        "**Data Visualization:**"
      ]
    },
    {
      "cell_type": "code",
      "execution_count": 53,
      "metadata": {
        "id": "1iIUEUq8WZA6",
        "metadata": {}
      },
      "outputs": [],
      "source": [
        "##Vocabulary\n",
        "import string\n",
        "\n",
        "def get_vocabs(dataset):\n",
        "    \"\"\"Build vocabulary from an iterable of datasets objects\n",
        "\n",
        "    Args:\n",
        "        datasets: a list of dataset objects\n",
        "\n",
        "    Returns:\n",
        "        a set of all the words in the dataset\n",
        "\n",
        "    \"\"\"\n",
        "    print(\"Building vocab...\")\n",
        "    punct = set(string.punctuation)\n",
        "    #all words without punctuation\n",
        "    punc_words = []\n",
        "    #all words\n",
        "    all_words = []\n",
        "    #unique words\n",
        "    vocab_words = set()\n",
        "    for words in dataset:\n",
        "      vocab_words.update(words)\n",
        "      all_words.extend(words)\n",
        "      punc_words.extend([w for w in words if w not in punct])\n",
        "    print(\"- Number of distinct. {} tokens\".format(len(vocab_words)))\n",
        "    print(\"- Number of words. {} tokens\".format(len(all_words)))\n",
        "    print(\"- Number of words without punctuation. {} tokens\".format(len(punc_words)))\n",
        "    return vocab_words, all_words, punc_words"
      ]
    },
    {
      "cell_type": "code",
      "execution_count": 8,
      "metadata": {
        "colab": {
          "base_uri": "https://localhost:8080/"
        },
        "id": "g7srkbOeL7fo",
        "metadata": {},
        "outputId": "7e864533-6139-403e-f76b-b7dc4ba67f69"
      },
      "outputs": [
        {
          "name": "stdout",
          "output_type": "stream",
          "text": [
            "112652\n",
            "Dataset({\n",
            "    features: ['id', 'tokens', 'pos_tags', 'ner_tags'],\n",
            "    num_rows: 112652\n",
            "})\n"
          ]
        }
      ],
      "source": [
        "\n",
        "#pos_list = datasets[\"train\"].features[f\"pos_tags\"].feature.names\n",
        "#label_list = datasets[\"train\"].features[f\"ner_tags\"].feature.names\n",
        "labels_vocab = {'B-O': 0, 'B-AC': 1, 'B-LF': 3, 'I-LF': 4}\n",
        "pos_tag_map ={'ADJ' : 0, 'ADP' : 1, 'ADV' : 2, 'AUX' : 3, 'CONJ' : 4, 'CCONJ' : 5, 'DET' : 6, 'INTJ' : 7, 'NOUN' : 8, 'NUM' : 9, 'PART' : 10, 'PRON' : 11, 'PROPN' : 12, 'PUNCT' : 13, 'SCONJ' : 14, 'SYM' : 15, 'VERB' : 16, 'X' : 17, 'SPACE' : 18}\n",
        "\n",
        "label_list = dataset[\"train\"].features[f\"ner_tags\"].feature.names\n",
        "#label_list = ['B-O', 'B-AC' , 'B-LF', 'I-LF']\n",
        "short_dataset = dataset[\"train\"]\n",
        "print(len(short_dataset['id']))\n",
        "example = dataset[\"train\"]\n",
        "test = dataset[\"test\"]\n",
        "print(example)\n",
        "task = \"ner\""
      ]
    },
    {
      "cell_type": "code",
      "execution_count": 31,
      "metadata": {
        "colab": {
          "base_uri": "https://localhost:8080/"
        },
        "id": "jSvOjSnJcbiB",
        "metadata": {},
        "outputId": "63b151e2-71a5-40c0-bc99-f68ff9d1028e"
      },
      "outputs": [
        {
          "name": "stdout",
          "output_type": "stream",
          "text": [
            "Building vocab...\n",
            "- Number of distinct. 9133 tokens\n",
            "- Number of words. 40000 tokens\n",
            "- Number of words without punctuation. 30582 tokens\n"
          ]
        }
      ],
      "source": [
        "# Build Vocabulary\n",
        "vocab_sentence = example[\"tokens\"]\n",
        "vocab, all_words, punc_words = get_vocabs(vocab_sentence)"
      ]
    },
    {
      "cell_type": "code",
      "execution_count": 146,
      "metadata": {
        "colab": {
          "base_uri": "https://localhost:8080/"
        },
        "id": "rmgm0fzcQlRb",
        "metadata": {},
        "outputId": "428bec09-62e6-4bb7-8d39-0048de8bc8e7"
      },
      "outputs": [
        {
          "name": "stdout",
          "output_type": "stream",
          "text": [
            "Value(dtype='string', id=None)\n"
          ]
        }
      ],
      "source": [
        "token_list = datasets[\"train\"].features[f\"tokens\"].feature\n",
        "print(token_list)"
      ]
    },
    {
      "cell_type": "code",
      "execution_count": 55,
      "metadata": {
        "metadata": {}
      },
      "outputs": [],
      "source": [
        "def ner_tags_count(dataset, task):\n",
        "    dict_tags = {}\n",
        "    for i, label in enumerate(dataset[task]):\n",
        "        for j in label:\n",
        "            if j not in dict_tags:\n",
        "                dict_tags[j] = 1\n",
        "            else:\n",
        "                 dict_tags[j] += 1\n",
        "    return dict_tags"
      ]
    },
    {
      "cell_type": "code",
      "execution_count": 56,
      "metadata": {
        "metadata": {}
      },
      "outputs": [],
      "source": [
        "def changing_keys(initial_dict, task):\n",
        "    ner_label = ['B-O', 'B-AC' , 'B-LF', 'I-LF']\n",
        "    pos_label = ['ADJ', 'ADP', 'ADV', 'AUX', 'CONJ', 'CCONJ', 'DET', 'INTJ', 'NOUN', 'NUM', 'PART', 'PRON', 'PROPN', 'PUNCT', 'SCONJ', 'SYM', 'VERB', 'X', 'SPACE']\n",
        "    if task == 'ner_tags':\n",
        "        new_dict = dict(zip(ner_label, list(initial_dict.values())))\n",
        "    else:\n",
        "        new_dict = dict(zip(pos_label, list(initial_dict.values())))\n",
        "    return new_dict"
      ]
    },
    {
      "cell_type": "code",
      "execution_count": 57,
      "metadata": {
        "metadata": {}
      },
      "outputs": [],
      "source": [
        "def precentage_calc(dict, task):\n",
        "    tag_count = ner_tags_count(example, task)\n",
        "    tag_count = changing_keys(tag_count, task)\n",
        "    total = sum(tag_count.values())\n",
        "    precentages = {category: (value / total) * 100 for category, value in tag_count.items()}\n",
        "    raw_value = list(tag_count.values())\n",
        "    categories = list(tag_count.keys())\n",
        "    percent_value = list(precentages.values())\n",
        "    return raw_value, categories, percent_value\n",
        "\n"
      ]
    },
    {
      "cell_type": "code",
      "execution_count": 58,
      "metadata": {
        "metadata": {}
      },
      "outputs": [
        {
          "name": "stdout",
          "output_type": "stream",
          "text": [
            "[4378676, 184042, 407268, 307003] ['B-O', 'B-AC', 'B-LF', 'I-LF'] [82.97678846781754, 3.4876328148495293, 7.717810289163006, 5.817768428169928]\n",
            "[80423, 1134327, 1317685, 117415, 347332, 31931, 62579, 40986, 257929, 426179, 146919, 470916, 204332, 40358, 569693, 27639, 346] ['ADJ', 'ADP', 'ADV', 'AUX', 'CONJ', 'CCONJ', 'DET', 'INTJ', 'NOUN', 'NUM', 'PART', 'PRON', 'PROPN', 'PUNCT', 'SCONJ', 'SYM', 'VERB'] [1.5240319811165042, 21.49572417149249, 24.970395049146397, 2.2250378009126037, 6.5820110672961425, 0.6050988546688272, 1.1858846019955698, 0.7766929209062213, 4.887806284985623, 8.07617753230109, 2.784144518777659, 8.923952655576883, 3.8721323845852242, 0.7647921949429873, 10.795796618109305, 0.5237645937863429, 0.006556769400125715]\n"
          ]
        }
      ],
      "source": [
        "ner_value, ner_categ, ner_percent = precentage_calc(example, 'ner_tags')\n",
        "print(ner_value, ner_categ, ner_percent)\n",
        "pos_value, pos_categ, pos_percent = precentage_calc(example, 'pos_tags')\n",
        "print(pos_value, pos_categ, pos_percent)\n",
        "#pos_count = ner_tags_count(example, 'pos_tags')"
      ]
    },
    {
      "cell_type": "code",
      "execution_count": 59,
      "metadata": {
        "metadata": {}
      },
      "outputs": [
        {
          "data": {
            "image/png": "[encoded data removed]",
            "text/plain": [
              "<Figure size 1800x600 with 2 Axes>"
            ]
          },
          "metadata": {},
          "output_type": "display_data"
        }
      ],
      "source": [
        "import pylab\n",
        "\n",
        "import matplotlib.pyplot as plt\n",
        "from matplotlib.ticker import PercentFormatter\n",
        "\n",
        "\n",
        "\n",
        "# Plotting\n",
        "fig, ax = plt.subplots(1, 2, figsize=(18, 6), width_ratios=[1, 2])\n",
        "\n",
        "#NER Plot\n",
        "\n",
        "ax[0].set_title('NER Tags Distribution')\n",
        "ax[0].set_xlabel('Categories')\n",
        "ax[0].set_ylabel('Percentage')\n",
        "\n",
        "ax[0].bar(ner_categ, ner_percent, width=0.8)\n",
        "i=0\n",
        "for rect in ax[0].patches: \n",
        "    height = rect.get_height() \n",
        "    y_value = ner_value[i]\n",
        "    x_value = rect.get_x() + rect.get_width() / 2\n",
        "    space = 1\n",
        "    label = \"{:.0f}\".format(y_value)\n",
        "    ax[0].annotate(label, (x_value, height), xytext=(0, space), textcoords=\"offset points\", ha='center', va='bottom')\n",
        "    i += 1\n",
        "\n",
        "#POS tags plot\n",
        "\n",
        "ax[1].set_title('POS Tags Distribution')\n",
        "ax[1].set_xlabel('Categories')\n",
        "ax[1].set_ylabel('Percentage')\n",
        "\n",
        "ax[1].bar(pos_categ, pos_percent, width=0.7)\n",
        "i=0\n",
        "for rect in ax[1].patches: \n",
        "    height = rect.get_height() \n",
        "    y_value = pos_value[i]\n",
        "    x_value = rect.get_x() + rect.get_width() / 2\n",
        "    space = 1\n",
        "    label = \"{:.0f}\".format(y_value)\n",
        "    ax[1].annotate(label, (x_value, height), xytext=(0, space), textcoords=\"offset points\", ha='center', va='bottom')\n",
        "    i += 1\n",
        "\n",
        "plt.show()\n"
      ]
    },
    {
      "cell_type": "code",
      "execution_count": 147,
      "metadata": {
        "metadata": {}
      },
      "outputs": [
        {
          "name": "stdout",
          "output_type": "stream",
          "text": [
            "Most common String and their counts:\n"
          ]
        },
        {
          "name": "stderr",
          "output_type": "stream",
          "text": [
            "[nltk_data] Downloading package punkt to /home/sevi/nltk_data...\n",
            "[nltk_data]   Package punkt is already up-to-date!\n"
          ]
        },
        {
          "data": {
            "image/png": "[encoded data removed]",
            "text/plain": [
              "<Figure size 640x480 with 1 Axes>"
            ]
          },
          "metadata": {},
          "output_type": "display_data"
        },
        {
          "name": "stdout",
          "output_type": "stream",
          "text": [
            "[(',', 2268), ('(', 1583), (')', 1575), ('the', 1136), ('.', 1073), ('of', 995), ('and', 903), ('-', 901), (';', 691), ('in', 585)]\n",
            "\n",
            "Most common Words and their counts:\n"
          ]
        },
        {
          "data": {
            "image/png": "[encoded data removed]",
            "text/plain": [
              "<Figure size 640x480 with 1 Axes>"
            ]
          },
          "metadata": {},
          "output_type": "display_data"
        },
        {
          "name": "stdout",
          "output_type": "stream",
          "text": [
            "[('the', 1136), ('of', 995), ('and', 903), ('in', 585), ('to', 449), ('a', 346), ('with', 297), ('for', 221), ('were', 201), ('was', 194)]\n"
          ]
        }
      ],
      "source": [
        "from nltk import FreqDist\n",
        "import nltk\n",
        "nltk.download('punkt')\n",
        "print(\"Most common String and their counts:\")\n",
        "#words = nltk.tokenize.word_tokenize(vocab_sentence)\n",
        "fdist = FreqDist(all_words)\n",
        "fdist.plot(20)\n",
        "print(fdist.most_common(10))\n",
        "print(\"\\nMost common Words and their counts:\")\n",
        "fdist = FreqDist(punc_words)\n",
        "fdist.plot(20)\n",
        "print(fdist.most_common(10))\n",
        "#word frequency"
      ]
    },
    {
      "cell_type": "markdown",
      "metadata": {},
      "source": [
        "## TF-IDF"
      ]
    },
    {
      "cell_type": "code",
      "execution_count": 148,
      "metadata": {
        "metadata": {}
      },
      "outputs": [],
      "source": [
        "def calculate_tf(token_count, bow):\n",
        "    tf = {}  #creates an empty dictionary where key,value pair is stored\n",
        "    num_bow = len(bow)\n",
        "\n",
        "    for token, count in token_count.items():\n",
        "        # TODO - Calculate the term frequency using the formula:\n",
        "        # \"count of term in the document\" / \"total number of words in the document\"\n",
        "        tf[token] = count / float(num_bow)\n",
        "\n",
        "\n",
        "    return tf\n",
        "\n",
        "def _get_tf(tokens, vocab):\n",
        "\n",
        "    token_count = dict.fromkeys(vocab, 0)#fromkeys() method returns a dictionary with the specified keys and the specified value\n",
        "    for token in tokens:\n",
        "        token_count[token] += 1\n",
        "    return calculate_tf(token_count, tokens)"
      ]
    },
    {
      "cell_type": "code",
      "execution_count": 149,
      "metadata": {
        "metadata": {}
      },
      "outputs": [],
      "source": [
        "tf = _get_tf(punc_words, vocab)"
      ]
    },
    {
      "cell_type": "code",
      "execution_count": 150,
      "metadata": {
        "metadata": {}
      },
      "outputs": [],
      "source": [
        "\n",
        "import math\n",
        "\n",
        "def calculate_idf(docs):\n",
        "    N = len(docs)\n",
        "\n",
        "    # TODO 1 - Initialise a new dictionary with the keys from the documents and the values set to 0\n",
        "    idf = dict.fromkeys(docs.keys(), 0)\n",
        "\n",
        "    N = 1  # Since there's only one document\n",
        "    printcounter = 0\n",
        "    printcounter1 = 0\n",
        "    for word, val in docs.items():\n",
        "        idf[word] += 1\n",
        "        if (printcounter == 100):\n",
        "         # print(word, idf[word], val,docs.items(),\"\\n\")\n",
        "          printcounter = 0\n",
        "        printcounter += 1\n",
        "    for word, val in idf.items():\n",
        "        idf[word] = 1 + math.log((1+N) / (float(val)+1))\n",
        "        if (printcounter1 == 100):\n",
        "          #  print(word, idf[word], val,idf.items(),\"\\n\") \n",
        "            printcounter1 = 0\n",
        "        printcounter1 += 1\n",
        "\n",
        "    return idf\n",
        "def calculate_tfidf(tfs, idfs):\n",
        "    tfidf = {}\n",
        "\n",
        "    for word, val in tfs.items():\n",
        "        # TODO - Calculate and store the tfidf\n",
        "        tfidf[word] = val * idfs[word]\n",
        "\n",
        "    return tfidf\n"
      ]
    },
    {
      "cell_type": "code",
      "execution_count": 151,
      "metadata": {
        "metadata": {}
      },
      "outputs": [],
      "source": [
        "tfs = [tf]\n",
        "idfs = calculate_idf(tf)\n",
        "\n",
        "tfidf = calculate_tfidf(tf, idfs)\n",
        "#print(tfidf)"
      ]
    },
    {
      "cell_type": "code",
      "execution_count": 152,
      "metadata": {
        "metadata": {}
      },
      "outputs": [
        {
          "name": "stdout",
          "output_type": "stream",
          "text": [
            "0.0371460336145445\n"
          ]
        }
      ],
      "source": [
        "import pandas as pd\n",
        "\n",
        "print(max(tfidf.values()))"
      ]
    },
    {
      "cell_type": "code",
      "execution_count": 154,
      "metadata": {
        "metadata": {}
      },
      "outputs": [
        {
          "name": "stdout",
          "output_type": "stream",
          "text": [
            "\n",
            "Top 8 most relevant tf-idf words in PLOD-CW:\n",
            "{'the': 0.037146, 'of': 0.032535, 'and': 0.029527, 'in': 0.019129, 'to': 0.014682, 'a': 0.011314, 'with': 0.009712, 'for': 0.007226} \n",
            "\n"
          ]
        }
      ],
      "source": [
        "\n",
        "from collections import Counter\n",
        "\n",
        "print(\"\\nTop 8 most relevant tf-idf words in PLOD-CW:\")\n",
        "\n",
        "xd = dict(Counter(tfidf).most_common(8))\n",
        "\n",
        "my_dictionary = {k: round(v, 6) for k, v in xd.items()}\n",
        "print(my_dictionary,\"\\n\")"
      ]
    },
    {
      "cell_type": "markdown",
      "metadata": {},
      "source": [
        "**Deep learning and transformer models:**"
      ]
    },
    {
      "cell_type": "markdown",
      "metadata": {},
      "source": [
        "## PLOD CW DATASET"
      ]
    },
    {
      "cell_type": "code",
      "execution_count": 9,
      "metadata": {
        "metadata": {}
      },
      "outputs": [
        {
          "name": "stdout",
          "output_type": "stream",
          "text": [
            "{0: 'B-O', 1: 'B-AC', 3: 'B-LF', 4: 'I-LF'}\n",
            "{'B-O': 0, 'B-AC': 1, 'B-LF': 3, 'I-LF': 4}\n",
            "B-O\n",
            "0\n"
          ]
        }
      ],
      "source": [
        "#PLODCW Tokenizing\n",
        "# Flip ner tags from B-O to 0\n",
        "labels_vocab_reverse = {v: k for k, v in labels_vocab.items()}\n",
        "\n",
        "print(labels_vocab_reverse)\n",
        "print(labels_vocab)\n",
        "\n",
        "print(labels_vocab_reverse[0])\n",
        "print(labels_vocab['B-O'])\n",
        "\n",
        "# print(example[\"ner_tags\"])\n",
        "# print(labels_vocab_reverse)\n",
        "\n",
        "# for i, label in enumerate(example[\"ner_tags\"]): #example[\"ner_tags\"]:\n",
        "#     for j in range(len(label)):\n",
        "#         if example[\"ner_tags\"][i][j]== 'B-O':\n",
        "#             example[\"ner_tags\"][i][j] = 0\n",
        "#             print(\"yes\", example[\"ner_tags\"][i][j])\n",
        "#         elif example[\"ner_tags\"][i][j] == 'B-AC':\n",
        "#             example[\"ner_tags\"][i][j] = 1\n",
        "#         elif example[\"ner_tags\"][i][j] == 'B-LF':\n",
        "#             example[\"ner_tags\"][i][j] = 3\n",
        "#         else:\n",
        "#             example[\"ner_tags\"][i][j] = 4\n"
      ]
    },
    {
      "cell_type": "code",
      "execution_count": 10,
      "metadata": {
        "colab": {
          "base_uri": "https://localhost:8080/",
          "height": 356
        },
        "id": "mlXilTZdkJV4",
        "metadata": {},
        "outputId": "8c1e0bd1-2c92-4a77-c276-19adf2aaba57"
      },
      "outputs": [],
      "source": [
        "from transformers import AutoTokenizer\n",
        "task = \"ner\"\n",
        "model_checkpoint = \"roberta-base\"\n",
        "batch_size = 8\n",
        "#the tokenizer below is the checkpoint  \n",
        "tokenizer = AutoTokenizer.from_pretrained(\"roberta-base\", add_prefix_space=True) "
      ]
    },
    {
      "cell_type": "code",
      "execution_count": 11,
      "metadata": {
        "metadata": {}
      },
      "outputs": [],
      "source": [
        "import transformers\n",
        "assert isinstance(tokenizer, transformers.PreTrainedTokenizerFast) "
      ]
    },
    {
      "cell_type": "code",
      "execution_count": 12,
      "metadata": {
        "metadata": {}
      },
      "outputs": [],
      "source": [
        "label_all_tokens = True"
      ]
    },
    {
      "cell_type": "code",
      "execution_count": 13,
      "metadata": {
        "metadata": {}
      },
      "outputs": [],
      "source": [
        "def tokenize_and_align_labels(examples):\n",
        "    tokenized_inputs = tokenizer(examples[\"tokens\"], truncation=True, is_split_into_words=True)\n",
        "\n",
        "    labels = []\n",
        "    for i, label in enumerate(examples[\"ner_tags\"]):\n",
        "        word_ids = tokenized_inputs.word_ids(batch_index=i)\n",
        "        previous_word_idx = None\n",
        "        label_ids = []\n",
        "        for word_idx in word_ids:\n",
        "            # Special tokens(i.e.[CLS],[SEP]) have a word id that is None. We set the label to -100 so they are automatically\n",
        "            # ignored in the loss function.\n",
        "            if word_idx is None:\n",
        "                label_ids.append(-100)\n",
        "            # We set the label for the first token of each word.\n",
        "            elif word_idx != previous_word_idx:\n",
        "                label_ids.append(labels_vocab[str(label[word_idx])])\n",
        "            # For the other tokens in a word, we set the label to either the current label or -100, depending on\n",
        "            # the label_all_tokens flag.\n",
        "            else:\n",
        "                label_ids.append(labels_vocab[str(label[word_idx])] if label_all_tokens else -100)\n",
        "            previous_word_idx = word_idx\n",
        "        \n",
        "        labels.append(label_ids)\n",
        "\n",
        "    tokenized_inputs[\"labels\"] = labels\n",
        "    return tokenized_inputs"
      ]
    },
    {
      "cell_type": "code",
      "execution_count": 14,
      "metadata": {
        "metadata": {}
      },
      "outputs": [],
      "source": [
        "train_tokenized = example.map(tokenize_and_align_labels, batched=True)\n",
        "val_tokenized = test.map(tokenize_and_align_labels, batched=True)\n",
        "test_tokenized = test.map(tokenize_and_align_labels, batched=True)"
      ]
    },
    {
      "cell_type": "markdown",
      "metadata": {},
      "source": [
        "## PLOD FILTERED DATASET"
      ]
    },
    {
      "cell_type": "code",
      "execution_count": 9,
      "metadata": {},
      "outputs": [],
      "source": [
        "label_list = dataset[\"train\"].features[f\"ner_tags\"].feature.names"
      ]
    },
    {
      "cell_type": "code",
      "execution_count": 10,
      "metadata": {},
      "outputs": [],
      "source": [
        "task = \"ner\" # Should be one of \"ner\", \"pos\" or \"chunk\"\n",
        "model_checkpoint = \"roberta-base\" ## YOUR LANGUAGE MODEL NAME OR FINETUNED MODEL NAME FOR INFERENCING GOES HERE\n",
        "batch_size = 4"
      ]
    },
    {
      "cell_type": "code",
      "execution_count": 11,
      "metadata": {},
      "outputs": [
        {
          "name": "stderr",
          "output_type": "stream",
          "text": [
            "/home/sevi/AdvancedCV/.conda/lib/python3.10/site-packages/huggingface_hub/file_download.py:1132: FutureWarning: `resume_download` is deprecated and will be removed in version 1.0.0. Downloads always resume when possible. If you want to force a new download, use `force_download=True`.\n",
            "  warnings.warn(\n"
          ]
        }
      ],
      "source": [
        "tokenizer = AutoTokenizer.from_pretrained(model_checkpoint, add_prefix_space=True)\n",
        "assert isinstance(tokenizer, transformers.PreTrainedTokenizerFast)\n",
        "example = dataset[\"train\"][4]"
      ]
    },
    {
      "cell_type": "code",
      "execution_count": 12,
      "metadata": {},
      "outputs": [],
      "source": [
        "tokenized_input = tokenizer(example[\"tokens\"], is_split_into_words=True)\n",
        "tokens = tokenizer.convert_ids_to_tokens(tokenized_input[\"input_ids\"])"
      ]
    },
    {
      "cell_type": "code",
      "execution_count": 13,
      "metadata": {
        "id": "YG2enCcPmTdW",
        "metadata": {}
      },
      "outputs": [
        {
          "name": "stdout",
          "output_type": "stream",
          "text": [
            "50 50\n"
          ]
        }
      ],
      "source": [
        "word_ids = tokenized_input.word_ids()\n",
        "aligned_labels = [-100 if i is None else example[f\"{task}_tags\"][i] for i in word_ids]\n",
        "print(len(aligned_labels), len(tokenized_input[\"input_ids\"]))"
      ]
    },
    {
      "cell_type": "code",
      "execution_count": 14,
      "metadata": {
        "metadata": {}
      },
      "outputs": [],
      "source": [
        "label_all_tokens = True"
      ]
    },
    {
      "cell_type": "code",
      "execution_count": 15,
      "metadata": {
        "id": "djlvODFqfVR9",
        "metadata": {}
      },
      "outputs": [],
      "source": [
        "def tokenize_and_align_labels(examples):\n",
        "    tokenized_inputs = tokenizer(examples[\"tokens\"], truncation=True, is_split_into_words=True, max_length=500) ## For some models, you may need to set max_length to approximately 500.\n",
        "\n",
        "    labels = []\n",
        "    for i, label in enumerate(examples[f\"{task}_tags\"]):\n",
        "        word_ids = tokenized_inputs.word_ids(batch_index=i)\n",
        "        previous_word_idx = None\n",
        "        label_ids = []\n",
        "        for word_idx in word_ids:\n",
        "            # Special tokens have a word id that is None. We set the label to -100 so they are automatically\n",
        "            # ignored in the loss function.\n",
        "            if word_idx is None:\n",
        "                label_ids.append(-100)\n",
        "            # We set the label for the first token of each word.\n",
        "            elif word_idx != previous_word_idx:\n",
        "                label_ids.append(label[word_idx])\n",
        "            # For the other tokens in a word, we set the label to either the current label or -100, depending on\n",
        "            # the label_all_tokens flag.\n",
        "            else:\n",
        "                label_ids.append(label[word_idx] if label_all_tokens else -100)\n",
        "            previous_word_idx = word_idx\n",
        "\n",
        "        labels.append(label_ids)\n",
        "\n",
        "    tokenized_inputs[\"labels\"] = labels\n",
        "    return tokenized_inputs"
      ]
    },
    {
      "cell_type": "code",
      "execution_count": 16,
      "metadata": {},
      "outputs": [],
      "source": [
        "\n",
        "def tokenize_and_align_labels(examples):\n",
        "    tokenized_inputs = tokenizer(examples[\"tokens\"], truncation=True, is_split_into_words=True,  max_length=500) ## For some models, you may need to set max_length to approximately 500.\n",
        "\n",
        "    labels = []\n",
        "    for i, label in enumerate(examples[f\"{task}_tags\"]):\n",
        "        word_ids = tokenized_inputs.word_ids(batch_index=i)\n",
        "        previous_word_idx = None\n",
        "        label_ids = []\n",
        "        for word_idx in word_ids:\n",
        "            # Special tokens have a word id that is None. We set the label to -100 so they are automatically\n",
        "            # ignored in the loss function.\n",
        "            if word_idx is None:\n",
        "                label_ids.append(-100)\n",
        "            # We set the label for the first token of each word.\n",
        "            elif word_idx != previous_word_idx:\n",
        "                label_ids.append(label[word_idx])\n",
        "            # For the other tokens in a word, we set the label to either the current label or -100, depending on\n",
        "            # the label_all_tokens flag.\n",
        "            else:\n",
        "                label_ids.append(label[word_idx] if label_all_tokens else -100)\n",
        "            previous_word_idx = word_idx\n",
        "\n",
        "        labels.append(label_ids)\n",
        "\n",
        "    tokenized_inputs[\"labels\"] = labels\n",
        "    return tokenized_inputs"
      ]
    },
    {
      "cell_type": "code",
      "execution_count": 17,
      "metadata": {
        "id": "lQBm9Th3fW4E",
        "metadata": {}
      },
      "outputs": [
        {
          "name": "stderr",
          "output_type": "stream",
          "text": [
            "Map: 100%|██████████| 24140/24140 [00:02<00:00, 11402.25 examples/s]\n"
          ]
        }
      ],
      "source": [
        "# train_tokenized = dataset['train'].map(tokenize_and_align_labels, batched=True)\n",
        "# val_tokenized = dataset['validation'].map(tokenize_and_align_labels, batched=True)\n",
        "# test_tokenized = dataset['test'].map(tokenize_and_align_labels, batched=True)\n",
        "tokenized_datasets = dataset.map(tokenize_and_align_labels, batched=True)"
      ]
    },
    {
      "cell_type": "code",
      "execution_count": 18,
      "metadata": {},
      "outputs": [
        {
          "name": "stderr",
          "output_type": "stream",
          "text": [
            "Some weights of RobertaForTokenClassification were not initialized from the model checkpoint at roberta-base and are newly initialized: ['classifier.weight', 'classifier.bias']\n",
            "You should probably TRAIN this model on a down-stream task to be able to use it for predictions and inference.\n"
          ]
        }
      ],
      "source": [
        "from transformers import AutoModelForTokenClassification, TrainingArguments, Trainer\n",
        "\n",
        "#model = AutoModelForTokenClassification.from_pretrained(\"roberta-base\", num_labels=len(label_list), label2id=labels_vocab, id2label=labels_vocab_reverse)\n",
        "model = AutoModelForTokenClassification.from_pretrained(model_checkpoint, num_labels=len(label_list))"
      ]
    },
    {
      "cell_type": "code",
      "execution_count": null,
      "metadata": {},
      "outputs": [],
      "source": [
        "\n",
        "# def train(config=None):\n",
        "#     # Initialize a new wandb run\n",
        "#     with wandb.init(config=config):\n",
        "#         # If called by wandb.agent, as below,\n",
        "#         # this config will be set by Sweep Controller\n",
        "#         config = wandb.config\n",
        "\n"
      ]
    },
    {
      "cell_type": "code",
      "execution_count": null,
      "metadata": {},
      "outputs": [],
      "source": [
        "run = wandb.init()\n",
        "artifact = run.use_artifact('sevixdd/NLP/model-mnltvr88:v0', type='model')\n",
        "artifact_dir = artifact.download()\n",
        "run.finish()"
      ]
    },
    {
      "cell_type": "code",
      "execution_count": 19,
      "metadata": {
        "metadata": {}
      },
      "outputs": [],
      "source": [
        "model_name = model_checkpoint.split(\"/\")[-1]\n",
        "args = TrainingArguments(\n",
        "    f\"{model_name}-finetuned-{task}\",\n",
        "    report_to=\"wandb\",\n",
        "    # evaluation_strategy = \"epoch\", ## Instead of focusing on loss and accuracy, we will focus on the F1 score\n",
        "    evaluation_strategy ='steps',\n",
        "    eval_steps = 7000,\n",
        "    save_total_limit = 3,\n",
        "    learning_rate=2e-5,\n",
        "    per_device_train_batch_size=batch_size,\n",
        "    per_device_eval_batch_size=4,\n",
        "    num_train_epochs=6,\n",
        "    weight_decay=0.001,\n",
        "    save_steps=35000,\n",
        "    push_to_hub=True,\n",
        "    metric_for_best_model = 'f1',\n",
        "    load_best_model_at_end=True\n",
        ")"
      ]
    },
    {
      "cell_type": "code",
      "execution_count": 20,
      "metadata": {
        "metadata": {}
      },
      "outputs": [],
      "source": [
        "from transformers import DataCollatorForTokenClassification\n",
        "\n",
        "data_collator = DataCollatorForTokenClassification(tokenizer)"
      ]
    },
    {
      "cell_type": "code",
      "execution_count": 21,
      "metadata": {
        "metadata": {}
      },
      "outputs": [
        {
          "name": "stderr",
          "output_type": "stream",
          "text": [
            "/tmp/ipykernel_8333/152412463.py:1: FutureWarning: load_metric is deprecated and will be removed in the next major version of datasets. Use 'evaluate.load' instead, from the new library 🤗 Evaluate: https://huggingface.co/docs/evaluate\n",
            "  metric = load_metric(\"seqeval\")\n",
            "/home/sevi/AdvancedCV/.conda/lib/python3.10/site-packages/datasets/load.py:759: FutureWarning: The repository for seqeval contains custom code which must be executed to correctly load the metric. You can inspect the repository content at https://raw.githubusercontent.com/huggingface/datasets/2.19.1/metrics/seqeval/seqeval.py\n",
            "You can avoid this message in future by passing the argument `trust_remote_code=True`.\n",
            "Passing `trust_remote_code=True` will be mandatory to load this metric from the next major release of `datasets`.\n",
            "  warnings.warn(\n"
          ]
        }
      ],
      "source": [
        "metric = load_metric(\"seqeval\")"
      ]
    },
    {
      "cell_type": "code",
      "execution_count": 22,
      "metadata": {
        "metadata": {}
      },
      "outputs": [
        {
          "name": "stderr",
          "output_type": "stream",
          "text": [
            "/home/sevi/AdvancedCV/.conda/lib/python3.10/site-packages/seqeval/metrics/sequence_labeling.py:171: UserWarning: 3 seems not to be NE tag.\n",
            "  warnings.warn('{} seems not to be NE tag.'.format(chunk))\n",
            "/home/sevi/AdvancedCV/.conda/lib/python3.10/site-packages/seqeval/metrics/sequence_labeling.py:171: UserWarning: 4 seems not to be NE tag.\n",
            "  warnings.warn('{} seems not to be NE tag.'.format(chunk))\n",
            "/home/sevi/AdvancedCV/.conda/lib/python3.10/site-packages/seqeval/metrics/sequence_labeling.py:171: UserWarning: 0 seems not to be NE tag.\n",
            "  warnings.warn('{} seems not to be NE tag.'.format(chunk))\n",
            "/home/sevi/AdvancedCV/.conda/lib/python3.10/site-packages/seqeval/metrics/sequence_labeling.py:171: UserWarning: 1 seems not to be NE tag.\n",
            "  warnings.warn('{} seems not to be NE tag.'.format(chunk))\n",
            "/home/sevi/AdvancedCV/.conda/lib/python3.10/site-packages/seqeval/metrics/v1.py:57: UndefinedMetricWarning: Precision and F-score are ill-defined and being set to 0.0 due to no predicted samples. Use `zero_division` parameter to control this behavior.\n",
            "  _warn_prf(average, modifier, msg_start, len(result))\n",
            "/home/sevi/AdvancedCV/.conda/lib/python3.10/site-packages/seqeval/metrics/v1.py:57: UndefinedMetricWarning: Recall and F-score are ill-defined and being set to 0.0 due to no true samples. Use `zero_division` parameter to control this behavior.\n",
            "  _warn_prf(average, modifier, msg_start, len(result))\n",
            "/home/sevi/AdvancedCV/.conda/lib/python3.10/site-packages/numpy/lib/function_base.py:520: RuntimeWarning: Mean of empty slice.\n",
            "  avg = a.mean(axis, **keepdims_kw)\n",
            "/home/sevi/AdvancedCV/.conda/lib/python3.10/site-packages/numpy/core/_methods.py:129: RuntimeWarning: invalid value encountered in scalar divide\n",
            "  ret = ret.dtype.type(ret / rcount)\n"
          ]
        },
        {
          "data": {
            "text/plain": [
              "{'overall_precision': 0.0,\n",
              " 'overall_recall': 0.0,\n",
              " 'overall_f1': 0.0,\n",
              " 'overall_accuracy': 1.0}"
            ]
          },
          "execution_count": 22,
          "metadata": {},
          "output_type": "execute_result"
        }
      ],
      "source": [
        "labels = [i for i in example[f\"{task}_tags\"]]\n",
        "metric.compute(predictions=[labels], references=[labels])\n"
      ]
    },
    {
      "cell_type": "code",
      "execution_count": 23,
      "metadata": {
        "metadata": {}
      },
      "outputs": [],
      "source": [
        "import numpy as np\n",
        "\n",
        "def compute_metrics(p):\n",
        "    predictions, labels = p\n",
        "    predictions = np.argmax(predictions, axis=2)\n",
        "\n",
        "    # Remove ignored index (special tokens)\n",
        "    true_predictions = [\n",
        "        [label_list[p] for (p, l) in zip(prediction, label) if l != -100]\n",
        "        for prediction, label in zip(predictions, labels)\n",
        "    ]\n",
        "    true_labels = [\n",
        "        [label_list[l] for (p, l) in zip(prediction, label) if l != -100]\n",
        "        for prediction, label in zip(predictions, labels)\n",
        "    ]\n",
        "\n",
        "    results = metric.compute(predictions=true_predictions, references=true_labels)\n",
        "    return {\n",
        "        \"precision\": results[\"overall_precision\"],\n",
        "        \"recall\": results[\"overall_recall\"],\n",
        "        \"f1\": results[\"overall_f1\"],\n",
        "        \"accuracy\": results[\"overall_accuracy\"],\n",
        "    }"
      ]
    },
    {
      "cell_type": "code",
      "execution_count": 24,
      "metadata": {},
      "outputs": [
        {
          "name": "stderr",
          "output_type": "stream",
          "text": [
            "/home/sevi/AdvancedCV/.conda/lib/python3.10/site-packages/accelerate/accelerator.py:446: FutureWarning: Passing the following arguments to `Accelerator` is deprecated and will be removed in version 1.0 of Accelerate: dict_keys(['dispatch_batches', 'split_batches']). Please pass an `accelerate.DataLoaderConfiguration` instead: \n",
            "dataloader_config = DataLoaderConfiguration(dispatch_batches=None, split_batches=False)\n",
            "  warnings.warn(\n"
          ]
        }
      ],
      "source": [
        "trainer = Trainer(\n",
        "   \n",
        "    model,\n",
        "    args,\n",
        "    train_dataset=tokenized_datasets[\"train\"],\n",
        "    eval_dataset=tokenized_datasets[\"validation\"],\n",
        "    data_collator=data_collator,\n",
        "    tokenizer=tokenizer,\n",
        "    compute_metrics=compute_metrics,\n",
        "    callbacks = [EarlyStoppingCallback(early_stopping_patience=3)]\n",
        ")"
      ]
    },
    {
      "cell_type": "code",
      "execution_count": 25,
      "metadata": {},
      "outputs": [
        {
          "data": {
            "text/html": [
              "Changes to your `wandb` environment variables will be ignored because your `wandb` session has already started. For more information on how to modify your settings with `wandb.init()` arguments, please refer to <a href='https://wandb.me/wandb-init' target=\"_blank\">the W&B docs</a>."
            ],
            "text/plain": [
              "<IPython.core.display.HTML object>"
            ]
          },
          "metadata": {},
          "output_type": "display_data"
        },
        {
          "data": {
            "text/html": [
              "Tracking run with wandb version 0.17.0"
            ],
            "text/plain": [
              "<IPython.core.display.HTML object>"
            ]
          },
          "metadata": {},
          "output_type": "display_data"
        },
        {
          "data": {
            "text/html": [
              "Run data is saved locally in <code>/home/sevi/NLPCW/wandb/run-20240510_213815-sgng7dwb</code>"
            ],
            "text/plain": [
              "<IPython.core.display.HTML object>"
            ]
          },
          "metadata": {},
          "output_type": "display_data"
        },
        {
          "data": {
            "text/html": [
              "Syncing run <strong><a href='https://wandb.ai/sevixdd/huggingface/runs/sgng7dwb' target=\"_blank\">solar-dream-3</a></strong> to <a href='https://wandb.ai/sevixdd/huggingface' target=\"_blank\">Weights & Biases</a> (<a href='https://wandb.me/run' target=\"_blank\">docs</a>)<br/>"
            ],
            "text/plain": [
              "<IPython.core.display.HTML object>"
            ]
          },
          "metadata": {},
          "output_type": "display_data"
        },
        {
          "data": {
            "text/html": [
              " View project at <a href='https://wandb.ai/sevixdd/huggingface' target=\"_blank\">https://wandb.ai/sevixdd/huggingface</a>"
            ],
            "text/plain": [
              "<IPython.core.display.HTML object>"
            ]
          },
          "metadata": {},
          "output_type": "display_data"
        },
        {
          "data": {
            "text/html": [
              " View run at <a href='https://wandb.ai/sevixdd/huggingface/runs/sgng7dwb' target=\"_blank\">https://wandb.ai/sevixdd/huggingface/runs/sgng7dwb</a>"
            ],
            "text/plain": [
              "<IPython.core.display.HTML object>"
            ]
          },
          "metadata": {},
          "output_type": "display_data"
        },
        {
          "name": "stderr",
          "output_type": "stream",
          "text": [
            "  0%|          | 0/168978 [00:00<?, ?it/s]You're using a RobertaTokenizerFast tokenizer. Please note that with a fast tokenizer, using the `__call__` method is faster than using a method to encode the text followed by a call to the `pad` method to get a padded encoding.\n",
            "  0%|          | 502/168978 [00:22<5:12:56,  8.97it/s]"
          ]
        },
        {
          "name": "stdout",
          "output_type": "stream",
          "text": [
            "{'loss': 0.2958, 'learning_rate': 1.9940820698552478e-05, 'epoch': 0.02}\n"
          ]
        },
        {
          "name": "stderr",
          "output_type": "stream",
          "text": [
            "  1%|          | 1002/168978 [00:44<4:59:32,  9.35it/s]"
          ]
        },
        {
          "name": "stdout",
          "output_type": "stream",
          "text": [
            "{'loss': 0.2167, 'learning_rate': 1.9881641397104948e-05, 'epoch': 0.04}\n"
          ]
        },
        {
          "name": "stderr",
          "output_type": "stream",
          "text": [
            "  1%|          | 1503/168978 [01:06<4:17:48, 10.83it/s]"
          ]
        },
        {
          "name": "stdout",
          "output_type": "stream",
          "text": [
            "{'loss': 0.1903, 'learning_rate': 1.9822462095657424e-05, 'epoch': 0.05}\n"
          ]
        },
        {
          "name": "stderr",
          "output_type": "stream",
          "text": [
            "  1%|          | 2004/168978 [01:27<4:01:58, 11.50it/s]"
          ]
        },
        {
          "name": "stdout",
          "output_type": "stream",
          "text": [
            "{'loss': 0.1789, 'learning_rate': 1.97632827942099e-05, 'epoch': 0.07}\n"
          ]
        },
        {
          "name": "stderr",
          "output_type": "stream",
          "text": [
            "  1%|▏         | 2502/168978 [01:49<5:26:33,  8.50it/s]"
          ]
        },
        {
          "name": "stdout",
          "output_type": "stream",
          "text": [
            "{'loss': 0.1806, 'learning_rate': 1.970410349276237e-05, 'epoch': 0.09}\n"
          ]
        },
        {
          "name": "stderr",
          "output_type": "stream",
          "text": [
            "  2%|▏         | 3003/168978 [02:11<4:09:30, 11.09it/s]"
          ]
        },
        {
          "name": "stdout",
          "output_type": "stream",
          "text": [
            "{'loss': 0.1719, 'learning_rate': 1.9644924191314847e-05, 'epoch': 0.11}\n"
          ]
        },
        {
          "name": "stderr",
          "output_type": "stream",
          "text": [
            "  2%|▏         | 3503/168978 [02:33<4:38:14,  9.91it/s]"
          ]
        },
        {
          "name": "stdout",
          "output_type": "stream",
          "text": [
            "{'loss': 0.1622, 'learning_rate': 1.958574488986732e-05, 'epoch': 0.12}\n"
          ]
        },
        {
          "name": "stderr",
          "output_type": "stream",
          "text": [
            "  2%|▏         | 4004/168978 [02:54<4:09:17, 11.03it/s]"
          ]
        },
        {
          "name": "stdout",
          "output_type": "stream",
          "text": [
            "{'loss': 0.1674, 'learning_rate': 1.9526565588419797e-05, 'epoch': 0.14}\n"
          ]
        },
        {
          "name": "stderr",
          "output_type": "stream",
          "text": [
            "  3%|▎         | 4505/168978 [03:17<3:59:33, 11.44it/s]"
          ]
        },
        {
          "name": "stdout",
          "output_type": "stream",
          "text": [
            "{'loss': 0.158, 'learning_rate': 1.946738628697227e-05, 'epoch': 0.16}\n"
          ]
        },
        {
          "name": "stderr",
          "output_type": "stream",
          "text": [
            "  3%|▎         | 5003/168978 [03:38<4:00:28, 11.36it/s]"
          ]
        },
        {
          "name": "stdout",
          "output_type": "stream",
          "text": [
            "{'loss': 0.1616, 'learning_rate': 1.9408206985524743e-05, 'epoch': 0.18}\n"
          ]
        },
        {
          "name": "stderr",
          "output_type": "stream",
          "text": [
            "  3%|▎         | 5503/168978 [04:01<4:11:42, 10.82it/s]"
          ]
        },
        {
          "name": "stdout",
          "output_type": "stream",
          "text": [
            "{'loss': 0.1549, 'learning_rate': 1.934902768407722e-05, 'epoch': 0.2}\n"
          ]
        },
        {
          "name": "stderr",
          "output_type": "stream",
          "text": [
            "  4%|▎         | 6004/168978 [04:22<4:04:38, 11.10it/s]"
          ]
        },
        {
          "name": "stdout",
          "output_type": "stream",
          "text": [
            "{'loss': 0.1602, 'learning_rate': 1.9289848382629693e-05, 'epoch': 0.21}\n"
          ]
        },
        {
          "name": "stderr",
          "output_type": "stream",
          "text": [
            "  4%|▍         | 6502/168978 [04:44<5:09:19,  8.75it/s]"
          ]
        },
        {
          "name": "stdout",
          "output_type": "stream",
          "text": [
            "{'loss': 0.1485, 'learning_rate': 1.9230669081182166e-05, 'epoch': 0.23}\n"
          ]
        },
        {
          "name": "stderr",
          "output_type": "stream",
          "text": [
            "  4%|▍         | 7000/168978 [05:05<2:02:29, 22.04it/s]"
          ]
        },
        {
          "name": "stdout",
          "output_type": "stream",
          "text": [
            "{'loss': 0.1562, 'learning_rate': 1.9171489779734642e-05, 'epoch': 0.25}\n"
          ]
        },
        {
          "name": "stderr",
          "output_type": "stream",
          "text": [
            "                                                       \n",
            "  4%|▍         | 7004/168978 [06:35<285:00:59,  6.33s/it]"
          ]
        },
        {
          "name": "stdout",
          "output_type": "stream",
          "text": [
            "{'eval_loss': 0.14572642743587494, 'eval_precision': 0.9546604152040156, 'eval_recall': 0.9375794655730112, 'eval_f1': 0.9460428468753544, 'eval_accuracy': 0.940743485715186, 'eval_runtime': 89.1346, 'eval_samples_per_second': 270.826, 'eval_steps_per_second': 67.707, 'epoch': 0.25}\n"
          ]
        },
        {
          "name": "stderr",
          "output_type": "stream",
          "text": [
            "  4%|▍         | 7504/168978 [06:57<2:11:25, 20.48it/s]  "
          ]
        },
        {
          "name": "stdout",
          "output_type": "stream",
          "text": [
            "{'loss': 0.1586, 'learning_rate': 1.9112310478287115e-05, 'epoch': 0.27}\n"
          ]
        },
        {
          "name": "stderr",
          "output_type": "stream",
          "text": [
            "  5%|▍         | 8005/168978 [07:19<2:14:21, 19.97it/s]"
          ]
        },
        {
          "name": "stdout",
          "output_type": "stream",
          "text": [
            "{'loss': 0.1544, 'learning_rate': 1.905313117683959e-05, 'epoch': 0.28}\n"
          ]
        },
        {
          "name": "stderr",
          "output_type": "stream",
          "text": [
            "  5%|▌         | 8503/168978 [07:41<2:10:28, 20.50it/s]"
          ]
        },
        {
          "name": "stdout",
          "output_type": "stream",
          "text": [
            "{'loss': 0.1537, 'learning_rate': 1.8993951875392065e-05, 'epoch': 0.3}\n"
          ]
        },
        {
          "name": "stderr",
          "output_type": "stream",
          "text": [
            "  5%|▌         | 9004/168978 [08:02<2:14:46, 19.78it/s]"
          ]
        },
        {
          "name": "stdout",
          "output_type": "stream",
          "text": [
            "{'loss': 0.148, 'learning_rate': 1.8934772573944538e-05, 'epoch': 0.32}\n"
          ]
        },
        {
          "name": "stderr",
          "output_type": "stream",
          "text": [
            "  6%|▌         | 9502/168978 [08:24<2:15:46, 19.58it/s]"
          ]
        },
        {
          "name": "stdout",
          "output_type": "stream",
          "text": [
            "{'loss': 0.1532, 'learning_rate': 1.887559327249701e-05, 'epoch': 0.34}\n"
          ]
        },
        {
          "name": "stderr",
          "output_type": "stream",
          "text": [
            "  6%|▌         | 10003/168978 [08:46<2:11:13, 20.19it/s]"
          ]
        },
        {
          "name": "stdout",
          "output_type": "stream",
          "text": [
            "{'loss': 0.1467, 'learning_rate': 1.8816413971049488e-05, 'epoch': 0.36}\n"
          ]
        },
        {
          "name": "stderr",
          "output_type": "stream",
          "text": [
            "  6%|▌         | 10504/168978 [09:08<2:10:06, 20.30it/s]"
          ]
        },
        {
          "name": "stdout",
          "output_type": "stream",
          "text": [
            "{'loss': 0.1482, 'learning_rate': 1.875723466960196e-05, 'epoch': 0.37}\n"
          ]
        },
        {
          "name": "stderr",
          "output_type": "stream",
          "text": [
            "  7%|▋         | 11005/168978 [09:29<2:07:19, 20.68it/s]"
          ]
        },
        {
          "name": "stdout",
          "output_type": "stream",
          "text": [
            "{'loss': 0.1408, 'learning_rate': 1.8698055368154434e-05, 'epoch': 0.39}\n"
          ]
        },
        {
          "name": "stderr",
          "output_type": "stream",
          "text": [
            "  7%|▋         | 11505/168978 [09:51<2:15:12, 19.41it/s]"
          ]
        },
        {
          "name": "stdout",
          "output_type": "stream",
          "text": [
            "{'loss': 0.1525, 'learning_rate': 1.863887606670691e-05, 'epoch': 0.41}\n"
          ]
        },
        {
          "name": "stderr",
          "output_type": "stream",
          "text": [
            "  7%|▋         | 12005/168978 [10:13<2:11:35, 19.88it/s]"
          ]
        },
        {
          "name": "stdout",
          "output_type": "stream",
          "text": [
            "{'loss': 0.1489, 'learning_rate': 1.8579696765259384e-05, 'epoch': 0.43}\n"
          ]
        },
        {
          "name": "stderr",
          "output_type": "stream",
          "text": [
            "  7%|▋         | 12503/168978 [10:34<2:09:50, 20.08it/s]"
          ]
        },
        {
          "name": "stdout",
          "output_type": "stream",
          "text": [
            "{'loss': 0.1411, 'learning_rate': 1.8520517463811857e-05, 'epoch': 0.44}\n"
          ]
        },
        {
          "name": "stderr",
          "output_type": "stream",
          "text": [
            "  8%|▊         | 13004/168978 [10:56<2:16:53, 18.99it/s]"
          ]
        },
        {
          "name": "stdout",
          "output_type": "stream",
          "text": [
            "{'loss': 0.1443, 'learning_rate': 1.8461338162364333e-05, 'epoch': 0.46}\n"
          ]
        },
        {
          "name": "stderr",
          "output_type": "stream",
          "text": [
            "  8%|▊         | 13502/168978 [11:18<2:15:44, 19.09it/s]"
          ]
        },
        {
          "name": "stdout",
          "output_type": "stream",
          "text": [
            "{'loss': 0.142, 'learning_rate': 1.8402158860916806e-05, 'epoch': 0.48}\n"
          ]
        },
        {
          "name": "stderr",
          "output_type": "stream",
          "text": [
            "  8%|▊         | 14000/168978 [11:40<2:16:36, 18.91it/s]"
          ]
        },
        {
          "name": "stdout",
          "output_type": "stream",
          "text": [
            "{'loss': 0.1375, 'learning_rate': 1.834297955946928e-05, 'epoch': 0.5}\n"
          ]
        },
        {
          "name": "stderr",
          "output_type": "stream",
          "text": [
            "                                                        \n",
            "  8%|▊         | 14004/168978 [13:09<314:22:01,  7.30s/it]"
          ]
        },
        {
          "name": "stdout",
          "output_type": "stream",
          "text": [
            "{'eval_loss': 0.1471870392560959, 'eval_precision': 0.956910815426332, 'eval_recall': 0.9414080066934104, 'eval_f1': 0.9490961084481578, 'eval_accuracy': 0.9442169946441794, 'eval_runtime': 89.1179, 'eval_samples_per_second': 270.877, 'eval_steps_per_second': 67.719, 'epoch': 0.5}\n"
          ]
        },
        {
          "name": "stderr",
          "output_type": "stream",
          "text": [
            "  9%|▊         | 14502/168978 [13:30<2:15:50, 18.95it/s]  "
          ]
        },
        {
          "name": "stdout",
          "output_type": "stream",
          "text": [
            "{'loss': 0.1475, 'learning_rate': 1.8283800258021756e-05, 'epoch': 0.51}\n"
          ]
        },
        {
          "name": "stderr",
          "output_type": "stream",
          "text": [
            "  9%|▉         | 15003/168978 [13:52<2:04:17, 20.65it/s]"
          ]
        },
        {
          "name": "stdout",
          "output_type": "stream",
          "text": [
            "{'loss': 0.1434, 'learning_rate': 1.822462095657423e-05, 'epoch': 0.53}\n"
          ]
        },
        {
          "name": "stderr",
          "output_type": "stream",
          "text": [
            "  9%|▉         | 15504/168978 [14:14<2:02:49, 20.83it/s]"
          ]
        },
        {
          "name": "stdout",
          "output_type": "stream",
          "text": [
            "{'loss': 0.1399, 'learning_rate': 1.8165441655126706e-05, 'epoch': 0.55}\n"
          ]
        },
        {
          "name": "stderr",
          "output_type": "stream",
          "text": [
            "  9%|▉         | 16002/168978 [14:36<2:12:58, 19.17it/s]"
          ]
        },
        {
          "name": "stdout",
          "output_type": "stream",
          "text": [
            "{'loss': 0.1333, 'learning_rate': 1.810626235367918e-05, 'epoch': 0.57}\n"
          ]
        },
        {
          "name": "stderr",
          "output_type": "stream",
          "text": [
            " 10%|▉         | 16503/168978 [14:58<2:10:00, 19.55it/s]"
          ]
        },
        {
          "name": "stdout",
          "output_type": "stream",
          "text": [
            "{'loss': 0.1404, 'learning_rate': 1.8047083052231652e-05, 'epoch': 0.59}\n"
          ]
        },
        {
          "name": "stderr",
          "output_type": "stream",
          "text": [
            " 10%|█         | 17002/168978 [15:19<2:14:41, 18.81it/s]"
          ]
        },
        {
          "name": "stdout",
          "output_type": "stream",
          "text": [
            "{'loss': 0.1445, 'learning_rate': 1.798790375078413e-05, 'epoch': 0.6}\n"
          ]
        },
        {
          "name": "stderr",
          "output_type": "stream",
          "text": [
            " 10%|█         | 17504/168978 [15:41<2:02:47, 20.56it/s]"
          ]
        },
        {
          "name": "stdout",
          "output_type": "stream",
          "text": [
            "{'loss': 0.1348, 'learning_rate': 1.79287244493366e-05, 'epoch': 0.62}\n"
          ]
        },
        {
          "name": "stderr",
          "output_type": "stream",
          "text": [
            " 11%|█         | 18004/168978 [16:03<2:04:03, 20.28it/s]"
          ]
        },
        {
          "name": "stdout",
          "output_type": "stream",
          "text": [
            "{'loss': 0.1303, 'learning_rate': 1.7869545147889075e-05, 'epoch': 0.64}\n"
          ]
        },
        {
          "name": "stderr",
          "output_type": "stream",
          "text": [
            " 11%|█         | 18504/168978 [16:24<2:00:27, 20.82it/s]"
          ]
        },
        {
          "name": "stdout",
          "output_type": "stream",
          "text": [
            "{'loss': 0.1346, 'learning_rate': 1.781036584644155e-05, 'epoch': 0.66}\n"
          ]
        },
        {
          "name": "stderr",
          "output_type": "stream",
          "text": [
            " 11%|█         | 19002/168978 [16:47<2:11:12, 19.05it/s]"
          ]
        },
        {
          "name": "stdout",
          "output_type": "stream",
          "text": [
            "{'loss': 0.1416, 'learning_rate': 1.7751186544994024e-05, 'epoch': 0.67}\n"
          ]
        },
        {
          "name": "stderr",
          "output_type": "stream",
          "text": [
            " 12%|█▏        | 19503/168978 [17:08<2:04:19, 20.04it/s]"
          ]
        },
        {
          "name": "stdout",
          "output_type": "stream",
          "text": [
            "{'loss': 0.1373, 'learning_rate': 1.7692007243546497e-05, 'epoch': 0.69}\n"
          ]
        },
        {
          "name": "stderr",
          "output_type": "stream",
          "text": [
            " 12%|█▏        | 20003/168978 [17:30<1:54:56, 21.60it/s]"
          ]
        },
        {
          "name": "stdout",
          "output_type": "stream",
          "text": [
            "{'loss': 0.1377, 'learning_rate': 1.7632827942098974e-05, 'epoch': 0.71}\n"
          ]
        },
        {
          "name": "stderr",
          "output_type": "stream",
          "text": [
            " 12%|█▏        | 20504/168978 [17:52<2:06:42, 19.53it/s]"
          ]
        },
        {
          "name": "stdout",
          "output_type": "stream",
          "text": [
            "{'loss': 0.1309, 'learning_rate': 1.7573648640651447e-05, 'epoch': 0.73}\n"
          ]
        },
        {
          "name": "stderr",
          "output_type": "stream",
          "text": [
            " 12%|█▏        | 21000/168978 [18:13<1:38:24, 25.06it/s]"
          ]
        },
        {
          "name": "stdout",
          "output_type": "stream",
          "text": [
            "{'loss': 0.1371, 'learning_rate': 1.751446933920392e-05, 'epoch': 0.75}\n"
          ]
        },
        {
          "name": "stderr",
          "output_type": "stream",
          "text": [
            "                                                        \n",
            " 12%|█▏        | 21001/168978 [19:43<409:01:50,  9.95s/it]"
          ]
        },
        {
          "name": "stdout",
          "output_type": "stream",
          "text": [
            "{'eval_loss': 0.1330546885728836, 'eval_precision': 0.9569509330377174, 'eval_recall': 0.9479542517349828, 'eval_f1': 0.9524313471624121, 'eval_accuracy': 0.9481987551261827, 'eval_runtime': 89.0379, 'eval_samples_per_second': 271.121, 'eval_steps_per_second': 67.78, 'epoch': 0.75}\n"
          ]
        },
        {
          "name": "stderr",
          "output_type": "stream",
          "text": [
            " 13%|█▎        | 21505/168978 [20:04<2:01:17, 20.26it/s]  "
          ]
        },
        {
          "name": "stdout",
          "output_type": "stream",
          "text": [
            "{'loss': 0.1343, 'learning_rate': 1.7455290037756397e-05, 'epoch': 0.76}\n"
          ]
        },
        {
          "name": "stderr",
          "output_type": "stream",
          "text": [
            " 13%|█▎        | 22003/168978 [20:26<2:09:37, 18.90it/s]"
          ]
        },
        {
          "name": "stdout",
          "output_type": "stream",
          "text": [
            "{'loss': 0.1401, 'learning_rate': 1.739611073630887e-05, 'epoch': 0.78}\n"
          ]
        },
        {
          "name": "stderr",
          "output_type": "stream",
          "text": [
            " 13%|█▎        | 22504/168978 [20:47<2:07:38, 19.13it/s]"
          ]
        },
        {
          "name": "stdout",
          "output_type": "stream",
          "text": [
            "{'loss': 0.1293, 'learning_rate': 1.7336931434861343e-05, 'epoch': 0.8}\n"
          ]
        },
        {
          "name": "stderr",
          "output_type": "stream",
          "text": [
            " 14%|█▎        | 23002/168978 [21:09<2:10:38, 18.62it/s]"
          ]
        },
        {
          "name": "stdout",
          "output_type": "stream",
          "text": [
            "{'loss': 0.1368, 'learning_rate': 1.727775213341382e-05, 'epoch': 0.82}\n"
          ]
        },
        {
          "name": "stderr",
          "output_type": "stream",
          "text": [
            " 14%|█▍        | 23503/168978 [21:31<1:52:44, 21.51it/s]"
          ]
        },
        {
          "name": "stdout",
          "output_type": "stream",
          "text": [
            "{'loss': 0.1454, 'learning_rate': 1.7218572831966293e-05, 'epoch': 0.83}\n"
          ]
        },
        {
          "name": "stderr",
          "output_type": "stream",
          "text": [
            " 14%|█▍        | 24003/168978 [21:53<1:52:22, 21.50it/s]"
          ]
        },
        {
          "name": "stdout",
          "output_type": "stream",
          "text": [
            "{'loss': 0.1346, 'learning_rate': 1.7159393530518766e-05, 'epoch': 0.85}\n"
          ]
        },
        {
          "name": "stderr",
          "output_type": "stream",
          "text": [
            " 15%|█▍        | 24504/168978 [22:14<1:53:57, 21.13it/s]"
          ]
        },
        {
          "name": "stdout",
          "output_type": "stream",
          "text": [
            "{'loss': 0.1326, 'learning_rate': 1.7100214229071242e-05, 'epoch': 0.87}\n"
          ]
        },
        {
          "name": "stderr",
          "output_type": "stream",
          "text": [
            " 15%|█▍        | 25005/168978 [22:36<1:51:09, 21.59it/s]"
          ]
        },
        {
          "name": "stdout",
          "output_type": "stream",
          "text": [
            "{'loss': 0.1323, 'learning_rate': 1.7041034927623715e-05, 'epoch': 0.89}\n"
          ]
        },
        {
          "name": "stderr",
          "output_type": "stream",
          "text": [
            " 15%|█▌        | 25503/168978 [22:57<1:57:25, 20.36it/s]"
          ]
        },
        {
          "name": "stdout",
          "output_type": "stream",
          "text": [
            "{'loss': 0.1355, 'learning_rate': 1.698185562617619e-05, 'epoch': 0.91}\n"
          ]
        },
        {
          "name": "stderr",
          "output_type": "stream",
          "text": [
            " 15%|█▌        | 26002/168978 [23:19<2:04:26, 19.15it/s]"
          ]
        },
        {
          "name": "stdout",
          "output_type": "stream",
          "text": [
            "{'loss': 0.1233, 'learning_rate': 1.6922676324728665e-05, 'epoch': 0.92}\n"
          ]
        },
        {
          "name": "stderr",
          "output_type": "stream",
          "text": [
            " 16%|█▌        | 26503/168978 [23:41<2:00:44, 19.67it/s]"
          ]
        },
        {
          "name": "stdout",
          "output_type": "stream",
          "text": [
            "{'loss': 0.1315, 'learning_rate': 1.6863497023281138e-05, 'epoch': 0.94}\n"
          ]
        },
        {
          "name": "stderr",
          "output_type": "stream",
          "text": [
            " 16%|█▌        | 27004/168978 [24:03<2:08:23, 18.43it/s]"
          ]
        },
        {
          "name": "stdout",
          "output_type": "stream",
          "text": [
            "{'loss': 0.1273, 'learning_rate': 1.680431772183361e-05, 'epoch': 0.96}\n"
          ]
        },
        {
          "name": "stderr",
          "output_type": "stream",
          "text": [
            " 16%|█▋        | 27505/168978 [24:25<1:47:38, 21.91it/s]"
          ]
        },
        {
          "name": "stdout",
          "output_type": "stream",
          "text": [
            "{'loss': 0.1363, 'learning_rate': 1.6745138420386088e-05, 'epoch': 0.98}\n"
          ]
        },
        {
          "name": "stderr",
          "output_type": "stream",
          "text": [
            " 17%|█▋        | 28000/168978 [24:47<1:33:05, 25.24it/s]"
          ]
        },
        {
          "name": "stdout",
          "output_type": "stream",
          "text": [
            "{'loss': 0.1325, 'learning_rate': 1.668595911893856e-05, 'epoch': 0.99}\n"
          ]
        },
        {
          "name": "stderr",
          "output_type": "stream",
          "text": [
            "                                                        \n",
            " 17%|█▋        | 28004/168978 [26:16<263:31:12,  6.73s/it]"
          ]
        },
        {
          "name": "stdout",
          "output_type": "stream",
          "text": [
            "{'eval_loss': 0.12160007655620575, 'eval_precision': 0.9603401040063702, 'eval_recall': 0.948710248537684, 'eval_f1': 0.9544897519737517, 'eval_accuracy': 0.9500947663104568, 'eval_runtime': 88.7488, 'eval_samples_per_second': 272.004, 'eval_steps_per_second': 68.001, 'epoch': 0.99}\n"
          ]
        },
        {
          "name": "stderr",
          "output_type": "stream",
          "text": [
            " 17%|█▋        | 28505/168978 [26:37<1:46:34, 21.97it/s]  "
          ]
        },
        {
          "name": "stdout",
          "output_type": "stream",
          "text": [
            "{'loss': 0.1211, 'learning_rate': 1.6626779817491037e-05, 'epoch': 1.01}\n"
          ]
        },
        {
          "name": "stderr",
          "output_type": "stream",
          "text": [
            " 17%|█▋        | 29003/168978 [26:58<1:57:46, 19.81it/s]"
          ]
        },
        {
          "name": "stdout",
          "output_type": "stream",
          "text": [
            "{'loss': 0.1062, 'learning_rate': 1.656760051604351e-05, 'epoch': 1.03}\n"
          ]
        },
        {
          "name": "stderr",
          "output_type": "stream",
          "text": [
            " 17%|█▋        | 29504/168978 [27:20<1:58:59, 19.53it/s]"
          ]
        },
        {
          "name": "stdout",
          "output_type": "stream",
          "text": [
            "{'loss': 0.113, 'learning_rate': 1.6508421214595984e-05, 'epoch': 1.05}\n"
          ]
        },
        {
          "name": "stderr",
          "output_type": "stream",
          "text": [
            " 18%|█▊        | 30003/168978 [27:42<2:02:54, 18.84it/s]"
          ]
        },
        {
          "name": "stdout",
          "output_type": "stream",
          "text": [
            "{'loss': 0.1268, 'learning_rate': 1.644924191314846e-05, 'epoch': 1.07}\n"
          ]
        },
        {
          "name": "stderr",
          "output_type": "stream",
          "text": [
            " 18%|█▊        | 30504/168978 [28:03<1:45:26, 21.89it/s]"
          ]
        },
        {
          "name": "stdout",
          "output_type": "stream",
          "text": [
            "{'loss': 0.1138, 'learning_rate': 1.6390062611700933e-05, 'epoch': 1.08}\n"
          ]
        },
        {
          "name": "stderr",
          "output_type": "stream",
          "text": [
            " 18%|█▊        | 31005/168978 [28:25<1:51:26, 20.63it/s]"
          ]
        },
        {
          "name": "stdout",
          "output_type": "stream",
          "text": [
            "{'loss': 0.1225, 'learning_rate': 1.6330883310253406e-05, 'epoch': 1.1}\n"
          ]
        },
        {
          "name": "stderr",
          "output_type": "stream",
          "text": [
            " 19%|█▊        | 31503/168978 [28:47<1:53:52, 20.12it/s]"
          ]
        },
        {
          "name": "stdout",
          "output_type": "stream",
          "text": [
            "{'loss': 0.1211, 'learning_rate': 1.6271704008805883e-05, 'epoch': 1.12}\n"
          ]
        },
        {
          "name": "stderr",
          "output_type": "stream",
          "text": [
            " 19%|█▉        | 32004/168978 [29:09<1:49:27, 20.86it/s]"
          ]
        },
        {
          "name": "stdout",
          "output_type": "stream",
          "text": [
            "{'loss': 0.1174, 'learning_rate': 1.6212524707358356e-05, 'epoch': 1.14}\n"
          ]
        },
        {
          "name": "stderr",
          "output_type": "stream",
          "text": [
            " 19%|█▉        | 32503/168978 [29:31<1:52:06, 20.29it/s]"
          ]
        },
        {
          "name": "stdout",
          "output_type": "stream",
          "text": [
            "{'loss': 0.1239, 'learning_rate': 1.615334540591083e-05, 'epoch': 1.15}\n"
          ]
        },
        {
          "name": "stderr",
          "output_type": "stream",
          "text": [
            " 20%|█▉        | 33004/168978 [29:53<1:51:12, 20.38it/s]"
          ]
        },
        {
          "name": "stdout",
          "output_type": "stream",
          "text": [
            "{'loss': 0.1287, 'learning_rate': 1.6094166104463306e-05, 'epoch': 1.17}\n"
          ]
        },
        {
          "name": "stderr",
          "output_type": "stream",
          "text": [
            " 20%|█▉        | 33505/168978 [30:16<1:46:31, 21.20it/s]"
          ]
        },
        {
          "name": "stdout",
          "output_type": "stream",
          "text": [
            "{'loss': 0.1158, 'learning_rate': 1.603498680301578e-05, 'epoch': 1.19}\n"
          ]
        },
        {
          "name": "stderr",
          "output_type": "stream",
          "text": [
            " 20%|██        | 34003/168978 [30:38<1:49:18, 20.58it/s]"
          ]
        },
        {
          "name": "stdout",
          "output_type": "stream",
          "text": [
            "{'loss': 0.1191, 'learning_rate': 1.5975807501568252e-05, 'epoch': 1.21}\n"
          ]
        },
        {
          "name": "stderr",
          "output_type": "stream",
          "text": [
            " 20%|██        | 34504/168978 [31:00<1:52:15, 19.96it/s]"
          ]
        },
        {
          "name": "stdout",
          "output_type": "stream",
          "text": [
            "{'loss': 0.1215, 'learning_rate': 1.591662820012073e-05, 'epoch': 1.23}\n"
          ]
        },
        {
          "name": "stderr",
          "output_type": "stream",
          "text": [
            " 21%|██        | 35000/168978 [31:22<1:50:07, 20.28it/s]"
          ]
        },
        {
          "name": "stdout",
          "output_type": "stream",
          "text": [
            "{'loss': 0.1176, 'learning_rate': 1.58574488986732e-05, 'epoch': 1.24}\n"
          ]
        },
        {
          "name": "stderr",
          "output_type": "stream",
          "text": [
            "                                                        \n",
            " 21%|██        | 35000/168978 [32:51<1:50:07, 20.28it/s]Checkpoint destination directory roberta-base-finetuned-ner/checkpoint-35000 already exists and is non-empty.Saving will proceed but saved results may be invalid.\n"
          ]
        },
        {
          "name": "stdout",
          "output_type": "stream",
          "text": [
            "{'eval_loss': 0.13071049749851227, 'eval_precision': 0.961738205338728, 'eval_recall': 0.9468030747854149, 'eval_f1': 0.9542122032530362, 'eval_accuracy': 0.9495919945585575, 'eval_runtime': 88.9402, 'eval_samples_per_second': 271.418, 'eval_steps_per_second': 67.855, 'epoch': 1.24}\n"
          ]
        },
        {
          "name": "stderr",
          "output_type": "stream",
          "text": [
            " 21%|██        | 35502/168978 [33:15<2:05:38, 17.71it/s]  "
          ]
        },
        {
          "name": "stdout",
          "output_type": "stream",
          "text": [
            "{'loss': 0.121, 'learning_rate': 1.5798269597225675e-05, 'epoch': 1.26}\n"
          ]
        },
        {
          "name": "stderr",
          "output_type": "stream",
          "text": [
            " 21%|██▏       | 36003/168978 [33:36<1:45:40, 20.97it/s]"
          ]
        },
        {
          "name": "stdout",
          "output_type": "stream",
          "text": [
            "{'loss': 0.1123, 'learning_rate': 1.573909029577815e-05, 'epoch': 1.28}\n"
          ]
        },
        {
          "name": "stderr",
          "output_type": "stream",
          "text": [
            " 22%|██▏       | 36501/168978 [33:58<1:48:53, 20.28it/s]"
          ]
        },
        {
          "name": "stdout",
          "output_type": "stream",
          "text": [
            "{'loss': 0.1171, 'learning_rate': 1.5679910994330624e-05, 'epoch': 1.3}\n"
          ]
        },
        {
          "name": "stderr",
          "output_type": "stream",
          "text": [
            " 22%|██▏       | 37005/168978 [34:20<1:48:49, 20.21it/s]"
          ]
        },
        {
          "name": "stdout",
          "output_type": "stream",
          "text": [
            "{'loss': 0.1043, 'learning_rate': 1.5620731692883097e-05, 'epoch': 1.31}\n"
          ]
        },
        {
          "name": "stderr",
          "output_type": "stream",
          "text": [
            " 22%|██▏       | 37503/168978 [34:42<1:52:36, 19.46it/s]"
          ]
        },
        {
          "name": "stdout",
          "output_type": "stream",
          "text": [
            "{'loss': 0.1234, 'learning_rate': 1.5561552391435574e-05, 'epoch': 1.33}\n"
          ]
        },
        {
          "name": "stderr",
          "output_type": "stream",
          "text": [
            " 22%|██▏       | 38004/168978 [35:04<1:43:11, 21.15it/s]"
          ]
        },
        {
          "name": "stdout",
          "output_type": "stream",
          "text": [
            "{'loss': 0.1197, 'learning_rate': 1.5502373089988047e-05, 'epoch': 1.35}\n"
          ]
        },
        {
          "name": "stderr",
          "output_type": "stream",
          "text": [
            " 23%|██▎       | 38505/168978 [35:26<1:45:47, 20.55it/s]"
          ]
        },
        {
          "name": "stdout",
          "output_type": "stream",
          "text": [
            "{'loss': 0.1185, 'learning_rate': 1.544319378854052e-05, 'epoch': 1.37}\n"
          ]
        },
        {
          "name": "stderr",
          "output_type": "stream",
          "text": [
            " 23%|██▎       | 39003/168978 [35:47<1:49:47, 19.73it/s]"
          ]
        },
        {
          "name": "stdout",
          "output_type": "stream",
          "text": [
            "{'loss': 0.1181, 'learning_rate': 1.5384014487092997e-05, 'epoch': 1.38}\n"
          ]
        },
        {
          "name": "stderr",
          "output_type": "stream",
          "text": [
            " 23%|██▎       | 39504/168978 [36:09<1:51:41, 19.32it/s]"
          ]
        },
        {
          "name": "stdout",
          "output_type": "stream",
          "text": [
            "{'loss': 0.1151, 'learning_rate': 1.532483518564547e-05, 'epoch': 1.4}\n"
          ]
        },
        {
          "name": "stderr",
          "output_type": "stream",
          "text": [
            " 24%|██▎       | 40005/168978 [36:31<1:40:52, 21.31it/s]"
          ]
        },
        {
          "name": "stdout",
          "output_type": "stream",
          "text": [
            "{'loss': 0.1173, 'learning_rate': 1.5265655884197946e-05, 'epoch': 1.42}\n"
          ]
        },
        {
          "name": "stderr",
          "output_type": "stream",
          "text": [
            " 24%|██▍       | 40503/168978 [36:52<1:39:26, 21.53it/s]"
          ]
        },
        {
          "name": "stdout",
          "output_type": "stream",
          "text": [
            "{'loss': 0.1129, 'learning_rate': 1.5206476582750418e-05, 'epoch': 1.44}\n"
          ]
        },
        {
          "name": "stderr",
          "output_type": "stream",
          "text": [
            " 24%|██▍       | 41004/168978 [37:15<1:47:20, 19.87it/s]"
          ]
        },
        {
          "name": "stdout",
          "output_type": "stream",
          "text": [
            "{'loss': 0.1194, 'learning_rate': 1.5147297281302893e-05, 'epoch': 1.46}\n"
          ]
        },
        {
          "name": "stderr",
          "output_type": "stream",
          "text": [
            " 25%|██▍       | 41505/168978 [37:36<1:44:02, 20.42it/s]"
          ]
        },
        {
          "name": "stdout",
          "output_type": "stream",
          "text": [
            "{'loss': 0.1174, 'learning_rate': 1.5088117979855367e-05, 'epoch': 1.47}\n"
          ]
        },
        {
          "name": "stderr",
          "output_type": "stream",
          "text": [
            " 25%|██▍       | 42000/168978 [37:58<1:28:13, 23.99it/s]"
          ]
        },
        {
          "name": "stdout",
          "output_type": "stream",
          "text": [
            "{'loss': 0.1191, 'learning_rate': 1.502893867840784e-05, 'epoch': 1.49}\n"
          ]
        },
        {
          "name": "stderr",
          "output_type": "stream",
          "text": [
            "                                                        \n",
            " 25%|██▍       | 42004/168978 [39:28<239:48:29,  6.80s/it]"
          ]
        },
        {
          "name": "stdout",
          "output_type": "stream",
          "text": [
            "{'eval_loss': 0.12296780943870544, 'eval_precision': 0.9596119847119025, 'eval_recall': 0.952057700783637, 'eval_f1': 0.9558199167367277, 'eval_accuracy': 0.9516106162926816, 'eval_runtime': 89.657, 'eval_samples_per_second': 269.248, 'eval_steps_per_second': 67.312, 'epoch': 1.49}\n"
          ]
        },
        {
          "name": "stderr",
          "output_type": "stream",
          "text": [
            " 25%|██▌       | 42502/168978 [39:50<1:57:34, 17.93it/s]  "
          ]
        },
        {
          "name": "stdout",
          "output_type": "stream",
          "text": [
            "{'loss': 0.1237, 'learning_rate': 1.4969759376960315e-05, 'epoch': 1.51}\n"
          ]
        },
        {
          "name": "stderr",
          "output_type": "stream",
          "text": [
            " 25%|██▌       | 43003/168978 [40:12<1:57:02, 17.94it/s]"
          ]
        },
        {
          "name": "stdout",
          "output_type": "stream",
          "text": [
            "{'loss': 0.1204, 'learning_rate': 1.491058007551279e-05, 'epoch': 1.53}\n"
          ]
        },
        {
          "name": "stderr",
          "output_type": "stream",
          "text": [
            " 26%|██▌       | 43503/168978 [40:34<1:44:48, 19.95it/s]"
          ]
        },
        {
          "name": "stdout",
          "output_type": "stream",
          "text": [
            "{'loss': 0.1246, 'learning_rate': 1.4851400774065263e-05, 'epoch': 1.54}\n"
          ]
        },
        {
          "name": "stderr",
          "output_type": "stream",
          "text": [
            " 26%|██▌       | 44004/168978 [40:56<1:49:24, 19.04it/s]"
          ]
        },
        {
          "name": "stdout",
          "output_type": "stream",
          "text": [
            "{'loss': 0.11, 'learning_rate': 1.4792221472617738e-05, 'epoch': 1.56}\n"
          ]
        },
        {
          "name": "stderr",
          "output_type": "stream",
          "text": [
            " 26%|██▋       | 44502/168978 [41:17<1:45:56, 19.58it/s]"
          ]
        },
        {
          "name": "stdout",
          "output_type": "stream",
          "text": [
            "{'loss': 0.1164, 'learning_rate': 1.4733042171170213e-05, 'epoch': 1.58}\n"
          ]
        },
        {
          "name": "stderr",
          "output_type": "stream",
          "text": [
            " 27%|██▋       | 45003/168978 [41:39<1:40:04, 20.65it/s]"
          ]
        },
        {
          "name": "stdout",
          "output_type": "stream",
          "text": [
            "{'loss': 0.1143, 'learning_rate': 1.4673862869722686e-05, 'epoch': 1.6}\n"
          ]
        },
        {
          "name": "stderr",
          "output_type": "stream",
          "text": [
            " 27%|██▋       | 45504/168978 [42:01<1:40:51, 20.40it/s]"
          ]
        },
        {
          "name": "stdout",
          "output_type": "stream",
          "text": [
            "{'loss': 0.1125, 'learning_rate': 1.4614683568275161e-05, 'epoch': 1.62}\n"
          ]
        },
        {
          "name": "stderr",
          "output_type": "stream",
          "text": [
            " 27%|██▋       | 46004/168978 [42:23<1:40:49, 20.33it/s]"
          ]
        },
        {
          "name": "stdout",
          "output_type": "stream",
          "text": [
            "{'loss': 0.1112, 'learning_rate': 1.4555504266827636e-05, 'epoch': 1.63}\n"
          ]
        },
        {
          "name": "stderr",
          "output_type": "stream",
          "text": [
            " 28%|██▊       | 46505/168978 [42:44<1:36:16, 21.20it/s]"
          ]
        },
        {
          "name": "stdout",
          "output_type": "stream",
          "text": [
            "{'loss': 0.1184, 'learning_rate': 1.449632496538011e-05, 'epoch': 1.65}\n"
          ]
        },
        {
          "name": "stderr",
          "output_type": "stream",
          "text": [
            " 28%|██▊       | 47003/168978 [43:05<1:34:16, 21.56it/s]"
          ]
        },
        {
          "name": "stdout",
          "output_type": "stream",
          "text": [
            "{'loss': 0.1133, 'learning_rate': 1.4437145663932584e-05, 'epoch': 1.67}\n"
          ]
        },
        {
          "name": "stderr",
          "output_type": "stream",
          "text": [
            " 28%|██▊       | 47504/168978 [43:27<1:41:44, 19.90it/s]"
          ]
        },
        {
          "name": "stdout",
          "output_type": "stream",
          "text": [
            "{'loss': 0.105, 'learning_rate': 1.4377966362485058e-05, 'epoch': 1.69}\n"
          ]
        },
        {
          "name": "stderr",
          "output_type": "stream",
          "text": [
            " 28%|██▊       | 48005/168978 [43:48<1:36:18, 20.93it/s]"
          ]
        },
        {
          "name": "stdout",
          "output_type": "stream",
          "text": [
            "{'loss': 0.1062, 'learning_rate': 1.4318787061037533e-05, 'epoch': 1.7}\n"
          ]
        },
        {
          "name": "stderr",
          "output_type": "stream",
          "text": [
            " 29%|██▊       | 48503/168978 [44:10<1:35:15, 21.08it/s]"
          ]
        },
        {
          "name": "stdout",
          "output_type": "stream",
          "text": [
            "{'loss': 0.11, 'learning_rate': 1.4259607759590006e-05, 'epoch': 1.72}\n"
          ]
        },
        {
          "name": "stderr",
          "output_type": "stream",
          "text": [
            " 29%|██▉       | 49000/168978 [44:32<1:29:24, 22.36it/s]"
          ]
        },
        {
          "name": "stdout",
          "output_type": "stream",
          "text": [
            "{'loss': 0.116, 'learning_rate': 1.4200428458142481e-05, 'epoch': 1.74}\n"
          ]
        },
        {
          "name": "stderr",
          "output_type": "stream",
          "text": [
            "                                                        \n",
            " 29%|██▉       | 49004/168978 [46:02<211:40:16,  6.35s/it]"
          ]
        },
        {
          "name": "stdout",
          "output_type": "stream",
          "text": [
            "{'eval_loss': 0.13413630425930023, 'eval_precision': 0.9633524651257818, 'eval_recall': 0.9510499540575066, 'eval_f1': 0.9571616798206126, 'eval_accuracy': 0.952815487561879, 'eval_runtime': 89.9718, 'eval_samples_per_second': 268.306, 'eval_steps_per_second': 67.077, 'epoch': 1.74}\n"
          ]
        },
        {
          "name": "stderr",
          "output_type": "stream",
          "text": [
            " 29%|██▉       | 49505/168978 [46:24<1:35:16, 20.90it/s]  "
          ]
        },
        {
          "name": "stdout",
          "output_type": "stream",
          "text": [
            "{'loss': 0.1083, 'learning_rate': 1.4141249156694956e-05, 'epoch': 1.76}\n"
          ]
        },
        {
          "name": "stderr",
          "output_type": "stream",
          "text": [
            " 30%|██▉       | 50004/168978 [46:46<1:41:02, 19.63it/s]"
          ]
        },
        {
          "name": "stdout",
          "output_type": "stream",
          "text": [
            "{'loss': 0.112, 'learning_rate': 1.408206985524743e-05, 'epoch': 1.78}\n"
          ]
        },
        {
          "name": "stderr",
          "output_type": "stream",
          "text": [
            " 30%|██▉       | 50502/168978 [47:08<1:46:07, 18.61it/s]"
          ]
        },
        {
          "name": "stdout",
          "output_type": "stream",
          "text": [
            "{'loss': 0.1155, 'learning_rate': 1.4022890553799904e-05, 'epoch': 1.79}\n"
          ]
        },
        {
          "name": "stderr",
          "output_type": "stream",
          "text": [
            " 30%|███       | 51003/168978 [47:31<1:40:36, 19.54it/s]"
          ]
        },
        {
          "name": "stdout",
          "output_type": "stream",
          "text": [
            "{'loss': 0.1197, 'learning_rate': 1.3963711252352379e-05, 'epoch': 1.81}\n"
          ]
        },
        {
          "name": "stderr",
          "output_type": "stream",
          "text": [
            " 30%|███       | 51504/168978 [47:53<1:34:24, 20.74it/s]"
          ]
        },
        {
          "name": "stdout",
          "output_type": "stream",
          "text": [
            "{'loss': 0.1113, 'learning_rate': 1.3904531950904854e-05, 'epoch': 1.83}\n"
          ]
        },
        {
          "name": "stderr",
          "output_type": "stream",
          "text": [
            " 31%|███       | 52004/168978 [48:15<1:51:09, 17.54it/s]"
          ]
        },
        {
          "name": "stdout",
          "output_type": "stream",
          "text": [
            "{'loss': 0.1077, 'learning_rate': 1.3845352649457327e-05, 'epoch': 1.85}\n"
          ]
        },
        {
          "name": "stderr",
          "output_type": "stream",
          "text": [
            " 31%|███       | 52502/168978 [48:37<1:48:01, 17.97it/s]"
          ]
        },
        {
          "name": "stdout",
          "output_type": "stream",
          "text": [
            "{'loss': 0.1206, 'learning_rate': 1.3786173348009802e-05, 'epoch': 1.86}\n"
          ]
        },
        {
          "name": "stderr",
          "output_type": "stream",
          "text": [
            " 31%|███▏      | 53003/168978 [49:00<1:34:22, 20.48it/s]"
          ]
        },
        {
          "name": "stdout",
          "output_type": "stream",
          "text": [
            "{'loss': 0.1103, 'learning_rate': 1.3726994046562276e-05, 'epoch': 1.88}\n"
          ]
        },
        {
          "name": "stderr",
          "output_type": "stream",
          "text": [
            " 32%|███▏      | 53503/168978 [49:22<1:49:29, 17.58it/s]"
          ]
        },
        {
          "name": "stdout",
          "output_type": "stream",
          "text": [
            "{'loss': 0.1198, 'learning_rate': 1.366781474511475e-05, 'epoch': 1.9}\n"
          ]
        },
        {
          "name": "stderr",
          "output_type": "stream",
          "text": [
            " 32%|███▏      | 54005/168978 [49:45<1:43:01, 18.60it/s]"
          ]
        },
        {
          "name": "stdout",
          "output_type": "stream",
          "text": [
            "{'loss': 0.1085, 'learning_rate': 1.3608635443667224e-05, 'epoch': 1.92}\n"
          ]
        },
        {
          "name": "stderr",
          "output_type": "stream",
          "text": [
            " 32%|███▏      | 54503/168978 [50:07<1:31:49, 20.78it/s]"
          ]
        },
        {
          "name": "stdout",
          "output_type": "stream",
          "text": [
            "{'loss': 0.1083, 'learning_rate': 1.3549456142219699e-05, 'epoch': 1.94}\n"
          ]
        },
        {
          "name": "stderr",
          "output_type": "stream",
          "text": [
            " 33%|███▎      | 55004/168978 [50:29<1:32:46, 20.48it/s]"
          ]
        },
        {
          "name": "stdout",
          "output_type": "stream",
          "text": [
            "{'loss': 0.1086, 'learning_rate': 1.3490276840772172e-05, 'epoch': 1.95}\n"
          ]
        },
        {
          "name": "stderr",
          "output_type": "stream",
          "text": [
            " 33%|███▎      | 55502/168978 [50:52<1:46:38, 17.74it/s]"
          ]
        },
        {
          "name": "stdout",
          "output_type": "stream",
          "text": [
            "{'loss': 0.1039, 'learning_rate': 1.3431097539324647e-05, 'epoch': 1.97}\n"
          ]
        },
        {
          "name": "stderr",
          "output_type": "stream",
          "text": [
            " 33%|███▎      | 56000/168978 [51:14<1:43:57, 18.11it/s]"
          ]
        },
        {
          "name": "stdout",
          "output_type": "stream",
          "text": [
            "{'loss': 0.1136, 'learning_rate': 1.3371918237877122e-05, 'epoch': 1.99}\n"
          ]
        },
        {
          "name": "stderr",
          "output_type": "stream",
          "text": [
            "                                                        \n",
            " 33%|███▎      | 56001/168978 [52:46<362:32:36, 11.55s/it]"
          ]
        },
        {
          "name": "stdout",
          "output_type": "stream",
          "text": [
            "{'eval_loss': 0.11790590733289719, 'eval_precision': 0.9581722856762055, 'eval_recall': 0.9559504866916175, 'eval_f1': 0.9570600967183664, 'eval_accuracy': 0.9526887671611959, 'eval_runtime': 91.9484, 'eval_samples_per_second': 262.538, 'eval_steps_per_second': 65.635, 'epoch': 1.99}\n"
          ]
        },
        {
          "name": "stderr",
          "output_type": "stream",
          "text": [
            " 33%|███▎      | 56503/168978 [53:08<1:43:02, 18.19it/s]  "
          ]
        },
        {
          "name": "stdout",
          "output_type": "stream",
          "text": [
            "{'loss': 0.1095, 'learning_rate': 1.3312738936429595e-05, 'epoch': 2.01}\n"
          ]
        },
        {
          "name": "stderr",
          "output_type": "stream",
          "text": [
            " 34%|███▎      | 57004/168978 [53:31<1:33:46, 19.90it/s]"
          ]
        },
        {
          "name": "stdout",
          "output_type": "stream",
          "text": [
            "{'loss': 0.102, 'learning_rate': 1.325355963498207e-05, 'epoch': 2.02}\n"
          ]
        },
        {
          "name": "stderr",
          "output_type": "stream",
          "text": [
            " 34%|███▍      | 57503/168978 [53:53<1:30:24, 20.55it/s]"
          ]
        },
        {
          "name": "stdout",
          "output_type": "stream",
          "text": [
            "{'loss': 0.0972, 'learning_rate': 1.3194380333534545e-05, 'epoch': 2.04}\n"
          ]
        },
        {
          "name": "stderr",
          "output_type": "stream",
          "text": [
            " 34%|███▍      | 58004/168978 [54:16<1:32:33, 19.98it/s]"
          ]
        },
        {
          "name": "stdout",
          "output_type": "stream",
          "text": [
            "{'loss': 0.0962, 'learning_rate': 1.313520103208702e-05, 'epoch': 2.06}\n"
          ]
        },
        {
          "name": "stderr",
          "output_type": "stream",
          "text": [
            " 35%|███▍      | 58505/168978 [54:38<1:29:07, 20.66it/s]"
          ]
        },
        {
          "name": "stdout",
          "output_type": "stream",
          "text": [
            "{'loss': 0.0921, 'learning_rate': 1.3076021730639493e-05, 'epoch': 2.08}\n"
          ]
        },
        {
          "name": "stderr",
          "output_type": "stream",
          "text": [
            " 35%|███▍      | 59003/168978 [55:00<1:38:07, 18.68it/s]"
          ]
        },
        {
          "name": "stdout",
          "output_type": "stream",
          "text": [
            "{'loss': 0.1015, 'learning_rate': 1.3016842429191967e-05, 'epoch': 2.09}\n"
          ]
        },
        {
          "name": "stderr",
          "output_type": "stream",
          "text": [
            " 35%|███▌      | 59503/168978 [55:22<1:30:40, 20.12it/s]"
          ]
        },
        {
          "name": "stdout",
          "output_type": "stream",
          "text": [
            "{'loss': 0.1023, 'learning_rate': 1.2957663127744442e-05, 'epoch': 2.11}\n"
          ]
        },
        {
          "name": "stderr",
          "output_type": "stream",
          "text": [
            " 36%|███▌      | 60004/168978 [55:45<1:40:07, 18.14it/s]"
          ]
        },
        {
          "name": "stdout",
          "output_type": "stream",
          "text": [
            "{'loss': 0.0989, 'learning_rate': 1.2898483826296915e-05, 'epoch': 2.13}\n"
          ]
        },
        {
          "name": "stderr",
          "output_type": "stream",
          "text": [
            " 36%|███▌      | 60504/168978 [56:07<1:42:43, 17.60it/s]"
          ]
        },
        {
          "name": "stdout",
          "output_type": "stream",
          "text": [
            "{'loss': 0.1009, 'learning_rate': 1.283930452484939e-05, 'epoch': 2.15}\n"
          ]
        },
        {
          "name": "stderr",
          "output_type": "stream",
          "text": [
            " 36%|███▌      | 61004/168978 [56:29<1:28:09, 20.41it/s]"
          ]
        },
        {
          "name": "stdout",
          "output_type": "stream",
          "text": [
            "{'loss': 0.1031, 'learning_rate': 1.2780125223401865e-05, 'epoch': 2.17}\n"
          ]
        },
        {
          "name": "stderr",
          "output_type": "stream",
          "text": [
            " 36%|███▋      | 61504/168978 [56:51<1:37:25, 18.38it/s]"
          ]
        },
        {
          "name": "stdout",
          "output_type": "stream",
          "text": [
            "{'loss': 0.0979, 'learning_rate': 1.2720945921954338e-05, 'epoch': 2.18}\n"
          ]
        },
        {
          "name": "stderr",
          "output_type": "stream",
          "text": [
            " 37%|███▋      | 62005/168978 [57:13<1:28:37, 20.12it/s]"
          ]
        },
        {
          "name": "stdout",
          "output_type": "stream",
          "text": [
            "{'loss': 0.0989, 'learning_rate': 1.2661766620506813e-05, 'epoch': 2.2}\n"
          ]
        },
        {
          "name": "stderr",
          "output_type": "stream",
          "text": [
            " 37%|███▋      | 62503/168978 [57:36<1:34:26, 18.79it/s]"
          ]
        },
        {
          "name": "stdout",
          "output_type": "stream",
          "text": [
            "{'loss': 0.1043, 'learning_rate': 1.2602587319059288e-05, 'epoch': 2.22}\n"
          ]
        },
        {
          "name": "stderr",
          "output_type": "stream",
          "text": [
            " 37%|███▋      | 63000/168978 [57:58<1:13:55, 23.89it/s]"
          ]
        },
        {
          "name": "stdout",
          "output_type": "stream",
          "text": [
            "{'loss': 0.0947, 'learning_rate': 1.2543408017611761e-05, 'epoch': 2.24}\n"
          ]
        },
        {
          "name": "stderr",
          "output_type": "stream",
          "text": [
            "                                                        \n",
            " 37%|███▋      | 63003/168978 [59:30<212:27:56,  7.22s/it]"
          ]
        },
        {
          "name": "stdout",
          "output_type": "stream",
          "text": [
            "{'eval_loss': 0.1425645798444748, 'eval_precision': 0.9560124872605698, 'eval_recall': 0.9544213113406991, 'eval_f1': 0.95521623666558, 'eval_accuracy': 0.9511653824524439, 'eval_runtime': 92.115, 'eval_samples_per_second': 262.064, 'eval_steps_per_second': 65.516, 'epoch': 2.24}\n"
          ]
        },
        {
          "name": "stderr",
          "output_type": "stream",
          "text": [
            " 38%|███▊      | 63503/168978 [59:52<1:24:20, 20.84it/s]  "
          ]
        },
        {
          "name": "stdout",
          "output_type": "stream",
          "text": [
            "{'loss': 0.0954, 'learning_rate': 1.2484228716164236e-05, 'epoch': 2.25}\n"
          ]
        },
        {
          "name": "stderr",
          "output_type": "stream",
          "text": [
            " 38%|███▊      | 64003/168978 [1:00:15<1:27:42, 19.95it/s]"
          ]
        },
        {
          "name": "stdout",
          "output_type": "stream",
          "text": [
            "{'loss': 0.0982, 'learning_rate': 1.242504941471671e-05, 'epoch': 2.27}\n"
          ]
        },
        {
          "name": "stderr",
          "output_type": "stream",
          "text": [
            " 38%|███▊      | 64504/168978 [1:00:37<1:24:57, 20.49it/s]"
          ]
        },
        {
          "name": "stdout",
          "output_type": "stream",
          "text": [
            "{'loss': 0.1025, 'learning_rate': 1.2365870113269185e-05, 'epoch': 2.29}\n"
          ]
        },
        {
          "name": "stderr",
          "output_type": "stream",
          "text": [
            " 38%|███▊      | 65005/168978 [1:00:59<1:32:35, 18.72it/s]"
          ]
        },
        {
          "name": "stdout",
          "output_type": "stream",
          "text": [
            "{'loss': 0.0911, 'learning_rate': 1.2306690811821658e-05, 'epoch': 2.31}\n"
          ]
        },
        {
          "name": "stderr",
          "output_type": "stream",
          "text": [
            " 39%|███▉      | 65503/168978 [1:01:21<1:25:41, 20.13it/s]"
          ]
        },
        {
          "name": "stdout",
          "output_type": "stream",
          "text": [
            "{'loss': 0.0982, 'learning_rate': 1.2247511510374133e-05, 'epoch': 2.33}\n"
          ]
        },
        {
          "name": "stderr",
          "output_type": "stream",
          "text": [
            " 39%|███▉      | 66004/168978 [1:01:44<1:22:48, 20.72it/s]"
          ]
        },
        {
          "name": "stdout",
          "output_type": "stream",
          "text": [
            "{'loss': 0.0953, 'learning_rate': 1.2188332208926608e-05, 'epoch': 2.34}\n"
          ]
        },
        {
          "name": "stderr",
          "output_type": "stream",
          "text": [
            " 39%|███▉      | 66505/168978 [1:02:05<1:22:56, 20.59it/s]"
          ]
        },
        {
          "name": "stdout",
          "output_type": "stream",
          "text": [
            "{'loss': 0.1004, 'learning_rate': 1.212915290747908e-05, 'epoch': 2.36}\n"
          ]
        },
        {
          "name": "stderr",
          "output_type": "stream",
          "text": [
            " 40%|███▉      | 67003/168978 [1:02:28<1:24:46, 20.05it/s]"
          ]
        },
        {
          "name": "stdout",
          "output_type": "stream",
          "text": [
            "{'loss': 0.0933, 'learning_rate': 1.2069973606031556e-05, 'epoch': 2.38}\n"
          ]
        },
        {
          "name": "stderr",
          "output_type": "stream",
          "text": [
            " 40%|███▉      | 67502/168978 [1:02:50<1:36:11, 17.58it/s]"
          ]
        },
        {
          "name": "stdout",
          "output_type": "stream",
          "text": [
            "{'loss': 0.1032, 'learning_rate': 1.201079430458403e-05, 'epoch': 2.4}\n"
          ]
        },
        {
          "name": "stderr",
          "output_type": "stream",
          "text": [
            " 40%|████      | 68004/168978 [1:03:13<1:32:30, 18.19it/s]"
          ]
        },
        {
          "name": "stdout",
          "output_type": "stream",
          "text": [
            "{'loss': 0.0991, 'learning_rate': 1.1951615003136502e-05, 'epoch': 2.41}\n"
          ]
        },
        {
          "name": "stderr",
          "output_type": "stream",
          "text": [
            " 41%|████      | 68504/168978 [1:03:36<1:34:22, 17.74it/s]"
          ]
        },
        {
          "name": "stdout",
          "output_type": "stream",
          "text": [
            "{'loss': 0.0924, 'learning_rate': 1.1892435701688979e-05, 'epoch': 2.43}\n"
          ]
        },
        {
          "name": "stderr",
          "output_type": "stream",
          "text": [
            " 41%|████      | 69005/168978 [1:03:58<1:19:37, 20.93it/s]"
          ]
        },
        {
          "name": "stdout",
          "output_type": "stream",
          "text": [
            "{'loss': 0.0974, 'learning_rate': 1.1833256400241454e-05, 'epoch': 2.45}\n"
          ]
        },
        {
          "name": "stderr",
          "output_type": "stream",
          "text": [
            " 41%|████      | 69503/168978 [1:04:21<1:20:56, 20.48it/s]"
          ]
        },
        {
          "name": "stdout",
          "output_type": "stream",
          "text": [
            "{'loss': 0.1037, 'learning_rate': 1.1774077098793928e-05, 'epoch': 2.47}\n"
          ]
        },
        {
          "name": "stderr",
          "output_type": "stream",
          "text": [
            " 41%|████▏     | 70000/168978 [1:04:43<1:15:32, 21.84it/s]"
          ]
        },
        {
          "name": "stdout",
          "output_type": "stream",
          "text": [
            "{'loss': 0.1009, 'learning_rate': 1.17148977973464e-05, 'epoch': 2.49}\n"
          ]
        },
        {
          "name": "stderr",
          "output_type": "stream",
          "text": [
            "                                                          \n",
            " 41%|████▏     | 70000/168978 [1:06:15<1:15:32, 21.84it/s]Checkpoint destination directory roberta-base-finetuned-ner/checkpoint-70000 already exists and is non-empty.Saving will proceed but saved results may be invalid.\n"
          ]
        },
        {
          "name": "stdout",
          "output_type": "stream",
          "text": [
            "{'eval_loss': 0.11547821015119553, 'eval_precision': 0.9643516702374846, 'eval_recall': 0.9549360166737635, 'eval_f1': 0.959620747769491, 'eval_accuracy': 0.9555553881171883, 'eval_runtime': 92.1501, 'eval_samples_per_second': 261.964, 'eval_steps_per_second': 65.491, 'epoch': 2.49}\n"
          ]
        },
        {
          "name": "stderr",
          "output_type": "stream",
          "text": [
            " 42%|████▏     | 70504/168978 [1:06:40<1:32:02, 17.83it/s]  "
          ]
        },
        {
          "name": "stdout",
          "output_type": "stream",
          "text": [
            "{'loss': 0.1032, 'learning_rate': 1.1655718495898876e-05, 'epoch': 2.5}\n"
          ]
        },
        {
          "name": "stderr",
          "output_type": "stream",
          "text": [
            " 42%|████▏     | 71005/168978 [1:07:02<1:18:24, 20.82it/s]"
          ]
        },
        {
          "name": "stdout",
          "output_type": "stream",
          "text": [
            "{'loss': 0.1066, 'learning_rate': 1.1596539194451351e-05, 'epoch': 2.52}\n"
          ]
        },
        {
          "name": "stderr",
          "output_type": "stream",
          "text": [
            " 42%|████▏     | 71503/168978 [1:07:25<1:21:53, 19.84it/s]"
          ]
        },
        {
          "name": "stdout",
          "output_type": "stream",
          "text": [
            "{'loss': 0.0957, 'learning_rate': 1.1537359893003823e-05, 'epoch': 2.54}\n"
          ]
        },
        {
          "name": "stderr",
          "output_type": "stream",
          "text": [
            " 43%|████▎     | 72004/168978 [1:07:47<1:19:44, 20.27it/s]"
          ]
        },
        {
          "name": "stdout",
          "output_type": "stream",
          "text": [
            "{'loss': 0.0924, 'learning_rate': 1.1478180591556297e-05, 'epoch': 2.56}\n"
          ]
        },
        {
          "name": "stderr",
          "output_type": "stream",
          "text": [
            " 43%|████▎     | 72504/168978 [1:08:09<1:21:03, 19.83it/s]"
          ]
        },
        {
          "name": "stdout",
          "output_type": "stream",
          "text": [
            "{'loss': 0.0897, 'learning_rate': 1.1419001290108774e-05, 'epoch': 2.57}\n"
          ]
        },
        {
          "name": "stderr",
          "output_type": "stream",
          "text": [
            " 43%|████▎     | 73002/168978 [1:08:32<1:31:32, 17.47it/s]"
          ]
        },
        {
          "name": "stdout",
          "output_type": "stream",
          "text": [
            "{'loss': 0.1081, 'learning_rate': 1.1359821988661245e-05, 'epoch': 2.59}\n"
          ]
        },
        {
          "name": "stderr",
          "output_type": "stream",
          "text": [
            " 43%|████▎     | 73503/168978 [1:08:54<1:19:14, 20.08it/s]"
          ]
        },
        {
          "name": "stdout",
          "output_type": "stream",
          "text": [
            "{'loss': 0.1056, 'learning_rate': 1.130064268721372e-05, 'epoch': 2.61}\n"
          ]
        },
        {
          "name": "stderr",
          "output_type": "stream",
          "text": [
            " 44%|████▍     | 74004/168978 [1:09:17<1:19:15, 19.97it/s]"
          ]
        },
        {
          "name": "stdout",
          "output_type": "stream",
          "text": [
            "{'loss': 0.0955, 'learning_rate': 1.1241463385766197e-05, 'epoch': 2.63}\n"
          ]
        },
        {
          "name": "stderr",
          "output_type": "stream",
          "text": [
            " 44%|████▍     | 74502/168978 [1:09:40<1:24:33, 18.62it/s]"
          ]
        },
        {
          "name": "stdout",
          "output_type": "stream",
          "text": [
            "{'loss': 0.1022, 'learning_rate': 1.1182284084318668e-05, 'epoch': 2.65}\n"
          ]
        },
        {
          "name": "stderr",
          "output_type": "stream",
          "text": [
            " 44%|████▍     | 75005/168978 [1:10:03<1:15:41, 20.69it/s]"
          ]
        },
        {
          "name": "stdout",
          "output_type": "stream",
          "text": [
            "{'loss': 0.0887, 'learning_rate': 1.1123104782871143e-05, 'epoch': 2.66}\n"
          ]
        },
        {
          "name": "stderr",
          "output_type": "stream",
          "text": [
            " 45%|████▍     | 75503/168978 [1:10:25<1:16:29, 20.37it/s]"
          ]
        },
        {
          "name": "stdout",
          "output_type": "stream",
          "text": [
            "{'loss': 0.097, 'learning_rate': 1.1063925481423618e-05, 'epoch': 2.68}\n"
          ]
        },
        {
          "name": "stderr",
          "output_type": "stream",
          "text": [
            " 45%|████▍     | 76004/168978 [1:10:48<1:16:01, 20.38it/s]"
          ]
        },
        {
          "name": "stdout",
          "output_type": "stream",
          "text": [
            "{'loss': 0.1043, 'learning_rate': 1.1004746179976094e-05, 'epoch': 2.7}\n"
          ]
        },
        {
          "name": "stderr",
          "output_type": "stream",
          "text": [
            " 45%|████▌     | 76504/168978 [1:11:10<1:17:09, 19.98it/s]"
          ]
        },
        {
          "name": "stdout",
          "output_type": "stream",
          "text": [
            "{'loss': 0.0994, 'learning_rate': 1.0945566878528566e-05, 'epoch': 2.72}\n"
          ]
        },
        {
          "name": "stderr",
          "output_type": "stream",
          "text": [
            " 46%|████▌     | 77000/168978 [1:11:32<1:05:55, 23.25it/s]"
          ]
        },
        {
          "name": "stdout",
          "output_type": "stream",
          "text": [
            "{'loss': 0.0972, 'learning_rate': 1.088638757708104e-05, 'epoch': 2.73}\n"
          ]
        },
        {
          "name": "stderr",
          "output_type": "stream",
          "text": [
            "                                                          \n",
            " 46%|████▌     | 77004/168978 [1:13:04<177:47:40,  6.96s/it]"
          ]
        },
        {
          "name": "stdout",
          "output_type": "stream",
          "text": [
            "{'eval_loss': 0.12822259962558746, 'eval_precision': 0.965401352174498, 'eval_recall': 0.9542748929876067, 'eval_f1': 0.9598058780569172, 'eval_accuracy': 0.9556074462277392, 'eval_runtime': 91.7395, 'eval_samples_per_second': 263.136, 'eval_steps_per_second': 65.784, 'epoch': 2.73}\n"
          ]
        },
        {
          "name": "stderr",
          "output_type": "stream",
          "text": [
            " 46%|████▌     | 77504/168978 [1:13:27<1:20:50, 18.86it/s]  "
          ]
        },
        {
          "name": "stdout",
          "output_type": "stream",
          "text": [
            "{'loss': 0.0931, 'learning_rate': 1.0827208275633515e-05, 'epoch': 2.75}\n"
          ]
        },
        {
          "name": "stderr",
          "output_type": "stream",
          "text": [
            " 46%|████▌     | 78002/168978 [1:13:49<1:19:50, 18.99it/s]"
          ]
        },
        {
          "name": "stdout",
          "output_type": "stream",
          "text": [
            "{'loss': 0.0964, 'learning_rate': 1.0768028974185988e-05, 'epoch': 2.77}\n"
          ]
        },
        {
          "name": "stderr",
          "output_type": "stream",
          "text": [
            " 46%|████▋     | 78503/168978 [1:14:12<1:16:48, 19.63it/s]"
          ]
        },
        {
          "name": "stdout",
          "output_type": "stream",
          "text": [
            "{'loss': 0.0971, 'learning_rate': 1.0708849672738463e-05, 'epoch': 2.79}\n"
          ]
        },
        {
          "name": "stderr",
          "output_type": "stream",
          "text": [
            " 47%|████▋     | 79004/168978 [1:14:34<1:14:19, 20.18it/s]"
          ]
        },
        {
          "name": "stdout",
          "output_type": "stream",
          "text": [
            "{'loss': 0.0971, 'learning_rate': 1.0649670371290938e-05, 'epoch': 2.81}\n"
          ]
        },
        {
          "name": "stderr",
          "output_type": "stream",
          "text": [
            " 47%|████▋     | 79502/168978 [1:14:56<1:34:47, 15.73it/s]"
          ]
        },
        {
          "name": "stdout",
          "output_type": "stream",
          "text": [
            "{'loss': 0.0931, 'learning_rate': 1.0590491069843411e-05, 'epoch': 2.82}\n"
          ]
        },
        {
          "name": "stderr",
          "output_type": "stream",
          "text": [
            " 47%|████▋     | 80004/168978 [1:15:19<1:12:26, 20.47it/s]"
          ]
        },
        {
          "name": "stdout",
          "output_type": "stream",
          "text": [
            "{'loss': 0.0962, 'learning_rate': 1.0531311768395886e-05, 'epoch': 2.84}\n"
          ]
        },
        {
          "name": "stderr",
          "output_type": "stream",
          "text": [
            " 48%|████▊     | 80505/168978 [1:15:41<1:11:06, 20.74it/s]"
          ]
        },
        {
          "name": "stdout",
          "output_type": "stream",
          "text": [
            "{'loss': 0.0914, 'learning_rate': 1.0472132466948361e-05, 'epoch': 2.86}\n"
          ]
        },
        {
          "name": "stderr",
          "output_type": "stream",
          "text": [
            " 48%|████▊     | 81002/168978 [1:16:04<1:23:59, 17.46it/s]"
          ]
        },
        {
          "name": "stdout",
          "output_type": "stream",
          "text": [
            "{'loss': 0.0936, 'learning_rate': 1.0412953165500834e-05, 'epoch': 2.88}\n"
          ]
        },
        {
          "name": "stderr",
          "output_type": "stream",
          "text": [
            " 48%|████▊     | 81504/168978 [1:16:27<1:17:21, 18.84it/s]"
          ]
        },
        {
          "name": "stdout",
          "output_type": "stream",
          "text": [
            "{'loss': 0.1015, 'learning_rate': 1.0353773864053309e-05, 'epoch': 2.89}\n"
          ]
        },
        {
          "name": "stderr",
          "output_type": "stream",
          "text": [
            " 49%|████▊     | 82002/168978 [1:16:49<1:14:20, 19.50it/s]"
          ]
        },
        {
          "name": "stdout",
          "output_type": "stream",
          "text": [
            "{'loss': 0.0972, 'learning_rate': 1.0294594562605784e-05, 'epoch': 2.91}\n"
          ]
        },
        {
          "name": "stderr",
          "output_type": "stream",
          "text": [
            " 49%|████▉     | 82503/168978 [1:17:11<1:10:59, 20.30it/s]"
          ]
        },
        {
          "name": "stdout",
          "output_type": "stream",
          "text": [
            "{'loss': 0.0924, 'learning_rate': 1.0235415261158258e-05, 'epoch': 2.93}\n"
          ]
        },
        {
          "name": "stderr",
          "output_type": "stream",
          "text": [
            " 49%|████▉     | 83004/168978 [1:17:34<1:16:50, 18.65it/s]"
          ]
        },
        {
          "name": "stdout",
          "output_type": "stream",
          "text": [
            "{'loss': 0.095, 'learning_rate': 1.0176235959710732e-05, 'epoch': 2.95}\n"
          ]
        },
        {
          "name": "stderr",
          "output_type": "stream",
          "text": [
            " 49%|████▉     | 83504/168978 [1:17:56<1:14:29, 19.13it/s]"
          ]
        },
        {
          "name": "stdout",
          "output_type": "stream",
          "text": [
            "{'loss': 0.0981, 'learning_rate': 1.0117056658263206e-05, 'epoch': 2.96}\n"
          ]
        },
        {
          "name": "stderr",
          "output_type": "stream",
          "text": [
            " 50%|████▉     | 84000/168978 [1:18:19<1:20:09, 17.67it/s]"
          ]
        },
        {
          "name": "stdout",
          "output_type": "stream",
          "text": [
            "{'loss': 0.0959, 'learning_rate': 1.0057877356815681e-05, 'epoch': 2.98}\n"
          ]
        },
        {
          "name": "stderr",
          "output_type": "stream",
          "text": [
            "                                                          \n",
            " 50%|████▉     | 84004/168978 [1:19:51<177:57:02,  7.54s/it]"
          ]
        },
        {
          "name": "stdout",
          "output_type": "stream",
          "text": [
            "{'eval_loss': 0.12155956774950027, 'eval_precision': 0.9641686796339913, 'eval_recall': 0.9565525948170891, 'eval_f1': 0.9603455374948531, 'eval_accuracy': 0.9563835230600305, 'eval_runtime': 91.9866, 'eval_samples_per_second': 262.43, 'eval_steps_per_second': 65.607, 'epoch': 2.98}\n"
          ]
        },
        {
          "name": "stderr",
          "output_type": "stream",
          "text": [
            " 50%|█████     | 84503/168978 [1:20:13<1:15:45, 18.58it/s]  "
          ]
        },
        {
          "name": "stdout",
          "output_type": "stream",
          "text": [
            "{'loss': 0.0972, 'learning_rate': 9.998698055368156e-06, 'epoch': 3.0}\n"
          ]
        },
        {
          "name": "stderr",
          "output_type": "stream",
          "text": [
            " 50%|█████     | 85004/168978 [1:20:36<1:11:27, 19.59it/s]"
          ]
        },
        {
          "name": "stdout",
          "output_type": "stream",
          "text": [
            "{'loss': 0.0832, 'learning_rate': 9.939518753920629e-06, 'epoch': 3.02}\n"
          ]
        },
        {
          "name": "stderr",
          "output_type": "stream",
          "text": [
            " 51%|█████     | 85504/168978 [1:20:58<1:08:57, 20.17it/s]"
          ]
        },
        {
          "name": "stdout",
          "output_type": "stream",
          "text": [
            "{'loss': 0.0809, 'learning_rate': 9.880339452473104e-06, 'epoch': 3.04}\n"
          ]
        },
        {
          "name": "stderr",
          "output_type": "stream",
          "text": [
            " 51%|█████     | 86002/168978 [1:21:21<1:19:12, 17.46it/s]"
          ]
        },
        {
          "name": "stdout",
          "output_type": "stream",
          "text": [
            "{'loss': 0.0927, 'learning_rate': 9.821160151025579e-06, 'epoch': 3.05}\n"
          ]
        },
        {
          "name": "stderr",
          "output_type": "stream",
          "text": [
            " 51%|█████     | 86503/168978 [1:21:44<1:06:50, 20.57it/s]"
          ]
        },
        {
          "name": "stdout",
          "output_type": "stream",
          "text": [
            "{'loss': 0.0832, 'learning_rate': 9.761980849578052e-06, 'epoch': 3.07}\n"
          ]
        },
        {
          "name": "stderr",
          "output_type": "stream",
          "text": [
            " 51%|█████▏    | 87004/168978 [1:22:06<1:06:20, 20.59it/s]"
          ]
        },
        {
          "name": "stdout",
          "output_type": "stream",
          "text": [
            "{'loss': 0.0841, 'learning_rate': 9.702801548130527e-06, 'epoch': 3.09}\n"
          ]
        },
        {
          "name": "stderr",
          "output_type": "stream",
          "text": [
            " 52%|█████▏    | 87502/168978 [1:22:28<1:10:24, 19.29it/s]"
          ]
        },
        {
          "name": "stdout",
          "output_type": "stream",
          "text": [
            "{'loss': 0.0774, 'learning_rate': 9.643622246683002e-06, 'epoch': 3.11}\n"
          ]
        },
        {
          "name": "stderr",
          "output_type": "stream",
          "text": [
            " 52%|█████▏    | 88002/168978 [1:22:51<1:13:49, 18.28it/s]"
          ]
        },
        {
          "name": "stdout",
          "output_type": "stream",
          "text": [
            "{'loss': 0.0813, 'learning_rate': 9.584442945235475e-06, 'epoch': 3.12}\n"
          ]
        },
        {
          "name": "stderr",
          "output_type": "stream",
          "text": [
            " 52%|█████▏    | 88503/168978 [1:23:13<1:05:07, 20.59it/s]"
          ]
        },
        {
          "name": "stdout",
          "output_type": "stream",
          "text": [
            "{'loss': 0.0786, 'learning_rate': 9.52526364378795e-06, 'epoch': 3.14}\n"
          ]
        },
        {
          "name": "stderr",
          "output_type": "stream",
          "text": [
            " 53%|█████▎    | 89004/168978 [1:23:35<1:12:41, 18.34it/s]"
          ]
        },
        {
          "name": "stdout",
          "output_type": "stream",
          "text": [
            "{'loss': 0.0873, 'learning_rate': 9.466084342340424e-06, 'epoch': 3.16}\n"
          ]
        },
        {
          "name": "stderr",
          "output_type": "stream",
          "text": [
            " 53%|█████▎    | 89502/168978 [1:23:58<1:12:25, 18.29it/s]"
          ]
        },
        {
          "name": "stdout",
          "output_type": "stream",
          "text": [
            "{'loss': 0.0842, 'learning_rate': 9.406905040892899e-06, 'epoch': 3.18}\n"
          ]
        },
        {
          "name": "stderr",
          "output_type": "stream",
          "text": [
            " 53%|█████▎    | 90003/168978 [1:24:21<1:07:02, 19.63it/s]"
          ]
        },
        {
          "name": "stdout",
          "output_type": "stream",
          "text": [
            "{'loss': 0.0859, 'learning_rate': 9.347725739445372e-06, 'epoch': 3.2}\n"
          ]
        },
        {
          "name": "stderr",
          "output_type": "stream",
          "text": [
            " 54%|█████▎    | 90503/168978 [1:24:44<1:10:41, 18.50it/s]"
          ]
        },
        {
          "name": "stdout",
          "output_type": "stream",
          "text": [
            "{'loss': 0.0884, 'learning_rate': 9.288546437997847e-06, 'epoch': 3.21}\n"
          ]
        },
        {
          "name": "stderr",
          "output_type": "stream",
          "text": [
            " 54%|█████▍    | 91000/168978 [1:25:06<57:07, 22.75it/s]  "
          ]
        },
        {
          "name": "stdout",
          "output_type": "stream",
          "text": [
            "{'loss': 0.0847, 'learning_rate': 9.229367136550322e-06, 'epoch': 3.23}\n"
          ]
        },
        {
          "name": "stderr",
          "output_type": "stream",
          "text": [
            "                                                        \n",
            " 54%|█████▍    | 91004/168978 [1:26:38<140:32:19,  6.49s/it]"
          ]
        },
        {
          "name": "stdout",
          "output_type": "stream",
          "text": [
            "{'eval_loss': 0.12218567728996277, 'eval_precision': 0.9644514706844592, 'eval_recall': 0.9579592568521548, 'eval_f1': 0.9611944012721452, 'eval_accuracy': 0.9572650860637013, 'eval_runtime': 91.9527, 'eval_samples_per_second': 262.526, 'eval_steps_per_second': 65.632, 'epoch': 3.23}\n"
          ]
        },
        {
          "name": "stderr",
          "output_type": "stream",
          "text": [
            " 54%|█████▍    | 91505/168978 [1:27:00<1:01:15, 21.08it/s]  "
          ]
        },
        {
          "name": "stdout",
          "output_type": "stream",
          "text": [
            "{'loss': 0.0793, 'learning_rate': 9.170187835102795e-06, 'epoch': 3.25}\n"
          ]
        },
        {
          "name": "stderr",
          "output_type": "stream",
          "text": [
            " 54%|█████▍    | 92002/168978 [1:27:22<1:10:56, 18.08it/s]"
          ]
        },
        {
          "name": "stdout",
          "output_type": "stream",
          "text": [
            "{'loss': 0.0834, 'learning_rate': 9.111008533655268e-06, 'epoch': 3.27}\n"
          ]
        },
        {
          "name": "stderr",
          "output_type": "stream",
          "text": [
            " 55%|█████▍    | 92503/168978 [1:27:45<1:03:30, 20.07it/s]"
          ]
        },
        {
          "name": "stdout",
          "output_type": "stream",
          "text": [
            "{'loss': 0.0815, 'learning_rate': 9.051829232207745e-06, 'epoch': 3.28}\n"
          ]
        },
        {
          "name": "stderr",
          "output_type": "stream",
          "text": [
            " 55%|█████▌    | 93004/168978 [1:28:08<1:03:39, 19.89it/s]"
          ]
        },
        {
          "name": "stdout",
          "output_type": "stream",
          "text": [
            "{'loss': 0.0803, 'learning_rate': 8.992649930760218e-06, 'epoch': 3.3}\n"
          ]
        },
        {
          "name": "stderr",
          "output_type": "stream",
          "text": [
            " 55%|█████▌    | 93505/168978 [1:28:30<1:02:02, 20.28it/s]"
          ]
        },
        {
          "name": "stdout",
          "output_type": "stream",
          "text": [
            "{'loss': 0.0784, 'learning_rate': 8.933470629312693e-06, 'epoch': 3.32}\n"
          ]
        },
        {
          "name": "stderr",
          "output_type": "stream",
          "text": [
            " 56%|█████▌    | 94005/168978 [1:28:52<57:54, 21.58it/s]  "
          ]
        },
        {
          "name": "stdout",
          "output_type": "stream",
          "text": [
            "{'loss': 0.079, 'learning_rate': 8.874291327865167e-06, 'epoch': 3.34}\n"
          ]
        },
        {
          "name": "stderr",
          "output_type": "stream",
          "text": [
            " 56%|█████▌    | 94503/168978 [1:29:14<1:00:38, 20.47it/s]"
          ]
        },
        {
          "name": "stdout",
          "output_type": "stream",
          "text": [
            "{'loss': 0.0902, 'learning_rate': 8.81511202641764e-06, 'epoch': 3.36}\n"
          ]
        },
        {
          "name": "stderr",
          "output_type": "stream",
          "text": [
            " 56%|█████▌    | 95003/168978 [1:29:37<1:01:27, 20.06it/s]"
          ]
        },
        {
          "name": "stdout",
          "output_type": "stream",
          "text": [
            "{'loss': 0.0813, 'learning_rate': 8.755932724970115e-06, 'epoch': 3.37}\n"
          ]
        },
        {
          "name": "stderr",
          "output_type": "stream",
          "text": [
            " 57%|█████▋    | 95504/168978 [1:29:59<57:54, 21.15it/s]  "
          ]
        },
        {
          "name": "stdout",
          "output_type": "stream",
          "text": [
            "{'loss': 0.0838, 'learning_rate': 8.696753423522588e-06, 'epoch': 3.39}\n"
          ]
        },
        {
          "name": "stderr",
          "output_type": "stream",
          "text": [
            " 57%|█████▋    | 96001/168978 [1:30:21<1:04:00, 19.00it/s]"
          ]
        },
        {
          "name": "stdout",
          "output_type": "stream",
          "text": [
            "{'loss': 0.0849, 'learning_rate': 8.637574122075065e-06, 'epoch': 3.41}\n"
          ]
        },
        {
          "name": "stderr",
          "output_type": "stream",
          "text": [
            " 57%|█████▋    | 96502/168978 [1:30:44<1:07:33, 17.88it/s]"
          ]
        },
        {
          "name": "stdout",
          "output_type": "stream",
          "text": [
            "{'loss': 0.0846, 'learning_rate': 8.578394820627538e-06, 'epoch': 3.43}\n"
          ]
        },
        {
          "name": "stderr",
          "output_type": "stream",
          "text": [
            " 57%|█████▋    | 97003/168978 [1:31:06<59:44, 20.08it/s]  "
          ]
        },
        {
          "name": "stdout",
          "output_type": "stream",
          "text": [
            "{'loss': 0.0791, 'learning_rate': 8.519215519180011e-06, 'epoch': 3.44}\n"
          ]
        },
        {
          "name": "stderr",
          "output_type": "stream",
          "text": [
            " 58%|█████▊    | 97504/168978 [1:31:29<1:03:16, 18.82it/s]"
          ]
        },
        {
          "name": "stdout",
          "output_type": "stream",
          "text": [
            "{'loss': 0.087, 'learning_rate': 8.460036217732486e-06, 'epoch': 3.46}\n"
          ]
        },
        {
          "name": "stderr",
          "output_type": "stream",
          "text": [
            " 58%|█████▊    | 98000/168978 [1:31:51<53:06, 22.28it/s]  "
          ]
        },
        {
          "name": "stdout",
          "output_type": "stream",
          "text": [
            "{'loss': 0.0817, 'learning_rate': 8.40085691628496e-06, 'epoch': 3.48}\n"
          ]
        },
        {
          "name": "stderr",
          "output_type": "stream",
          "text": [
            "                                                        \n",
            " 58%|█████▊    | 98004/168978 [1:33:23<138:04:14,  7.00s/it]"
          ]
        },
        {
          "name": "stdout",
          "output_type": "stream",
          "text": [
            "{'eval_loss': 0.12745562195777893, 'eval_precision': 0.96478261524102, 'eval_recall': 0.9574960967556382, 'eval_f1': 0.9611255459947884, 'eval_accuracy': 0.957103431930938, 'eval_runtime': 92.3131, 'eval_samples_per_second': 261.501, 'eval_steps_per_second': 65.375, 'epoch': 3.48}\n"
          ]
        },
        {
          "name": "stderr",
          "output_type": "stream",
          "text": [
            " 58%|█████▊    | 98502/168978 [1:33:46<1:02:58, 18.65it/s]  "
          ]
        },
        {
          "name": "stdout",
          "output_type": "stream",
          "text": [
            "{'loss': 0.0898, 'learning_rate': 8.341677614837436e-06, 'epoch': 3.5}\n"
          ]
        },
        {
          "name": "stderr",
          "output_type": "stream",
          "text": [
            " 59%|█████▊    | 99003/168978 [1:34:09<1:02:06, 18.78it/s]"
          ]
        },
        {
          "name": "stdout",
          "output_type": "stream",
          "text": [
            "{'loss': 0.0765, 'learning_rate': 8.282498313389909e-06, 'epoch': 3.52}\n"
          ]
        },
        {
          "name": "stderr",
          "output_type": "stream",
          "text": [
            " 59%|█████▉    | 99502/168978 [1:34:32<59:34, 19.43it/s]  "
          ]
        },
        {
          "name": "stdout",
          "output_type": "stream",
          "text": [
            "{'loss': 0.0849, 'learning_rate': 8.223319011942384e-06, 'epoch': 3.53}\n"
          ]
        },
        {
          "name": "stderr",
          "output_type": "stream",
          "text": [
            " 59%|█████▉    | 100003/168978 [1:34:54<58:00, 19.81it/s]  "
          ]
        },
        {
          "name": "stdout",
          "output_type": "stream",
          "text": [
            "{'loss': 0.0819, 'learning_rate': 8.164139710494858e-06, 'epoch': 3.55}\n"
          ]
        },
        {
          "name": "stderr",
          "output_type": "stream",
          "text": [
            " 59%|█████▉    | 100504/168978 [1:35:17<55:31, 20.55it/s]  "
          ]
        },
        {
          "name": "stdout",
          "output_type": "stream",
          "text": [
            "{'loss': 0.0803, 'learning_rate': 8.104960409047332e-06, 'epoch': 3.57}\n"
          ]
        },
        {
          "name": "stderr",
          "output_type": "stream",
          "text": [
            " 60%|█████▉    | 101003/168978 [1:35:39<56:35, 20.02it/s]  "
          ]
        },
        {
          "name": "stdout",
          "output_type": "stream",
          "text": [
            "{'loss': 0.0809, 'learning_rate': 8.045781107599806e-06, 'epoch': 3.59}\n"
          ]
        },
        {
          "name": "stderr",
          "output_type": "stream",
          "text": [
            " 60%|██████    | 101504/168978 [1:36:01<53:26, 21.04it/s]  "
          ]
        },
        {
          "name": "stdout",
          "output_type": "stream",
          "text": [
            "{'loss': 0.0827, 'learning_rate': 7.986601806152281e-06, 'epoch': 3.6}\n"
          ]
        },
        {
          "name": "stderr",
          "output_type": "stream",
          "text": [
            " 60%|██████    | 102002/168978 [1:36:23<1:00:45, 18.37it/s]"
          ]
        },
        {
          "name": "stdout",
          "output_type": "stream",
          "text": [
            "{'loss': 0.0747, 'learning_rate': 7.927422504704754e-06, 'epoch': 3.62}\n"
          ]
        },
        {
          "name": "stderr",
          "output_type": "stream",
          "text": [
            " 61%|██████    | 102502/168978 [1:36:45<1:01:57, 17.88it/s]"
          ]
        },
        {
          "name": "stdout",
          "output_type": "stream",
          "text": [
            "{'loss': 0.09, 'learning_rate': 7.868243203257229e-06, 'epoch': 3.64}\n"
          ]
        },
        {
          "name": "stderr",
          "output_type": "stream",
          "text": [
            " 61%|██████    | 103003/168978 [1:37:08<55:02, 19.98it/s]  "
          ]
        },
        {
          "name": "stdout",
          "output_type": "stream",
          "text": [
            "{'loss': 0.0781, 'learning_rate': 7.809063901809704e-06, 'epoch': 3.66}\n"
          ]
        },
        {
          "name": "stderr",
          "output_type": "stream",
          "text": [
            " 61%|██████▏   | 103502/168978 [1:37:30<1:03:16, 17.25it/s]"
          ]
        },
        {
          "name": "stdout",
          "output_type": "stream",
          "text": [
            "{'loss': 0.0837, 'learning_rate': 7.749884600362177e-06, 'epoch': 3.68}\n"
          ]
        },
        {
          "name": "stderr",
          "output_type": "stream",
          "text": [
            " 62%|██████▏   | 104004/168978 [1:37:53<52:19, 20.69it/s]  "
          ]
        },
        {
          "name": "stdout",
          "output_type": "stream",
          "text": [
            "{'loss': 0.0796, 'learning_rate': 7.690705298914652e-06, 'epoch': 3.69}\n"
          ]
        },
        {
          "name": "stderr",
          "output_type": "stream",
          "text": [
            " 62%|██████▏   | 104505/168978 [1:38:15<52:06, 20.62it/s]  "
          ]
        },
        {
          "name": "stdout",
          "output_type": "stream",
          "text": [
            "{'loss': 0.0794, 'learning_rate': 7.631525997467127e-06, 'epoch': 3.71}\n"
          ]
        },
        {
          "name": "stderr",
          "output_type": "stream",
          "text": [
            " 62%|██████▏   | 105000/168978 [1:38:38<1:11:11, 14.98it/s]"
          ]
        },
        {
          "name": "stdout",
          "output_type": "stream",
          "text": [
            "{'loss': 0.089, 'learning_rate': 7.5723466960196015e-06, 'epoch': 3.73}\n"
          ]
        },
        {
          "name": "stderr",
          "output_type": "stream",
          "text": [
            "                                                           \n",
            " 62%|██████▏   | 105000/168978 [1:40:11<1:11:11, 14.98it/s]Checkpoint destination directory roberta-base-finetuned-ner/checkpoint-105000 already exists and is non-empty.Saving will proceed but saved results may be invalid.\n"
          ]
        },
        {
          "name": "stdout",
          "output_type": "stream",
          "text": [
            "{'eval_loss': 0.12602955102920532, 'eval_precision': 0.9661496445252977, 'eval_recall': 0.9577254357066554, 'eval_f1': 0.961919096274443, 'eval_accuracy': 0.9580130789153007, 'eval_runtime': 92.433, 'eval_samples_per_second': 261.162, 'eval_steps_per_second': 65.291, 'epoch': 3.73}\n"
          ]
        },
        {
          "name": "stderr",
          "output_type": "stream",
          "text": [
            " 62%|██████▏   | 105502/168978 [1:40:35<59:12, 17.87it/s]    "
          ]
        },
        {
          "name": "stdout",
          "output_type": "stream",
          "text": [
            "{'loss': 0.0857, 'learning_rate': 7.5131673945720755e-06, 'epoch': 3.75}\n"
          ]
        },
        {
          "name": "stderr",
          "output_type": "stream",
          "text": [
            " 63%|██████▎   | 106003/168978 [1:40:57<54:31, 19.25it/s]  "
          ]
        },
        {
          "name": "stdout",
          "output_type": "stream",
          "text": [
            "{'loss': 0.0787, 'learning_rate': 7.453988093124549e-06, 'epoch': 3.76}\n"
          ]
        },
        {
          "name": "stderr",
          "output_type": "stream",
          "text": [
            " 63%|██████▎   | 106503/168978 [1:41:20<51:29, 20.22it/s]  "
          ]
        },
        {
          "name": "stdout",
          "output_type": "stream",
          "text": [
            "{'loss': 0.0778, 'learning_rate': 7.394808791677024e-06, 'epoch': 3.78}\n"
          ]
        },
        {
          "name": "stderr",
          "output_type": "stream",
          "text": [
            " 63%|██████▎   | 107003/168978 [1:41:42<56:07, 18.40it/s]  "
          ]
        },
        {
          "name": "stdout",
          "output_type": "stream",
          "text": [
            "{'loss': 0.0812, 'learning_rate': 7.335629490229497e-06, 'epoch': 3.8}\n"
          ]
        },
        {
          "name": "stderr",
          "output_type": "stream",
          "text": [
            " 64%|██████▎   | 107504/168978 [1:42:04<53:14, 19.24it/s]  "
          ]
        },
        {
          "name": "stdout",
          "output_type": "stream",
          "text": [
            "{'loss': 0.0752, 'learning_rate': 7.276450188781973e-06, 'epoch': 3.82}\n"
          ]
        },
        {
          "name": "stderr",
          "output_type": "stream",
          "text": [
            " 64%|██████▍   | 108004/168978 [1:42:26<55:53, 18.18it/s]  "
          ]
        },
        {
          "name": "stdout",
          "output_type": "stream",
          "text": [
            "{'loss': 0.079, 'learning_rate': 7.217270887334446e-06, 'epoch': 3.83}\n"
          ]
        },
        {
          "name": "stderr",
          "output_type": "stream",
          "text": [
            " 64%|██████▍   | 108505/168978 [1:42:49<50:39, 19.90it/s]  "
          ]
        },
        {
          "name": "stdout",
          "output_type": "stream",
          "text": [
            "{'loss': 0.0815, 'learning_rate': 7.15809158588692e-06, 'epoch': 3.85}\n"
          ]
        },
        {
          "name": "stderr",
          "output_type": "stream",
          "text": [
            " 65%|██████▍   | 109005/168978 [1:43:11<49:16, 20.29it/s]  "
          ]
        },
        {
          "name": "stdout",
          "output_type": "stream",
          "text": [
            "{'loss': 0.0804, 'learning_rate': 7.098912284439396e-06, 'epoch': 3.87}\n"
          ]
        },
        {
          "name": "stderr",
          "output_type": "stream",
          "text": [
            " 65%|██████▍   | 109503/168978 [1:43:33<51:54, 19.10it/s]  "
          ]
        },
        {
          "name": "stdout",
          "output_type": "stream",
          "text": [
            "{'loss': 0.0797, 'learning_rate': 7.039732982991869e-06, 'epoch': 3.89}\n"
          ]
        },
        {
          "name": "stderr",
          "output_type": "stream",
          "text": [
            " 65%|██████▌   | 110003/168978 [1:43:55<51:57, 18.92it/s]  "
          ]
        },
        {
          "name": "stdout",
          "output_type": "stream",
          "text": [
            "{'loss': 0.0875, 'learning_rate': 6.980553681544343e-06, 'epoch': 3.91}\n"
          ]
        },
        {
          "name": "stderr",
          "output_type": "stream",
          "text": [
            " 65%|██████▌   | 110501/168978 [1:44:18<56:42, 17.19it/s]  "
          ]
        },
        {
          "name": "stdout",
          "output_type": "stream",
          "text": [
            "{'loss': 0.0815, 'learning_rate': 6.921374380096818e-06, 'epoch': 3.92}\n"
          ]
        },
        {
          "name": "stderr",
          "output_type": "stream",
          "text": [
            " 66%|██████▌   | 111005/168978 [1:44:40<47:59, 20.13it/s]  "
          ]
        },
        {
          "name": "stdout",
          "output_type": "stream",
          "text": [
            "{'loss': 0.0871, 'learning_rate': 6.862195078649292e-06, 'epoch': 3.94}\n"
          ]
        },
        {
          "name": "stderr",
          "output_type": "stream",
          "text": [
            " 66%|██████▌   | 111503/168978 [1:45:02<51:27, 18.62it/s]  "
          ]
        },
        {
          "name": "stdout",
          "output_type": "stream",
          "text": [
            "{'loss': 0.0805, 'learning_rate': 6.8030157772017665e-06, 'epoch': 3.96}\n"
          ]
        },
        {
          "name": "stderr",
          "output_type": "stream",
          "text": [
            " 66%|██████▋   | 112000/168978 [1:45:25<47:39, 19.93it/s]  "
          ]
        },
        {
          "name": "stdout",
          "output_type": "stream",
          "text": [
            "{'loss': 0.0826, 'learning_rate': 6.7438364757542405e-06, 'epoch': 3.98}\n"
          ]
        },
        {
          "name": "stderr",
          "output_type": "stream",
          "text": [
            "                                                         \n",
            " 66%|██████▋   | 112004/168978 [1:46:57<102:33:52,  6.48s/it]"
          ]
        },
        {
          "name": "stdout",
          "output_type": "stream",
          "text": [
            "{'eval_loss': 0.11883750557899475, 'eval_precision': 0.9640815168267715, 'eval_recall': 0.9593382786879122, 'eval_f1': 0.9617040492400045, 'eval_accuracy': 0.9577096349288002, 'eval_runtime': 91.7793, 'eval_samples_per_second': 263.022, 'eval_steps_per_second': 65.756, 'epoch': 3.98}\n"
          ]
        },
        {
          "name": "stderr",
          "output_type": "stream",
          "text": [
            " 67%|██████▋   | 112505/168978 [1:47:19<47:16, 19.91it/s]    "
          ]
        },
        {
          "name": "stdout",
          "output_type": "stream",
          "text": [
            "{'loss': 0.083, 'learning_rate': 6.6846571743067144e-06, 'epoch': 3.99}\n"
          ]
        },
        {
          "name": "stderr",
          "output_type": "stream",
          "text": [
            " 67%|██████▋   | 113003/168978 [1:47:42<48:18, 19.31it/s]  "
          ]
        },
        {
          "name": "stdout",
          "output_type": "stream",
          "text": [
            "{'loss': 0.0699, 'learning_rate': 6.625477872859189e-06, 'epoch': 4.01}\n"
          ]
        },
        {
          "name": "stderr",
          "output_type": "stream",
          "text": [
            " 67%|██████▋   | 113504/168978 [1:48:04<46:47, 19.76it/s]  "
          ]
        },
        {
          "name": "stdout",
          "output_type": "stream",
          "text": [
            "{'loss': 0.0677, 'learning_rate': 6.566298571411663e-06, 'epoch': 4.03}\n"
          ]
        },
        {
          "name": "stderr",
          "output_type": "stream",
          "text": [
            " 67%|██████▋   | 114001/168978 [1:48:27<51:07, 17.92it/s]  "
          ]
        },
        {
          "name": "stdout",
          "output_type": "stream",
          "text": [
            "{'loss': 0.0659, 'learning_rate': 6.507119269964138e-06, 'epoch': 4.05}\n"
          ]
        },
        {
          "name": "stderr",
          "output_type": "stream",
          "text": [
            " 68%|██████▊   | 114504/168978 [1:48:50<46:07, 19.68it/s]  "
          ]
        },
        {
          "name": "stdout",
          "output_type": "stream",
          "text": [
            "{'loss': 0.0731, 'learning_rate': 6.447939968516612e-06, 'epoch': 4.07}\n"
          ]
        },
        {
          "name": "stderr",
          "output_type": "stream",
          "text": [
            " 68%|██████▊   | 115002/168978 [1:49:12<47:30, 18.93it/s]  "
          ]
        },
        {
          "name": "stdout",
          "output_type": "stream",
          "text": [
            "{'loss': 0.0661, 'learning_rate': 6.388760667069086e-06, 'epoch': 4.08}\n"
          ]
        },
        {
          "name": "stderr",
          "output_type": "stream",
          "text": [
            " 68%|██████▊   | 115505/168978 [1:49:35<44:03, 20.22it/s]  "
          ]
        },
        {
          "name": "stdout",
          "output_type": "stream",
          "text": [
            "{'loss': 0.0722, 'learning_rate': 6.329581365621561e-06, 'epoch': 4.1}\n"
          ]
        },
        {
          "name": "stderr",
          "output_type": "stream",
          "text": [
            " 69%|██████▊   | 116002/168978 [1:49:57<45:58, 19.21it/s]  "
          ]
        },
        {
          "name": "stdout",
          "output_type": "stream",
          "text": [
            "{'loss': 0.0697, 'learning_rate': 6.270402064174035e-06, 'epoch': 4.12}\n"
          ]
        },
        {
          "name": "stderr",
          "output_type": "stream",
          "text": [
            " 69%|██████▉   | 116505/168978 [1:50:20<40:17, 21.71it/s]  "
          ]
        },
        {
          "name": "stdout",
          "output_type": "stream",
          "text": [
            "{'loss': 0.0674, 'learning_rate': 6.21122276272651e-06, 'epoch': 4.14}\n"
          ]
        },
        {
          "name": "stderr",
          "output_type": "stream",
          "text": [
            " 69%|██████▉   | 117002/168978 [1:50:42<47:07, 18.38it/s]  "
          ]
        },
        {
          "name": "stdout",
          "output_type": "stream",
          "text": [
            "{'loss': 0.0683, 'learning_rate': 6.1520434612789836e-06, 'epoch': 4.15}\n"
          ]
        },
        {
          "name": "stderr",
          "output_type": "stream",
          "text": [
            " 70%|██████▉   | 117503/168978 [1:51:05<45:01, 19.06it/s]  "
          ]
        },
        {
          "name": "stdout",
          "output_type": "stream",
          "text": [
            "{'loss': 0.0678, 'learning_rate': 6.0928641598314575e-06, 'epoch': 4.17}\n"
          ]
        },
        {
          "name": "stderr",
          "output_type": "stream",
          "text": [
            " 70%|██████▉   | 118003/168978 [1:51:27<44:11, 19.23it/s]  "
          ]
        },
        {
          "name": "stdout",
          "output_type": "stream",
          "text": [
            "{'loss': 0.0673, 'learning_rate': 6.033684858383932e-06, 'epoch': 4.19}\n"
          ]
        },
        {
          "name": "stderr",
          "output_type": "stream",
          "text": [
            " 70%|███████   | 118504/168978 [1:51:49<42:47, 19.66it/s]  "
          ]
        },
        {
          "name": "stdout",
          "output_type": "stream",
          "text": [
            "{'loss': 0.0645, 'learning_rate': 5.974505556936406e-06, 'epoch': 4.21}\n"
          ]
        },
        {
          "name": "stderr",
          "output_type": "stream",
          "text": [
            " 70%|███████   | 119000/168978 [1:52:11<40:56, 20.35it/s]  "
          ]
        },
        {
          "name": "stdout",
          "output_type": "stream",
          "text": [
            "{'loss': 0.072, 'learning_rate': 5.91532625548888e-06, 'epoch': 4.23}\n"
          ]
        },
        {
          "name": "stderr",
          "output_type": "stream",
          "text": [
            "                                                         \n",
            " 70%|███████   | 119004/168978 [1:53:43<96:41:59,  6.97s/it] "
          ]
        },
        {
          "name": "stdout",
          "output_type": "stream",
          "text": [
            "{'eval_loss': 0.1360536515712738, 'eval_precision': 0.9644569721354792, 'eval_recall': 0.9597954625251189, 'eval_f1': 0.9621205710669876, 'eval_accuracy': 0.9580808914540446, 'eval_runtime': 91.8095, 'eval_samples_per_second': 262.936, 'eval_steps_per_second': 65.734, 'epoch': 4.23}\n"
          ]
        },
        {
          "name": "stderr",
          "output_type": "stream",
          "text": [
            " 71%|███████   | 119504/168978 [1:54:06<40:32, 20.34it/s]   "
          ]
        },
        {
          "name": "stdout",
          "output_type": "stream",
          "text": [
            "{'loss': 0.0806, 'learning_rate': 5.856146954041355e-06, 'epoch': 4.24}\n"
          ]
        },
        {
          "name": "stderr",
          "output_type": "stream",
          "text": [
            " 71%|███████   | 120005/168978 [1:54:28<40:50, 19.99it/s]  "
          ]
        },
        {
          "name": "stdout",
          "output_type": "stream",
          "text": [
            "{'loss': 0.0678, 'learning_rate': 5.796967652593829e-06, 'epoch': 4.26}\n"
          ]
        },
        {
          "name": "stderr",
          "output_type": "stream",
          "text": [
            " 71%|███████▏  | 120503/168978 [1:54:50<40:00, 20.19it/s]  "
          ]
        },
        {
          "name": "stdout",
          "output_type": "stream",
          "text": [
            "{'loss': 0.0657, 'learning_rate': 5.737788351146304e-06, 'epoch': 4.28}\n"
          ]
        },
        {
          "name": "stderr",
          "output_type": "stream",
          "text": [
            " 72%|███████▏  | 121004/168978 [1:55:13<39:13, 20.38it/s]  "
          ]
        },
        {
          "name": "stdout",
          "output_type": "stream",
          "text": [
            "{'loss': 0.0689, 'learning_rate': 5.678609049698778e-06, 'epoch': 4.3}\n"
          ]
        },
        {
          "name": "stderr",
          "output_type": "stream",
          "text": [
            " 72%|███████▏  | 121502/168978 [1:55:36<41:55, 18.87it/s]  "
          ]
        },
        {
          "name": "stdout",
          "output_type": "stream",
          "text": [
            "{'loss': 0.0677, 'learning_rate': 5.619429748251252e-06, 'epoch': 4.31}\n"
          ]
        },
        {
          "name": "stderr",
          "output_type": "stream",
          "text": [
            " 72%|███████▏  | 122005/168978 [1:55:58<39:40, 19.73it/s]  "
          ]
        },
        {
          "name": "stdout",
          "output_type": "stream",
          "text": [
            "{'loss': 0.0709, 'learning_rate': 5.560250446803727e-06, 'epoch': 4.33}\n"
          ]
        },
        {
          "name": "stderr",
          "output_type": "stream",
          "text": [
            " 72%|███████▏  | 122502/168978 [1:56:21<41:14, 18.78it/s]  "
          ]
        },
        {
          "name": "stdout",
          "output_type": "stream",
          "text": [
            "{'loss': 0.0711, 'learning_rate': 5.501071145356201e-06, 'epoch': 4.35}\n"
          ]
        },
        {
          "name": "stderr",
          "output_type": "stream",
          "text": [
            " 73%|███████▎  | 123004/168978 [1:56:43<37:54, 20.21it/s]  "
          ]
        },
        {
          "name": "stdout",
          "output_type": "stream",
          "text": [
            "{'loss': 0.0715, 'learning_rate': 5.4418918439086754e-06, 'epoch': 4.37}\n"
          ]
        },
        {
          "name": "stderr",
          "output_type": "stream",
          "text": [
            " 73%|███████▎  | 123502/168978 [1:57:06<41:41, 18.18it/s]  "
          ]
        },
        {
          "name": "stdout",
          "output_type": "stream",
          "text": [
            "{'loss': 0.0679, 'learning_rate': 5.382712542461149e-06, 'epoch': 4.39}\n"
          ]
        },
        {
          "name": "stderr",
          "output_type": "stream",
          "text": [
            " 73%|███████▎  | 124003/168978 [1:57:28<38:44, 19.35it/s]  "
          ]
        },
        {
          "name": "stdout",
          "output_type": "stream",
          "text": [
            "{'loss': 0.069, 'learning_rate': 5.323533241013623e-06, 'epoch': 4.4}\n"
          ]
        },
        {
          "name": "stderr",
          "output_type": "stream",
          "text": [
            " 74%|███████▎  | 124504/168978 [1:57:51<35:11, 21.06it/s]  "
          ]
        },
        {
          "name": "stdout",
          "output_type": "stream",
          "text": [
            "{'loss': 0.0716, 'learning_rate': 5.264353939566098e-06, 'epoch': 4.42}\n"
          ]
        },
        {
          "name": "stderr",
          "output_type": "stream",
          "text": [
            " 74%|███████▍  | 125002/168978 [1:58:13<38:20, 19.12it/s]  "
          ]
        },
        {
          "name": "stdout",
          "output_type": "stream",
          "text": [
            "{'loss': 0.0679, 'learning_rate': 5.205174638118572e-06, 'epoch': 4.44}\n"
          ]
        },
        {
          "name": "stderr",
          "output_type": "stream",
          "text": [
            " 74%|███████▍  | 125503/168978 [1:58:36<34:59, 20.71it/s]  "
          ]
        },
        {
          "name": "stdout",
          "output_type": "stream",
          "text": [
            "{'loss': 0.0682, 'learning_rate': 5.145995336671047e-06, 'epoch': 4.46}\n"
          ]
        },
        {
          "name": "stderr",
          "output_type": "stream",
          "text": [
            " 75%|███████▍  | 126000/168978 [1:58:58<31:37, 22.65it/s]  "
          ]
        },
        {
          "name": "stdout",
          "output_type": "stream",
          "text": [
            "{'loss': 0.0648, 'learning_rate': 5.086816035223521e-06, 'epoch': 4.47}\n"
          ]
        },
        {
          "name": "stderr",
          "output_type": "stream",
          "text": [
            "                                                         \n",
            " 75%|███████▍  | 126004/168978 [2:00:30<77:19:41,  6.48s/it] "
          ]
        },
        {
          "name": "stdout",
          "output_type": "stream",
          "text": [
            "{'eval_loss': 0.137737438082695, 'eval_precision': 0.9639867297028285, 'eval_recall': 0.960078587809925, 'eval_f1': 0.9620286896673558, 'eval_accuracy': 0.9581219899623743, 'eval_runtime': 91.7379, 'eval_samples_per_second': 263.141, 'eval_steps_per_second': 65.785, 'epoch': 4.47}\n"
          ]
        },
        {
          "name": "stderr",
          "output_type": "stream",
          "text": [
            " 75%|███████▍  | 126505/168978 [2:00:52<34:13, 20.68it/s]   "
          ]
        },
        {
          "name": "stdout",
          "output_type": "stream",
          "text": [
            "{'loss': 0.0706, 'learning_rate': 5.027636733775995e-06, 'epoch': 4.49}\n"
          ]
        },
        {
          "name": "stderr",
          "output_type": "stream",
          "text": [
            " 75%|███████▌  | 127003/168978 [2:01:14<36:21, 19.24it/s]  "
          ]
        },
        {
          "name": "stdout",
          "output_type": "stream",
          "text": [
            "{'loss': 0.0721, 'learning_rate': 4.968457432328469e-06, 'epoch': 4.51}\n"
          ]
        },
        {
          "name": "stderr",
          "output_type": "stream",
          "text": [
            " 75%|███████▌  | 127503/168978 [2:01:37<35:36, 19.41it/s]  "
          ]
        },
        {
          "name": "stdout",
          "output_type": "stream",
          "text": [
            "{'loss': 0.0709, 'learning_rate': 4.909278130880944e-06, 'epoch': 4.53}\n"
          ]
        },
        {
          "name": "stderr",
          "output_type": "stream",
          "text": [
            " 76%|███████▌  | 128004/168978 [2:02:00<36:43, 18.59it/s]  "
          ]
        },
        {
          "name": "stdout",
          "output_type": "stream",
          "text": [
            "{'loss': 0.0661, 'learning_rate': 4.850098829433418e-06, 'epoch': 4.54}\n"
          ]
        },
        {
          "name": "stderr",
          "output_type": "stream",
          "text": [
            " 76%|███████▌  | 128504/168978 [2:02:22<34:31, 19.54it/s]  "
          ]
        },
        {
          "name": "stdout",
          "output_type": "stream",
          "text": [
            "{'loss': 0.0713, 'learning_rate': 4.7909195279858925e-06, 'epoch': 4.56}\n"
          ]
        },
        {
          "name": "stderr",
          "output_type": "stream",
          "text": [
            " 76%|███████▋  | 129005/168978 [2:02:45<33:54, 19.65it/s]  "
          ]
        },
        {
          "name": "stdout",
          "output_type": "stream",
          "text": [
            "{'loss': 0.0668, 'learning_rate': 4.7317402265383665e-06, 'epoch': 4.58}\n"
          ]
        },
        {
          "name": "stderr",
          "output_type": "stream",
          "text": [
            " 77%|███████▋  | 129503/168978 [2:03:06<33:09, 19.84it/s]  "
          ]
        },
        {
          "name": "stdout",
          "output_type": "stream",
          "text": [
            "{'loss': 0.0661, 'learning_rate': 4.6725609250908405e-06, 'epoch': 4.6}\n"
          ]
        },
        {
          "name": "stderr",
          "output_type": "stream",
          "text": [
            " 77%|███████▋  | 130004/168978 [2:03:28<31:30, 20.61it/s]  "
          ]
        },
        {
          "name": "stdout",
          "output_type": "stream",
          "text": [
            "{'loss': 0.0716, 'learning_rate': 4.613381623643315e-06, 'epoch': 4.62}\n"
          ]
        },
        {
          "name": "stderr",
          "output_type": "stream",
          "text": [
            " 77%|███████▋  | 130501/168978 [2:03:51<34:42, 18.48it/s]  "
          ]
        },
        {
          "name": "stdout",
          "output_type": "stream",
          "text": [
            "{'loss': 0.0664, 'learning_rate': 4.554202322195789e-06, 'epoch': 4.63}\n"
          ]
        },
        {
          "name": "stderr",
          "output_type": "stream",
          "text": [
            " 78%|███████▊  | 131005/168978 [2:04:13<30:21, 20.85it/s]  "
          ]
        },
        {
          "name": "stdout",
          "output_type": "stream",
          "text": [
            "{'loss': 0.0692, 'learning_rate': 4.495023020748264e-06, 'epoch': 4.65}\n"
          ]
        },
        {
          "name": "stderr",
          "output_type": "stream",
          "text": [
            " 78%|███████▊  | 131503/168978 [2:04:36<34:42, 18.00it/s]  "
          ]
        },
        {
          "name": "stdout",
          "output_type": "stream",
          "text": [
            "{'loss': 0.0642, 'learning_rate': 4.435843719300737e-06, 'epoch': 4.67}\n"
          ]
        },
        {
          "name": "stderr",
          "output_type": "stream",
          "text": [
            " 78%|███████▊  | 132003/168978 [2:04:59<33:19, 18.49it/s]  "
          ]
        },
        {
          "name": "stdout",
          "output_type": "stream",
          "text": [
            "{'loss': 0.0763, 'learning_rate': 4.376664417853212e-06, 'epoch': 4.69}\n"
          ]
        },
        {
          "name": "stderr",
          "output_type": "stream",
          "text": [
            " 78%|███████▊  | 132504/168978 [2:05:21<30:01, 20.24it/s]  "
          ]
        },
        {
          "name": "stdout",
          "output_type": "stream",
          "text": [
            "{'loss': 0.0704, 'learning_rate': 4.317485116405686e-06, 'epoch': 4.7}\n"
          ]
        },
        {
          "name": "stderr",
          "output_type": "stream",
          "text": [
            " 79%|███████▊  | 133000/168978 [2:05:44<25:35, 23.43it/s]  "
          ]
        },
        {
          "name": "stdout",
          "output_type": "stream",
          "text": [
            "{'loss': 0.0665, 'learning_rate': 4.258305814958161e-06, 'epoch': 4.72}\n"
          ]
        },
        {
          "name": "stderr",
          "output_type": "stream",
          "text": [
            "                                                         \n",
            " 79%|███████▊  | 133004/168978 [2:07:16<64:54:28,  6.50s/it]"
          ]
        },
        {
          "name": "stdout",
          "output_type": "stream",
          "text": [
            "{'eval_loss': 0.135219007730484, 'eval_precision': 0.9655105025878773, 'eval_recall': 0.9595989930003063, 'eval_f1': 0.9625456714413742, 'eval_accuracy': 0.9586425710678831, 'eval_runtime': 92.0724, 'eval_samples_per_second': 262.185, 'eval_steps_per_second': 65.546, 'epoch': 4.72}\n"
          ]
        },
        {
          "name": "stderr",
          "output_type": "stream",
          "text": [
            " 79%|███████▉  | 133502/168978 [2:07:38<33:41, 17.55it/s]   "
          ]
        },
        {
          "name": "stdout",
          "output_type": "stream",
          "text": [
            "{'loss': 0.0699, 'learning_rate': 4.199126513510635e-06, 'epoch': 4.74}\n"
          ]
        },
        {
          "name": "stderr",
          "output_type": "stream",
          "text": [
            " 79%|███████▉  | 134003/168978 [2:08:01<27:59, 20.82it/s]  "
          ]
        },
        {
          "name": "stdout",
          "output_type": "stream",
          "text": [
            "{'loss': 0.0623, 'learning_rate': 4.139947212063109e-06, 'epoch': 4.76}\n"
          ]
        },
        {
          "name": "stderr",
          "output_type": "stream",
          "text": [
            " 80%|███████▉  | 134504/168978 [2:08:23<28:31, 20.14it/s]  "
          ]
        },
        {
          "name": "stdout",
          "output_type": "stream",
          "text": [
            "{'loss': 0.0636, 'learning_rate': 4.0807679106155835e-06, 'epoch': 4.78}\n"
          ]
        },
        {
          "name": "stderr",
          "output_type": "stream",
          "text": [
            " 80%|███████▉  | 135002/168978 [2:08:45<30:05, 18.82it/s]"
          ]
        },
        {
          "name": "stdout",
          "output_type": "stream",
          "text": [
            "{'loss': 0.0781, 'learning_rate': 4.0215886091680575e-06, 'epoch': 4.79}\n"
          ]
        },
        {
          "name": "stderr",
          "output_type": "stream",
          "text": [
            " 80%|████████  | 135503/168978 [2:09:08<28:59, 19.25it/s]"
          ]
        },
        {
          "name": "stdout",
          "output_type": "stream",
          "text": [
            "{'loss': 0.0692, 'learning_rate': 3.962409307720532e-06, 'epoch': 4.81}\n"
          ]
        },
        {
          "name": "stderr",
          "output_type": "stream",
          "text": [
            " 80%|████████  | 136004/168978 [2:09:31<27:20, 20.10it/s]"
          ]
        },
        {
          "name": "stdout",
          "output_type": "stream",
          "text": [
            "{'loss': 0.0658, 'learning_rate': 3.903230006273006e-06, 'epoch': 4.83}\n"
          ]
        },
        {
          "name": "stderr",
          "output_type": "stream",
          "text": [
            " 81%|████████  | 136504/168978 [2:09:53<27:56, 19.37it/s]"
          ]
        },
        {
          "name": "stdout",
          "output_type": "stream",
          "text": [
            "{'loss': 0.0638, 'learning_rate': 3.84405070482548e-06, 'epoch': 4.85}\n"
          ]
        },
        {
          "name": "stderr",
          "output_type": "stream",
          "text": [
            " 81%|████████  | 137005/168978 [2:10:16<29:10, 18.27it/s]"
          ]
        },
        {
          "name": "stdout",
          "output_type": "stream",
          "text": [
            "{'loss': 0.0697, 'learning_rate': 3.784871403377955e-06, 'epoch': 4.86}\n"
          ]
        },
        {
          "name": "stderr",
          "output_type": "stream",
          "text": [
            " 81%|████████▏ | 137503/168978 [2:10:38<26:14, 19.99it/s]"
          ]
        },
        {
          "name": "stdout",
          "output_type": "stream",
          "text": [
            "{'loss': 0.0664, 'learning_rate': 3.7256921019304295e-06, 'epoch': 4.88}\n"
          ]
        },
        {
          "name": "stderr",
          "output_type": "stream",
          "text": [
            " 82%|████████▏ | 138003/168978 [2:11:00<31:25, 16.43it/s]"
          ]
        },
        {
          "name": "stdout",
          "output_type": "stream",
          "text": [
            "{'loss': 0.0729, 'learning_rate': 3.666512800482903e-06, 'epoch': 4.9}\n"
          ]
        },
        {
          "name": "stderr",
          "output_type": "stream",
          "text": [
            " 82%|████████▏ | 138503/168978 [2:11:23<24:25, 20.80it/s]"
          ]
        },
        {
          "name": "stdout",
          "output_type": "stream",
          "text": [
            "{'loss': 0.0696, 'learning_rate': 3.6073334990353774e-06, 'epoch': 4.92}\n"
          ]
        },
        {
          "name": "stderr",
          "output_type": "stream",
          "text": [
            " 82%|████████▏ | 139004/168978 [2:11:45<25:33, 19.55it/s]"
          ]
        },
        {
          "name": "stdout",
          "output_type": "stream",
          "text": [
            "{'loss': 0.0715, 'learning_rate': 3.548154197587852e-06, 'epoch': 4.94}\n"
          ]
        },
        {
          "name": "stderr",
          "output_type": "stream",
          "text": [
            " 83%|████████▎ | 139505/168978 [2:12:08<26:53, 18.27it/s]"
          ]
        },
        {
          "name": "stdout",
          "output_type": "stream",
          "text": [
            "{'loss': 0.0675, 'learning_rate': 3.4889748961403262e-06, 'epoch': 4.95}\n"
          ]
        },
        {
          "name": "stderr",
          "output_type": "stream",
          "text": [
            " 83%|████████▎ | 140000/168978 [2:12:31<22:14, 21.71it/s]"
          ]
        },
        {
          "name": "stdout",
          "output_type": "stream",
          "text": [
            "{'loss': 0.0692, 'learning_rate': 3.4297955946928006e-06, 'epoch': 4.97}\n"
          ]
        },
        {
          "name": "stderr",
          "output_type": "stream",
          "text": [
            "                                                         \n",
            " 83%|████████▎ | 140000/168978 [2:14:03<22:14, 21.71it/s]"
          ]
        },
        {
          "name": "stdout",
          "output_type": "stream",
          "text": [
            "{'eval_loss': 0.13921679556369781, 'eval_precision': 0.9668320521604264, 'eval_recall': 0.9593061562941216, 'eval_f1': 0.9630544014639049, 'eval_accuracy': 0.9592556238171336, 'eval_runtime': 91.9797, 'eval_samples_per_second': 262.449, 'eval_steps_per_second': 65.612, 'epoch': 4.97}\n"
          ]
        },
        {
          "name": "stderr",
          "output_type": "stream",
          "text": [
            " 83%|████████▎ | 140504/168978 [2:14:27<24:35, 19.29it/s]   "
          ]
        },
        {
          "name": "stdout",
          "output_type": "stream",
          "text": [
            "{'loss': 0.0636, 'learning_rate': 3.3706162932452746e-06, 'epoch': 4.99}\n"
          ]
        },
        {
          "name": "stderr",
          "output_type": "stream",
          "text": [
            " 83%|████████▎ | 141004/168978 [2:14:49<22:36, 20.63it/s]"
          ]
        },
        {
          "name": "stdout",
          "output_type": "stream",
          "text": [
            "{'loss': 0.0626, 'learning_rate': 3.311436991797749e-06, 'epoch': 5.01}\n"
          ]
        },
        {
          "name": "stderr",
          "output_type": "stream",
          "text": [
            " 84%|████████▎ | 141505/168978 [2:15:12<21:57, 20.86it/s]"
          ]
        },
        {
          "name": "stdout",
          "output_type": "stream",
          "text": [
            "{'loss': 0.0514, 'learning_rate': 3.2522576903502234e-06, 'epoch': 5.02}\n"
          ]
        },
        {
          "name": "stderr",
          "output_type": "stream",
          "text": [
            " 84%|████████▍ | 142005/168978 [2:15:34<21:26, 20.97it/s]"
          ]
        },
        {
          "name": "stdout",
          "output_type": "stream",
          "text": [
            "{'loss': 0.0604, 'learning_rate': 3.1930783889026978e-06, 'epoch': 5.04}\n"
          ]
        },
        {
          "name": "stderr",
          "output_type": "stream",
          "text": [
            " 84%|████████▍ | 142503/168978 [2:15:57<21:53, 20.16it/s]"
          ]
        },
        {
          "name": "stdout",
          "output_type": "stream",
          "text": [
            "{'loss': 0.0615, 'learning_rate': 3.1338990874551717e-06, 'epoch': 5.06}\n"
          ]
        },
        {
          "name": "stderr",
          "output_type": "stream",
          "text": [
            " 85%|████████▍ | 143004/168978 [2:16:19<22:35, 19.17it/s]"
          ]
        },
        {
          "name": "stdout",
          "output_type": "stream",
          "text": [
            "{'loss': 0.0609, 'learning_rate': 3.074719786007646e-06, 'epoch': 5.08}\n"
          ]
        },
        {
          "name": "stderr",
          "output_type": "stream",
          "text": [
            " 85%|████████▍ | 143504/168978 [2:16:41<22:07, 19.18it/s]"
          ]
        },
        {
          "name": "stdout",
          "output_type": "stream",
          "text": [
            "{'loss': 0.0605, 'learning_rate': 3.0155404845601205e-06, 'epoch': 5.1}\n"
          ]
        },
        {
          "name": "stderr",
          "output_type": "stream",
          "text": [
            " 85%|████████▌ | 144002/168978 [2:17:04<22:07, 18.81it/s]"
          ]
        },
        {
          "name": "stdout",
          "output_type": "stream",
          "text": [
            "{'loss': 0.0611, 'learning_rate': 2.956361183112595e-06, 'epoch': 5.11}\n"
          ]
        },
        {
          "name": "stderr",
          "output_type": "stream",
          "text": [
            " 86%|████████▌ | 144503/168978 [2:17:26<20:33, 19.84it/s]"
          ]
        },
        {
          "name": "stdout",
          "output_type": "stream",
          "text": [
            "{'loss': 0.059, 'learning_rate': 2.8971818816650693e-06, 'epoch': 5.13}\n"
          ]
        },
        {
          "name": "stderr",
          "output_type": "stream",
          "text": [
            " 86%|████████▌ | 145004/168978 [2:17:49<19:27, 20.54it/s]"
          ]
        },
        {
          "name": "stdout",
          "output_type": "stream",
          "text": [
            "{'loss': 0.062, 'learning_rate': 2.8380025802175433e-06, 'epoch': 5.15}\n"
          ]
        },
        {
          "name": "stderr",
          "output_type": "stream",
          "text": [
            " 86%|████████▌ | 145505/168978 [2:18:11<19:51, 19.70it/s]"
          ]
        },
        {
          "name": "stdout",
          "output_type": "stream",
          "text": [
            "{'loss': 0.062, 'learning_rate': 2.7788232787700177e-06, 'epoch': 5.17}\n"
          ]
        },
        {
          "name": "stderr",
          "output_type": "stream",
          "text": [
            " 86%|████████▋ | 146003/168978 [2:18:33<18:46, 20.40it/s]"
          ]
        },
        {
          "name": "stdout",
          "output_type": "stream",
          "text": [
            "{'loss': 0.0598, 'learning_rate': 2.719643977322492e-06, 'epoch': 5.18}\n"
          ]
        },
        {
          "name": "stderr",
          "output_type": "stream",
          "text": [
            " 87%|████████▋ | 146503/168978 [2:18:55<17:47, 21.05it/s]"
          ]
        },
        {
          "name": "stdout",
          "output_type": "stream",
          "text": [
            "{'loss': 0.058, 'learning_rate': 2.6604646758749665e-06, 'epoch': 5.2}\n"
          ]
        },
        {
          "name": "stderr",
          "output_type": "stream",
          "text": [
            " 87%|████████▋ | 147000/168978 [2:19:18<18:16, 20.05it/s]"
          ]
        },
        {
          "name": "stdout",
          "output_type": "stream",
          "text": [
            "{'loss': 0.0545, 'learning_rate': 2.6012853744274404e-06, 'epoch': 5.22}\n"
          ]
        },
        {
          "name": "stderr",
          "output_type": "stream",
          "text": [
            "                                                         \n",
            " 87%|████████▋ | 147003/168978 [2:20:50<44:04:25,  7.22s/it]"
          ]
        },
        {
          "name": "stdout",
          "output_type": "stream",
          "text": [
            "{'eval_loss': 0.1469879448413849, 'eval_precision': 0.966300192821623, 'eval_recall': 0.9602474171354295, 'eval_f1': 0.9632642967542503, 'eval_accuracy': 0.9594645412344759, 'eval_runtime': 92.0853, 'eval_samples_per_second': 262.148, 'eval_steps_per_second': 65.537, 'epoch': 5.22}\n"
          ]
        },
        {
          "name": "stderr",
          "output_type": "stream",
          "text": [
            " 87%|████████▋ | 147504/168978 [2:21:12<18:38, 19.20it/s]   "
          ]
        },
        {
          "name": "stdout",
          "output_type": "stream",
          "text": [
            "{'loss': 0.0639, 'learning_rate': 2.542106072979915e-06, 'epoch': 5.24}\n"
          ]
        },
        {
          "name": "stderr",
          "output_type": "stream",
          "text": [
            " 88%|████████▊ | 148004/168978 [2:21:34<18:24, 18.99it/s]"
          ]
        },
        {
          "name": "stdout",
          "output_type": "stream",
          "text": [
            "{'loss': 0.0631, 'learning_rate': 2.4829267715323892e-06, 'epoch': 5.26}\n"
          ]
        },
        {
          "name": "stderr",
          "output_type": "stream",
          "text": [
            " 88%|████████▊ | 148505/168978 [2:21:57<17:38, 19.34it/s]"
          ]
        },
        {
          "name": "stdout",
          "output_type": "stream",
          "text": [
            "{'loss': 0.0562, 'learning_rate': 2.4237474700848636e-06, 'epoch': 5.27}\n"
          ]
        },
        {
          "name": "stderr",
          "output_type": "stream",
          "text": [
            " 88%|████████▊ | 149003/168978 [2:22:19<17:48, 18.69it/s]"
          ]
        },
        {
          "name": "stdout",
          "output_type": "stream",
          "text": [
            "{'loss': 0.0627, 'learning_rate': 2.3645681686373376e-06, 'epoch': 5.29}\n"
          ]
        },
        {
          "name": "stderr",
          "output_type": "stream",
          "text": [
            " 88%|████████▊ | 149501/168978 [2:22:42<17:05, 18.99it/s]"
          ]
        },
        {
          "name": "stdout",
          "output_type": "stream",
          "text": [
            "{'loss': 0.0544, 'learning_rate': 2.305388867189812e-06, 'epoch': 5.31}\n"
          ]
        },
        {
          "name": "stderr",
          "output_type": "stream",
          "text": [
            " 89%|████████▉ | 150004/168978 [2:23:04<15:54, 19.87it/s]"
          ]
        },
        {
          "name": "stdout",
          "output_type": "stream",
          "text": [
            "{'loss': 0.063, 'learning_rate': 2.246209565742286e-06, 'epoch': 5.33}\n"
          ]
        },
        {
          "name": "stderr",
          "output_type": "stream",
          "text": [
            " 89%|████████▉ | 150504/168978 [2:23:27<15:05, 20.40it/s]"
          ]
        },
        {
          "name": "stdout",
          "output_type": "stream",
          "text": [
            "{'loss': 0.0625, 'learning_rate': 2.1870302642947603e-06, 'epoch': 5.34}\n"
          ]
        },
        {
          "name": "stderr",
          "output_type": "stream",
          "text": [
            " 89%|████████▉ | 151004/168978 [2:23:49<14:30, 20.65it/s]"
          ]
        },
        {
          "name": "stdout",
          "output_type": "stream",
          "text": [
            "{'loss': 0.0614, 'learning_rate': 2.1278509628472347e-06, 'epoch': 5.36}\n"
          ]
        },
        {
          "name": "stderr",
          "output_type": "stream",
          "text": [
            " 90%|████████▉ | 151502/168978 [2:24:12<15:01, 19.38it/s]"
          ]
        },
        {
          "name": "stdout",
          "output_type": "stream",
          "text": [
            "{'loss': 0.0585, 'learning_rate': 2.068671661399709e-06, 'epoch': 5.38}\n"
          ]
        },
        {
          "name": "stderr",
          "output_type": "stream",
          "text": [
            " 90%|████████▉ | 152003/168978 [2:24:34<14:15, 19.85it/s]"
          ]
        },
        {
          "name": "stdout",
          "output_type": "stream",
          "text": [
            "{'loss': 0.0559, 'learning_rate': 2.009492359952183e-06, 'epoch': 5.4}\n"
          ]
        },
        {
          "name": "stderr",
          "output_type": "stream",
          "text": [
            " 90%|█████████ | 152502/168978 [2:24:57<15:06, 18.18it/s]"
          ]
        },
        {
          "name": "stdout",
          "output_type": "stream",
          "text": [
            "{'loss': 0.0656, 'learning_rate': 1.9503130585046575e-06, 'epoch': 5.41}\n"
          ]
        },
        {
          "name": "stderr",
          "output_type": "stream",
          "text": [
            " 91%|█████████ | 153002/168978 [2:25:20<14:30, 18.34it/s]"
          ]
        },
        {
          "name": "stdout",
          "output_type": "stream",
          "text": [
            "{'loss': 0.0632, 'learning_rate': 1.8911337570571319e-06, 'epoch': 5.43}\n"
          ]
        },
        {
          "name": "stderr",
          "output_type": "stream",
          "text": [
            " 91%|█████████ | 153505/168978 [2:25:42<13:06, 19.67it/s]"
          ]
        },
        {
          "name": "stdout",
          "output_type": "stream",
          "text": [
            "{'loss': 0.0587, 'learning_rate': 1.831954455609606e-06, 'epoch': 5.45}\n"
          ]
        },
        {
          "name": "stderr",
          "output_type": "stream",
          "text": [
            " 91%|█████████ | 154000/168978 [2:26:04<12:33, 19.87it/s]"
          ]
        },
        {
          "name": "stdout",
          "output_type": "stream",
          "text": [
            "{'loss': 0.0549, 'learning_rate': 1.7727751541620805e-06, 'epoch': 5.47}\n"
          ]
        },
        {
          "name": "stderr",
          "output_type": "stream",
          "text": [
            "                                                         \n",
            " 91%|█████████ | 154004/168978 [2:27:36<31:20:07,  7.53s/it]"
          ]
        },
        {
          "name": "stdout",
          "output_type": "stream",
          "text": [
            "{'eval_loss': 0.14421048760414124, 'eval_precision': 0.9651735023345697, 'eval_recall': 0.9611199509946736, 'eval_f1': 0.9631424616658395, 'eval_accuracy': 0.9592802829221313, 'eval_runtime': 91.9527, 'eval_samples_per_second': 262.526, 'eval_steps_per_second': 65.632, 'epoch': 5.47}\n"
          ]
        },
        {
          "name": "stderr",
          "output_type": "stream",
          "text": [
            " 91%|█████████▏| 154503/168978 [2:27:58<12:43, 18.96it/s]   "
          ]
        },
        {
          "name": "stdout",
          "output_type": "stream",
          "text": [
            "{'loss': 0.0553, 'learning_rate': 1.7135958527145546e-06, 'epoch': 5.49}\n"
          ]
        },
        {
          "name": "stderr",
          "output_type": "stream",
          "text": [
            " 92%|█████████▏| 155003/168978 [2:28:21<11:54, 19.56it/s]"
          ]
        },
        {
          "name": "stdout",
          "output_type": "stream",
          "text": [
            "{'loss': 0.0567, 'learning_rate': 1.654416551267029e-06, 'epoch': 5.5}\n"
          ]
        },
        {
          "name": "stderr",
          "output_type": "stream",
          "text": [
            " 92%|█████████▏| 155505/168978 [2:28:43<10:34, 21.23it/s]"
          ]
        },
        {
          "name": "stdout",
          "output_type": "stream",
          "text": [
            "{'loss': 0.0581, 'learning_rate': 1.5952372498195032e-06, 'epoch': 5.52}\n"
          ]
        },
        {
          "name": "stderr",
          "output_type": "stream",
          "text": [
            " 92%|█████████▏| 156003/168978 [2:29:06<10:42, 20.19it/s]"
          ]
        },
        {
          "name": "stdout",
          "output_type": "stream",
          "text": [
            "{'loss': 0.0574, 'learning_rate': 1.5360579483719776e-06, 'epoch': 5.54}\n"
          ]
        },
        {
          "name": "stderr",
          "output_type": "stream",
          "text": [
            " 93%|█████████▎| 156504/168978 [2:29:28<10:14, 20.29it/s]"
          ]
        },
        {
          "name": "stdout",
          "output_type": "stream",
          "text": [
            "{'loss': 0.0614, 'learning_rate': 1.4768786469244518e-06, 'epoch': 5.56}\n"
          ]
        },
        {
          "name": "stderr",
          "output_type": "stream",
          "text": [
            " 93%|█████████▎| 157002/168978 [2:29:50<10:16, 19.42it/s]"
          ]
        },
        {
          "name": "stdout",
          "output_type": "stream",
          "text": [
            "{'loss': 0.0537, 'learning_rate': 1.4176993454769262e-06, 'epoch': 5.57}\n"
          ]
        },
        {
          "name": "stderr",
          "output_type": "stream",
          "text": [
            " 93%|█████████▎| 157504/168978 [2:30:14<09:47, 19.51it/s]"
          ]
        },
        {
          "name": "stdout",
          "output_type": "stream",
          "text": [
            "{'loss': 0.0514, 'learning_rate': 1.3585200440294006e-06, 'epoch': 5.59}\n"
          ]
        },
        {
          "name": "stderr",
          "output_type": "stream",
          "text": [
            " 94%|█████████▎| 158003/168978 [2:30:36<09:04, 20.14it/s]"
          ]
        },
        {
          "name": "stdout",
          "output_type": "stream",
          "text": [
            "{'loss': 0.0525, 'learning_rate': 1.2993407425818746e-06, 'epoch': 5.61}\n"
          ]
        },
        {
          "name": "stderr",
          "output_type": "stream",
          "text": [
            " 94%|█████████▍| 158504/168978 [2:30:59<07:54, 22.08it/s]"
          ]
        },
        {
          "name": "stdout",
          "output_type": "stream",
          "text": [
            "{'loss': 0.0546, 'learning_rate': 1.240161441134349e-06, 'epoch': 5.63}\n"
          ]
        },
        {
          "name": "stderr",
          "output_type": "stream",
          "text": [
            " 94%|█████████▍| 159005/168978 [2:31:21<07:51, 21.15it/s]"
          ]
        },
        {
          "name": "stdout",
          "output_type": "stream",
          "text": [
            "{'loss': 0.0568, 'learning_rate': 1.1809821396868231e-06, 'epoch': 5.65}\n"
          ]
        },
        {
          "name": "stderr",
          "output_type": "stream",
          "text": [
            " 94%|█████████▍| 159503/168978 [2:31:43<08:11, 19.27it/s]"
          ]
        },
        {
          "name": "stdout",
          "output_type": "stream",
          "text": [
            "{'loss': 0.0563, 'learning_rate': 1.1218028382392975e-06, 'epoch': 5.66}\n"
          ]
        },
        {
          "name": "stderr",
          "output_type": "stream",
          "text": [
            " 95%|█████████▍| 160004/168978 [2:32:06<07:30, 19.91it/s]"
          ]
        },
        {
          "name": "stdout",
          "output_type": "stream",
          "text": [
            "{'loss': 0.0517, 'learning_rate': 1.062623536791772e-06, 'epoch': 5.68}\n"
          ]
        },
        {
          "name": "stderr",
          "output_type": "stream",
          "text": [
            " 95%|█████████▍| 160502/168978 [2:32:28<07:38, 18.50it/s]"
          ]
        },
        {
          "name": "stdout",
          "output_type": "stream",
          "text": [
            "{'loss': 0.0618, 'learning_rate': 1.003444235344246e-06, 'epoch': 5.7}\n"
          ]
        },
        {
          "name": "stderr",
          "output_type": "stream",
          "text": [
            " 95%|█████████▌| 161000/168978 [2:32:50<06:47, 19.56it/s]"
          ]
        },
        {
          "name": "stdout",
          "output_type": "stream",
          "text": [
            "{'loss': 0.0563, 'learning_rate': 9.442649338967204e-07, 'epoch': 5.72}\n"
          ]
        },
        {
          "name": "stderr",
          "output_type": "stream",
          "text": [
            "                                                         \n",
            " 95%|█████████▌| 161004/168978 [2:34:22<16:40:36,  7.53s/it]"
          ]
        },
        {
          "name": "stdout",
          "output_type": "stream",
          "text": [
            "{'eval_loss': 0.14536696672439575, 'eval_precision': 0.9656840663795744, 'eval_recall': 0.960883888751933, 'eval_f1': 0.9632779975780777, 'eval_accuracy': 0.959436457253784, 'eval_runtime': 91.8876, 'eval_samples_per_second': 262.712, 'eval_steps_per_second': 65.678, 'epoch': 5.72}\n"
          ]
        },
        {
          "name": "stderr",
          "output_type": "stream",
          "text": [
            " 96%|█████████▌| 161502/168978 [2:34:44<06:29, 19.20it/s]   "
          ]
        },
        {
          "name": "stdout",
          "output_type": "stream",
          "text": [
            "{'loss': 0.0497, 'learning_rate': 8.850856324491947e-07, 'epoch': 5.73}\n"
          ]
        },
        {
          "name": "stderr",
          "output_type": "stream",
          "text": [
            " 96%|█████████▌| 162005/168978 [2:35:07<05:53, 19.74it/s]"
          ]
        },
        {
          "name": "stdout",
          "output_type": "stream",
          "text": [
            "{'loss': 0.0546, 'learning_rate': 8.25906331001669e-07, 'epoch': 5.75}\n"
          ]
        },
        {
          "name": "stderr",
          "output_type": "stream",
          "text": [
            " 96%|█████████▌| 162503/168978 [2:35:29<05:13, 20.67it/s]"
          ]
        },
        {
          "name": "stdout",
          "output_type": "stream",
          "text": [
            "{'loss': 0.0565, 'learning_rate': 7.667270295541431e-07, 'epoch': 5.77}\n"
          ]
        },
        {
          "name": "stderr",
          "output_type": "stream",
          "text": [
            " 96%|█████████▋| 163002/168978 [2:35:52<05:37, 17.68it/s]"
          ]
        },
        {
          "name": "stdout",
          "output_type": "stream",
          "text": [
            "{'loss': 0.0646, 'learning_rate': 7.075477281066174e-07, 'epoch': 5.79}\n"
          ]
        },
        {
          "name": "stderr",
          "output_type": "stream",
          "text": [
            " 97%|█████████▋| 163504/168978 [2:36:15<04:40, 19.49it/s]"
          ]
        },
        {
          "name": "stdout",
          "output_type": "stream",
          "text": [
            "{'loss': 0.0584, 'learning_rate': 6.483684266590917e-07, 'epoch': 5.81}\n"
          ]
        },
        {
          "name": "stderr",
          "output_type": "stream",
          "text": [
            " 97%|█████████▋| 164005/168978 [2:36:38<04:02, 20.48it/s]"
          ]
        },
        {
          "name": "stdout",
          "output_type": "stream",
          "text": [
            "{'loss': 0.057, 'learning_rate': 5.89189125211566e-07, 'epoch': 5.82}\n"
          ]
        },
        {
          "name": "stderr",
          "output_type": "stream",
          "text": [
            " 97%|█████████▋| 164502/168978 [2:37:00<03:58, 18.79it/s]"
          ]
        },
        {
          "name": "stdout",
          "output_type": "stream",
          "text": [
            "{'loss': 0.0618, 'learning_rate': 5.300098237640403e-07, 'epoch': 5.84}\n"
          ]
        },
        {
          "name": "stderr",
          "output_type": "stream",
          "text": [
            " 98%|█████████▊| 165003/168978 [2:37:22<03:18, 20.04it/s]"
          ]
        },
        {
          "name": "stdout",
          "output_type": "stream",
          "text": [
            "{'loss': 0.0585, 'learning_rate': 4.708305223165146e-07, 'epoch': 5.86}\n"
          ]
        },
        {
          "name": "stderr",
          "output_type": "stream",
          "text": [
            " 98%|█████████▊| 165503/168978 [2:37:45<02:52, 20.17it/s]"
          ]
        },
        {
          "name": "stdout",
          "output_type": "stream",
          "text": [
            "{'loss': 0.0576, 'learning_rate': 4.1165122086898893e-07, 'epoch': 5.88}\n"
          ]
        },
        {
          "name": "stderr",
          "output_type": "stream",
          "text": [
            " 98%|█████████▊| 166004/168978 [2:38:07<02:30, 19.77it/s]"
          ]
        },
        {
          "name": "stdout",
          "output_type": "stream",
          "text": [
            "{'loss': 0.0556, 'learning_rate': 3.524719194214632e-07, 'epoch': 5.89}\n"
          ]
        },
        {
          "name": "stderr",
          "output_type": "stream",
          "text": [
            " 99%|█████████▊| 166505/168978 [2:38:29<02:00, 20.44it/s]"
          ]
        },
        {
          "name": "stdout",
          "output_type": "stream",
          "text": [
            "{'loss': 0.056, 'learning_rate': 2.9329261797393745e-07, 'epoch': 5.91}\n"
          ]
        },
        {
          "name": "stderr",
          "output_type": "stream",
          "text": [
            " 99%|█████████▉| 167003/168978 [2:38:51<01:34, 20.97it/s]"
          ]
        },
        {
          "name": "stdout",
          "output_type": "stream",
          "text": [
            "{'loss': 0.0633, 'learning_rate': 2.3411331652641171e-07, 'epoch': 5.93}\n"
          ]
        },
        {
          "name": "stderr",
          "output_type": "stream",
          "text": [
            " 99%|█████████▉| 167503/168978 [2:39:13<01:16, 19.19it/s]"
          ]
        },
        {
          "name": "stdout",
          "output_type": "stream",
          "text": [
            "{'loss': 0.056, 'learning_rate': 1.7493401507888603e-07, 'epoch': 5.95}\n"
          ]
        },
        {
          "name": "stderr",
          "output_type": "stream",
          "text": [
            " 99%|█████████▉| 168000/168978 [2:39:35<00:41, 23.48it/s]"
          ]
        },
        {
          "name": "stdout",
          "output_type": "stream",
          "text": [
            "{'loss': 0.0647, 'learning_rate': 1.1575471363136032e-07, 'epoch': 5.97}\n"
          ]
        },
        {
          "name": "stderr",
          "output_type": "stream",
          "text": [
            "                                                         \n",
            " 99%|█████████▉| 168004/168978 [2:41:08<1:45:31,  6.50s/it]"
          ]
        },
        {
          "name": "stdout",
          "output_type": "stream",
          "text": [
            "{'eval_loss': 0.14239723980426788, 'eval_precision': 0.965710179727042, 'eval_recall': 0.9608211380291791, 'eval_f1': 0.9632594553120166, 'eval_accuracy': 0.9594234427261462, 'eval_runtime': 92.1501, 'eval_samples_per_second': 261.964, 'eval_steps_per_second': 65.491, 'epoch': 5.97}\n"
          ]
        },
        {
          "name": "stderr",
          "output_type": "stream",
          "text": [
            "100%|█████████▉| 168504/168978 [2:41:30<00:24, 19.75it/s]  "
          ]
        },
        {
          "name": "stdout",
          "output_type": "stream",
          "text": [
            "{'loss': 0.052, 'learning_rate': 5.6575412183834586e-08, 'epoch': 5.98}\n"
          ]
        },
        {
          "name": "stderr",
          "output_type": "stream",
          "text": [
            "100%|██████████| 168978/168978 [2:41:52<00:00, 25.49it/s]/home/sevi/AdvancedCV/.conda/lib/python3.10/site-packages/accelerate/accelerator.py:446: FutureWarning: Passing the following arguments to `Accelerator` is deprecated and will be removed in version 1.0 of Accelerate: dict_keys(['dispatch_batches', 'split_batches']). Please pass an `accelerate.DataLoaderConfiguration` instead: \n",
            "dataloader_config = DataLoaderConfiguration(dispatch_batches=None, split_batches=False)\n",
            "  warnings.warn(\n"
          ]
        },
        {
          "name": "stdout",
          "output_type": "stream",
          "text": [
            "{'train_runtime': 9715.4272, 'train_samples_per_second': 69.571, 'train_steps_per_second': 17.393, 'train_loss': 0.09540324096043973, 'epoch': 6.0}\n"
          ]
        },
        {
          "name": "stderr",
          "output_type": "stream",
          "text": [
            "100%|██████████| 168978/168978 [2:41:56<00:00, 17.39it/s]\n"
          ]
        }
      ],
      "source": [
        "trainer.train()\n",
        "trainer.save_model('/home/sevi/NLPCW/roberta/roberta-finetuned-ner')"
      ]
    },
    {
      "cell_type": "code",
      "execution_count": 24,
      "metadata": {
        "metadata": {}
      },
      "outputs": [],
      "source": [
        "sweep_config = {\n",
        "    \"method\": \"random\",\n",
        "    \"name\": \"disaster-sweep\",\n",
        "    \"metric\": {\n",
        "        \"goal\": \"minimize\",\n",
        "        \"name\": \"train/loss\"\n",
        "    },\n",
        "    \"parameters\": {\n",
        "        \"epochs\": {\n",
        "            \"values\": [2, 4]\n",
        "        },\n",
        "        \"batch_size\": {\n",
        "            \"values\": [8,16,32]\n",
        "        },\n",
        "        \"learning_rate\": {\n",
        "            \"min\" : 0.000001,\n",
        "            \"max\" : 0.0001\n",
        "        },\n",
        "        \"weight_decay\": {\n",
        "            \"values\": [0.00001, 0.0001, 0.001]\n",
        "        }\n",
        "    }\n",
        "}\n",
        "model_name = model_checkpoint.split(\"/\")[-1]\n",
        "# Training function with args\n",
        "def train(config=None):\n",
        "  with wandb.init(config=config):\n",
        "    # set sweep configuration\n",
        "    config = wandb.config\n",
        "    # set training arguments\n",
        "    training_args = TrainingArguments(\n",
        "        f\"{model_name}-finetuned-{task}\",\n",
        "        report_to='wandb',  # Turn on Weights & Biases logging\n",
        "        num_train_epochs=config.epochs,\n",
        "        eval_steps = 7000,\n",
        "        save_total_limit = 3,\n",
        "        learning_rate=config.learning_rate,\n",
        "        weight_decay=config.weight_decay,\n",
        "        per_device_train_batch_size=config.batch_size,\n",
        "        per_device_eval_batch_size=config.batch_size,\n",
        "        save_steps=35000,\n",
        "        evaluation_strategy='steps',\n",
        "        logging_strategy='epoch',\n",
        "        push_to_hub=True,\n",
        "        metric_for_best_model = 'f1',\n",
        "        load_best_model_at_end=True,\n",
        "    )\n",
        "\n",
        "\n",
        "    # define training loop\n",
        "    trainer = Trainer(\n",
        "        model=model,\n",
        "        args=training_args,\n",
        "        train_dataset=train_tokenized,\n",
        "        eval_dataset=val_tokenized,\n",
        "        data_collator=data_collator,\n",
        "        tokenizer=tokenizer,\n",
        "        compute_metrics=compute_metrics,\n",
        "        callbacks = [EarlyStoppingCallback(early_stopping_patience=3)]\n",
        "    )\n",
        "\n",
        "\n",
        "    # start training loop\n",
        "    trainer.train()\n"
      ]
    },
    {
      "cell_type": "code",
      "execution_count": null,
      "metadata": {
        "metadata": {}
      },
      "outputs": [],
      "source": [
        "sweep_id = wandb.sweep(sweep_config, project='NLP')\n",
        "wandb.agent(sweep_id, train, count=10)"
      ]
    },
    {
      "cell_type": "code",
      "execution_count": 26,
      "metadata": {
        "metadata": {}
      },
      "outputs": [
        {
          "name": "stderr",
          "output_type": "stream",
          "text": [
            "100%|██████████| 6035/6035 [01:31<00:00, 65.88it/s] \n"
          ]
        },
        {
          "data": {
            "text/plain": [
              "{'eval_loss': 0.13921679556369781,\n",
              " 'eval_precision': 0.9668320521604264,\n",
              " 'eval_recall': 0.9593061562941216,\n",
              " 'eval_f1': 0.9630544014639049,\n",
              " 'eval_accuracy': 0.9592556238171336,\n",
              " 'eval_runtime': 91.6222,\n",
              " 'eval_samples_per_second': 263.473,\n",
              " 'eval_steps_per_second': 65.868,\n",
              " 'epoch': 6.0}"
            ]
          },
          "execution_count": 26,
          "metadata": {},
          "output_type": "execute_result"
        }
      ],
      "source": [
        "trainer.evaluate() ## Final Evaluation on the validation set"
      ]
    },
    {
      "cell_type": "code",
      "execution_count": 27,
      "metadata": {},
      "outputs": [
        {
          "ename": "NameError",
          "evalue": "name 'test_tokenized' is not defined",
          "output_type": "error",
          "traceback": [
            "\u001b[0;31m---------------------------------------------------------------------------\u001b[0m",
            "\u001b[0;31mNameError\u001b[0m                                 Traceback (most recent call last)",
            "Cell \u001b[0;32mIn[27], line 1\u001b[0m\n\u001b[0;32m----> 1\u001b[0m predictions, labels, _ \u001b[38;5;241m=\u001b[39m trainer\u001b[38;5;241m.\u001b[39mpredict(\u001b[43mtest_tokenized\u001b[49m)\n\u001b[1;32m      2\u001b[0m predictions \u001b[38;5;241m=\u001b[39m np\u001b[38;5;241m.\u001b[39margmax(predictions, axis\u001b[38;5;241m=\u001b[39m\u001b[38;5;241m2\u001b[39m)\n\u001b[1;32m      4\u001b[0m \u001b[38;5;66;03m# Remove ignored index (special tokens)\u001b[39;00m\n",
            "\u001b[0;31mNameError\u001b[0m: name 'test_tokenized' is not defined"
          ]
        }
      ],
      "source": [
        "predictions, labels, _ = trainer.predict(test_tokenized)\n",
        "predictions = np.argmax(predictions, axis=2)\n",
        "\n",
        "# Remove ignored index (special tokens)\n",
        "true_predictions = [\n",
        "    [label_list[p] for (p, l) in zip(prediction, label) if l != -100]\n",
        "    for prediction, label in zip(predictions, labels)\n",
        "]\n",
        "true_labels = [\n",
        "    [label_list[l] for (p, l) in zip(prediction, label) if l != -100]\n",
        "    for prediction, label in zip(predictions, labels)\n",
        "]\n",
        "\n",
        "results = metric.compute(predictions=true_predictions, references=true_labels)\n",
        "results"
      ]
    },
    {
      "cell_type": "code",
      "execution_count": null,
      "metadata": {},
      "outputs": [],
      "source": [
        "trainer.save_model('bert-base-uncased-finetuned-ner')"
      ]
    },
    {
      "cell_type": "code",
      "execution_count": null,
      "metadata": {},
      "outputs": [],
      "source": [
        "true_labels_flat = [item for sublist in true_labels for item in sublist]\n",
        "true_predictions_flat = [item for sublist in true_predictions for item in sublist]\n"
      ]
    },
    {
      "cell_type": "code",
      "execution_count": null,
      "metadata": {},
      "outputs": [],
      "source": [
        "def plot_cm(y_true, y_pred, figsize=(10,10)):\n",
        "    cm = confusion_matrix(y_true, y_pred, labels=np.unique(y_true))\n",
        "    cm_sum = np.sum(cm, axis=1, keepdims=True)\n",
        "    cm_perc = cm / cm_sum.astype(float) * 100\n",
        "    annot = np.empty_like(cm).astype(str)\n",
        "    nrows, ncols = cm.shape\n",
        "    for i in range(nrows):\n",
        "        for j in range(ncols):\n",
        "            c = cm[i, j]\n",
        "            p = cm_perc[i, j]\n",
        "            if i == j:\n",
        "                s = cm_sum[i]\n",
        "                annot[i, j] = '%.1f%%\\n%d/%d' % (p, c, s)\n",
        "            elif c == 0:\n",
        "                annot[i, j] = ''\n",
        "            else:\n",
        "                annot[i, j] = '%.1f%%\\n%d' % (p, c)\n",
        "    cm = pd.DataFrame(cm, index=np.unique(y_true), columns=np.unique(y_true))\n",
        "    cm.index.name = 'Actual'\n",
        "    cm.columns.name = 'Predicted'\n",
        "    fig, ax = plt.subplots(figsize=figsize)\n",
        "    plt.savefig('BertCFG.png')\n",
        "    sns.heatmap(cm, cmap= \"YlGnBu\", annot=annot, fmt='', ax=ax).figure.savefig('BertConfusion.png')\n",
        "    \n",
        "plot_cm(true_labels_flat, true_predictions_flat)"
      ]
    },
    {
      "cell_type": "markdown",
      "metadata": {
        "id": "zJdBn0fF-cFg"
      },
      "source": [
        "https://sklearn-crfsuite.readthedocs.io/en/latest/tutorial.html#training tutorial ner"
      ]
    },
    {
      "cell_type": "code",
      "execution_count": null,
      "metadata": {
        "id": "wi5DM0cXbKqT"
      },
      "outputs": [],
      "source": [
        "\n",
        "%matplotlib inline\n",
        "import matplotlib.pyplot as plt"
      ]
    },
    {
      "cell_type": "code",
      "execution_count": null,
      "metadata": {},
      "outputs": [],
      "source": [
        "## Transform DATA Into crf format"
      ]
    },
    {
      "cell_type": "code",
      "execution_count": 5,
      "metadata": {},
      "outputs": [
        {
          "name": "stdout",
          "output_type": "stream",
          "text": [
            "{'id': ['0', '1', '2', '3', '4', '5', '6', '7', '8', '9', '10', '11', '12', '13', '14', '15', '16', '17', '18', '19', '20', '21', '22', '23', '24', '25', '26', '27', '28', '29'], 'tokens': [['Alternatively', ',', 'fibroblasts', 'were', 'plated', 'sparsely', 'so', 'that', 'they', 'did', 'not', 'touch', 'each', 'other', 'and', 'induced', 'into', 'quiescence', 'by', 'serum', 'starvation', 'and', 'monitored', 'after', '4', 'd', '(', 'serum', '-', 'starved', 'for', '4', 'd', '[', 'SS4', ']', ')', 'or', '7', 'd', '(', 'serum', '-', 'starved', 'for', '7', 'd', '[', 'SS7', ']', ')', '.'], ['Study', '-', 'specific', 'risk', 'ratios', '(', 'RRs', ')', 'and', 'mean', 'BW', 'differences', 'were', 'calculated', 'using', 'linear', 'and', 'log', '-', 'binomial', 'regression', 'models', 'controlling', 'for', 'confounding', 'using', 'inverse', 'probability', 'of', 'treatment', 'weights', '(', 'IPTW', ')', 'truncated', 'at', 'the', '1st', 'and', '99th', 'percentiles', '.'], ['Three', 'faba', 'bean', 'genotypes', ',', 'Aguadulce', '(', 'AD', ')', ',', 'Luz', 'd’Otono', '(', 'LO', ')', 'and', 'Reina', 'Mora', '(', 'RM', ')', ',', 'frequently', 'grown', 'at', 'the', 'Haouz', 'region', 'of', 'Morocco', ',', 'were', 'used', 'in', 'this', 'study', '.'], ['Neurological', 'complications', 'of', 'cancer', 'include', 'direct', 'tumour', 'compression', 'or', 'infiltration', ',', 'paraneoplastic', 'neurological', 'syndromes', '(', 'PNS', ')', ',', 'metabolic', 'and', 'nutritional', 'deficiencies', 'and', 'chemotherapy', 'induced', 'peripheral', 'neuropathy', '(', 'CIPN', ')', '[', '1', ']', '.'], ['Reference', 'values', '(', 'RVs', ')', 'of', 'each', 'analyte', 'were', 'set', 'as', 'an', 'objective', 'variable', ',', 'while', 'set', 'as', 'explanatory', 'variables', 'were', 'volunteers', \"'\", 'region', ',', 'age', ',', 'body', 'mass', 'index', '(', 'BMI', ')', ',', 'levels', 'of', 'cigarette', 'smoking', ',', 'exercise', ',', 'consumption', 'of', 'soft', 'drinks', '.'], ['We', 'next', 'undertook', 'a', 'large', 'case', 'study', 'of', 'all', '88,835', 'articles', 'published', 'by', 'NIH', 'investigators', 'who', 'maintained', 'continuous', 'R01', 'funding', 'from', 'fiscal', 'year', '(', 'FY', ')', '2003', 'through', 'FY2010', 'to', 'ask', 'how', 'the', 'RCR', 'of', 'publications', 'from', 'individual', 'investigators', 'changed', 'over', 'this', '8', '-', 'y', 'interval', '.'], ['In', 'some', 'cases', 'this', 'is', 'explained', 'by', 'the', 'association', 'of', 'more', 'than', 'one', 'sequence', 'variation', 'of', 'the', 'same', 'gene', '(', 'Spastic', 'Paraplegia', 'Gene', ',', 'SPG', ')', '[', '4–6', ']', ',', 'whereas', 'in', 'others', 'subtle', 'characteristics', 'seem', 'to', 'differentiate', 'one', 'form', 'to', 'another', '[', '1', ',', '3', ']', ':', 'early', 'onset', 'associated', 'with', 'mutations', 'of', 'atlastin-1', '(', 'SPG3a', ')', '[', '7', ']', ',', 'DDHD1', '(', 'SPG28', ')', '[', '8', ']', 'and', 'REEP1', '(', 'SPG31', ')', '[', '9', ']', ';', 'cognitive', 'decline', 'with', 'mutations', 'in', 'spastin', '(', 'SPG4', ')', '[', '10', ']', ';', 'cerebellar', 'signs', 'such', 'as', 'ataxia', 'with', 'mutations', 'of', 'paraplegin', '(', 'SPG7', ')', '[', '11', ']', ';', 'axonal', 'motor', 'neuropathy', 'and', 'distal', 'atrophy', 'with', 'mutation', 'in', 'seipin', '(', 'SPG17', ')', '[', '12', ']', 'and', 'KiF5A', '(', 'SPG10', ')', '[', '13', ',', '14', ']', ';', 'white', 'matter', '(', 'WM', ')', 'MRI', 'abnormalities', 'with', 'mutations', 'of', 'CYP7B1', '(', 'SPG5', ')', '[', '15', ']', ';', 'thin', 'corpus', 'callosum', 'with', 'a', 'characteristic', 'white', 'matter', 'alteration', '(', '“', 'ears', 'of', 'lynx', '”', 'sign', ')', 'and', 'intellectual', 'disability', 'in', 'mutations', 'of', 'spatacsin', '(', 'SPG11', ')', '[', '16', ']', '.'], ['A', ':', 'Phosphatidylinositol', '3', '-', 'kinaseand', '(', 'Pi3k', ')', 'mRNA', 'level', 'in', 'liver', ';', 'B', ':', 'Protein', 'kinase', 'B', '(', 'Akt', ')', 'mRNA', 'level', 'in', 'liver', '.'], ['D1R', ',', 'D1', 'dopamine', 'receptor', ';', 'D2R', ',', 'D2', 'dopamine', 'receptor', ';', 'MSN', ',', 'medium', 'spiny', 'neuron', ';', 'NF1', ',', 'neurofibromin', '1', ';', 'RM', '-', 'ANOVA', ',', 'repeated', 'measures', 'analysis', 'of', 'variance', '.'], ['Recently', ',', 'we', 'established', 'an', 'animal', 'model', 'demonstrating', 'that', 'intranasal', 'inhalation', 'of', 'organic', 'dust', 'extract', '(', 'ODE', ')', 'collected', 'from', 'large', 'animal', '(', 'swine', ')', 'confinement', 'facilities', 'and', 'its', 'microbial', 'components', 'induce', 'systemic', 'bone', 'loss', '[', '13', ']', '.'], ['As', 'there', 'is', 'also', 'no', 'currently', 'accepted', 'definitive', 'diagnostic', 'criteria', 'or', 'billing', 'code', 'for', '“', 'prolonged', 'post', '-', 'concussion', 'symptoms', ',', '”', 'we', 'had', 'to', 'create', 'our', 'own', 'criteria', 'to', 'identify', 'those', 'most', 'likely', 'to', 'be', 'seeking', 'medical', 'treatment', 'for', 'PPCS', '.', 'Furthermore', ',', 'sports', 'medicine', 'physicians', 'are', 'classified', 'as', 'primary', 'care', 'physicians', 'by', 'their', 'OHIP', 'specialty', 'code', ',', 'and', ',', 'therefore', ',', 'the', 'patients', 'they', 'treated', 'are', 'not', 'included', 'in', 'this', 'analysis', 'of', 'specialist', 'care', ',', 'although', 'they', 'are', 'a', 'frequent', 'provider', 'of', 'concussion', '-', 'related', 'healthcare', '.'], ['Following', 'a', 'pilot', 'study', 'in', 'Italy', 'and', 'Spain', ',', 'analysis', 'of', 'carriers', '(', 'n', '=', '11,609', ')', 'collected', 'through', '24', 'study', 'groups', 'participating', 'in', 'the', 'Consortium', 'of', 'Investigators', 'of', 'Modifiers', 'of', 'BRCA1/2', '(', 'CIMBA', ')', 'detected', 'significant', 'modification', 'of', 'breast', 'cancer', 'risk', 'by', 'HMMR', 'rs299290', 'variant', 'among', 'BRCA1', ',', 'but', 'not', 'BRCA2', ',', 'mutation', 'carriers', ':', 'BRCA1', 'mutation', 'carriers', 'n', '=', '7,584', ',', 'Cox', 'proportional', '-', 'hazards', 'regression', 'model', ',', 'hazard', 'ratio', '(', 'HR', ')', '=', '1.08', '(', '95', '%', 'confidence', 'interval', '(', 'CI', ')', '1.02–1.13', ')', ',', 'ptrend', '=', '0.004', '(', 'p', '2df', '=', '0.014', ')', ',', 'in', 'the', 'same', 'direction', 'as', 'originally', 'detected', 'in', 'Ashkenazi', 'Jewish', 'populations', '[', '23', ']', ';', 'BRCA2', 'mutation', 'carriers', 'n', '=', '3,965', ',', 'HR', '=', '1.03', '(', '95', '%', 'CI', '0.96–1.10', ')', ',', 'ptrend', '=', '0.42', '(', 'p', '2df', '=', '0.67', ')', '.'], ['BMI', ',', 'Body', 'Mass', 'Index', ';', 'CVD', ',', 'Cardiovascular', 'disease', ';', 'GRADE', ',', 'Grading', 'of', 'Recommendations', 'Assessment', ',', 'Development', 'and', 'Evaluation', ';', 'HDL', ',', 'high', '-', 'denisty', 'lipoprotein', ';', 'HOMA', ',', 'homeostatic', 'model', 'assessment', 'of', 'insulin', 'resistance', ';', 'IRLDL', ',', 'low', '-', 'density', 'lipoprotein', '.'], ['Moreover', ',', 'detailed', 'clinical', 'data', 'of', 'the', 'children', ',', 'such', 'as', 'world', 'health', 'organization', '(', 'WHO', ')', 'HIV', 'disease', 'stage', ',', 'OI', ',', 'type', 'of', 'HAART', 'and', 'HAART', 'experience', 'and', 'duration', 'of', 'HAART', 'were', 'collected', 'by', 'reviewing', 'the', 'medical', 'record', 'of', 'HIV', 'infected', 'children', '.'], ['Gestational', 'diabetes', 'mellitus', '(', 'GDM', ')', 'was', 'originally', 'defined', 'as', 'any', 'degree', 'of', 'glucose', 'intolerance', 'that', 'was', 'first', 'recognized', 'during', 'pregnancy', '[', '1', ']', '.'], ['Pulmonary', 'arterial', 'measures', 'were', 'also', 'directly', 'correlated', 'with', 'their', 'corresponding', 'systemic', 'arterial', 'measures', 'independent', 'of', 'demographics', ',', 'LVEF', ',', 'LV', 'mass', 'LV', 'index', '(', 'LVMi', ')', ',', 'LAVi', ',', 'and', 'septal', 'E', '/', 'E', '’', '(', 'associations', 'between', ':', 'PASP', 'and', 'systolic', 'blood', 'pressure', ':', 'r', '=', '0.14', ',', 'p', '<', '0.001', ';', 'mean', 'PAP', 'and', 'mean', 'arterial', 'pressure', ':', 'r', '=', '0.11', ',', 'p', '=', '0.001', ';', 'PVR', 'and', 'systemic', 'vascular', 'resistance', ',', 'r', '=', '0.12', ',', 'p', '<', '0.001', ';', 'PAC', 'and', 'systemic', 'arterial', 'compliance', ',', 'r', '=', '0.5', 'p', '<', '0.001', ';', 'S2', 'Fig', ')', '.'], ['BUD', ':', 'Budesonide', ';', 'FP', ':', 'Fluticasone', 'propionate', ',', 'ICS', ':', 'inhaled', 'corticosteroid', '.'], ['For', 'continuous', 'scales', ',', 'treatment', 'effects', 'were', 'estimated', 'using', 'standardised', 'mean', 'differences', '(', 'SMDs', ')', '.'], ['Asterisks', 'indicate', 'putative', 'knottin', 'transcripts', 'described', 'in', 'the', 'text', '.', 'cpm', ',', 'counts', 'per', 'million', ';', 'FDR', ',', 'false', 'discovery', 'rate', ';', 'WT', ',', 'wild', 'type', '.'], ['The', 'novel', 'Coronavirus', 'disease', '(', 'COVID-19', ')', ',', 'caused', 'by', 'the', 'severe', 'acute', 'respiratory', 'syndrome', 'coronavirus—2', '(', 'SARS', ')', ',', 'in', 'Africa', 'is', 'characterised', 'by', 'a', 'more', 'substantial', 'proportion', 'of', 'asymptomatic', '(', 'or', 'mildly', 'symptomatic', ')', 'individuals', 'thought', 'to', 'be', 'playing', 'a', 'role', 'in', 'the', 'spread', 'of', 'the', 'infection', '.'], ['By', 'contrast', ',', 'the', 'International', 'Diabetes', 'Federation', '(', 'IDF', ')', 'proposed', 'to', 'use', 'average', 'WC', 'of', 'subjects', 'with', 'a', 'BMI', 'of', '25', 'kg', '/', 'm2', 'and', 'recognized', 'that', 'ethnical', 'differences', 'must', 'be', 'considered', 'to', 'define', 'correlation', 'between', 'AO', 'and', 'metabolic', 'syndrome', 'risk', 'factors', '[', '12', ']', '.'], ['DN', ',', 'dominant', '-', 'negative', ';', 'GFP', ',', 'green', 'fluorescent', 'protein'], ['Therefore', ',', 'an', 'approach', 'that', 'considers', 'the', 'effects', 'of', 'genetic', 'variants', 'on', 'known', 'risk', 'factors', 'for', 'BC', ',', 'such', 'as', 'body', 'mass', 'index', '(', 'BMI', ')', 'and', 'age', 'at', 'menarche', '[', '14–20', ']', ',', 'could', 'increase', 'power', '.'], ['The', 'receptor', 'tyrosine', 'kinases', '(', 'RTKs', ')', 'TYRO3', ',', 'AXL', 'and', 'MERTK', '(', 'TAM', ')', 'have', 'well', '-', 'described', 'oncogenic', 'functions', 'in', 'a', 'number', 'of', 'cancers', '.'], ['Noncoding', 'transcripts', 'arising', 'from', 'the', 'outer', 'repeat', 'provide', 'a', 'substrate', 'for', 'RNA', 'interference', '(', 'RNAi', ')', 'that', 'directs', 'methylation', 'of', 'histone', 'H3', 'on', 'lysine', '9', 'and', 'the', 'assembly', 'of', 'silent', 'chromatin', '(', 'reviewed', 'in', '[', '26', ']', ')', '.'], ['The', 'reactions', 'are', 'catalyzed', 'by', 'related', 'but', 'distinct', 'enzymes', ',', 'adenylate', 'dimethylallyltransferase', '(', 'EC', '2.5.1.27', ')', 'and', 'tRNA', 'dimethylallyltransferase', '(', 'EC', '2.5.1.75', ')', ',', 'respectively', ',', 'more', 'frequently', 'termed', 'as', 'isopentenyl', 'transferases', '(', 'IPT', ')', '.', 'In', 'modern', 'land', 'plants', ',', 'the', 'major', 'share', 'of', 'cytokinins', 'is', 'synthesized', 'by', 'adenylate', 'IPTs', ',', 'present', 'as', 'multiple', 'isoenzymes', ',', 'while', 'the', 'release', 'of', 'tRNA', '-', 'bound', 'cytokinins', 'due', 'to', 'tRNA', 'degradation', 'is', 'considered', 'as', 'minor', 'biosynthetic', 'pathway', '[', '6', ']', '.'], ['Clinical', 'data', ',', 'including', 'Injury', 'Severity', 'Score', '(', 'ISS', ')', ',', 'Abbreviated', 'Injury', 'Scale', '(', 'AIS', ')', ',', 'ICU', 'length', 'of', 'stay', '(', 'LOS', ')', ',', 'hospital', 'LOS', ',', 'days', 'on', 'mechanical', 'ventilator', ',', 'Marshall', 'Multiple', 'Organ', 'Dysfunction', '(', 'MOD', ')', 'score', ',', 'heart', 'rate', ',', 'blood', 'pressure', ',', 'Shock', 'Index', '(', 'S', ')', ',', 'pH', ',', 'lactic', 'acid', ',', 'base', 'deficit', '(', 'BD', ')', ',', 'Creatine', 'Phosphokinase', '(', 'CPK', ')', ',', 'hematological', 'profile', ',', 'blood', 'transfusion', 'needs', ',', 'and', 'surgical', 'interventions', 'were', 'collected', 'from', 'hospital', 'inpatient', 'electronic', 'trauma', 'registry', 'database', '.'], ['Of', 'total', '88', 'culture', 'positive', 'samples', ',', 'one', 'was', 'reported', 'as', 'invalid', 'while', '2', 'were', 'found', 'to', 'contain', 'nontuberculous', 'Mycobacteria', '(', 'NTM', ')', '.', 'Among', 'remaining', '85', 'Mycobacterium', 'tuberculosis', 'culture', 'positive', 'samples', ',', '69', 'were', 'found', 'to', 'be', 'MDR-TB', 'positive', 'by', 'both', 'methods', '.'], ['In', 'the', 'overall', 'study', 'population', ',', '2,066', 'complete', 'OGTT', 'data', 'sets', ',', '1,243', 'adiponectin', 'and', 'leptin', 'measurements', ',', 'and', '383', 'interleukin', '6', '(', 'IL-6', ')', ',', 'tumour', 'necrosis', 'factor', 'α', '(', 'TNF', ')', ',', 'and', 'monocyte', 'chemoattractant', 'protein', '1', '(', '-αMCP-1', ')', 'measurements', 'were', 'available', '.'], ['Fig', '5a', 'shows', 'the', 'Raman', 'spectrum', 'of', 'the', 'nanoparticles', 'GO', '(', 'NPs', ')', '.']], 'pos_tags': [[2, 13, 8, 3, 16, 2, 14, 14, 11, 3, 10, 16, 6, 0, 5, 16, 1, 8, 1, 8, 8, 5, 16, 1, 9, 8, 13, 8, 13, 16, 1, 9, 8, 17, 12, 13, 13, 5, 9, 8, 13, 8, 13, 16, 1, 9, 8, 17, 12, 13, 13, 13], [8, 13, 0, 8, 8, 13, 12, 13, 5, 0, 12, 8, 3, 16, 16, 0, 5, 0, 13, 0, 8, 8, 16, 1, 8, 16, 0, 8, 1, 8, 8, 13, 12, 13, 16, 1, 6, 0, 5, 0, 8, 13], [9, 8, 8, 8, 13, 12, 13, 12, 13, 13, 12, 12, 13, 12, 13, 5, 12, 12, 13, 12, 13, 13, 2, 16, 1, 6, 12, 8, 1, 12, 13, 3, 16, 1, 6, 8, 13], [0, 8, 1, 8, 16, 0, 8, 8, 5, 8, 13, 0, 0, 8, 13, 8, 13, 13, 0, 5, 0, 8, 5, 8, 16, 0, 8, 13, 12, 13, 13, 9, 13, 13], [8, 8, 13, 12, 13, 1, 6, 8, 3, 16, 1, 6, 0, 8, 13, 14, 16, 1, 0, 8, 3, 8, 10, 8, 13, 8, 13, 8, 8, 8, 13, 12, 13, 13, 8, 1, 8, 8, 13, 8, 13, 8, 1, 0, 8, 13], [11, 2, 16, 6, 0, 8, 8, 1, 6, 9, 8, 16, 1, 12, 8, 11, 16, 0, 12, 8, 1, 0, 8, 13, 12, 13, 9, 1, 9, 10, 16, 14, 6, 12, 1, 8, 1, 0, 8, 16, 1, 6, 9, 13, 8, 8, 13], [1, 6, 8, 11, 3, 16, 1, 6, 8, 1, 0, 1, 9, 8, 8, 1, 6, 0, 8, 13, 12, 12, 12, 13, 12, 13, 13, 9, 13, 13, 14, 1, 8, 0, 8, 16, 1, 16, 9, 8, 1, 11, 13, 9, 13, 9, 13, 13, 0, 8, 16, 1, 8, 1, 8, 13, 12, 13, 13, 9, 13, 13, 12, 13, 12, 13, 13, 9, 13, 5, 12, 13, 12, 13, 13, 9, 13, 13, 0, 8, 1, 8, 1, 8, 13, 12, 13, 13, 17, 13, 13, 0, 8, 0, 1, 8, 1, 8, 1, 8, 13, 12, 13, 13, 17, 13, 13, 0, 8, 8, 5, 0, 8, 1, 8, 1, 8, 13, 12, 13, 13, 17, 13, 5, 12, 13, 12, 13, 13, 9, 13, 9, 13, 13, 0, 8, 13, 12, 13, 8, 8, 1, 8, 1, 12, 13, 12, 13, 13, 9, 13, 13, 0, 8, 8, 1, 6, 0, 0, 8, 8, 13, 13, 8, 1, 8, 13, 8, 13, 5, 0, 8, 1, 8, 1, 8, 13, 12, 13, 13, 9, 13, 13], [17, 13, 8, 9, 13, 8, 13, 12, 13, 8, 8, 1, 8, 13, 8, 13, 8, 8, 8, 13, 12, 13, 8, 8, 1, 8, 13], [12, 13, 8, 8, 8, 13, 12, 13, 8, 8, 8, 13, 12, 13, 0, 0, 8, 13, 12, 13, 8, 9, 13, 12, 13, 12, 13, 0, 8, 8, 1, 8, 13], [2, 13, 11, 16, 6, 8, 8, 16, 14, 0, 8, 1, 0, 8, 8, 13, 12, 13, 16, 1, 0, 8, 13, 8, 13, 8, 8, 5, 11, 0, 8, 16, 0, 8, 8, 13, 9, 13, 13], [14, 11, 16, 2, 6, 2, 16, 0, 0, 8, 5, 8, 8, 1, 13, 0, 0, 13, 8, 8, 13, 13, 11, 16, 10, 16, 11, 0, 8, 10, 16, 11, 2, 0, 10, 3, 16, 0, 8, 1, 12, 13, 2, 13, 8, 8, 8, 3, 16, 1, 0, 8, 8, 1, 11, 12, 8, 8, 13, 5, 13, 2, 13, 6, 8, 11, 16, 3, 10, 16, 1, 6, 8, 1, 8, 8, 13, 14, 11, 3, 6, 0, 8, 1, 8, 13, 16, 8, 13], [16, 6, 0, 8, 1, 12, 5, 12, 13, 8, 1, 8, 13, 17, 17, 9, 13, 16, 1, 9, 8, 8, 16, 1, 6, 12, 1, 12, 1, 12, 1, 12, 13, 12, 13, 16, 0, 8, 1, 8, 8, 8, 1, 12, 8, 8, 1, 12, 13, 5, 10, 12, 13, 8, 8, 13, 12, 8, 8, 17, 17, 9, 13, 12, 0, 13, 8, 8, 8, 13, 8, 8, 13, 12, 13, 17, 9, 13, 9, 8, 8, 8, 13, 12, 13, 9, 13, 13, 17, 17, 9, 13, 8, 9, 17, 9, 13, 13, 1, 6, 0, 8, 14, 2, 16, 1, 0, 0, 8, 13, 9, 13, 13, 12, 8, 8, 17, 17, 9, 13, 12, 17, 9, 13, 9, 8, 12, 9, 13, 13, 17, 17, 9, 13, 8, 9, 17, 9, 13, 13], [12, 13, 8, 12, 12, 13, 12, 13, 0, 8, 13, 12, 13, 8, 1, 12, 12, 13, 12, 5, 12, 13, 12, 13, 0, 13, 0, 8, 13, 12, 13, 0, 8, 8, 1, 8, 8, 13, 12, 13, 0, 13, 8, 8, 13], [2, 13, 0, 0, 8, 1, 6, 8, 13, 0, 1, 8, 8, 8, 13, 12, 13, 12, 8, 8, 13, 12, 13, 8, 1, 12, 5, 12, 8, 5, 8, 1, 12, 3, 16, 1, 16, 6, 0, 8, 1, 12, 16, 8, 13], [0, 8, 8, 13, 12, 13, 3, 2, 16, 1, 6, 8, 1, 8, 8, 11, 3, 2, 16, 1, 8, 13, 9, 13, 13], [0, 0, 8, 3, 2, 2, 16, 1, 11, 0, 0, 0, 8, 0, 1, 8, 13, 12, 13, 8, 8, 12, 8, 13, 12, 13, 13, 12, 13, 5, 0, 8, 15, 8, 13, 13, 8, 1, 13, 12, 5, 0, 8, 8, 13, 8, 15, 9, 13, 8, 15, 9, 13, 0, 8, 5, 0, 0, 8, 13, 8, 15, 9, 13, 8, 15, 9, 13, 12, 5, 0, 0, 8, 13, 8, 15, 9, 13, 8, 15, 9, 13, 12, 5, 0, 0, 8, 13, 8, 15, 9, 8, 15, 9, 13, 12, 12, 13, 13], [12, 13, 8, 13, 12, 13, 8, 8, 13, 12, 13, 16, 8, 13], [1, 0, 8, 13, 8, 8, 3, 16, 16, 16, 8, 8, 13, 12, 13, 13], [8, 16, 0, 12, 8, 16, 1, 6, 8, 13, 12, 13, 8, 1, 9, 13, 12, 13, 0, 8, 8, 13, 12, 13, 0, 8, 13], [6, 0, 8, 8, 13, 12, 13, 13, 16, 1, 6, 0, 0, 0, 8, 8, 13, 12, 13, 13, 1, 12, 3, 16, 1, 6, 2, 0, 8, 1, 0, 13, 5, 2, 0, 13, 8, 16, 10, 3, 16, 6, 8, 1, 6, 8, 1, 6, 8, 13], [1, 8, 13, 6, 12, 12, 12, 13, 12, 13, 16, 10, 16, 0, 12, 1, 8, 1, 6, 8, 1, 9, 8, 15, 8, 5, 16, 14, 0, 8, 3, 3, 16, 10, 16, 8, 1, 12, 5, 0, 8, 8, 8, 13, 9, 13, 13], [12, 13, 8, 13, 0, 13, 12, 13, 0, 0, 8], [2, 13, 6, 8, 11, 16, 6, 8, 1, 0, 8, 1, 16, 8, 8, 1, 12, 13, 0, 1, 8, 8, 8, 13, 12, 13, 5, 8, 1, 8, 13, 9, 13, 13, 3, 16, 8, 13], [6, 8, 8, 8, 13, 8, 13, 8, 13, 12, 5, 12, 13, 12, 13, 16, 2, 13, 16, 0, 8, 1, 6, 8, 1, 8, 13], [16, 8, 16, 1, 6, 0, 8, 16, 6, 8, 1, 8, 8, 13, 12, 13, 11, 16, 8, 1, 8, 12, 1, 8, 9, 5, 6, 8, 1, 0, 8, 13, 16, 1, 17, 9, 13, 13, 13], [6, 8, 3, 16, 1, 0, 5, 0, 8, 13, 8, 8, 13, 12, 9, 13, 5, 8, 8, 13, 12, 9, 13, 13, 2, 13, 2, 2, 16, 1, 8, 8, 13, 12, 13, 13, 1, 0, 8, 8, 13, 6, 0, 8, 1, 8, 3, 16, 1, 8, 12, 13, 0, 1, 0, 8, 13, 14, 6, 8, 1, 8, 13, 16, 8, 1, 1, 8, 8, 3, 16, 1, 0, 0, 8, 13, 9, 13, 13], [0, 8, 13, 16, 12, 12, 12, 13, 12, 13, 13, 0, 12, 12, 13, 12, 13, 13, 12, 8, 1, 8, 13, 12, 13, 13, 8, 12, 13, 8, 1, 0, 8, 13, 12, 12, 12, 12, 13, 12, 13, 8, 13, 8, 8, 13, 8, 8, 13, 12, 12, 13, 12, 13, 13, 8, 13, 0, 8, 13, 8, 8, 13, 8, 13, 13, 12, 12, 13, 12, 13, 13, 0, 8, 13, 8, 8, 8, 13, 5, 0, 8, 3, 16, 1, 8, 0, 0, 8, 8, 8, 13], [1, 0, 9, 8, 0, 8, 13, 9, 3, 16, 1, 0, 14, 9, 3, 16, 10, 16, 0, 8, 13, 12, 13, 13, 1, 16, 9, 8, 8, 8, 0, 8, 13, 9, 3, 16, 10, 3, 12, 0, 1, 6, 8, 13], [1, 6, 0, 8, 8, 13, 9, 0, 12, 8, 8, 13, 9, 8, 5, 8, 8, 13, 5, 9, 8, 9, 13, 12, 13, 13, 8, 8, 8, 13, 13, 12, 13, 13, 5, 8, 8, 8, 9, 13, 12, 13, 8, 3, 0, 13], [8, 9, 16, 6, 12, 8, 1, 6, 8, 12, 13, 12, 13, 13]], 'ner_tags': [[0, 0, 0, 0, 0, 0, 0, 0, 0, 0, 0, 0, 0, 0, 0, 0, 0, 0, 0, 0, 0, 0, 0, 0, 0, 0, 0, 3, 4, 4, 4, 4, 4, 0, 1, 0, 0, 0, 0, 0, 0, 3, 4, 4, 4, 4, 4, 0, 1, 0, 0, 0], [0, 0, 0, 3, 4, 0, 1, 0, 0, 0, 1, 0, 0, 0, 0, 0, 0, 0, 0, 0, 0, 0, 0, 0, 0, 0, 3, 4, 4, 4, 4, 0, 1, 0, 0, 0, 0, 0, 0, 0, 0, 0], [0, 0, 0, 0, 0, 3, 0, 1, 0, 0, 0, 0, 0, 1, 0, 0, 3, 4, 0, 1, 0, 0, 0, 0, 0, 0, 0, 0, 0, 0, 0, 0, 0, 0, 0, 0, 0], [0, 0, 0, 0, 0, 0, 0, 0, 0, 0, 0, 0, 0, 0, 0, 0, 0, 0, 0, 0, 0, 0, 0, 3, 4, 4, 4, 0, 1, 0, 0, 0, 0, 0], [3, 4, 0, 1, 0, 0, 0, 0, 0, 0, 0, 0, 0, 0, 0, 0, 0, 0, 0, 0, 0, 0, 0, 0, 0, 0, 0, 3, 4, 4, 0, 1, 0, 0, 0, 0, 0, 0, 0, 0, 0, 0, 0, 0, 0, 0], [0, 0, 0, 0, 0, 0, 0, 0, 0, 0, 0, 0, 0, 1, 0, 0, 0, 0, 0, 0, 0, 3, 4, 0, 1, 0, 0, 0, 0, 0, 0, 0, 0, 1, 0, 0, 0, 0, 0, 0, 0, 0, 0, 0, 0, 0, 0], [0, 0, 0, 0, 0, 0, 0, 0, 0, 0, 0, 0, 0, 0, 0, 0, 0, 0, 0, 0, 0, 0, 0, 0, 0, 0, 0, 0, 0, 0, 0, 0, 0, 0, 0, 0, 0, 0, 0, 0, 0, 0, 0, 0, 0, 0, 0, 0, 0, 0, 0, 0, 0, 0, 0, 0, 0, 0, 0, 0, 0, 0, 0, 0, 0, 0, 0, 0, 0, 0, 0, 0, 0, 0, 0, 0, 0, 0, 0, 0, 0, 0, 0, 0, 0, 0, 0, 0, 0, 0, 0, 0, 0, 0, 0, 0, 0, 0, 0, 0, 0, 0, 0, 0, 0, 0, 0, 0, 0, 0, 0, 0, 0, 0, 0, 0, 0, 0, 0, 0, 0, 0, 0, 0, 0, 0, 0, 0, 0, 0, 0, 0, 0, 0, 3, 4, 0, 1, 0, 0, 0, 0, 0, 0, 0, 0, 0, 0, 0, 0, 0, 0, 0, 0, 0, 0, 0, 0, 3, 4, 0, 0, 0, 0, 0, 0, 0, 0, 0, 0, 0, 0, 0, 0, 0, 0, 0, 0, 0, 0, 0, 0, 0], [0, 0, 0, 0, 0, 0, 0, 1, 0, 0, 0, 0, 0, 0, 0, 0, 3, 4, 4, 0, 1, 0, 0, 0, 0, 0, 0], [1, 0, 3, 4, 4, 0, 1, 0, 3, 4, 4, 0, 1, 0, 3, 4, 4, 0, 1, 0, 3, 4, 0, 0, 0, 0, 0, 0, 0, 0, 0, 0, 0], [0, 0, 0, 0, 0, 0, 0, 0, 0, 0, 0, 0, 3, 4, 4, 0, 1, 0, 0, 0, 0, 0, 0, 0, 0, 0, 0, 0, 0, 0, 0, 0, 0, 0, 0, 0, 0, 0, 0], [0, 0, 0, 0, 0, 0, 0, 0, 0, 0, 0, 0, 0, 0, 0, 3, 4, 4, 4, 4, 0, 0, 0, 0, 0, 0, 0, 0, 0, 0, 0, 0, 0, 0, 0, 0, 0, 0, 0, 0, 1, 0, 0, 0, 0, 0, 0, 0, 0, 0, 0, 0, 0, 0, 0, 1, 0, 0, 0, 0, 0, 0, 0, 0, 0, 0, 0, 0, 0, 0, 0, 0, 0, 0, 0, 0, 0, 0, 0, 0, 0, 0, 0, 0, 0, 0, 0, 0, 0], [0, 0, 0, 0, 0, 0, 0, 0, 0, 0, 0, 0, 0, 0, 0, 0, 0, 0, 0, 0, 0, 0, 0, 0, 0, 0, 0, 0, 0, 0, 0, 1, 0, 1, 0, 0, 0, 0, 0, 0, 0, 0, 0, 0, 0, 0, 0, 1, 0, 0, 0, 0, 0, 0, 0, 0, 1, 0, 0, 0, 0, 0, 0, 0, 0, 0, 0, 0, 0, 0, 3, 4, 0, 1, 0, 0, 0, 0, 0, 0, 3, 4, 0, 1, 0, 0, 0, 0, 0, 0, 0, 0, 0, 0, 0, 0, 0, 0, 0, 0, 0, 0, 0, 0, 0, 0, 0, 0, 0, 0, 0, 0, 0, 0, 0, 0, 0, 0, 0, 0, 1, 0, 0, 0, 0, 0, 1, 0, 0, 0, 0, 0, 0, 0, 0, 0, 0, 0, 0, 0], [1, 0, 3, 4, 4, 0, 1, 0, 3, 4, 0, 1, 0, 3, 4, 4, 4, 4, 4, 4, 4, 0, 1, 0, 0, 0, 0, 0, 0, 1, 0, 3, 4, 4, 4, 4, 4, 0, 1, 0, 3, 4, 4, 4, 0], [0, 0, 0, 0, 0, 0, 0, 0, 0, 0, 0, 3, 4, 4, 0, 1, 0, 1, 0, 0, 0, 1, 0, 0, 0, 1, 0, 1, 0, 0, 0, 0, 1, 0, 0, 0, 0, 0, 0, 0, 0, 1, 0, 0, 0], [3, 4, 4, 0, 1, 0, 0, 0, 0, 0, 0, 0, 0, 0, 0, 0, 0, 0, 0, 0, 0, 0, 0, 0, 0], [0, 0, 0, 0, 0, 0, 0, 0, 0, 0, 0, 0, 0, 0, 0, 0, 0, 1, 0, 3, 4, 1, 4, 0, 1, 0, 0, 1, 0, 0, 0, 0, 0, 0, 0, 0, 0, 0, 0, 1, 0, 0, 0, 0, 0, 0, 0, 0, 0, 0, 0, 0, 0, 0, 0, 0, 0, 0, 0, 0, 0, 0, 0, 0, 0, 0, 0, 0, 1, 0, 0, 0, 0, 0, 0, 0, 0, 0, 0, 0, 0, 0, 1, 0, 0, 0, 0, 0, 0, 0, 0, 0, 0, 0, 0, 0, 0, 0, 0], [1, 0, 3, 0, 1, 0, 3, 4, 0, 1, 0, 0, 0, 0], [0, 0, 0, 0, 0, 0, 0, 0, 0, 3, 4, 4, 0, 1, 0, 0], [0, 0, 0, 0, 0, 0, 0, 0, 0, 0, 1, 0, 3, 4, 4, 0, 1, 0, 3, 4, 4, 0, 1, 0, 3, 4, 0], [0, 3, 4, 4, 0, 1, 0, 0, 0, 0, 0, 0, 0, 0, 0, 0, 0, 1, 0, 0, 0, 0, 0, 0, 0, 0, 0, 0, 0, 0, 0, 0, 0, 0, 0, 0, 0, 0, 0, 0, 0, 0, 0, 0, 0, 0, 0, 0, 0, 0], [0, 0, 0, 0, 3, 4, 4, 0, 1, 0, 0, 0, 0, 0, 1, 0, 0, 0, 0, 0, 0, 0, 0, 0, 0, 0, 0, 0, 0, 0, 0, 0, 0, 0, 0, 0, 0, 1, 0, 0, 0, 0, 0, 0, 0, 0, 0], [1, 0, 3, 4, 4, 0, 1, 0, 3, 4, 4], [0, 0, 0, 0, 0, 0, 0, 0, 0, 0, 0, 0, 0, 0, 0, 0, 1, 0, 0, 0, 3, 4, 4, 0, 1, 0, 0, 0, 0, 0, 0, 0, 0, 0, 0, 0, 0, 0], [0, 0, 0, 0, 0, 0, 0, 3, 4, 4, 4, 4, 0, 1, 0, 0, 0, 0, 0, 0, 0, 0, 0, 0, 0, 0, 0], [0, 0, 0, 0, 0, 0, 0, 0, 0, 0, 0, 3, 4, 0, 1, 0, 0, 0, 0, 0, 0, 0, 0, 0, 0, 0, 0, 0, 0, 0, 0, 0, 0, 0, 0, 0, 0, 0, 0], [0, 0, 0, 0, 0, 0, 0, 0, 0, 0, 0, 0, 0, 0, 0, 0, 0, 0, 0, 0, 0, 0, 0, 0, 0, 0, 0, 0, 0, 0, 3, 4, 0, 1, 0, 0, 0, 0, 0, 0, 0, 0, 0, 0, 0, 0, 0, 0, 0, 0, 1, 0, 0, 0, 0, 0, 0, 0, 0, 0, 0, 0, 0, 0, 0, 0, 0, 0, 0, 0, 0, 0, 0, 0, 0, 0, 0, 0, 0], [0, 0, 0, 0, 3, 4, 4, 0, 1, 0, 0, 3, 4, 4, 0, 1, 0, 0, 1, 0, 0, 0, 0, 0, 0, 0, 0, 0, 0, 0, 0, 0, 0, 0, 0, 0, 0, 0, 0, 0, 0, 0, 0, 0, 0, 0, 0, 0, 0, 0, 0, 0, 0, 0, 0, 0, 0, 0, 0, 0, 0, 0, 0, 0, 0, 0, 0, 0, 0, 0, 0, 0, 0, 0, 0, 0, 0, 0, 0, 0, 0, 0, 0, 0, 0, 0, 0, 0, 0, 0, 0, 0], [0, 0, 0, 0, 0, 0, 0, 0, 0, 0, 0, 0, 0, 0, 0, 0, 0, 0, 3, 4, 0, 1, 0, 0, 0, 0, 0, 0, 3, 0, 0, 0, 0, 0, 0, 0, 0, 0, 1, 0, 0, 0, 0, 0], [0, 0, 0, 0, 0, 0, 0, 0, 1, 0, 0, 0, 0, 0, 0, 0, 0, 0, 0, 0, 3, 4, 0, 1, 0, 0, 3, 4, 4, 4, 0, 1, 0, 0, 0, 3, 4, 4, 4, 0, 1, 0, 0, 0, 0, 0], [0, 0, 0, 0, 0, 0, 0, 0, 3, 1, 0, 1, 0, 0]]}\n",
            "[('Alternatively', 'ADV', 'B-O'), (',', 'PUNCT', 'B-O'), ('fibroblasts', 'NOUN', 'B-O'), ('were', 'AUX', 'B-O'), ('plated', 'VERB', 'B-O'), ('sparsely', 'ADV', 'B-O'), ('so', 'SCONJ', 'B-O'), ('that', 'SCONJ', 'B-O'), ('they', 'PRON', 'B-O'), ('did', 'AUX', 'B-O'), ('not', 'PART', 'B-O'), ('touch', 'VERB', 'B-O'), ('each', 'DET', 'B-O'), ('other', 'ADJ', 'B-O'), ('and', 'CCONJ', 'B-O'), ('induced', 'VERB', 'B-O'), ('into', 'ADP', 'B-O'), ('quiescence', 'NOUN', 'B-O'), ('by', 'ADP', 'B-O'), ('serum', 'NOUN', 'B-O'), ('starvation', 'NOUN', 'B-O'), ('and', 'CCONJ', 'B-O'), ('monitored', 'VERB', 'B-O'), ('after', 'ADP', 'B-O'), ('4', 'NUM', 'B-O'), ('d', 'NOUN', 'B-O'), ('(', 'PUNCT', 'B-O'), ('serum', 'NOUN', 'B-LF'), ('-', 'PUNCT', 'I-LF'), ('starved', 'VERB', 'I-LF'), ('for', 'ADP', 'I-LF'), ('4', 'NUM', 'I-LF'), ('d', 'NOUN', 'I-LF'), ('[', 'X', 'B-O'), ('SS4', 'PROPN', 'I-AC'), (']', 'PUNCT', 'B-O'), (')', 'PUNCT', 'B-O'), ('or', 'CCONJ', 'B-O'), ('7', 'NUM', 'B-O'), ('d', 'NOUN', 'B-O'), ('(', 'PUNCT', 'B-O'), ('serum', 'NOUN', 'B-LF'), ('-', 'PUNCT', 'I-LF'), ('starved', 'VERB', 'I-LF'), ('for', 'ADP', 'I-LF'), ('7', 'NUM', 'I-LF'), ('d', 'NOUN', 'I-LF'), ('[', 'X', 'B-O'), ('SS7', 'PROPN', 'I-AC'), (']', 'PUNCT', 'B-O'), (')', 'PUNCT', 'B-O'), ('.', 'PUNCT', 'B-O'), ('Study', 'NOUN', 'B-O'), ('-', 'PUNCT', 'B-O'), ('specific', 'ADJ', 'B-O'), ('risk', 'NOUN', 'B-LF'), ('ratios', 'NOUN', 'I-LF'), ('(', 'PUNCT', 'B-O'), ('RRs', 'PROPN', 'I-AC'), (')', 'PUNCT', 'B-O'), ('and', 'CCONJ', 'B-O'), ('mean', 'ADJ', 'B-O'), ('BW', 'PROPN', 'I-AC'), ('differences', 'NOUN', 'B-O'), ('were', 'AUX', 'B-O'), ('calculated', 'VERB', 'B-O'), ('using', 'VERB', 'B-O'), ('linear', 'ADJ', 'B-O'), ('and', 'CCONJ', 'B-O'), ('log', 'ADJ', 'B-O'), ('-', 'PUNCT', 'B-O'), ('binomial', 'ADJ', 'B-O'), ('regression', 'NOUN', 'B-O'), ('models', 'NOUN', 'B-O'), ('controlling', 'VERB', 'B-O'), ('for', 'ADP', 'B-O'), ('confounding', 'NOUN', 'B-O'), ('using', 'VERB', 'B-O'), ('inverse', 'ADJ', 'B-LF'), ('probability', 'NOUN', 'I-LF'), ('of', 'ADP', 'I-LF'), ('treatment', 'NOUN', 'I-LF'), ('weights', 'NOUN', 'I-LF'), ('(', 'PUNCT', 'B-O'), ('IPTW', 'PROPN', 'I-AC'), (')', 'PUNCT', 'B-O'), ('truncated', 'VERB', 'B-O'), ('at', 'ADP', 'B-O'), ('the', 'DET', 'B-O'), ('1st', 'ADJ', 'B-O'), ('and', 'CCONJ', 'B-O'), ('99th', 'ADJ', 'B-O'), ('percentiles', 'NOUN', 'B-O'), ('.', 'PUNCT', 'B-O'), ('Three', 'NUM', 'B-O'), ('faba', 'NOUN', 'B-O'), ('bean', 'NOUN', 'B-O'), ('genotypes', 'NOUN', 'B-O'), (',', 'PUNCT', 'B-O'), ('Aguadulce', 'PROPN', 'B-LF'), ('(', 'PUNCT', 'B-O'), ('AD', 'PROPN', 'I-AC'), (')', 'PUNCT', 'B-O'), (',', 'PUNCT', 'B-O'), ('Luz', 'PROPN', 'B-O'), ('d’Otono', 'PROPN', 'B-O'), ('(', 'PUNCT', 'B-O'), ('LO', 'PROPN', 'I-AC'), (')', 'PUNCT', 'B-O'), ('and', 'CCONJ', 'B-O'), ('Reina', 'PROPN', 'B-LF'), ('Mora', 'PROPN', 'I-LF'), ('(', 'PUNCT', 'B-O'), ('RM', 'PROPN', 'I-AC'), (')', 'PUNCT', 'B-O'), (',', 'PUNCT', 'B-O'), ('frequently', 'ADV', 'B-O'), ('grown', 'VERB', 'B-O'), ('at', 'ADP', 'B-O'), ('the', 'DET', 'B-O'), ('Haouz', 'PROPN', 'B-O'), ('region', 'NOUN', 'B-O'), ('of', 'ADP', 'B-O'), ('Morocco', 'PROPN', 'B-O'), (',', 'PUNCT', 'B-O'), ('were', 'AUX', 'B-O'), ('used', 'VERB', 'B-O'), ('in', 'ADP', 'B-O'), ('this', 'DET', 'B-O'), ('study', 'NOUN', 'B-O'), ('.', 'PUNCT', 'B-O'), ('Neurological', 'ADJ', 'B-O'), ('complications', 'NOUN', 'B-O'), ('of', 'ADP', 'B-O'), ('cancer', 'NOUN', 'B-O'), ('include', 'VERB', 'B-O'), ('direct', 'ADJ', 'B-O'), ('tumour', 'NOUN', 'B-O'), ('compression', 'NOUN', 'B-O'), ('or', 'CCONJ', 'B-O'), ('infiltration', 'NOUN', 'B-O'), (',', 'PUNCT', 'B-O'), ('paraneoplastic', 'ADJ', 'B-O'), ('neurological', 'ADJ', 'B-O'), ('syndromes', 'NOUN', 'B-O'), ('(', 'PUNCT', 'B-O'), ('PNS', 'NOUN', 'B-O'), (')', 'PUNCT', 'B-O'), (',', 'PUNCT', 'B-O'), ('metabolic', 'ADJ', 'B-O'), ('and', 'CCONJ', 'B-O'), ('nutritional', 'ADJ', 'B-O'), ('deficiencies', 'NOUN', 'B-O'), ('and', 'CCONJ', 'B-O'), ('chemotherapy', 'NOUN', 'B-LF'), ('induced', 'VERB', 'I-LF'), ('peripheral', 'ADJ', 'I-LF'), ('neuropathy', 'NOUN', 'I-LF'), ('(', 'PUNCT', 'B-O'), ('CIPN', 'PROPN', 'I-AC'), (')', 'PUNCT', 'B-O'), ('[', 'PUNCT', 'B-O'), ('1', 'NUM', 'B-O'), (']', 'PUNCT', 'B-O'), ('.', 'PUNCT', 'B-O'), ('Reference', 'NOUN', 'B-LF'), ('values', 'NOUN', 'I-LF'), ('(', 'PUNCT', 'B-O'), ('RVs', 'PROPN', 'I-AC'), (')', 'PUNCT', 'B-O'), ('of', 'ADP', 'B-O'), ('each', 'DET', 'B-O'), ('analyte', 'NOUN', 'B-O'), ('were', 'AUX', 'B-O'), ('set', 'VERB', 'B-O'), ('as', 'ADP', 'B-O'), ('an', 'DET', 'B-O'), ('objective', 'ADJ', 'B-O'), ('variable', 'NOUN', 'B-O'), (',', 'PUNCT', 'B-O'), ('while', 'SCONJ', 'B-O'), ('set', 'VERB', 'B-O'), ('as', 'ADP', 'B-O'), ('explanatory', 'ADJ', 'B-O'), ('variables', 'NOUN', 'B-O'), ('were', 'AUX', 'B-O'), ('volunteers', 'NOUN', 'B-O'), (\"'\", 'PART', 'B-O'), ('region', 'NOUN', 'B-O'), (',', 'PUNCT', 'B-O'), ('age', 'NOUN', 'B-O'), (',', 'PUNCT', 'B-O'), ('body', 'NOUN', 'B-LF'), ('mass', 'NOUN', 'I-LF'), ('index', 'NOUN', 'I-LF'), ('(', 'PUNCT', 'B-O'), ('BMI', 'PROPN', 'I-AC'), (')', 'PUNCT', 'B-O'), (',', 'PUNCT', 'B-O'), ('levels', 'NOUN', 'B-O'), ('of', 'ADP', 'B-O'), ('cigarette', 'NOUN', 'B-O'), ('smoking', 'NOUN', 'B-O'), (',', 'PUNCT', 'B-O'), ('exercise', 'NOUN', 'B-O'), (',', 'PUNCT', 'B-O'), ('consumption', 'NOUN', 'B-O'), ('of', 'ADP', 'B-O'), ('soft', 'ADJ', 'B-O'), ('drinks', 'NOUN', 'B-O'), ('.', 'PUNCT', 'B-O'), ('We', 'PRON', 'B-O'), ('next', 'ADV', 'B-O'), ('undertook', 'VERB', 'B-O'), ('a', 'DET', 'B-O'), ('large', 'ADJ', 'B-O'), ('case', 'NOUN', 'B-O'), ('study', 'NOUN', 'B-O'), ('of', 'ADP', 'B-O'), ('all', 'DET', 'B-O'), ('88,835', 'NUM', 'B-O'), ('articles', 'NOUN', 'B-O'), ('published', 'VERB', 'B-O'), ('by', 'ADP', 'B-O'), ('NIH', 'PROPN', 'I-AC'), ('investigators', 'NOUN', 'B-O'), ('who', 'PRON', 'B-O'), ('maintained', 'VERB', 'B-O'), ('continuous', 'ADJ', 'B-O'), ('R01', 'PROPN', 'B-O'), ('funding', 'NOUN', 'B-O'), ('from', 'ADP', 'B-O'), ('fiscal', 'ADJ', 'B-LF'), ('year', 'NOUN', 'I-LF'), ('(', 'PUNCT', 'B-O'), ('FY', 'PROPN', 'I-AC'), (')', 'PUNCT', 'B-O'), ('2003', 'NUM', 'B-O'), ('through', 'ADP', 'B-O'), ('FY2010', 'NUM', 'B-O'), ('to', 'PART', 'B-O'), ('ask', 'VERB', 'B-O'), ('how', 'SCONJ', 'B-O'), ('the', 'DET', 'B-O'), ('RCR', 'PROPN', 'I-AC'), ('of', 'ADP', 'B-O'), ('publications', 'NOUN', 'B-O'), ('from', 'ADP', 'B-O'), ('individual', 'ADJ', 'B-O'), ('investigators', 'NOUN', 'B-O'), ('changed', 'VERB', 'B-O'), ('over', 'ADP', 'B-O'), ('this', 'DET', 'B-O'), ('8', 'NUM', 'B-O'), ('-', 'PUNCT', 'B-O'), ('y', 'NOUN', 'B-O'), ('interval', 'NOUN', 'B-O'), ('.', 'PUNCT', 'B-O'), ('In', 'ADP', 'B-O'), ('some', 'DET', 'B-O'), ('cases', 'NOUN', 'B-O'), ('this', 'PRON', 'B-O'), ('is', 'AUX', 'B-O'), ('explained', 'VERB', 'B-O'), ('by', 'ADP', 'B-O'), ('the', 'DET', 'B-O'), ('association', 'NOUN', 'B-O'), ('of', 'ADP', 'B-O'), ('more', 'ADJ', 'B-O'), ('than', 'ADP', 'B-O'), ('one', 'NUM', 'B-O'), ('sequence', 'NOUN', 'B-O'), ('variation', 'NOUN', 'B-O'), ('of', 'ADP', 'B-O'), ('the', 'DET', 'B-O'), ('same', 'ADJ', 'B-O'), ('gene', 'NOUN', 'B-O'), ('(', 'PUNCT', 'B-O'), ('Spastic', 'PROPN', 'B-O'), ('Paraplegia', 'PROPN', 'B-O'), ('Gene', 'PROPN', 'B-O'), (',', 'PUNCT', 'B-O'), ('SPG', 'PROPN', 'B-O'), (')', 'PUNCT', 'B-O'), ('[', 'PUNCT', 'B-O'), ('4–6', 'NUM', 'B-O'), (']', 'PUNCT', 'B-O'), (',', 'PUNCT', 'B-O'), ('whereas', 'SCONJ', 'B-O'), ('in', 'ADP', 'B-O'), ('others', 'NOUN', 'B-O'), ('subtle', 'ADJ', 'B-O'), ('characteristics', 'NOUN', 'B-O'), ('seem', 'VERB', 'B-O'), ('to', 'ADP', 'B-O'), ('differentiate', 'VERB', 'B-O'), ('one', 'NUM', 'B-O'), ('form', 'NOUN', 'B-O'), ('to', 'ADP', 'B-O'), ('another', 'PRON', 'B-O'), ('[', 'PUNCT', 'B-O'), ('1', 'NUM', 'B-O'), (',', 'PUNCT', 'B-O'), ('3', 'NUM', 'B-O'), (']', 'PUNCT', 'B-O'), (':', 'PUNCT', 'B-O'), ('early', 'ADJ', 'B-O'), ('onset', 'NOUN', 'B-O'), ('associated', 'VERB', 'B-O'), ('with', 'ADP', 'B-O'), ('mutations', 'NOUN', 'B-O'), ('of', 'ADP', 'B-O'), ('atlastin-1', 'NOUN', 'B-O'), ('(', 'PUNCT', 'B-O'), ('SPG3a', 'PROPN', 'B-O'), (')', 'PUNCT', 'B-O'), ('[', 'PUNCT', 'B-O'), ('7', 'NUM', 'B-O'), (']', 'PUNCT', 'B-O'), (',', 'PUNCT', 'B-O'), ('DDHD1', 'PROPN', 'B-O'), ('(', 'PUNCT', 'B-O'), ('SPG28', 'PROPN', 'B-O'), (')', 'PUNCT', 'B-O'), ('[', 'PUNCT', 'B-O'), ('8', 'NUM', 'B-O'), (']', 'PUNCT', 'B-O'), ('and', 'CCONJ', 'B-O'), ('REEP1', 'PROPN', 'B-O'), ('(', 'PUNCT', 'B-O'), ('SPG31', 'PROPN', 'B-O'), (')', 'PUNCT', 'B-O'), ('[', 'PUNCT', 'B-O'), ('9', 'NUM', 'B-O'), (']', 'PUNCT', 'B-O'), (';', 'PUNCT', 'B-O'), ('cognitive', 'ADJ', 'B-O'), ('decline', 'NOUN', 'B-O'), ('with', 'ADP', 'B-O'), ('mutations', 'NOUN', 'B-O'), ('in', 'ADP', 'B-O'), ('spastin', 'NOUN', 'B-O'), ('(', 'PUNCT', 'B-O'), ('SPG4', 'PROPN', 'B-O'), (')', 'PUNCT', 'B-O'), ('[', 'PUNCT', 'B-O'), ('10', 'X', 'B-O'), (']', 'PUNCT', 'B-O'), (';', 'PUNCT', 'B-O'), ('cerebellar', 'ADJ', 'B-O'), ('signs', 'NOUN', 'B-O'), ('such', 'ADJ', 'B-O'), ('as', 'ADP', 'B-O'), ('ataxia', 'NOUN', 'B-O'), ('with', 'ADP', 'B-O'), ('mutations', 'NOUN', 'B-O'), ('of', 'ADP', 'B-O'), ('paraplegin', 'NOUN', 'B-O'), ('(', 'PUNCT', 'B-O'), ('SPG7', 'PROPN', 'B-O'), (')', 'PUNCT', 'B-O'), ('[', 'PUNCT', 'B-O'), ('11', 'X', 'B-O'), (']', 'PUNCT', 'B-O'), (';', 'PUNCT', 'B-O'), ('axonal', 'ADJ', 'B-O'), ('motor', 'NOUN', 'B-O'), ('neuropathy', 'NOUN', 'B-O'), ('and', 'CCONJ', 'B-O'), ('distal', 'ADJ', 'B-O'), ('atrophy', 'NOUN', 'B-O'), ('with', 'ADP', 'B-O'), ('mutation', 'NOUN', 'B-O'), ('in', 'ADP', 'B-O'), ('seipin', 'NOUN', 'B-O'), ('(', 'PUNCT', 'B-O'), ('SPG17', 'PROPN', 'B-O'), (')', 'PUNCT', 'B-O'), ('[', 'PUNCT', 'B-O'), ('12', 'X', 'B-O'), (']', 'PUNCT', 'B-O'), ('and', 'CCONJ', 'B-O'), ('KiF5A', 'PROPN', 'B-O'), ('(', 'PUNCT', 'B-O'), ('SPG10', 'PROPN', 'B-O'), (')', 'PUNCT', 'B-O'), ('[', 'PUNCT', 'B-O'), ('13', 'NUM', 'B-O'), (',', 'PUNCT', 'B-O'), ('14', 'NUM', 'B-O'), (']', 'PUNCT', 'B-O'), (';', 'PUNCT', 'B-O'), ('white', 'ADJ', 'B-LF'), ('matter', 'NOUN', 'I-LF'), ('(', 'PUNCT', 'B-O'), ('WM', 'PROPN', 'I-AC'), (')', 'PUNCT', 'B-O'), ('MRI', 'NOUN', 'B-O'), ('abnormalities', 'NOUN', 'B-O'), ('with', 'ADP', 'B-O'), ('mutations', 'NOUN', 'B-O'), ('of', 'ADP', 'B-O'), ('CYP7B1', 'PROPN', 'B-O'), ('(', 'PUNCT', 'B-O'), ('SPG5', 'PROPN', 'B-O'), (')', 'PUNCT', 'B-O'), ('[', 'PUNCT', 'B-O'), ('15', 'NUM', 'B-O'), (']', 'PUNCT', 'B-O'), (';', 'PUNCT', 'B-O'), ('thin', 'ADJ', 'B-O'), ('corpus', 'NOUN', 'B-O'), ('callosum', 'NOUN', 'B-O'), ('with', 'ADP', 'B-O'), ('a', 'DET', 'B-O'), ('characteristic', 'ADJ', 'B-O'), ('white', 'ADJ', 'B-LF'), ('matter', 'NOUN', 'I-LF'), ('alteration', 'NOUN', 'B-O'), ('(', 'PUNCT', 'B-O'), ('“', 'PUNCT', 'B-O'), ('ears', 'NOUN', 'B-O'), ('of', 'ADP', 'B-O'), ('lynx', 'NOUN', 'B-O'), ('”', 'PUNCT', 'B-O'), ('sign', 'NOUN', 'B-O'), (')', 'PUNCT', 'B-O'), ('and', 'CCONJ', 'B-O'), ('intellectual', 'ADJ', 'B-O'), ('disability', 'NOUN', 'B-O'), ('in', 'ADP', 'B-O'), ('mutations', 'NOUN', 'B-O'), ('of', 'ADP', 'B-O'), ('spatacsin', 'NOUN', 'B-O'), ('(', 'PUNCT', 'B-O'), ('SPG11', 'PROPN', 'B-O'), (')', 'PUNCT', 'B-O'), ('[', 'PUNCT', 'B-O'), ('16', 'NUM', 'B-O'), (']', 'PUNCT', 'B-O'), ('.', 'PUNCT', 'B-O'), ('A', 'X', 'B-O'), (':', 'PUNCT', 'B-O'), ('Phosphatidylinositol', 'NOUN', 'B-O'), ('3', 'NUM', 'B-O'), ('-', 'PUNCT', 'B-O'), ('kinaseand', 'NOUN', 'B-O'), ('(', 'PUNCT', 'B-O'), ('Pi3k', 'PROPN', 'I-AC'), (')', 'PUNCT', 'B-O'), ('mRNA', 'NOUN', 'B-O'), ('level', 'NOUN', 'B-O'), ('in', 'ADP', 'B-O'), ('liver', 'NOUN', 'B-O'), (';', 'PUNCT', 'B-O'), ('B', 'NOUN', 'B-O'), (':', 'PUNCT', 'B-O'), ('Protein', 'NOUN', 'B-LF'), ('kinase', 'NOUN', 'I-LF'), ('B', 'NOUN', 'I-LF'), ('(', 'PUNCT', 'B-O'), ('Akt', 'PROPN', 'I-AC'), (')', 'PUNCT', 'B-O'), ('mRNA', 'NOUN', 'B-O'), ('level', 'NOUN', 'B-O'), ('in', 'ADP', 'B-O'), ('liver', 'NOUN', 'B-O'), ('.', 'PUNCT', 'B-O'), ('D1R', 'PROPN', 'I-AC'), (',', 'PUNCT', 'B-O'), ('D1', 'NOUN', 'B-LF'), ('dopamine', 'NOUN', 'I-LF'), ('receptor', 'NOUN', 'I-LF'), (';', 'PUNCT', 'B-O'), ('D2R', 'PROPN', 'I-AC'), (',', 'PUNCT', 'B-O'), ('D2', 'NOUN', 'B-LF'), ('dopamine', 'NOUN', 'I-LF'), ('receptor', 'NOUN', 'I-LF'), (';', 'PUNCT', 'B-O'), ('MSN', 'PROPN', 'I-AC'), (',', 'PUNCT', 'B-O'), ('medium', 'ADJ', 'B-LF'), ('spiny', 'ADJ', 'I-LF'), ('neuron', 'NOUN', 'I-LF'), (';', 'PUNCT', 'B-O'), ('NF1', 'PROPN', 'I-AC'), (',', 'PUNCT', 'B-O'), ('neurofibromin', 'NOUN', 'B-LF'), ('1', 'NUM', 'I-LF'), (';', 'PUNCT', 'B-O'), ('RM', 'PROPN', 'B-O'), ('-', 'PUNCT', 'B-O'), ('ANOVA', 'PROPN', 'B-O'), (',', 'PUNCT', 'B-O'), ('repeated', 'ADJ', 'B-O'), ('measures', 'NOUN', 'B-O'), ('analysis', 'NOUN', 'B-O'), ('of', 'ADP', 'B-O'), ('variance', 'NOUN', 'B-O'), ('.', 'PUNCT', 'B-O'), ('Recently', 'ADV', 'B-O'), (',', 'PUNCT', 'B-O'), ('we', 'PRON', 'B-O'), ('established', 'VERB', 'B-O'), ('an', 'DET', 'B-O'), ('animal', 'NOUN', 'B-O'), ('model', 'NOUN', 'B-O'), ('demonstrating', 'VERB', 'B-O'), ('that', 'SCONJ', 'B-O'), ('intranasal', 'ADJ', 'B-O'), ('inhalation', 'NOUN', 'B-O'), ('of', 'ADP', 'B-O'), ('organic', 'ADJ', 'B-LF'), ('dust', 'NOUN', 'I-LF'), ('extract', 'NOUN', 'I-LF'), ('(', 'PUNCT', 'B-O'), ('ODE', 'PROPN', 'I-AC'), (')', 'PUNCT', 'B-O'), ('collected', 'VERB', 'B-O'), ('from', 'ADP', 'B-O'), ('large', 'ADJ', 'B-O'), ('animal', 'NOUN', 'B-O'), ('(', 'PUNCT', 'B-O'), ('swine', 'NOUN', 'B-O'), (')', 'PUNCT', 'B-O'), ('confinement', 'NOUN', 'B-O'), ('facilities', 'NOUN', 'B-O'), ('and', 'CCONJ', 'B-O'), ('its', 'PRON', 'B-O'), ('microbial', 'ADJ', 'B-O'), ('components', 'NOUN', 'B-O'), ('induce', 'VERB', 'B-O'), ('systemic', 'ADJ', 'B-O'), ('bone', 'NOUN', 'B-O'), ('loss', 'NOUN', 'B-O'), ('[', 'PUNCT', 'B-O'), ('13', 'NUM', 'B-O'), (']', 'PUNCT', 'B-O'), ('.', 'PUNCT', 'B-O'), ('As', 'SCONJ', 'B-O'), ('there', 'PRON', 'B-O'), ('is', 'VERB', 'B-O'), ('also', 'ADV', 'B-O'), ('no', 'DET', 'B-O'), ('currently', 'ADV', 'B-O'), ('accepted', 'VERB', 'B-O'), ('definitive', 'ADJ', 'B-O'), ('diagnostic', 'ADJ', 'B-O'), ('criteria', 'NOUN', 'B-O'), ('or', 'CCONJ', 'B-O'), ('billing', 'NOUN', 'B-O'), ('code', 'NOUN', 'B-O'), ('for', 'ADP', 'B-O'), ('“', 'PUNCT', 'B-O'), ('prolonged', 'ADJ', 'B-LF'), ('post', 'ADJ', 'I-LF'), ('-', 'PUNCT', 'I-LF'), ('concussion', 'NOUN', 'I-LF'), ('symptoms', 'NOUN', 'I-LF'), (',', 'PUNCT', 'B-O'), ('”', 'PUNCT', 'B-O'), ('we', 'PRON', 'B-O'), ('had', 'VERB', 'B-O'), ('to', 'PART', 'B-O'), ('create', 'VERB', 'B-O'), ('our', 'PRON', 'B-O'), ('own', 'ADJ', 'B-O'), ('criteria', 'NOUN', 'B-O'), ('to', 'PART', 'B-O'), ('identify', 'VERB', 'B-O'), ('those', 'PRON', 'B-O'), ('most', 'ADV', 'B-O'), ('likely', 'ADJ', 'B-O'), ('to', 'PART', 'B-O'), ('be', 'AUX', 'B-O'), ('seeking', 'VERB', 'B-O'), ('medical', 'ADJ', 'B-O'), ('treatment', 'NOUN', 'B-O'), ('for', 'ADP', 'B-O'), ('PPCS', 'PROPN', 'I-AC'), ('.', 'PUNCT', 'B-O'), ('Furthermore', 'ADV', 'B-O'), (',', 'PUNCT', 'B-O'), ('sports', 'NOUN', 'B-O'), ('medicine', 'NOUN', 'B-O'), ('physicians', 'NOUN', 'B-O'), ('are', 'AUX', 'B-O'), ('classified', 'VERB', 'B-O'), ('as', 'ADP', 'B-O'), ('primary', 'ADJ', 'B-O'), ('care', 'NOUN', 'B-O'), ('physicians', 'NOUN', 'B-O'), ('by', 'ADP', 'B-O'), ('their', 'PRON', 'B-O'), ('OHIP', 'PROPN', 'I-AC'), ('specialty', 'NOUN', 'B-O'), ('code', 'NOUN', 'B-O'), (',', 'PUNCT', 'B-O'), ('and', 'CCONJ', 'B-O'), (',', 'PUNCT', 'B-O'), ('therefore', 'ADV', 'B-O'), (',', 'PUNCT', 'B-O'), ('the', 'DET', 'B-O'), ('patients', 'NOUN', 'B-O'), ('they', 'PRON', 'B-O'), ('treated', 'VERB', 'B-O'), ('are', 'AUX', 'B-O'), ('not', 'PART', 'B-O'), ('included', 'VERB', 'B-O'), ('in', 'ADP', 'B-O'), ('this', 'DET', 'B-O'), ('analysis', 'NOUN', 'B-O'), ('of', 'ADP', 'B-O'), ('specialist', 'NOUN', 'B-O'), ('care', 'NOUN', 'B-O'), (',', 'PUNCT', 'B-O'), ('although', 'SCONJ', 'B-O'), ('they', 'PRON', 'B-O'), ('are', 'AUX', 'B-O'), ('a', 'DET', 'B-O'), ('frequent', 'ADJ', 'B-O'), ('provider', 'NOUN', 'B-O'), ('of', 'ADP', 'B-O'), ('concussion', 'NOUN', 'B-O'), ('-', 'PUNCT', 'B-O'), ('related', 'VERB', 'B-O'), ('healthcare', 'NOUN', 'B-O'), ('.', 'PUNCT', 'B-O'), ('Following', 'VERB', 'B-O'), ('a', 'DET', 'B-O'), ('pilot', 'ADJ', 'B-O'), ('study', 'NOUN', 'B-O'), ('in', 'ADP', 'B-O'), ('Italy', 'PROPN', 'B-O'), ('and', 'CCONJ', 'B-O'), ('Spain', 'PROPN', 'B-O'), (',', 'PUNCT', 'B-O'), ('analysis', 'NOUN', 'B-O'), ('of', 'ADP', 'B-O'), ('carriers', 'NOUN', 'B-O'), ('(', 'PUNCT', 'B-O'), ('n', 'X', 'B-O'), ('=', 'X', 'B-O'), ('11,609', 'NUM', 'B-O'), (')', 'PUNCT', 'B-O'), ('collected', 'VERB', 'B-O'), ('through', 'ADP', 'B-O'), ('24', 'NUM', 'B-O'), ('study', 'NOUN', 'B-O'), ('groups', 'NOUN', 'B-O'), ('participating', 'VERB', 'B-O'), ('in', 'ADP', 'B-O'), ('the', 'DET', 'B-O'), ('Consortium', 'PROPN', 'B-O'), ('of', 'ADP', 'B-O'), ('Investigators', 'PROPN', 'B-O'), ('of', 'ADP', 'B-O'), ('Modifiers', 'PROPN', 'B-O'), ('of', 'ADP', 'B-O'), ('BRCA1/2', 'PROPN', 'I-AC'), ('(', 'PUNCT', 'B-O'), ('CIMBA', 'PROPN', 'I-AC'), (')', 'PUNCT', 'B-O'), ('detected', 'VERB', 'B-O'), ('significant', 'ADJ', 'B-O'), ('modification', 'NOUN', 'B-O'), ('of', 'ADP', 'B-O'), ('breast', 'NOUN', 'B-O'), ('cancer', 'NOUN', 'B-O'), ('risk', 'NOUN', 'B-O'), ('by', 'ADP', 'B-O'), ('HMMR', 'PROPN', 'B-O'), ('rs299290', 'NOUN', 'B-O'), ('variant', 'NOUN', 'B-O'), ('among', 'ADP', 'B-O'), ('BRCA1', 'PROPN', 'I-AC'), (',', 'PUNCT', 'B-O'), ('but', 'CCONJ', 'B-O'), ('not', 'PART', 'B-O'), ('BRCA2', 'PROPN', 'B-O'), (',', 'PUNCT', 'B-O'), ('mutation', 'NOUN', 'B-O'), ('carriers', 'NOUN', 'B-O'), (':', 'PUNCT', 'B-O'), ('BRCA1', 'PROPN', 'I-AC'), ('mutation', 'NOUN', 'B-O'), ('carriers', 'NOUN', 'B-O'), ('n', 'X', 'B-O'), ('=', 'X', 'B-O'), ('7,584', 'NUM', 'B-O'), (',', 'PUNCT', 'B-O'), ('Cox', 'PROPN', 'B-O'), ('proportional', 'ADJ', 'B-O'), ('-', 'PUNCT', 'B-O'), ('hazards', 'NOUN', 'B-O'), ('regression', 'NOUN', 'B-O'), ('model', 'NOUN', 'B-O'), (',', 'PUNCT', 'B-O'), ('hazard', 'NOUN', 'B-LF'), ('ratio', 'NOUN', 'I-LF'), ('(', 'PUNCT', 'B-O'), ('HR', 'PROPN', 'I-AC'), (')', 'PUNCT', 'B-O'), ('=', 'X', 'B-O'), ('1.08', 'NUM', 'B-O'), ('(', 'PUNCT', 'B-O'), ('95', 'NUM', 'B-O'), ('%', 'NOUN', 'B-O'), ('confidence', 'NOUN', 'B-LF'), ('interval', 'NOUN', 'I-LF'), ('(', 'PUNCT', 'B-O'), ('CI', 'PROPN', 'I-AC'), (')', 'PUNCT', 'B-O'), ('1.02–1.13', 'NUM', 'B-O'), (')', 'PUNCT', 'B-O'), (',', 'PUNCT', 'B-O'), ('ptrend', 'X', 'B-O'), ('=', 'X', 'B-O'), ('0.004', 'NUM', 'B-O'), ('(', 'PUNCT', 'B-O'), ('p', 'NOUN', 'B-O'), ('2df', 'NUM', 'B-O'), ('=', 'X', 'B-O'), ('0.014', 'NUM', 'B-O'), (')', 'PUNCT', 'B-O'), (',', 'PUNCT', 'B-O'), ('in', 'ADP', 'B-O'), ('the', 'DET', 'B-O'), ('same', 'ADJ', 'B-O'), ('direction', 'NOUN', 'B-O'), ('as', 'SCONJ', 'B-O'), ('originally', 'ADV', 'B-O'), ('detected', 'VERB', 'B-O'), ('in', 'ADP', 'B-O'), ('Ashkenazi', 'ADJ', 'B-O'), ('Jewish', 'ADJ', 'B-O'), ('populations', 'NOUN', 'B-O'), ('[', 'PUNCT', 'B-O'), ('23', 'NUM', 'B-O'), (']', 'PUNCT', 'B-O'), (';', 'PUNCT', 'B-O'), ('BRCA2', 'PROPN', 'B-O'), ('mutation', 'NOUN', 'B-O'), ('carriers', 'NOUN', 'B-O'), ('n', 'X', 'B-O'), ('=', 'X', 'B-O'), ('3,965', 'NUM', 'B-O'), (',', 'PUNCT', 'B-O'), ('HR', 'PROPN', 'I-AC'), ('=', 'X', 'B-O'), ('1.03', 'NUM', 'B-O'), ('(', 'PUNCT', 'B-O'), ('95', 'NUM', 'B-O'), ('%', 'NOUN', 'B-O'), ('CI', 'PROPN', 'I-AC'), ('0.96–1.10', 'NUM', 'B-O'), (')', 'PUNCT', 'B-O'), (',', 'PUNCT', 'B-O'), ('ptrend', 'X', 'B-O'), ('=', 'X', 'B-O'), ('0.42', 'NUM', 'B-O'), ('(', 'PUNCT', 'B-O'), ('p', 'NOUN', 'B-O'), ('2df', 'NUM', 'B-O'), ('=', 'X', 'B-O'), ('0.67', 'NUM', 'B-O'), (')', 'PUNCT', 'B-O'), ('.', 'PUNCT', 'B-O'), ('BMI', 'PROPN', 'I-AC'), (',', 'PUNCT', 'B-O'), ('Body', 'NOUN', 'B-LF'), ('Mass', 'PROPN', 'I-LF'), ('Index', 'PROPN', 'I-LF'), (';', 'PUNCT', 'B-O'), ('CVD', 'PROPN', 'I-AC'), (',', 'PUNCT', 'B-O'), ('Cardiovascular', 'ADJ', 'B-LF'), ('disease', 'NOUN', 'I-LF'), (';', 'PUNCT', 'B-O'), ('GRADE', 'PROPN', 'I-AC'), (',', 'PUNCT', 'B-O'), ('Grading', 'NOUN', 'B-LF'), ('of', 'ADP', 'I-LF'), ('Recommendations', 'PROPN', 'I-LF'), ('Assessment', 'PROPN', 'I-LF'), (',', 'PUNCT', 'I-LF'), ('Development', 'PROPN', 'I-LF'), ('and', 'CCONJ', 'I-LF'), ('Evaluation', 'PROPN', 'I-LF'), (';', 'PUNCT', 'B-O'), ('HDL', 'PROPN', 'I-AC'), (',', 'PUNCT', 'B-O'), ('high', 'ADJ', 'B-O'), ('-', 'PUNCT', 'B-O'), ('denisty', 'ADJ', 'B-O'), ('lipoprotein', 'NOUN', 'B-O'), (';', 'PUNCT', 'B-O'), ('HOMA', 'PROPN', 'I-AC'), (',', 'PUNCT', 'B-O'), ('homeostatic', 'ADJ', 'B-LF'), ('model', 'NOUN', 'I-LF'), ('assessment', 'NOUN', 'I-LF'), ('of', 'ADP', 'I-LF'), ('insulin', 'NOUN', 'I-LF'), ('resistance', 'NOUN', 'I-LF'), (';', 'PUNCT', 'B-O'), ('IRLDL', 'PROPN', 'I-AC'), (',', 'PUNCT', 'B-O'), ('low', 'ADJ', 'B-LF'), ('-', 'PUNCT', 'I-LF'), ('density', 'NOUN', 'I-LF'), ('lipoprotein', 'NOUN', 'I-LF'), ('.', 'PUNCT', 'B-O'), ('Moreover', 'ADV', 'B-O'), (',', 'PUNCT', 'B-O'), ('detailed', 'ADJ', 'B-O'), ('clinical', 'ADJ', 'B-O'), ('data', 'NOUN', 'B-O'), ('of', 'ADP', 'B-O'), ('the', 'DET', 'B-O'), ('children', 'NOUN', 'B-O'), (',', 'PUNCT', 'B-O'), ('such', 'ADJ', 'B-O'), ('as', 'ADP', 'B-O'), ('world', 'NOUN', 'B-LF'), ('health', 'NOUN', 'I-LF'), ('organization', 'NOUN', 'I-LF'), ('(', 'PUNCT', 'B-O'), ('WHO', 'PROPN', 'I-AC'), (')', 'PUNCT', 'B-O'), ('HIV', 'PROPN', 'I-AC'), ('disease', 'NOUN', 'B-O'), ('stage', 'NOUN', 'B-O'), (',', 'PUNCT', 'B-O'), ('OI', 'PROPN', 'I-AC'), (',', 'PUNCT', 'B-O'), ('type', 'NOUN', 'B-O'), ('of', 'ADP', 'B-O'), ('HAART', 'PROPN', 'I-AC'), ('and', 'CCONJ', 'B-O'), ('HAART', 'PROPN', 'I-AC'), ('experience', 'NOUN', 'B-O'), ('and', 'CCONJ', 'B-O'), ('duration', 'NOUN', 'B-O'), ('of', 'ADP', 'B-O'), ('HAART', 'PROPN', 'I-AC'), ('were', 'AUX', 'B-O'), ('collected', 'VERB', 'B-O'), ('by', 'ADP', 'B-O'), ('reviewing', 'VERB', 'B-O'), ('the', 'DET', 'B-O'), ('medical', 'ADJ', 'B-O'), ('record', 'NOUN', 'B-O'), ('of', 'ADP', 'B-O'), ('HIV', 'PROPN', 'I-AC'), ('infected', 'VERB', 'B-O'), ('children', 'NOUN', 'B-O'), ('.', 'PUNCT', 'B-O'), ('Gestational', 'ADJ', 'B-LF'), ('diabetes', 'NOUN', 'I-LF'), ('mellitus', 'NOUN', 'I-LF'), ('(', 'PUNCT', 'B-O'), ('GDM', 'PROPN', 'I-AC'), (')', 'PUNCT', 'B-O'), ('was', 'AUX', 'B-O'), ('originally', 'ADV', 'B-O'), ('defined', 'VERB', 'B-O'), ('as', 'ADP', 'B-O'), ('any', 'DET', 'B-O'), ('degree', 'NOUN', 'B-O'), ('of', 'ADP', 'B-O'), ('glucose', 'NOUN', 'B-O'), ('intolerance', 'NOUN', 'B-O'), ('that', 'PRON', 'B-O'), ('was', 'AUX', 'B-O'), ('first', 'ADV', 'B-O'), ('recognized', 'VERB', 'B-O'), ('during', 'ADP', 'B-O'), ('pregnancy', 'NOUN', 'B-O'), ('[', 'PUNCT', 'B-O'), ('1', 'NUM', 'B-O'), (']', 'PUNCT', 'B-O'), ('.', 'PUNCT', 'B-O'), ('Pulmonary', 'ADJ', 'B-O'), ('arterial', 'ADJ', 'B-O'), ('measures', 'NOUN', 'B-O'), ('were', 'AUX', 'B-O'), ('also', 'ADV', 'B-O'), ('directly', 'ADV', 'B-O'), ('correlated', 'VERB', 'B-O'), ('with', 'ADP', 'B-O'), ('their', 'PRON', 'B-O'), ('corresponding', 'ADJ', 'B-O'), ('systemic', 'ADJ', 'B-O'), ('arterial', 'ADJ', 'B-O'), ('measures', 'NOUN', 'B-O'), ('independent', 'ADJ', 'B-O'), ('of', 'ADP', 'B-O'), ('demographics', 'NOUN', 'B-O'), (',', 'PUNCT', 'B-O'), ('LVEF', 'PROPN', 'I-AC'), (',', 'PUNCT', 'B-O'), ('LV', 'NOUN', 'B-LF'), ('mass', 'NOUN', 'I-LF'), ('LV', 'PROPN', 'I-AC'), ('index', 'NOUN', 'I-LF'), ('(', 'PUNCT', 'B-O'), ('LVMi', 'PROPN', 'I-AC'), (')', 'PUNCT', 'B-O'), (',', 'PUNCT', 'B-O'), ('LAVi', 'PROPN', 'I-AC'), (',', 'PUNCT', 'B-O'), ('and', 'CCONJ', 'B-O'), ('septal', 'ADJ', 'B-O'), ('E', 'NOUN', 'B-O'), ('/', 'SYM', 'B-O'), ('E', 'NOUN', 'B-O'), ('’', 'PUNCT', 'B-O'), ('(', 'PUNCT', 'B-O'), ('associations', 'NOUN', 'B-O'), ('between', 'ADP', 'B-O'), (':', 'PUNCT', 'B-O'), ('PASP', 'PROPN', 'I-AC'), ('and', 'CCONJ', 'B-O'), ('systolic', 'ADJ', 'B-O'), ('blood', 'NOUN', 'B-O'), ('pressure', 'NOUN', 'B-O'), (':', 'PUNCT', 'B-O'), ('r', 'NOUN', 'B-O'), ('=', 'SYM', 'B-O'), ('0.14', 'NUM', 'B-O'), (',', 'PUNCT', 'B-O'), ('p', 'NOUN', 'B-O'), ('<', 'SYM', 'B-O'), ('0.001', 'NUM', 'B-O'), (';', 'PUNCT', 'B-O'), ('mean', 'ADJ', 'B-O'), ('PAP', 'NOUN', 'B-O'), ('and', 'CCONJ', 'B-O'), ('mean', 'ADJ', 'B-O'), ('arterial', 'ADJ', 'B-O'), ('pressure', 'NOUN', 'B-O'), (':', 'PUNCT', 'B-O'), ('r', 'NOUN', 'B-O'), ('=', 'SYM', 'B-O'), ('0.11', 'NUM', 'B-O'), (',', 'PUNCT', 'B-O'), ('p', 'NOUN', 'B-O'), ('=', 'SYM', 'B-O'), ('0.001', 'NUM', 'B-O'), (';', 'PUNCT', 'B-O'), ('PVR', 'PROPN', 'I-AC'), ('and', 'CCONJ', 'B-O'), ('systemic', 'ADJ', 'B-O'), ('vascular', 'ADJ', 'B-O'), ('resistance', 'NOUN', 'B-O'), (',', 'PUNCT', 'B-O'), ('r', 'NOUN', 'B-O'), ('=', 'SYM', 'B-O'), ('0.12', 'NUM', 'B-O'), (',', 'PUNCT', 'B-O'), ('p', 'NOUN', 'B-O'), ('<', 'SYM', 'B-O'), ('0.001', 'NUM', 'B-O'), (';', 'PUNCT', 'B-O'), ('PAC', 'PROPN', 'I-AC'), ('and', 'CCONJ', 'B-O'), ('systemic', 'ADJ', 'B-O'), ('arterial', 'ADJ', 'B-O'), ('compliance', 'NOUN', 'B-O'), (',', 'PUNCT', 'B-O'), ('r', 'NOUN', 'B-O'), ('=', 'SYM', 'B-O'), ('0.5', 'NUM', 'B-O'), ('p', 'NOUN', 'B-O'), ('<', 'SYM', 'B-O'), ('0.001', 'NUM', 'B-O'), (';', 'PUNCT', 'B-O'), ('S2', 'PROPN', 'B-O'), ('Fig', 'PROPN', 'B-O'), (')', 'PUNCT', 'B-O'), ('.', 'PUNCT', 'B-O'), ('BUD', 'PROPN', 'I-AC'), (':', 'PUNCT', 'B-O'), ('Budesonide', 'NOUN', 'B-LF'), (';', 'PUNCT', 'B-O'), ('FP', 'PROPN', 'I-AC'), (':', 'PUNCT', 'B-O'), ('Fluticasone', 'NOUN', 'B-LF'), ('propionate', 'NOUN', 'I-LF'), (',', 'PUNCT', 'B-O'), ('ICS', 'PROPN', 'I-AC'), (':', 'PUNCT', 'B-O'), ('inhaled', 'VERB', 'B-O'), ('corticosteroid', 'NOUN', 'B-O'), ('.', 'PUNCT', 'B-O'), ('For', 'ADP', 'B-O'), ('continuous', 'ADJ', 'B-O'), ('scales', 'NOUN', 'B-O'), (',', 'PUNCT', 'B-O'), ('treatment', 'NOUN', 'B-O'), ('effects', 'NOUN', 'B-O'), ('were', 'AUX', 'B-O'), ('estimated', 'VERB', 'B-O'), ('using', 'VERB', 'B-O'), ('standardised', 'VERB', 'B-LF'), ('mean', 'NOUN', 'I-LF'), ('differences', 'NOUN', 'I-LF'), ('(', 'PUNCT', 'B-O'), ('SMDs', 'PROPN', 'I-AC'), (')', 'PUNCT', 'B-O'), ('.', 'PUNCT', 'B-O'), ('Asterisks', 'NOUN', 'B-O'), ('indicate', 'VERB', 'B-O'), ('putative', 'ADJ', 'B-O'), ('knottin', 'PROPN', 'B-O'), ('transcripts', 'NOUN', 'B-O'), ('described', 'VERB', 'B-O'), ('in', 'ADP', 'B-O'), ('the', 'DET', 'B-O'), ('text', 'NOUN', 'B-O'), ('.', 'PUNCT', 'B-O'), ('cpm', 'PROPN', 'I-AC'), (',', 'PUNCT', 'B-O'), ('counts', 'NOUN', 'B-LF'), ('per', 'ADP', 'I-LF'), ('million', 'NUM', 'I-LF'), (';', 'PUNCT', 'B-O'), ('FDR', 'PROPN', 'I-AC'), (',', 'PUNCT', 'B-O'), ('false', 'ADJ', 'B-LF'), ('discovery', 'NOUN', 'I-LF'), ('rate', 'NOUN', 'I-LF'), (';', 'PUNCT', 'B-O'), ('WT', 'PROPN', 'I-AC'), (',', 'PUNCT', 'B-O'), ('wild', 'ADJ', 'B-LF'), ('type', 'NOUN', 'I-LF'), ('.', 'PUNCT', 'B-O'), ('The', 'DET', 'B-O'), ('novel', 'ADJ', 'B-LF'), ('Coronavirus', 'NOUN', 'I-LF'), ('disease', 'NOUN', 'I-LF'), ('(', 'PUNCT', 'B-O'), ('COVID-19', 'PROPN', 'I-AC'), (')', 'PUNCT', 'B-O'), (',', 'PUNCT', 'B-O'), ('caused', 'VERB', 'B-O'), ('by', 'ADP', 'B-O'), ('the', 'DET', 'B-O'), ('severe', 'ADJ', 'B-O'), ('acute', 'ADJ', 'B-O'), ('respiratory', 'ADJ', 'B-O'), ('syndrome', 'NOUN', 'B-O'), ('coronavirus—2', 'NOUN', 'B-O'), ('(', 'PUNCT', 'B-O'), ('SARS', 'PROPN', 'I-AC'), (')', 'PUNCT', 'B-O'), (',', 'PUNCT', 'B-O'), ('in', 'ADP', 'B-O'), ('Africa', 'PROPN', 'B-O'), ('is', 'AUX', 'B-O'), ('characterised', 'VERB', 'B-O'), ('by', 'ADP', 'B-O'), ('a', 'DET', 'B-O'), ('more', 'ADV', 'B-O'), ('substantial', 'ADJ', 'B-O'), ('proportion', 'NOUN', 'B-O'), ('of', 'ADP', 'B-O'), ('asymptomatic', 'ADJ', 'B-O'), ('(', 'PUNCT', 'B-O'), ('or', 'CCONJ', 'B-O'), ('mildly', 'ADV', 'B-O'), ('symptomatic', 'ADJ', 'B-O'), (')', 'PUNCT', 'B-O'), ('individuals', 'NOUN', 'B-O'), ('thought', 'VERB', 'B-O'), ('to', 'PART', 'B-O'), ('be', 'AUX', 'B-O'), ('playing', 'VERB', 'B-O'), ('a', 'DET', 'B-O'), ('role', 'NOUN', 'B-O'), ('in', 'ADP', 'B-O'), ('the', 'DET', 'B-O'), ('spread', 'NOUN', 'B-O'), ('of', 'ADP', 'B-O'), ('the', 'DET', 'B-O'), ('infection', 'NOUN', 'B-O'), ('.', 'PUNCT', 'B-O'), ('By', 'ADP', 'B-O'), ('contrast', 'NOUN', 'B-O'), (',', 'PUNCT', 'B-O'), ('the', 'DET', 'B-O'), ('International', 'PROPN', 'B-LF'), ('Diabetes', 'PROPN', 'I-LF'), ('Federation', 'PROPN', 'I-LF'), ('(', 'PUNCT', 'B-O'), ('IDF', 'PROPN', 'I-AC'), (')', 'PUNCT', 'B-O'), ('proposed', 'VERB', 'B-O'), ('to', 'PART', 'B-O'), ('use', 'VERB', 'B-O'), ('average', 'ADJ', 'B-O'), ('WC', 'PROPN', 'I-AC'), ('of', 'ADP', 'B-O'), ('subjects', 'NOUN', 'B-O'), ('with', 'ADP', 'B-O'), ('a', 'DET', 'B-O'), ('BMI', 'NOUN', 'B-O'), ('of', 'ADP', 'B-O'), ('25', 'NUM', 'B-O'), ('kg', 'NOUN', 'B-O'), ('/', 'SYM', 'B-O'), ('m2', 'NOUN', 'B-O'), ('and', 'CCONJ', 'B-O'), ('recognized', 'VERB', 'B-O'), ('that', 'SCONJ', 'B-O'), ('ethnical', 'ADJ', 'B-O'), ('differences', 'NOUN', 'B-O'), ('must', 'AUX', 'B-O'), ('be', 'AUX', 'B-O'), ('considered', 'VERB', 'B-O'), ('to', 'PART', 'B-O'), ('define', 'VERB', 'B-O'), ('correlation', 'NOUN', 'B-O'), ('between', 'ADP', 'B-O'), ('AO', 'PROPN', 'I-AC'), ('and', 'CCONJ', 'B-O'), ('metabolic', 'ADJ', 'B-O'), ('syndrome', 'NOUN', 'B-O'), ('risk', 'NOUN', 'B-O'), ('factors', 'NOUN', 'B-O'), ('[', 'PUNCT', 'B-O'), ('12', 'NUM', 'B-O'), (']', 'PUNCT', 'B-O'), ('.', 'PUNCT', 'B-O'), ('DN', 'PROPN', 'I-AC'), (',', 'PUNCT', 'B-O'), ('dominant', 'NOUN', 'B-LF'), ('-', 'PUNCT', 'I-LF'), ('negative', 'ADJ', 'I-LF'), (';', 'PUNCT', 'B-O'), ('GFP', 'PROPN', 'I-AC'), (',', 'PUNCT', 'B-O'), ('green', 'ADJ', 'B-LF'), ('fluorescent', 'ADJ', 'I-LF'), ('protein', 'NOUN', 'I-LF'), ('Therefore', 'ADV', 'B-O'), (',', 'PUNCT', 'B-O'), ('an', 'DET', 'B-O'), ('approach', 'NOUN', 'B-O'), ('that', 'PRON', 'B-O'), ('considers', 'VERB', 'B-O'), ('the', 'DET', 'B-O'), ('effects', 'NOUN', 'B-O'), ('of', 'ADP', 'B-O'), ('genetic', 'ADJ', 'B-O'), ('variants', 'NOUN', 'B-O'), ('on', 'ADP', 'B-O'), ('known', 'VERB', 'B-O'), ('risk', 'NOUN', 'B-O'), ('factors', 'NOUN', 'B-O'), ('for', 'ADP', 'B-O'), ('BC', 'PROPN', 'I-AC'), (',', 'PUNCT', 'B-O'), ('such', 'ADJ', 'B-O'), ('as', 'ADP', 'B-O'), ('body', 'NOUN', 'B-LF'), ('mass', 'NOUN', 'I-LF'), ('index', 'NOUN', 'I-LF'), ('(', 'PUNCT', 'B-O'), ('BMI', 'PROPN', 'I-AC'), (')', 'PUNCT', 'B-O'), ('and', 'CCONJ', 'B-O'), ('age', 'NOUN', 'B-O'), ('at', 'ADP', 'B-O'), ('menarche', 'NOUN', 'B-O'), ('[', 'PUNCT', 'B-O'), ('14–20', 'NUM', 'B-O'), (']', 'PUNCT', 'B-O'), (',', 'PUNCT', 'B-O'), ('could', 'AUX', 'B-O'), ('increase', 'VERB', 'B-O'), ('power', 'NOUN', 'B-O'), ('.', 'PUNCT', 'B-O'), ('The', 'DET', 'B-O'), ('receptor', 'NOUN', 'B-O'), ('tyrosine', 'NOUN', 'B-O'), ('kinases', 'NOUN', 'B-O'), ('(', 'PUNCT', 'B-O'), ('RTKs', 'NOUN', 'B-O'), (')', 'PUNCT', 'B-O'), ('TYRO3', 'NOUN', 'B-LF'), (',', 'PUNCT', 'I-LF'), ('AXL', 'PROPN', 'I-LF'), ('and', 'CCONJ', 'I-LF'), ('MERTK', 'PROPN', 'I-LF'), ('(', 'PUNCT', 'B-O'), ('TAM', 'PROPN', 'I-AC'), (')', 'PUNCT', 'B-O'), ('have', 'VERB', 'B-O'), ('well', 'ADV', 'B-O'), ('-', 'PUNCT', 'B-O'), ('described', 'VERB', 'B-O'), ('oncogenic', 'ADJ', 'B-O'), ('functions', 'NOUN', 'B-O'), ('in', 'ADP', 'B-O'), ('a', 'DET', 'B-O'), ('number', 'NOUN', 'B-O'), ('of', 'ADP', 'B-O'), ('cancers', 'NOUN', 'B-O'), ('.', 'PUNCT', 'B-O'), ('Noncoding', 'VERB', 'B-O'), ('transcripts', 'NOUN', 'B-O'), ('arising', 'VERB', 'B-O'), ('from', 'ADP', 'B-O'), ('the', 'DET', 'B-O'), ('outer', 'ADJ', 'B-O'), ('repeat', 'NOUN', 'B-O'), ('provide', 'VERB', 'B-O'), ('a', 'DET', 'B-O'), ('substrate', 'NOUN', 'B-O'), ('for', 'ADP', 'B-O'), ('RNA', 'NOUN', 'B-LF'), ('interference', 'NOUN', 'I-LF'), ('(', 'PUNCT', 'B-O'), ('RNAi', 'PROPN', 'I-AC'), (')', 'PUNCT', 'B-O'), ('that', 'PRON', 'B-O'), ('directs', 'VERB', 'B-O'), ('methylation', 'NOUN', 'B-O'), ('of', 'ADP', 'B-O'), ('histone', 'NOUN', 'B-O'), ('H3', 'PROPN', 'B-O'), ('on', 'ADP', 'B-O'), ('lysine', 'NOUN', 'B-O'), ('9', 'NUM', 'B-O'), ('and', 'CCONJ', 'B-O'), ('the', 'DET', 'B-O'), ('assembly', 'NOUN', 'B-O'), ('of', 'ADP', 'B-O'), ('silent', 'ADJ', 'B-O'), ('chromatin', 'NOUN', 'B-O'), ('(', 'PUNCT', 'B-O'), ('reviewed', 'VERB', 'B-O'), ('in', 'ADP', 'B-O'), ('[', 'X', 'B-O'), ('26', 'NUM', 'B-O'), (']', 'PUNCT', 'B-O'), (')', 'PUNCT', 'B-O'), ('.', 'PUNCT', 'B-O'), ('The', 'DET', 'B-O'), ('reactions', 'NOUN', 'B-O'), ('are', 'AUX', 'B-O'), ('catalyzed', 'VERB', 'B-O'), ('by', 'ADP', 'B-O'), ('related', 'ADJ', 'B-O'), ('but', 'CCONJ', 'B-O'), ('distinct', 'ADJ', 'B-O'), ('enzymes', 'NOUN', 'B-O'), (',', 'PUNCT', 'B-O'), ('adenylate', 'NOUN', 'B-O'), ('dimethylallyltransferase', 'NOUN', 'B-O'), ('(', 'PUNCT', 'B-O'), ('EC', 'PROPN', 'B-O'), ('2.5.1.27', 'NUM', 'B-O'), (')', 'PUNCT', 'B-O'), ('and', 'CCONJ', 'B-O'), ('tRNA', 'NOUN', 'B-O'), ('dimethylallyltransferase', 'NOUN', 'B-O'), ('(', 'PUNCT', 'B-O'), ('EC', 'PROPN', 'B-O'), ('2.5.1.75', 'NUM', 'B-O'), (')', 'PUNCT', 'B-O'), (',', 'PUNCT', 'B-O'), ('respectively', 'ADV', 'B-O'), (',', 'PUNCT', 'B-O'), ('more', 'ADV', 'B-O'), ('frequently', 'ADV', 'B-O'), ('termed', 'VERB', 'B-O'), ('as', 'ADP', 'B-O'), ('isopentenyl', 'NOUN', 'B-LF'), ('transferases', 'NOUN', 'I-LF'), ('(', 'PUNCT', 'B-O'), ('IPT', 'PROPN', 'I-AC'), (')', 'PUNCT', 'B-O'), ('.', 'PUNCT', 'B-O'), ('In', 'ADP', 'B-O'), ('modern', 'ADJ', 'B-O'), ('land', 'NOUN', 'B-O'), ('plants', 'NOUN', 'B-O'), (',', 'PUNCT', 'B-O'), ('the', 'DET', 'B-O'), ('major', 'ADJ', 'B-O'), ('share', 'NOUN', 'B-O'), ('of', 'ADP', 'B-O'), ('cytokinins', 'NOUN', 'B-O'), ('is', 'AUX', 'B-O'), ('synthesized', 'VERB', 'B-O'), ('by', 'ADP', 'B-O'), ('adenylate', 'NOUN', 'B-O'), ('IPTs', 'PROPN', 'I-AC'), (',', 'PUNCT', 'B-O'), ('present', 'ADJ', 'B-O'), ('as', 'ADP', 'B-O'), ('multiple', 'ADJ', 'B-O'), ('isoenzymes', 'NOUN', 'B-O'), (',', 'PUNCT', 'B-O'), ('while', 'SCONJ', 'B-O'), ('the', 'DET', 'B-O'), ('release', 'NOUN', 'B-O'), ('of', 'ADP', 'B-O'), ('tRNA', 'NOUN', 'B-O'), ('-', 'PUNCT', 'B-O'), ('bound', 'VERB', 'B-O'), ('cytokinins', 'NOUN', 'B-O'), ('due', 'ADP', 'B-O'), ('to', 'ADP', 'B-O'), ('tRNA', 'NOUN', 'B-O'), ('degradation', 'NOUN', 'B-O'), ('is', 'AUX', 'B-O'), ('considered', 'VERB', 'B-O'), ('as', 'ADP', 'B-O'), ('minor', 'ADJ', 'B-O'), ('biosynthetic', 'ADJ', 'B-O'), ('pathway', 'NOUN', 'B-O'), ('[', 'PUNCT', 'B-O'), ('6', 'NUM', 'B-O'), (']', 'PUNCT', 'B-O'), ('.', 'PUNCT', 'B-O'), ('Clinical', 'ADJ', 'B-O'), ('data', 'NOUN', 'B-O'), (',', 'PUNCT', 'B-O'), ('including', 'VERB', 'B-O'), ('Injury', 'PROPN', 'B-LF'), ('Severity', 'PROPN', 'I-LF'), ('Score', 'PROPN', 'I-LF'), ('(', 'PUNCT', 'B-O'), ('ISS', 'PROPN', 'I-AC'), (')', 'PUNCT', 'B-O'), (',', 'PUNCT', 'B-O'), ('Abbreviated', 'ADJ', 'B-LF'), ('Injury', 'PROPN', 'I-LF'), ('Scale', 'PROPN', 'I-LF'), ('(', 'PUNCT', 'B-O'), ('AIS', 'PROPN', 'I-AC'), (')', 'PUNCT', 'B-O'), (',', 'PUNCT', 'B-O'), ('ICU', 'PROPN', 'I-AC'), ('length', 'NOUN', 'B-O'), ('of', 'ADP', 'B-O'), ('stay', 'NOUN', 'B-O'), ('(', 'PUNCT', 'B-O'), ('LOS', 'PROPN', 'B-O'), (')', 'PUNCT', 'B-O'), (',', 'PUNCT', 'B-O'), ('hospital', 'NOUN', 'B-O'), ('LOS', 'PROPN', 'B-O'), (',', 'PUNCT', 'B-O'), ('days', 'NOUN', 'B-O'), ('on', 'ADP', 'B-O'), ('mechanical', 'ADJ', 'B-O'), ('ventilator', 'NOUN', 'B-O'), (',', 'PUNCT', 'B-O'), ('Marshall', 'PROPN', 'B-O'), ('Multiple', 'PROPN', 'B-O'), ('Organ', 'PROPN', 'B-O'), ('Dysfunction', 'PROPN', 'B-O'), ('(', 'PUNCT', 'B-O'), ('MOD', 'PROPN', 'B-O'), (')', 'PUNCT', 'B-O'), ('score', 'NOUN', 'B-O'), (',', 'PUNCT', 'B-O'), ('heart', 'NOUN', 'B-O'), ('rate', 'NOUN', 'B-O'), (',', 'PUNCT', 'B-O'), ('blood', 'NOUN', 'B-O'), ('pressure', 'NOUN', 'B-O'), (',', 'PUNCT', 'B-O'), ('Shock', 'PROPN', 'B-O'), ('Index', 'PROPN', 'B-O'), ('(', 'PUNCT', 'B-O'), ('S', 'PROPN', 'B-O'), (')', 'PUNCT', 'B-O'), (',', 'PUNCT', 'B-O'), ('pH', 'NOUN', 'B-O'), (',', 'PUNCT', 'B-O'), ('lactic', 'ADJ', 'B-O'), ('acid', 'NOUN', 'B-O'), (',', 'PUNCT', 'B-O'), ('base', 'NOUN', 'B-O'), ('deficit', 'NOUN', 'B-O'), ('(', 'PUNCT', 'B-O'), ('BD', 'NOUN', 'B-O'), (')', 'PUNCT', 'B-O'), (',', 'PUNCT', 'B-O'), ('Creatine', 'PROPN', 'B-O'), ('Phosphokinase', 'PROPN', 'B-O'), ('(', 'PUNCT', 'B-O'), ('CPK', 'PROPN', 'B-O'), (')', 'PUNCT', 'B-O'), (',', 'PUNCT', 'B-O'), ('hematological', 'ADJ', 'B-O'), ('profile', 'NOUN', 'B-O'), (',', 'PUNCT', 'B-O'), ('blood', 'NOUN', 'B-O'), ('transfusion', 'NOUN', 'B-O'), ('needs', 'NOUN', 'B-O'), (',', 'PUNCT', 'B-O'), ('and', 'CCONJ', 'B-O'), ('surgical', 'ADJ', 'B-O'), ('interventions', 'NOUN', 'B-O'), ('were', 'AUX', 'B-O'), ('collected', 'VERB', 'B-O'), ('from', 'ADP', 'B-O'), ('hospital', 'NOUN', 'B-O'), ('inpatient', 'ADJ', 'B-O'), ('electronic', 'ADJ', 'B-O'), ('trauma', 'NOUN', 'B-O'), ('registry', 'NOUN', 'B-O'), ('database', 'NOUN', 'B-O'), ('.', 'PUNCT', 'B-O'), ('Of', 'ADP', 'B-O'), ('total', 'ADJ', 'B-O'), ('88', 'NUM', 'B-O'), ('culture', 'NOUN', 'B-O'), ('positive', 'ADJ', 'B-O'), ('samples', 'NOUN', 'B-O'), (',', 'PUNCT', 'B-O'), ('one', 'NUM', 'B-O'), ('was', 'AUX', 'B-O'), ('reported', 'VERB', 'B-O'), ('as', 'ADP', 'B-O'), ('invalid', 'ADJ', 'B-O'), ('while', 'SCONJ', 'B-O'), ('2', 'NUM', 'B-O'), ('were', 'AUX', 'B-O'), ('found', 'VERB', 'B-O'), ('to', 'PART', 'B-O'), ('contain', 'VERB', 'B-O'), ('nontuberculous', 'ADJ', 'B-LF'), ('Mycobacteria', 'NOUN', 'I-LF'), ('(', 'PUNCT', 'B-O'), ('NTM', 'PROPN', 'I-AC'), (')', 'PUNCT', 'B-O'), ('.', 'PUNCT', 'B-O'), ('Among', 'ADP', 'B-O'), ('remaining', 'VERB', 'B-O'), ('85', 'NUM', 'B-O'), ('Mycobacterium', 'NOUN', 'B-O'), ('tuberculosis', 'NOUN', 'B-LF'), ('culture', 'NOUN', 'B-O'), ('positive', 'ADJ', 'B-O'), ('samples', 'NOUN', 'B-O'), (',', 'PUNCT', 'B-O'), ('69', 'NUM', 'B-O'), ('were', 'AUX', 'B-O'), ('found', 'VERB', 'B-O'), ('to', 'PART', 'B-O'), ('be', 'AUX', 'B-O'), ('MDR-TB', 'PROPN', 'I-AC'), ('positive', 'ADJ', 'B-O'), ('by', 'ADP', 'B-O'), ('both', 'DET', 'B-O'), ('methods', 'NOUN', 'B-O'), ('.', 'PUNCT', 'B-O'), ('In', 'ADP', 'B-O'), ('the', 'DET', 'B-O'), ('overall', 'ADJ', 'B-O'), ('study', 'NOUN', 'B-O'), ('population', 'NOUN', 'B-O'), (',', 'PUNCT', 'B-O'), ('2,066', 'NUM', 'B-O'), ('complete', 'ADJ', 'B-O'), ('OGTT', 'PROPN', 'I-AC'), ('data', 'NOUN', 'B-O'), ('sets', 'NOUN', 'B-O'), (',', 'PUNCT', 'B-O'), ('1,243', 'NUM', 'B-O'), ('adiponectin', 'NOUN', 'B-O'), ('and', 'CCONJ', 'B-O'), ('leptin', 'NOUN', 'B-O'), ('measurements', 'NOUN', 'B-O'), (',', 'PUNCT', 'B-O'), ('and', 'CCONJ', 'B-O'), ('383', 'NUM', 'B-O'), ('interleukin', 'NOUN', 'B-LF'), ('6', 'NUM', 'I-LF'), ('(', 'PUNCT', 'B-O'), ('IL-6', 'PROPN', 'I-AC'), (')', 'PUNCT', 'B-O'), (',', 'PUNCT', 'B-O'), ('tumour', 'NOUN', 'B-LF'), ('necrosis', 'NOUN', 'I-LF'), ('factor', 'NOUN', 'I-LF'), ('α', 'PUNCT', 'I-LF'), ('(', 'PUNCT', 'B-O'), ('TNF', 'PROPN', 'I-AC'), (')', 'PUNCT', 'B-O'), (',', 'PUNCT', 'B-O'), ('and', 'CCONJ', 'B-O'), ('monocyte', 'NOUN', 'B-LF'), ('chemoattractant', 'NOUN', 'I-LF'), ('protein', 'NOUN', 'I-LF'), ('1', 'NUM', 'I-LF'), ('(', 'PUNCT', 'B-O'), ('-αMCP-1', 'PROPN', 'I-AC'), (')', 'PUNCT', 'B-O'), ('measurements', 'NOUN', 'B-O'), ('were', 'AUX', 'B-O'), ('available', 'ADJ', 'B-O'), ('.', 'PUNCT', 'B-O'), ('Fig', 'NOUN', 'B-O'), ('5a', 'NUM', 'B-O'), ('shows', 'VERB', 'B-O'), ('the', 'DET', 'B-O'), ('Raman', 'PROPN', 'B-O'), ('spectrum', 'NOUN', 'B-O'), ('of', 'ADP', 'B-O'), ('the', 'DET', 'B-O'), ('nanoparticles', 'NOUN', 'B-LF'), ('GO', 'PROPN', 'I-AC'), ('(', 'PUNCT', 'B-O'), ('NPs', 'PROPN', 'I-AC'), (')', 'PUNCT', 'B-O'), ('.', 'PUNCT', 'B-O')]\n"
          ]
        }
      ],
      "source": [
        "def transform_data(short_dataset):\n",
        "    pos_tag_map ={'ADJ' : 0, 'ADP' : 1, 'ADV' : 2, 'AUX' : 3, 'CONJ' : 4, 'CCONJ' : 5, 'DET' : 6, 'INTJ' : 7, 'NOUN' : 8, 'NUM' : 9, 'PART' : 10, 'PRON' : 11, 'PROPN' : 12, 'PUNCT' : 13, 'SCONJ' : 14, 'SYM' : 15, 'VERB' : 16, 'X' : 17, 'SPACE' : 18}\n",
        "    ner_tag_map = {'B-O': 0, 'B-AC': 1, 'B-LF': 3, 'I-LF': 4}\n",
        "    flipped_pos_tag_map = {v: k for k, v in pos_tag_map.items()}\n",
        "    flipped_ner_tag_map = {v: k for k, v in ner_tag_map.items()}\n",
        "    transformed_data = []\n",
        "    for i in range(len(short_dataset['id'])):\n",
        "        tokens = short_dataset['tokens'][i]\n",
        "        pos_tags = short_dataset['pos_tags'][i]\n",
        "        ner_tags = short_dataset['ner_tags'][i]\n",
        "        \n",
        "        transformed_sample_mapped = []\n",
        "        for token, pos, ner in zip(tokens, pos_tags, ner_tags):\n",
        "            pos_mapped = flipped_pos_tag_map.get(pos)  # Default value -1 if pos is not found\n",
        "            ner_mapped = flipped_ner_tag_map.get(ner)  # Default value -1 if ner is not found\n",
        "            transformed_sample_mapped.append((token, pos_mapped, ner_mapped))\n",
        "        \n",
        "        transformed_data.extend(transformed_sample_mapped)\n",
        "    return transformed_data\n",
        "\n",
        "print(short_dataset)\n",
        "k = transform_data(short_dataset)\n",
        "print(k)"
      ]
    },
    {
      "cell_type": "code",
      "execution_count": 10,
      "metadata": {},
      "outputs": [
        {
          "name": "stdout",
          "output_type": "stream",
          "text": [
            "1527\n"
          ]
        }
      ],
      "source": [
        "dataset_transformed = transform_data(short_dataset)\n",
        "print(len(dataset_transformed))"
      ]
    },
    {
      "cell_type": "code",
      "execution_count": 32,
      "metadata": {
        "id": "BvO-m7hT-wGm"
      },
      "outputs": [],
      "source": [
        "from itertools import chain\n",
        "\n",
        "import nltk\n",
        "import sklearn\n",
        "import scipy.stats\n",
        "from sklearn.metrics import make_scorer\n",
        "from sklearn.model_selection import cross_val_score\n",
        "from sklearn.model_selection import RandomizedSearchCV\n",
        "\n",
        "import sklearn_crfsuite\n",
        "from sklearn_crfsuite import scorers\n",
        "from sklearn_crfsuite import metrics\n",
        "# word to features\n",
        "def word2features(sent,t,  i):\n",
        "    # for j in range(len(short_dataset['tokens'][i])):\n",
        "    #     word = short_dataset['tokens'][i][j]\n",
        "    #     postag = short_dataset['pos_tags'][i][j]\n",
        "    #     ner_tags = short_dataset['ner_tags'][i][j]\n",
        "\n",
        "    word = sent[i]\n",
        "    postag = t[i]\n",
        "    features = {\n",
        "        'bias': 1.0,\n",
        "        'word[-3:]': word[-3:],\n",
        "        'word[-2:]': word[-2:],\n",
        "        'word.isupper()': word.isupper(),\n",
        "        'word.istitle()': word.istitle(),\n",
        "        'word.isdigit()': word.isdigit(),\n",
        "        'word.lower()': word.lower(),\n",
        "        'postag': str(postag),\n",
        "    }\n",
        "    if i > 0:\n",
        "        word1 = sent[i-1]\n",
        "        postag1 = t[i-1]\n",
        "        features.update({\n",
        "            '-1:word.istitle()': word1.istitle(),\n",
        "            '-1:word.isupper()': word1.isupper(),\n",
        "            '-1:word.lower()': word1.lower(),\n",
        "            '-1:postag': str(postag1),\n",
        "        })\n",
        "    else:\n",
        "        features['BOS'] = True\n",
        "\n",
        "    if i < len(sent)-1:\n",
        "        word1 = sent[i+1]\n",
        "        postag1 = t[i+1]\n",
        "        features.update({\n",
        "            '+1:word.istitle()': word1.istitle(),\n",
        "            '+1:word.isupper()': word1.isupper(),\n",
        "            '+1:word.lower()': word1.lower(),\n",
        "            '+1:postag': str(postag1),\n",
        "        })\n",
        "    else:\n",
        "        features['EOS'] = True\n",
        "\n",
        "    return features\n",
        "\n",
        "\n",
        "def sent2features(sent, t):\n",
        "    return [word2features(sent,t, i) for i in range(len(sent))]\n",
        "\n",
        "def sent2labels(sent):\n",
        "    return [str(label) for label in sent]\n",
        "\n",
        "def sent2tokens(sent):\n",
        "    return [token for token, postag, label in sent]"
      ]
    },
    {
      "cell_type": "code",
      "execution_count": 33,
      "metadata": {
        "id": "sjXcI1a2-6XG"
      },
      "outputs": [
        {
          "name": "stdout",
          "output_type": "stream",
          "text": [
            "CPU times: user 105 ms, sys: 16.1 ms, total: 121 ms\n",
            "Wall time: 120 ms\n"
          ]
        }
      ],
      "source": [
        "%%time\n",
        "X_train = [sent2features(s, t) for s, t in zip(example['tokens'],example['pos_tags'])]\n",
        "y_train = [sent2labels(s) for s in example['ner_tags']]\n",
        "\n",
        "\n",
        "X_test = [sent2features(s, t) for s, t in zip(test['tokens'],test['pos_tags'])]\n",
        "y_test = [sent2labels(s) for s in test['ner_tags']]"
      ]
    },
    {
      "cell_type": "code",
      "execution_count": 34,
      "metadata": {},
      "outputs": [
        {
          "ename": "KeyboardInterrupt",
          "evalue": "",
          "output_type": "error",
          "traceback": [
            "\u001b[0;31m---------------------------------------------------------------------------\u001b[0m",
            "\u001b[0;31mKeyboardInterrupt\u001b[0m                         Traceback (most recent call last)",
            "Cell \u001b[0;32mIn[34], line 2\u001b[0m\n\u001b[1;32m      1\u001b[0m \u001b[38;5;66;03m#subsampled data\u001b[39;00m\n\u001b[0;32m----> 2\u001b[0m X_trainsmall \u001b[38;5;241m=\u001b[39m [sent2features(s, t) \u001b[38;5;28;01mfor\u001b[39;00m s, t \u001b[38;5;129;01min\u001b[39;00m \u001b[38;5;28mzip\u001b[39m(short_dataset[\u001b[38;5;124m'\u001b[39m\u001b[38;5;124mtokens\u001b[39m\u001b[38;5;124m'\u001b[39m],short_dataset[\u001b[38;5;124m'\u001b[39m\u001b[38;5;124mpos_tags\u001b[39m\u001b[38;5;124m'\u001b[39m])]\n\u001b[1;32m      3\u001b[0m y_trainsmall \u001b[38;5;241m=\u001b[39m [sent2labels(s) \u001b[38;5;28;01mfor\u001b[39;00m s \u001b[38;5;129;01min\u001b[39;00m short_dataset[\u001b[38;5;124m'\u001b[39m\u001b[38;5;124mner_tags\u001b[39m\u001b[38;5;124m'\u001b[39m]]\n",
            "Cell \u001b[0;32mIn[34], line 2\u001b[0m, in \u001b[0;36m<listcomp>\u001b[0;34m(.0)\u001b[0m\n\u001b[1;32m      1\u001b[0m \u001b[38;5;66;03m#subsampled data\u001b[39;00m\n\u001b[0;32m----> 2\u001b[0m X_trainsmall \u001b[38;5;241m=\u001b[39m [\u001b[43msent2features\u001b[49m\u001b[43m(\u001b[49m\u001b[43ms\u001b[49m\u001b[43m,\u001b[49m\u001b[43m \u001b[49m\u001b[43mt\u001b[49m\u001b[43m)\u001b[49m \u001b[38;5;28;01mfor\u001b[39;00m s, t \u001b[38;5;129;01min\u001b[39;00m \u001b[38;5;28mzip\u001b[39m(short_dataset[\u001b[38;5;124m'\u001b[39m\u001b[38;5;124mtokens\u001b[39m\u001b[38;5;124m'\u001b[39m],short_dataset[\u001b[38;5;124m'\u001b[39m\u001b[38;5;124mpos_tags\u001b[39m\u001b[38;5;124m'\u001b[39m])]\n\u001b[1;32m      3\u001b[0m y_trainsmall \u001b[38;5;241m=\u001b[39m [sent2labels(s) \u001b[38;5;28;01mfor\u001b[39;00m s \u001b[38;5;129;01min\u001b[39;00m short_dataset[\u001b[38;5;124m'\u001b[39m\u001b[38;5;124mner_tags\u001b[39m\u001b[38;5;124m'\u001b[39m]]\n",
            "Cell \u001b[0;32mIn[32], line 60\u001b[0m, in \u001b[0;36msent2features\u001b[0;34m(sent, t)\u001b[0m\n\u001b[1;32m     59\u001b[0m \u001b[38;5;28;01mdef\u001b[39;00m \u001b[38;5;21msent2features\u001b[39m(sent, t):\n\u001b[0;32m---> 60\u001b[0m     \u001b[38;5;28;01mreturn\u001b[39;00m [word2features(sent,t, i) \u001b[38;5;28;01mfor\u001b[39;00m i \u001b[38;5;129;01min\u001b[39;00m \u001b[38;5;28mrange\u001b[39m(\u001b[38;5;28mlen\u001b[39m(sent))]\n",
            "Cell \u001b[0;32mIn[32], line 60\u001b[0m, in \u001b[0;36m<listcomp>\u001b[0;34m(.0)\u001b[0m\n\u001b[1;32m     59\u001b[0m \u001b[38;5;28;01mdef\u001b[39;00m \u001b[38;5;21msent2features\u001b[39m(sent, t):\n\u001b[0;32m---> 60\u001b[0m     \u001b[38;5;28;01mreturn\u001b[39;00m [\u001b[43mword2features\u001b[49m\u001b[43m(\u001b[49m\u001b[43msent\u001b[49m\u001b[43m,\u001b[49m\u001b[43mt\u001b[49m\u001b[43m,\u001b[49m\u001b[43m \u001b[49m\u001b[43mi\u001b[49m\u001b[43m)\u001b[49m \u001b[38;5;28;01mfor\u001b[39;00m i \u001b[38;5;129;01min\u001b[39;00m \u001b[38;5;28mrange\u001b[39m(\u001b[38;5;28mlen\u001b[39m(sent))]\n",
            "Cell \u001b[0;32mIn[32], line 35\u001b[0m, in \u001b[0;36mword2features\u001b[0;34m(sent, t, i)\u001b[0m\n\u001b[1;32m     33\u001b[0m     word1 \u001b[38;5;241m=\u001b[39m sent[i\u001b[38;5;241m-\u001b[39m\u001b[38;5;241m1\u001b[39m]\n\u001b[1;32m     34\u001b[0m     postag1 \u001b[38;5;241m=\u001b[39m t[i\u001b[38;5;241m-\u001b[39m\u001b[38;5;241m1\u001b[39m]\n\u001b[0;32m---> 35\u001b[0m     \u001b[43mfeatures\u001b[49m\u001b[38;5;241;43m.\u001b[39;49m\u001b[43mupdate\u001b[49m\u001b[43m(\u001b[49m\u001b[43m{\u001b[49m\n\u001b[1;32m     36\u001b[0m \u001b[43m        \u001b[49m\u001b[38;5;124;43m'\u001b[39;49m\u001b[38;5;124;43m-1:word.istitle()\u001b[39;49m\u001b[38;5;124;43m'\u001b[39;49m\u001b[43m:\u001b[49m\u001b[43m \u001b[49m\u001b[43mword1\u001b[49m\u001b[38;5;241;43m.\u001b[39;49m\u001b[43mistitle\u001b[49m\u001b[43m(\u001b[49m\u001b[43m)\u001b[49m\u001b[43m,\u001b[49m\n\u001b[1;32m     37\u001b[0m \u001b[43m        \u001b[49m\u001b[38;5;124;43m'\u001b[39;49m\u001b[38;5;124;43m-1:word.isupper()\u001b[39;49m\u001b[38;5;124;43m'\u001b[39;49m\u001b[43m:\u001b[49m\u001b[43m \u001b[49m\u001b[43mword1\u001b[49m\u001b[38;5;241;43m.\u001b[39;49m\u001b[43misupper\u001b[49m\u001b[43m(\u001b[49m\u001b[43m)\u001b[49m\u001b[43m,\u001b[49m\n\u001b[1;32m     38\u001b[0m \u001b[43m        \u001b[49m\u001b[38;5;124;43m'\u001b[39;49m\u001b[38;5;124;43m-1:word.lower()\u001b[39;49m\u001b[38;5;124;43m'\u001b[39;49m\u001b[43m:\u001b[49m\u001b[43m \u001b[49m\u001b[43mword1\u001b[49m\u001b[38;5;241;43m.\u001b[39;49m\u001b[43mlower\u001b[49m\u001b[43m(\u001b[49m\u001b[43m)\u001b[49m\u001b[43m,\u001b[49m\n\u001b[1;32m     39\u001b[0m \u001b[43m        \u001b[49m\u001b[38;5;124;43m'\u001b[39;49m\u001b[38;5;124;43m-1:postag\u001b[39;49m\u001b[38;5;124;43m'\u001b[39;49m\u001b[43m:\u001b[49m\u001b[43m \u001b[49m\u001b[38;5;28;43mstr\u001b[39;49m\u001b[43m(\u001b[49m\u001b[43mpostag1\u001b[49m\u001b[43m)\u001b[49m\u001b[43m,\u001b[49m\n\u001b[1;32m     40\u001b[0m \u001b[43m    \u001b[49m\u001b[43m}\u001b[49m\u001b[43m)\u001b[49m\n\u001b[1;32m     41\u001b[0m \u001b[38;5;28;01melse\u001b[39;00m:\n\u001b[1;32m     42\u001b[0m     features[\u001b[38;5;124m'\u001b[39m\u001b[38;5;124mBOS\u001b[39m\u001b[38;5;124m'\u001b[39m] \u001b[38;5;241m=\u001b[39m \u001b[38;5;28;01mTrue\u001b[39;00m\n",
            "\u001b[0;31mKeyboardInterrupt\u001b[0m: "
          ]
        }
      ],
      "source": [
        "#subsampled data\n",
        "X_trainsmall = [sent2features(s, t) for s, t in zip(short_dataset['tokens'],short_dataset['pos_tags'])]\n",
        "y_trainsmall = [sent2labels(s) for s in short_dataset['ner_tags']]\n",
        "\n"
      ]
    },
    {
      "cell_type": "code",
      "execution_count": 35,
      "metadata": {},
      "outputs": [
        {
          "name": "stdout",
          "output_type": "stream",
          "text": [
            "1072 1072 153 153\n"
          ]
        }
      ],
      "source": [
        "print(len(X_train), len(y_train), len(X_test), len(y_test))"
      ]
    },
    {
      "cell_type": "code",
      "execution_count": 8,
      "metadata": {},
      "outputs": [],
      "source": [
        "import sklearn_crfsuite"
      ]
    },
    {
      "cell_type": "markdown",
      "metadata": {},
      "source": [
        "We are using L-BFGS training algorithm over normal BFGS because it is faster as it requires to keep in memory only information for the past m iterations"
      ]
    },
    {
      "cell_type": "code",
      "execution_count": 36,
      "metadata": {
        "id": "1G9Lo_j1_Gvk"
      },
      "outputs": [
        {
          "name": "stdout",
          "output_type": "stream",
          "text": [
            "CPU times: user 1.51 s, sys: 0 ns, total: 1.51 s\n",
            "Wall time: 1.51 s\n"
          ]
        },
        {
          "data": {
            "text/html": [
              "<style>#sk-container-id-1 {\n",
              "  /* Definition of color scheme common for light and dark mode */\n",
              "  --sklearn-color-text: black;\n",
              "  --sklearn-color-line: gray;\n",
              "  /* Definition of color scheme for unfitted estimators */\n",
              "  --sklearn-color-unfitted-level-0: #fff5e6;\n",
              "  --sklearn-color-unfitted-level-1: #f6e4d2;\n",
              "  --sklearn-color-unfitted-level-2: #ffe0b3;\n",
              "  --sklearn-color-unfitted-level-3: chocolate;\n",
              "  /* Definition of color scheme for fitted estimators */\n",
              "  --sklearn-color-fitted-level-0: #f0f8ff;\n",
              "  --sklearn-color-fitted-level-1: #d4ebff;\n",
              "  --sklearn-color-fitted-level-2: #b3dbfd;\n",
              "  --sklearn-color-fitted-level-3: cornflowerblue;\n",
              "\n",
              "  /* Specific color for light theme */\n",
              "  --sklearn-color-text-on-default-background: var(--sg-text-color, var(--theme-code-foreground, var(--jp-content-font-color1, black)));\n",
              "  --sklearn-color-background: var(--sg-background-color, var(--theme-background, var(--jp-layout-color0, white)));\n",
              "  --sklearn-color-border-box: var(--sg-text-color, var(--theme-code-foreground, var(--jp-content-font-color1, black)));\n",
              "  --sklearn-color-icon: #696969;\n",
              "\n",
              "  @media (prefers-color-scheme: dark) {\n",
              "    /* Redefinition of color scheme for dark theme */\n",
              "    --sklearn-color-text-on-default-background: var(--sg-text-color, var(--theme-code-foreground, var(--jp-content-font-color1, white)));\n",
              "    --sklearn-color-background: var(--sg-background-color, var(--theme-background, var(--jp-layout-color0, #111)));\n",
              "    --sklearn-color-border-box: var(--sg-text-color, var(--theme-code-foreground, var(--jp-content-font-color1, white)));\n",
              "    --sklearn-color-icon: #878787;\n",
              "  }\n",
              "}\n",
              "\n",
              "#sk-container-id-1 {\n",
              "  color: var(--sklearn-color-text);\n",
              "}\n",
              "\n",
              "#sk-container-id-1 pre {\n",
              "  padding: 0;\n",
              "}\n",
              "\n",
              "#sk-container-id-1 input.sk-hidden--visually {\n",
              "  border: 0;\n",
              "  clip: rect(1px 1px 1px 1px);\n",
              "  clip: rect(1px, 1px, 1px, 1px);\n",
              "  height: 1px;\n",
              "  margin: -1px;\n",
              "  overflow: hidden;\n",
              "  padding: 0;\n",
              "  position: absolute;\n",
              "  width: 1px;\n",
              "}\n",
              "\n",
              "#sk-container-id-1 div.sk-dashed-wrapped {\n",
              "  border: 1px dashed var(--sklearn-color-line);\n",
              "  margin: 0 0.4em 0.5em 0.4em;\n",
              "  box-sizing: border-box;\n",
              "  padding-bottom: 0.4em;\n",
              "  background-color: var(--sklearn-color-background);\n",
              "}\n",
              "\n",
              "#sk-container-id-1 div.sk-container {\n",
              "  /* jupyter's `normalize.less` sets `[hidden] { display: none; }`\n",
              "     but bootstrap.min.css set `[hidden] { display: none !important; }`\n",
              "     so we also need the `!important` here to be able to override the\n",
              "     default hidden behavior on the sphinx rendered scikit-learn.org.\n",
              "     See: https://github.com/scikit-learn/scikit-learn/issues/21755 */\n",
              "  display: inline-block !important;\n",
              "  position: relative;\n",
              "}\n",
              "\n",
              "#sk-container-id-1 div.sk-text-repr-fallback {\n",
              "  display: none;\n",
              "}\n",
              "\n",
              "div.sk-parallel-item,\n",
              "div.sk-serial,\n",
              "div.sk-item {\n",
              "  /* draw centered vertical line to link estimators */\n",
              "  background-image: linear-gradient(var(--sklearn-color-text-on-default-background), var(--sklearn-color-text-on-default-background));\n",
              "  background-size: 2px 100%;\n",
              "  background-repeat: no-repeat;\n",
              "  background-position: center center;\n",
              "}\n",
              "\n",
              "/* Parallel-specific style estimator block */\n",
              "\n",
              "#sk-container-id-1 div.sk-parallel-item::after {\n",
              "  content: \"\";\n",
              "  width: 100%;\n",
              "  border-bottom: 2px solid var(--sklearn-color-text-on-default-background);\n",
              "  flex-grow: 1;\n",
              "}\n",
              "\n",
              "#sk-container-id-1 div.sk-parallel {\n",
              "  display: flex;\n",
              "  align-items: stretch;\n",
              "  justify-content: center;\n",
              "  background-color: var(--sklearn-color-background);\n",
              "  position: relative;\n",
              "}\n",
              "\n",
              "#sk-container-id-1 div.sk-parallel-item {\n",
              "  display: flex;\n",
              "  flex-direction: column;\n",
              "}\n",
              "\n",
              "#sk-container-id-1 div.sk-parallel-item:first-child::after {\n",
              "  align-self: flex-end;\n",
              "  width: 50%;\n",
              "}\n",
              "\n",
              "#sk-container-id-1 div.sk-parallel-item:last-child::after {\n",
              "  align-self: flex-start;\n",
              "  width: 50%;\n",
              "}\n",
              "\n",
              "#sk-container-id-1 div.sk-parallel-item:only-child::after {\n",
              "  width: 0;\n",
              "}\n",
              "\n",
              "/* Serial-specific style estimator block */\n",
              "\n",
              "#sk-container-id-1 div.sk-serial {\n",
              "  display: flex;\n",
              "  flex-direction: column;\n",
              "  align-items: center;\n",
              "  background-color: var(--sklearn-color-background);\n",
              "  padding-right: 1em;\n",
              "  padding-left: 1em;\n",
              "}\n",
              "\n",
              "\n",
              "/* Toggleable style: style used for estimator/Pipeline/ColumnTransformer box that is\n",
              "clickable and can be expanded/collapsed.\n",
              "- Pipeline and ColumnTransformer use this feature and define the default style\n",
              "- Estimators will overwrite some part of the style using the `sk-estimator` class\n",
              "*/\n",
              "\n",
              "/* Pipeline and ColumnTransformer style (default) */\n",
              "\n",
              "#sk-container-id-1 div.sk-toggleable {\n",
              "  /* Default theme specific background. It is overwritten whether we have a\n",
              "  specific estimator or a Pipeline/ColumnTransformer */\n",
              "  background-color: var(--sklearn-color-background);\n",
              "}\n",
              "\n",
              "/* Toggleable label */\n",
              "#sk-container-id-1 label.sk-toggleable__label {\n",
              "  cursor: pointer;\n",
              "  display: block;\n",
              "  width: 100%;\n",
              "  margin-bottom: 0;\n",
              "  padding: 0.5em;\n",
              "  box-sizing: border-box;\n",
              "  text-align: center;\n",
              "}\n",
              "\n",
              "#sk-container-id-1 label.sk-toggleable__label-arrow:before {\n",
              "  /* Arrow on the left of the label */\n",
              "  content: \"▸\";\n",
              "  float: left;\n",
              "  margin-right: 0.25em;\n",
              "  color: var(--sklearn-color-icon);\n",
              "}\n",
              "\n",
              "#sk-container-id-1 label.sk-toggleable__label-arrow:hover:before {\n",
              "  color: var(--sklearn-color-text);\n",
              "}\n",
              "\n",
              "/* Toggleable content - dropdown */\n",
              "\n",
              "#sk-container-id-1 div.sk-toggleable__content {\n",
              "  max-height: 0;\n",
              "  max-width: 0;\n",
              "  overflow: hidden;\n",
              "  text-align: left;\n",
              "  /* unfitted */\n",
              "  background-color: var(--sklearn-color-unfitted-level-0);\n",
              "}\n",
              "\n",
              "#sk-container-id-1 div.sk-toggleable__content.fitted {\n",
              "  /* fitted */\n",
              "  background-color: var(--sklearn-color-fitted-level-0);\n",
              "}\n",
              "\n",
              "#sk-container-id-1 div.sk-toggleable__content pre {\n",
              "  margin: 0.2em;\n",
              "  border-radius: 0.25em;\n",
              "  color: var(--sklearn-color-text);\n",
              "  /* unfitted */\n",
              "  background-color: var(--sklearn-color-unfitted-level-0);\n",
              "}\n",
              "\n",
              "#sk-container-id-1 div.sk-toggleable__content.fitted pre {\n",
              "  /* unfitted */\n",
              "  background-color: var(--sklearn-color-fitted-level-0);\n",
              "}\n",
              "\n",
              "#sk-container-id-1 input.sk-toggleable__control:checked~div.sk-toggleable__content {\n",
              "  /* Expand drop-down */\n",
              "  max-height: 200px;\n",
              "  max-width: 100%;\n",
              "  overflow: auto;\n",
              "}\n",
              "\n",
              "#sk-container-id-1 input.sk-toggleable__control:checked~label.sk-toggleable__label-arrow:before {\n",
              "  content: \"▾\";\n",
              "}\n",
              "\n",
              "/* Pipeline/ColumnTransformer-specific style */\n",
              "\n",
              "#sk-container-id-1 div.sk-label input.sk-toggleable__control:checked~label.sk-toggleable__label {\n",
              "  color: var(--sklearn-color-text);\n",
              "  background-color: var(--sklearn-color-unfitted-level-2);\n",
              "}\n",
              "\n",
              "#sk-container-id-1 div.sk-label.fitted input.sk-toggleable__control:checked~label.sk-toggleable__label {\n",
              "  background-color: var(--sklearn-color-fitted-level-2);\n",
              "}\n",
              "\n",
              "/* Estimator-specific style */\n",
              "\n",
              "/* Colorize estimator box */\n",
              "#sk-container-id-1 div.sk-estimator input.sk-toggleable__control:checked~label.sk-toggleable__label {\n",
              "  /* unfitted */\n",
              "  background-color: var(--sklearn-color-unfitted-level-2);\n",
              "}\n",
              "\n",
              "#sk-container-id-1 div.sk-estimator.fitted input.sk-toggleable__control:checked~label.sk-toggleable__label {\n",
              "  /* fitted */\n",
              "  background-color: var(--sklearn-color-fitted-level-2);\n",
              "}\n",
              "\n",
              "#sk-container-id-1 div.sk-label label.sk-toggleable__label,\n",
              "#sk-container-id-1 div.sk-label label {\n",
              "  /* The background is the default theme color */\n",
              "  color: var(--sklearn-color-text-on-default-background);\n",
              "}\n",
              "\n",
              "/* On hover, darken the color of the background */\n",
              "#sk-container-id-1 div.sk-label:hover label.sk-toggleable__label {\n",
              "  color: var(--sklearn-color-text);\n",
              "  background-color: var(--sklearn-color-unfitted-level-2);\n",
              "}\n",
              "\n",
              "/* Label box, darken color on hover, fitted */\n",
              "#sk-container-id-1 div.sk-label.fitted:hover label.sk-toggleable__label.fitted {\n",
              "  color: var(--sklearn-color-text);\n",
              "  background-color: var(--sklearn-color-fitted-level-2);\n",
              "}\n",
              "\n",
              "/* Estimator label */\n",
              "\n",
              "#sk-container-id-1 div.sk-label label {\n",
              "  font-family: monospace;\n",
              "  font-weight: bold;\n",
              "  display: inline-block;\n",
              "  line-height: 1.2em;\n",
              "}\n",
              "\n",
              "#sk-container-id-1 div.sk-label-container {\n",
              "  text-align: center;\n",
              "}\n",
              "\n",
              "/* Estimator-specific */\n",
              "#sk-container-id-1 div.sk-estimator {\n",
              "  font-family: monospace;\n",
              "  border: 1px dotted var(--sklearn-color-border-box);\n",
              "  border-radius: 0.25em;\n",
              "  box-sizing: border-box;\n",
              "  margin-bottom: 0.5em;\n",
              "  /* unfitted */\n",
              "  background-color: var(--sklearn-color-unfitted-level-0);\n",
              "}\n",
              "\n",
              "#sk-container-id-1 div.sk-estimator.fitted {\n",
              "  /* fitted */\n",
              "  background-color: var(--sklearn-color-fitted-level-0);\n",
              "}\n",
              "\n",
              "/* on hover */\n",
              "#sk-container-id-1 div.sk-estimator:hover {\n",
              "  /* unfitted */\n",
              "  background-color: var(--sklearn-color-unfitted-level-2);\n",
              "}\n",
              "\n",
              "#sk-container-id-1 div.sk-estimator.fitted:hover {\n",
              "  /* fitted */\n",
              "  background-color: var(--sklearn-color-fitted-level-2);\n",
              "}\n",
              "\n",
              "/* Specification for estimator info (e.g. \"i\" and \"?\") */\n",
              "\n",
              "/* Common style for \"i\" and \"?\" */\n",
              "\n",
              ".sk-estimator-doc-link,\n",
              "a:link.sk-estimator-doc-link,\n",
              "a:visited.sk-estimator-doc-link {\n",
              "  float: right;\n",
              "  font-size: smaller;\n",
              "  line-height: 1em;\n",
              "  font-family: monospace;\n",
              "  background-color: var(--sklearn-color-background);\n",
              "  border-radius: 1em;\n",
              "  height: 1em;\n",
              "  width: 1em;\n",
              "  text-decoration: none !important;\n",
              "  margin-left: 1ex;\n",
              "  /* unfitted */\n",
              "  border: var(--sklearn-color-unfitted-level-1) 1pt solid;\n",
              "  color: var(--sklearn-color-unfitted-level-1);\n",
              "}\n",
              "\n",
              ".sk-estimator-doc-link.fitted,\n",
              "a:link.sk-estimator-doc-link.fitted,\n",
              "a:visited.sk-estimator-doc-link.fitted {\n",
              "  /* fitted */\n",
              "  border: var(--sklearn-color-fitted-level-1) 1pt solid;\n",
              "  color: var(--sklearn-color-fitted-level-1);\n",
              "}\n",
              "\n",
              "/* On hover */\n",
              "div.sk-estimator:hover .sk-estimator-doc-link:hover,\n",
              ".sk-estimator-doc-link:hover,\n",
              "div.sk-label-container:hover .sk-estimator-doc-link:hover,\n",
              ".sk-estimator-doc-link:hover {\n",
              "  /* unfitted */\n",
              "  background-color: var(--sklearn-color-unfitted-level-3);\n",
              "  color: var(--sklearn-color-background);\n",
              "  text-decoration: none;\n",
              "}\n",
              "\n",
              "div.sk-estimator.fitted:hover .sk-estimator-doc-link.fitted:hover,\n",
              ".sk-estimator-doc-link.fitted:hover,\n",
              "div.sk-label-container:hover .sk-estimator-doc-link.fitted:hover,\n",
              ".sk-estimator-doc-link.fitted:hover {\n",
              "  /* fitted */\n",
              "  background-color: var(--sklearn-color-fitted-level-3);\n",
              "  color: var(--sklearn-color-background);\n",
              "  text-decoration: none;\n",
              "}\n",
              "\n",
              "/* Span, style for the box shown on hovering the info icon */\n",
              ".sk-estimator-doc-link span {\n",
              "  display: none;\n",
              "  z-index: 9999;\n",
              "  position: relative;\n",
              "  font-weight: normal;\n",
              "  right: .2ex;\n",
              "  padding: .5ex;\n",
              "  margin: .5ex;\n",
              "  width: min-content;\n",
              "  min-width: 20ex;\n",
              "  max-width: 50ex;\n",
              "  color: var(--sklearn-color-text);\n",
              "  box-shadow: 2pt 2pt 4pt #999;\n",
              "  /* unfitted */\n",
              "  background: var(--sklearn-color-unfitted-level-0);\n",
              "  border: .5pt solid var(--sklearn-color-unfitted-level-3);\n",
              "}\n",
              "\n",
              ".sk-estimator-doc-link.fitted span {\n",
              "  /* fitted */\n",
              "  background: var(--sklearn-color-fitted-level-0);\n",
              "  border: var(--sklearn-color-fitted-level-3);\n",
              "}\n",
              "\n",
              ".sk-estimator-doc-link:hover span {\n",
              "  display: block;\n",
              "}\n",
              "\n",
              "/* \"?\"-specific style due to the `<a>` HTML tag */\n",
              "\n",
              "#sk-container-id-1 a.estimator_doc_link {\n",
              "  float: right;\n",
              "  font-size: 1rem;\n",
              "  line-height: 1em;\n",
              "  font-family: monospace;\n",
              "  background-color: var(--sklearn-color-background);\n",
              "  border-radius: 1rem;\n",
              "  height: 1rem;\n",
              "  width: 1rem;\n",
              "  text-decoration: none;\n",
              "  /* unfitted */\n",
              "  color: var(--sklearn-color-unfitted-level-1);\n",
              "  border: var(--sklearn-color-unfitted-level-1) 1pt solid;\n",
              "}\n",
              "\n",
              "#sk-container-id-1 a.estimator_doc_link.fitted {\n",
              "  /* fitted */\n",
              "  border: var(--sklearn-color-fitted-level-1) 1pt solid;\n",
              "  color: var(--sklearn-color-fitted-level-1);\n",
              "}\n",
              "\n",
              "/* On hover */\n",
              "#sk-container-id-1 a.estimator_doc_link:hover {\n",
              "  /* unfitted */\n",
              "  background-color: var(--sklearn-color-unfitted-level-3);\n",
              "  color: var(--sklearn-color-background);\n",
              "  text-decoration: none;\n",
              "}\n",
              "\n",
              "#sk-container-id-1 a.estimator_doc_link.fitted:hover {\n",
              "  /* fitted */\n",
              "  background-color: var(--sklearn-color-fitted-level-3);\n",
              "}\n",
              "</style><div id=\"sk-container-id-1\" class=\"sk-top-container\"><div class=\"sk-text-repr-fallback\"><pre>CRF(algorithm=&#x27;lbfgs&#x27;, all_possible_transitions=True, c1=0.1, c2=0.1,\n",
              "    max_iterations=100)</pre><b>In a Jupyter environment, please rerun this cell to show the HTML representation or trust the notebook. <br />On GitHub, the HTML representation is unable to render, please try loading this page with nbviewer.org.</b></div><div class=\"sk-container\" hidden><div class=\"sk-item\"><div class=\"sk-estimator fitted sk-toggleable\"><input class=\"sk-toggleable__control sk-hidden--visually\" id=\"sk-estimator-id-1\" type=\"checkbox\" checked><label for=\"sk-estimator-id-1\" class=\"sk-toggleable__label fitted sk-toggleable__label-arrow fitted\">&nbsp;CRF<span class=\"sk-estimator-doc-link fitted\">i<span>Fitted</span></span></label><div class=\"sk-toggleable__content fitted\"><pre>CRF(algorithm=&#x27;lbfgs&#x27;, all_possible_transitions=True, c1=0.1, c2=0.1,\n",
              "    max_iterations=100)</pre></div> </div></div></div></div>"
            ],
            "text/plain": [
              "CRF(algorithm='lbfgs', all_possible_transitions=True, c1=0.1, c2=0.1,\n",
              "    max_iterations=100)"
            ]
          },
          "execution_count": 36,
          "metadata": {},
          "output_type": "execute_result"
        }
      ],
      "source": [
        "%%time\n",
        "crf = sklearn_crfsuite.CRF(\n",
        "    algorithm='lbfgs',\n",
        "    c1=0.1,\n",
        "    c2=0.1,\n",
        "    max_iterations=100,\n",
        "    all_possible_transitions=True\n",
        ")\n",
        "crf.fit(X_train, y_train)\n",
        "# pass CRF' object has no attribute 'keep_tempfiles' error\n",
        "# try:\n",
        "#     crf.fit(X_train, y_train)\n",
        "# except AttributeError:\n",
        "#     pass\n",
        "# predictions = crf.predict(X_test)"
      ]
    },
    {
      "cell_type": "code",
      "execution_count": 10,
      "metadata": {},
      "outputs": [
        {
          "name": "stdout",
          "output_type": "stream",
          "text": [
            "CPU times: user 3min 55s, sys: 367 ms, total: 3min 56s\n",
            "Wall time: 3min 56s\n"
          ]
        },
        {
          "data": {
            "text/html": [
              "<style>#sk-container-id-1 {\n",
              "  /* Definition of color scheme common for light and dark mode */\n",
              "  --sklearn-color-text: black;\n",
              "  --sklearn-color-line: gray;\n",
              "  /* Definition of color scheme for unfitted estimators */\n",
              "  --sklearn-color-unfitted-level-0: #fff5e6;\n",
              "  --sklearn-color-unfitted-level-1: #f6e4d2;\n",
              "  --sklearn-color-unfitted-level-2: #ffe0b3;\n",
              "  --sklearn-color-unfitted-level-3: chocolate;\n",
              "  /* Definition of color scheme for fitted estimators */\n",
              "  --sklearn-color-fitted-level-0: #f0f8ff;\n",
              "  --sklearn-color-fitted-level-1: #d4ebff;\n",
              "  --sklearn-color-fitted-level-2: #b3dbfd;\n",
              "  --sklearn-color-fitted-level-3: cornflowerblue;\n",
              "\n",
              "  /* Specific color for light theme */\n",
              "  --sklearn-color-text-on-default-background: var(--sg-text-color, var(--theme-code-foreground, var(--jp-content-font-color1, black)));\n",
              "  --sklearn-color-background: var(--sg-background-color, var(--theme-background, var(--jp-layout-color0, white)));\n",
              "  --sklearn-color-border-box: var(--sg-text-color, var(--theme-code-foreground, var(--jp-content-font-color1, black)));\n",
              "  --sklearn-color-icon: #696969;\n",
              "\n",
              "  @media (prefers-color-scheme: dark) {\n",
              "    /* Redefinition of color scheme for dark theme */\n",
              "    --sklearn-color-text-on-default-background: var(--sg-text-color, var(--theme-code-foreground, var(--jp-content-font-color1, white)));\n",
              "    --sklearn-color-background: var(--sg-background-color, var(--theme-background, var(--jp-layout-color0, #111)));\n",
              "    --sklearn-color-border-box: var(--sg-text-color, var(--theme-code-foreground, var(--jp-content-font-color1, white)));\n",
              "    --sklearn-color-icon: #878787;\n",
              "  }\n",
              "}\n",
              "\n",
              "#sk-container-id-1 {\n",
              "  color: var(--sklearn-color-text);\n",
              "}\n",
              "\n",
              "#sk-container-id-1 pre {\n",
              "  padding: 0;\n",
              "}\n",
              "\n",
              "#sk-container-id-1 input.sk-hidden--visually {\n",
              "  border: 0;\n",
              "  clip: rect(1px 1px 1px 1px);\n",
              "  clip: rect(1px, 1px, 1px, 1px);\n",
              "  height: 1px;\n",
              "  margin: -1px;\n",
              "  overflow: hidden;\n",
              "  padding: 0;\n",
              "  position: absolute;\n",
              "  width: 1px;\n",
              "}\n",
              "\n",
              "#sk-container-id-1 div.sk-dashed-wrapped {\n",
              "  border: 1px dashed var(--sklearn-color-line);\n",
              "  margin: 0 0.4em 0.5em 0.4em;\n",
              "  box-sizing: border-box;\n",
              "  padding-bottom: 0.4em;\n",
              "  background-color: var(--sklearn-color-background);\n",
              "}\n",
              "\n",
              "#sk-container-id-1 div.sk-container {\n",
              "  /* jupyter's `normalize.less` sets `[hidden] { display: none; }`\n",
              "     but bootstrap.min.css set `[hidden] { display: none !important; }`\n",
              "     so we also need the `!important` here to be able to override the\n",
              "     default hidden behavior on the sphinx rendered scikit-learn.org.\n",
              "     See: https://github.com/scikit-learn/scikit-learn/issues/21755 */\n",
              "  display: inline-block !important;\n",
              "  position: relative;\n",
              "}\n",
              "\n",
              "#sk-container-id-1 div.sk-text-repr-fallback {\n",
              "  display: none;\n",
              "}\n",
              "\n",
              "div.sk-parallel-item,\n",
              "div.sk-serial,\n",
              "div.sk-item {\n",
              "  /* draw centered vertical line to link estimators */\n",
              "  background-image: linear-gradient(var(--sklearn-color-text-on-default-background), var(--sklearn-color-text-on-default-background));\n",
              "  background-size: 2px 100%;\n",
              "  background-repeat: no-repeat;\n",
              "  background-position: center center;\n",
              "}\n",
              "\n",
              "/* Parallel-specific style estimator block */\n",
              "\n",
              "#sk-container-id-1 div.sk-parallel-item::after {\n",
              "  content: \"\";\n",
              "  width: 100%;\n",
              "  border-bottom: 2px solid var(--sklearn-color-text-on-default-background);\n",
              "  flex-grow: 1;\n",
              "}\n",
              "\n",
              "#sk-container-id-1 div.sk-parallel {\n",
              "  display: flex;\n",
              "  align-items: stretch;\n",
              "  justify-content: center;\n",
              "  background-color: var(--sklearn-color-background);\n",
              "  position: relative;\n",
              "}\n",
              "\n",
              "#sk-container-id-1 div.sk-parallel-item {\n",
              "  display: flex;\n",
              "  flex-direction: column;\n",
              "}\n",
              "\n",
              "#sk-container-id-1 div.sk-parallel-item:first-child::after {\n",
              "  align-self: flex-end;\n",
              "  width: 50%;\n",
              "}\n",
              "\n",
              "#sk-container-id-1 div.sk-parallel-item:last-child::after {\n",
              "  align-self: flex-start;\n",
              "  width: 50%;\n",
              "}\n",
              "\n",
              "#sk-container-id-1 div.sk-parallel-item:only-child::after {\n",
              "  width: 0;\n",
              "}\n",
              "\n",
              "/* Serial-specific style estimator block */\n",
              "\n",
              "#sk-container-id-1 div.sk-serial {\n",
              "  display: flex;\n",
              "  flex-direction: column;\n",
              "  align-items: center;\n",
              "  background-color: var(--sklearn-color-background);\n",
              "  padding-right: 1em;\n",
              "  padding-left: 1em;\n",
              "}\n",
              "\n",
              "\n",
              "/* Toggleable style: style used for estimator/Pipeline/ColumnTransformer box that is\n",
              "clickable and can be expanded/collapsed.\n",
              "- Pipeline and ColumnTransformer use this feature and define the default style\n",
              "- Estimators will overwrite some part of the style using the `sk-estimator` class\n",
              "*/\n",
              "\n",
              "/* Pipeline and ColumnTransformer style (default) */\n",
              "\n",
              "#sk-container-id-1 div.sk-toggleable {\n",
              "  /* Default theme specific background. It is overwritten whether we have a\n",
              "  specific estimator or a Pipeline/ColumnTransformer */\n",
              "  background-color: var(--sklearn-color-background);\n",
              "}\n",
              "\n",
              "/* Toggleable label */\n",
              "#sk-container-id-1 label.sk-toggleable__label {\n",
              "  cursor: pointer;\n",
              "  display: block;\n",
              "  width: 100%;\n",
              "  margin-bottom: 0;\n",
              "  padding: 0.5em;\n",
              "  box-sizing: border-box;\n",
              "  text-align: center;\n",
              "}\n",
              "\n",
              "#sk-container-id-1 label.sk-toggleable__label-arrow:before {\n",
              "  /* Arrow on the left of the label */\n",
              "  content: \"▸\";\n",
              "  float: left;\n",
              "  margin-right: 0.25em;\n",
              "  color: var(--sklearn-color-icon);\n",
              "}\n",
              "\n",
              "#sk-container-id-1 label.sk-toggleable__label-arrow:hover:before {\n",
              "  color: var(--sklearn-color-text);\n",
              "}\n",
              "\n",
              "/* Toggleable content - dropdown */\n",
              "\n",
              "#sk-container-id-1 div.sk-toggleable__content {\n",
              "  max-height: 0;\n",
              "  max-width: 0;\n",
              "  overflow: hidden;\n",
              "  text-align: left;\n",
              "  /* unfitted */\n",
              "  background-color: var(--sklearn-color-unfitted-level-0);\n",
              "}\n",
              "\n",
              "#sk-container-id-1 div.sk-toggleable__content.fitted {\n",
              "  /* fitted */\n",
              "  background-color: var(--sklearn-color-fitted-level-0);\n",
              "}\n",
              "\n",
              "#sk-container-id-1 div.sk-toggleable__content pre {\n",
              "  margin: 0.2em;\n",
              "  border-radius: 0.25em;\n",
              "  color: var(--sklearn-color-text);\n",
              "  /* unfitted */\n",
              "  background-color: var(--sklearn-color-unfitted-level-0);\n",
              "}\n",
              "\n",
              "#sk-container-id-1 div.sk-toggleable__content.fitted pre {\n",
              "  /* unfitted */\n",
              "  background-color: var(--sklearn-color-fitted-level-0);\n",
              "}\n",
              "\n",
              "#sk-container-id-1 input.sk-toggleable__control:checked~div.sk-toggleable__content {\n",
              "  /* Expand drop-down */\n",
              "  max-height: 200px;\n",
              "  max-width: 100%;\n",
              "  overflow: auto;\n",
              "}\n",
              "\n",
              "#sk-container-id-1 input.sk-toggleable__control:checked~label.sk-toggleable__label-arrow:before {\n",
              "  content: \"▾\";\n",
              "}\n",
              "\n",
              "/* Pipeline/ColumnTransformer-specific style */\n",
              "\n",
              "#sk-container-id-1 div.sk-label input.sk-toggleable__control:checked~label.sk-toggleable__label {\n",
              "  color: var(--sklearn-color-text);\n",
              "  background-color: var(--sklearn-color-unfitted-level-2);\n",
              "}\n",
              "\n",
              "#sk-container-id-1 div.sk-label.fitted input.sk-toggleable__control:checked~label.sk-toggleable__label {\n",
              "  background-color: var(--sklearn-color-fitted-level-2);\n",
              "}\n",
              "\n",
              "/* Estimator-specific style */\n",
              "\n",
              "/* Colorize estimator box */\n",
              "#sk-container-id-1 div.sk-estimator input.sk-toggleable__control:checked~label.sk-toggleable__label {\n",
              "  /* unfitted */\n",
              "  background-color: var(--sklearn-color-unfitted-level-2);\n",
              "}\n",
              "\n",
              "#sk-container-id-1 div.sk-estimator.fitted input.sk-toggleable__control:checked~label.sk-toggleable__label {\n",
              "  /* fitted */\n",
              "  background-color: var(--sklearn-color-fitted-level-2);\n",
              "}\n",
              "\n",
              "#sk-container-id-1 div.sk-label label.sk-toggleable__label,\n",
              "#sk-container-id-1 div.sk-label label {\n",
              "  /* The background is the default theme color */\n",
              "  color: var(--sklearn-color-text-on-default-background);\n",
              "}\n",
              "\n",
              "/* On hover, darken the color of the background */\n",
              "#sk-container-id-1 div.sk-label:hover label.sk-toggleable__label {\n",
              "  color: var(--sklearn-color-text);\n",
              "  background-color: var(--sklearn-color-unfitted-level-2);\n",
              "}\n",
              "\n",
              "/* Label box, darken color on hover, fitted */\n",
              "#sk-container-id-1 div.sk-label.fitted:hover label.sk-toggleable__label.fitted {\n",
              "  color: var(--sklearn-color-text);\n",
              "  background-color: var(--sklearn-color-fitted-level-2);\n",
              "}\n",
              "\n",
              "/* Estimator label */\n",
              "\n",
              "#sk-container-id-1 div.sk-label label {\n",
              "  font-family: monospace;\n",
              "  font-weight: bold;\n",
              "  display: inline-block;\n",
              "  line-height: 1.2em;\n",
              "}\n",
              "\n",
              "#sk-container-id-1 div.sk-label-container {\n",
              "  text-align: center;\n",
              "}\n",
              "\n",
              "/* Estimator-specific */\n",
              "#sk-container-id-1 div.sk-estimator {\n",
              "  font-family: monospace;\n",
              "  border: 1px dotted var(--sklearn-color-border-box);\n",
              "  border-radius: 0.25em;\n",
              "  box-sizing: border-box;\n",
              "  margin-bottom: 0.5em;\n",
              "  /* unfitted */\n",
              "  background-color: var(--sklearn-color-unfitted-level-0);\n",
              "}\n",
              "\n",
              "#sk-container-id-1 div.sk-estimator.fitted {\n",
              "  /* fitted */\n",
              "  background-color: var(--sklearn-color-fitted-level-0);\n",
              "}\n",
              "\n",
              "/* on hover */\n",
              "#sk-container-id-1 div.sk-estimator:hover {\n",
              "  /* unfitted */\n",
              "  background-color: var(--sklearn-color-unfitted-level-2);\n",
              "}\n",
              "\n",
              "#sk-container-id-1 div.sk-estimator.fitted:hover {\n",
              "  /* fitted */\n",
              "  background-color: var(--sklearn-color-fitted-level-2);\n",
              "}\n",
              "\n",
              "/* Specification for estimator info (e.g. \"i\" and \"?\") */\n",
              "\n",
              "/* Common style for \"i\" and \"?\" */\n",
              "\n",
              ".sk-estimator-doc-link,\n",
              "a:link.sk-estimator-doc-link,\n",
              "a:visited.sk-estimator-doc-link {\n",
              "  float: right;\n",
              "  font-size: smaller;\n",
              "  line-height: 1em;\n",
              "  font-family: monospace;\n",
              "  background-color: var(--sklearn-color-background);\n",
              "  border-radius: 1em;\n",
              "  height: 1em;\n",
              "  width: 1em;\n",
              "  text-decoration: none !important;\n",
              "  margin-left: 1ex;\n",
              "  /* unfitted */\n",
              "  border: var(--sklearn-color-unfitted-level-1) 1pt solid;\n",
              "  color: var(--sklearn-color-unfitted-level-1);\n",
              "}\n",
              "\n",
              ".sk-estimator-doc-link.fitted,\n",
              "a:link.sk-estimator-doc-link.fitted,\n",
              "a:visited.sk-estimator-doc-link.fitted {\n",
              "  /* fitted */\n",
              "  border: var(--sklearn-color-fitted-level-1) 1pt solid;\n",
              "  color: var(--sklearn-color-fitted-level-1);\n",
              "}\n",
              "\n",
              "/* On hover */\n",
              "div.sk-estimator:hover .sk-estimator-doc-link:hover,\n",
              ".sk-estimator-doc-link:hover,\n",
              "div.sk-label-container:hover .sk-estimator-doc-link:hover,\n",
              ".sk-estimator-doc-link:hover {\n",
              "  /* unfitted */\n",
              "  background-color: var(--sklearn-color-unfitted-level-3);\n",
              "  color: var(--sklearn-color-background);\n",
              "  text-decoration: none;\n",
              "}\n",
              "\n",
              "div.sk-estimator.fitted:hover .sk-estimator-doc-link.fitted:hover,\n",
              ".sk-estimator-doc-link.fitted:hover,\n",
              "div.sk-label-container:hover .sk-estimator-doc-link.fitted:hover,\n",
              ".sk-estimator-doc-link.fitted:hover {\n",
              "  /* fitted */\n",
              "  background-color: var(--sklearn-color-fitted-level-3);\n",
              "  color: var(--sklearn-color-background);\n",
              "  text-decoration: none;\n",
              "}\n",
              "\n",
              "/* Span, style for the box shown on hovering the info icon */\n",
              ".sk-estimator-doc-link span {\n",
              "  display: none;\n",
              "  z-index: 9999;\n",
              "  position: relative;\n",
              "  font-weight: normal;\n",
              "  right: .2ex;\n",
              "  padding: .5ex;\n",
              "  margin: .5ex;\n",
              "  width: min-content;\n",
              "  min-width: 20ex;\n",
              "  max-width: 50ex;\n",
              "  color: var(--sklearn-color-text);\n",
              "  box-shadow: 2pt 2pt 4pt #999;\n",
              "  /* unfitted */\n",
              "  background: var(--sklearn-color-unfitted-level-0);\n",
              "  border: .5pt solid var(--sklearn-color-unfitted-level-3);\n",
              "}\n",
              "\n",
              ".sk-estimator-doc-link.fitted span {\n",
              "  /* fitted */\n",
              "  background: var(--sklearn-color-fitted-level-0);\n",
              "  border: var(--sklearn-color-fitted-level-3);\n",
              "}\n",
              "\n",
              ".sk-estimator-doc-link:hover span {\n",
              "  display: block;\n",
              "}\n",
              "\n",
              "/* \"?\"-specific style due to the `<a>` HTML tag */\n",
              "\n",
              "#sk-container-id-1 a.estimator_doc_link {\n",
              "  float: right;\n",
              "  font-size: 1rem;\n",
              "  line-height: 1em;\n",
              "  font-family: monospace;\n",
              "  background-color: var(--sklearn-color-background);\n",
              "  border-radius: 1rem;\n",
              "  height: 1rem;\n",
              "  width: 1rem;\n",
              "  text-decoration: none;\n",
              "  /* unfitted */\n",
              "  color: var(--sklearn-color-unfitted-level-1);\n",
              "  border: var(--sklearn-color-unfitted-level-1) 1pt solid;\n",
              "}\n",
              "\n",
              "#sk-container-id-1 a.estimator_doc_link.fitted {\n",
              "  /* fitted */\n",
              "  border: var(--sklearn-color-fitted-level-1) 1pt solid;\n",
              "  color: var(--sklearn-color-fitted-level-1);\n",
              "}\n",
              "\n",
              "/* On hover */\n",
              "#sk-container-id-1 a.estimator_doc_link:hover {\n",
              "  /* unfitted */\n",
              "  background-color: var(--sklearn-color-unfitted-level-3);\n",
              "  color: var(--sklearn-color-background);\n",
              "  text-decoration: none;\n",
              "}\n",
              "\n",
              "#sk-container-id-1 a.estimator_doc_link.fitted:hover {\n",
              "  /* fitted */\n",
              "  background-color: var(--sklearn-color-fitted-level-3);\n",
              "}\n",
              "</style><div id=\"sk-container-id-1\" class=\"sk-top-container\"><div class=\"sk-text-repr-fallback\"><pre>CRF(algorithm=&#x27;lbfgs&#x27;, all_possible_transitions=True, max_iterations=100)</pre><b>In a Jupyter environment, please rerun this cell to show the HTML representation or trust the notebook. <br />On GitHub, the HTML representation is unable to render, please try loading this page with nbviewer.org.</b></div><div class=\"sk-container\" hidden><div class=\"sk-item\"><div class=\"sk-estimator fitted sk-toggleable\"><input class=\"sk-toggleable__control sk-hidden--visually\" id=\"sk-estimator-id-1\" type=\"checkbox\" checked><label for=\"sk-estimator-id-1\" class=\"sk-toggleable__label fitted sk-toggleable__label-arrow fitted\">&nbsp;CRF<span class=\"sk-estimator-doc-link fitted\">i<span>Fitted</span></span></label><div class=\"sk-toggleable__content fitted\"><pre>CRF(algorithm=&#x27;lbfgs&#x27;, all_possible_transitions=True, max_iterations=100)</pre></div> </div></div></div></div>"
            ],
            "text/plain": [
              "CRF(algorithm='lbfgs', all_possible_transitions=True, max_iterations=100)"
            ]
          },
          "execution_count": 10,
          "metadata": {},
          "output_type": "execute_result"
        }
      ],
      "source": [
        "%%time\n",
        "crf = sklearn_crfsuite.CRF(\n",
        "    algorithm='lbfgs',\n",
        "    max_iterations=100,\n",
        "    all_possible_transitions=True\n",
        ")\n",
        "crf.fit(X_train, y_train)"
      ]
    },
    {
      "cell_type": "code",
      "execution_count": 37,
      "metadata": {
        "id": "SMYxCabH_HXa"
      },
      "outputs": [
        {
          "name": "stdout",
          "output_type": "stream",
          "text": [
            "['B-O', 'B-LF', 'I-LF', 'B-AC']\n"
          ]
        }
      ],
      "source": [
        "labels = list(crf.classes_)\n",
        "print(labels)"
      ]
    },
    {
      "cell_type": "code",
      "execution_count": 19,
      "metadata": {},
      "outputs": [
        {
          "name": "stdout",
          "output_type": "stream",
          "text": [
            "Collecting sklearn_crfsuite\n",
            "  Cloning https://github.com/MeMartijn/updated-sklearn-crfsuite.git to /tmp/pip-install-ebdlwwby/sklearn-crfsuite_b74a154558944f10b6fea96423b07a17\n",
            "  Running command git clone --filter=blob:none --quiet https://github.com/MeMartijn/updated-sklearn-crfsuite.git /tmp/pip-install-ebdlwwby/sklearn-crfsuite_b74a154558944f10b6fea96423b07a17\n",
            "  Resolved https://github.com/MeMartijn/updated-sklearn-crfsuite.git to commit 675038761b4405f04691a83339d04903790e2b95\n",
            "  Preparing metadata (setup.py) ... \u001b[?25ldone\n",
            "\u001b[?25hRequirement already satisfied: tqdm>=2.0 in ./.conda/lib/python3.10/site-packages (from sklearn_crfsuite) (4.66.2)\n",
            "Requirement already satisfied: six in ./.conda/lib/python3.10/site-packages (from sklearn_crfsuite) (1.16.0)\n",
            "Requirement already satisfied: tabulate in ./.conda/lib/python3.10/site-packages (from sklearn_crfsuite) (0.9.0)\n",
            "Requirement already satisfied: python-crfsuite>=0.8.3 in ./.conda/lib/python3.10/site-packages (from sklearn_crfsuite) (0.9.10)\n",
            "Note: you may need to restart the kernel to use updated packages.\n"
          ]
        }
      ],
      "source": [
        "%pip install git+https://github.com/MeMartijn/updated-sklearn-crfsuite.git#egg=sklearn_crfsuite"
      ]
    },
    {
      "cell_type": "code",
      "execution_count": 38,
      "metadata": {
        "id": "wNdAKwCJ_Pk-"
      },
      "outputs": [
        {
          "data": {
            "text/plain": [
              "0.9233878226348814"
            ]
          },
          "execution_count": 38,
          "metadata": {},
          "output_type": "execute_result"
        }
      ],
      "source": [
        "y_pred = crf.predict(X_test)\n",
        "metrics.flat_f1_score(y_test, y_pred,\n",
        "                      average='weighted', labels=labels)"
      ]
    },
    {
      "cell_type": "code",
      "execution_count": 39,
      "metadata": {},
      "outputs": [],
      "source": [
        "sorted_labels = sorted(\n",
        "    labels,\n",
        "    key=lambda name: (name[1:], name[0])\n",
        ")"
      ]
    },
    {
      "cell_type": "code",
      "execution_count": 40,
      "metadata": {},
      "outputs": [
        {
          "name": "stdout",
          "output_type": "stream",
          "text": [
            "              precision    recall  f1-score   support\n",
            "\n",
            "        B-AC       0.84      0.88      0.86       270\n",
            "        B-LF       0.62      0.51      0.56       150\n",
            "         B-O       0.96      0.96      0.96      4292\n",
            "        I-LF       0.67      0.64      0.65       288\n",
            "\n",
            "    accuracy                           0.92      5000\n",
            "   macro avg       0.77      0.75      0.76      5000\n",
            "weighted avg       0.92      0.92      0.92      5000\n",
            "\n"
          ]
        }
      ],
      "source": [
        "#since flat_classification_report from sklearn_crfsuite metrics does not work, I'm flattening the y_test and y_pred and then \n",
        "\n",
        "from sklearn_crfsuite import metrics    \n",
        "from sklearn_crfsuite.utils import flatten\n",
        "from sklearn import metrics as skmetrics\n",
        "\n",
        "# Get data for X_test and y_test\n",
        "# Load CRF Model\n",
        "\n",
        "y_pred = crf.predict(X_test)\n",
        "    \n",
        "y_test_flat = flatten(y_test)\n",
        "y_pred_flat = flatten(y_pred)\n",
        "    \n",
        "print(skmetrics.classification_report(y_test_flat, y_pred_flat))"
      ]
    },
    {
      "cell_type": "markdown",
      "metadata": {},
      "source": [
        "##hyperparam optimization"
      ]
    },
    {
      "cell_type": "code",
      "execution_count": null,
      "metadata": {},
      "outputs": [],
      "source": [
        "# solved keeptempfiles issue in sklearn_crfsuite, estimator.py by making: \n",
        "\n",
        "# 268 - filename=model_filename,\n",
        "# 269 - keep_tempfiles=keep_tempfiles,\n",
        "\n",
        "# self\n",
        "\n",
        "# self.model_filename = model_filename\n",
        "# self.keep_tempfiles = keep_tempfiles"
      ]
    },
    {
      "cell_type": "code",
      "execution_count": 42,
      "metadata": {},
      "outputs": [
        {
          "name": "stdout",
          "output_type": "stream",
          "text": [
            "Fitting 3 folds for each of 10 candidates, totalling 30 fits\n",
            "[CV 2/3] END c1=0.23463404498842955, c2=0.15050607154587606;, score=0.908 total time=   2.0s\n",
            "[CV 2/3] END c1=0.6583728467727247, c2=0.04564712768879767;, score=0.908 total time=   1.8s\n",
            "[CV 3/3] END c1=0.23463404498842955, c2=0.15050607154587606;, score=0.901 total time=   2.0s\n",
            "[CV 1/3] END c1=0.23463404498842955, c2=0.15050607154587606;, score=0.886 total time=   2.2s\n",
            "[CV 1/3] END c1=0.6583728467727247, c2=0.04564712768879767;, score=0.886 total time=   2.0s\n",
            "[CV 3/3] END c1=0.6583728467727247, c2=0.04564712768879767;, score=0.902 total time=   2.0s\n",
            "[CV 1/3] END c1=0.08481243523117314, c2=0.008479814595730259;, score=0.881 total time=   1.9s\n",
            "[CV 2/3] END c1=0.08481243523117314, c2=0.008479814595730259;, score=0.904 total time=   1.9s\n",
            "[CV 3/3] END c1=0.08481243523117314, c2=0.008479814595730259;, score=0.895 total time=   1.9s\n",
            "[CV 2/3] END c1=0.029919384304340338, c2=0.10056154322399698;, score=0.904 total time=   1.9s\n",
            "[CV 1/3] END c1=0.029919384304340338, c2=0.10056154322399698;, score=0.881 total time=   2.0s\n",
            "[CV 3/3] END c1=0.029919384304340338, c2=0.10056154322399698;, score=0.897 total time=   2.1s\n",
            "[CV 1/3] END c1=0.45954107681363227, c2=0.061562503085229515;, score=0.886 total time=   1.9s\n",
            "[CV 2/3] END c1=0.45954107681363227, c2=0.061562503085229515;, score=0.907 total time=   1.9s\n",
            "[CV 3/3] END c1=0.45954107681363227, c2=0.061562503085229515;, score=0.900 total time=   1.8s\n",
            "[CV 1/3] END c1=0.010399653999569311, c2=0.1751778737579156;, score=0.880 total time=   1.9s\n",
            "[CV 2/3] END c1=0.010399653999569311, c2=0.1751778737579156;, score=0.905 total time=   1.9s\n",
            "[CV 3/3] END c1=0.010399653999569311, c2=0.1751778737579156;, score=0.897 total time=   1.9s\n",
            "[CV 1/3] END c1=0.8932147716773375, c2=0.01193438126244735;, score=0.884 total time=   2.0s\n",
            "[CV 2/3] END c1=0.8932147716773375, c2=0.01193438126244735;, score=0.905 total time=   2.0s\n",
            "[CV 3/3] END c1=0.8932147716773375, c2=0.01193438126244735;, score=0.901 total time=   2.1s\n",
            "[CV 1/3] END c1=0.10033949437483168, c2=0.010130571141612853;, score=0.882 total time=   2.1s\n",
            "[CV 2/3] END c1=0.10033949437483168, c2=0.010130571141612853;, score=0.903 total time=   2.0s\n",
            "[CV 3/3] END c1=0.10033949437483168, c2=0.010130571141612853;, score=0.897 total time=   2.0s\n",
            "[CV 2/3] END c1=0.18137686473023856, c2=0.037196391543042724;, score=0.906 total time=   1.5s\n",
            "[CV 1/3] END c1=0.18137686473023856, c2=0.037196391543042724;, score=0.883 total time=   1.7s\n",
            "[CV 3/3] END c1=0.18137686473023856, c2=0.037196391543042724;, score=0.900 total time=   1.5s\n",
            "[CV 2/3] END c1=0.28276853339016833, c2=0.017211149627697077;, score=0.906 total time=   1.3s\n",
            "[CV 1/3] END c1=0.28276853339016833, c2=0.017211149627697077;, score=0.883 total time=   1.4s\n",
            "[CV 3/3] END c1=0.28276853339016833, c2=0.017211149627697077;, score=0.901 total time=   1.3s\n"
          ]
        },
        {
          "data": {
            "text/html": [
              "<style>#sk-container-id-2 {\n",
              "  /* Definition of color scheme common for light and dark mode */\n",
              "  --sklearn-color-text: black;\n",
              "  --sklearn-color-line: gray;\n",
              "  /* Definition of color scheme for unfitted estimators */\n",
              "  --sklearn-color-unfitted-level-0: #fff5e6;\n",
              "  --sklearn-color-unfitted-level-1: #f6e4d2;\n",
              "  --sklearn-color-unfitted-level-2: #ffe0b3;\n",
              "  --sklearn-color-unfitted-level-3: chocolate;\n",
              "  /* Definition of color scheme for fitted estimators */\n",
              "  --sklearn-color-fitted-level-0: #f0f8ff;\n",
              "  --sklearn-color-fitted-level-1: #d4ebff;\n",
              "  --sklearn-color-fitted-level-2: #b3dbfd;\n",
              "  --sklearn-color-fitted-level-3: cornflowerblue;\n",
              "\n",
              "  /* Specific color for light theme */\n",
              "  --sklearn-color-text-on-default-background: var(--sg-text-color, var(--theme-code-foreground, var(--jp-content-font-color1, black)));\n",
              "  --sklearn-color-background: var(--sg-background-color, var(--theme-background, var(--jp-layout-color0, white)));\n",
              "  --sklearn-color-border-box: var(--sg-text-color, var(--theme-code-foreground, var(--jp-content-font-color1, black)));\n",
              "  --sklearn-color-icon: #696969;\n",
              "\n",
              "  @media (prefers-color-scheme: dark) {\n",
              "    /* Redefinition of color scheme for dark theme */\n",
              "    --sklearn-color-text-on-default-background: var(--sg-text-color, var(--theme-code-foreground, var(--jp-content-font-color1, white)));\n",
              "    --sklearn-color-background: var(--sg-background-color, var(--theme-background, var(--jp-layout-color0, #111)));\n",
              "    --sklearn-color-border-box: var(--sg-text-color, var(--theme-code-foreground, var(--jp-content-font-color1, white)));\n",
              "    --sklearn-color-icon: #878787;\n",
              "  }\n",
              "}\n",
              "\n",
              "#sk-container-id-2 {\n",
              "  color: var(--sklearn-color-text);\n",
              "}\n",
              "\n",
              "#sk-container-id-2 pre {\n",
              "  padding: 0;\n",
              "}\n",
              "\n",
              "#sk-container-id-2 input.sk-hidden--visually {\n",
              "  border: 0;\n",
              "  clip: rect(1px 1px 1px 1px);\n",
              "  clip: rect(1px, 1px, 1px, 1px);\n",
              "  height: 1px;\n",
              "  margin: -1px;\n",
              "  overflow: hidden;\n",
              "  padding: 0;\n",
              "  position: absolute;\n",
              "  width: 1px;\n",
              "}\n",
              "\n",
              "#sk-container-id-2 div.sk-dashed-wrapped {\n",
              "  border: 1px dashed var(--sklearn-color-line);\n",
              "  margin: 0 0.4em 0.5em 0.4em;\n",
              "  box-sizing: border-box;\n",
              "  padding-bottom: 0.4em;\n",
              "  background-color: var(--sklearn-color-background);\n",
              "}\n",
              "\n",
              "#sk-container-id-2 div.sk-container {\n",
              "  /* jupyter's `normalize.less` sets `[hidden] { display: none; }`\n",
              "     but bootstrap.min.css set `[hidden] { display: none !important; }`\n",
              "     so we also need the `!important` here to be able to override the\n",
              "     default hidden behavior on the sphinx rendered scikit-learn.org.\n",
              "     See: https://github.com/scikit-learn/scikit-learn/issues/21755 */\n",
              "  display: inline-block !important;\n",
              "  position: relative;\n",
              "}\n",
              "\n",
              "#sk-container-id-2 div.sk-text-repr-fallback {\n",
              "  display: none;\n",
              "}\n",
              "\n",
              "div.sk-parallel-item,\n",
              "div.sk-serial,\n",
              "div.sk-item {\n",
              "  /* draw centered vertical line to link estimators */\n",
              "  background-image: linear-gradient(var(--sklearn-color-text-on-default-background), var(--sklearn-color-text-on-default-background));\n",
              "  background-size: 2px 100%;\n",
              "  background-repeat: no-repeat;\n",
              "  background-position: center center;\n",
              "}\n",
              "\n",
              "/* Parallel-specific style estimator block */\n",
              "\n",
              "#sk-container-id-2 div.sk-parallel-item::after {\n",
              "  content: \"\";\n",
              "  width: 100%;\n",
              "  border-bottom: 2px solid var(--sklearn-color-text-on-default-background);\n",
              "  flex-grow: 1;\n",
              "}\n",
              "\n",
              "#sk-container-id-2 div.sk-parallel {\n",
              "  display: flex;\n",
              "  align-items: stretch;\n",
              "  justify-content: center;\n",
              "  background-color: var(--sklearn-color-background);\n",
              "  position: relative;\n",
              "}\n",
              "\n",
              "#sk-container-id-2 div.sk-parallel-item {\n",
              "  display: flex;\n",
              "  flex-direction: column;\n",
              "}\n",
              "\n",
              "#sk-container-id-2 div.sk-parallel-item:first-child::after {\n",
              "  align-self: flex-end;\n",
              "  width: 50%;\n",
              "}\n",
              "\n",
              "#sk-container-id-2 div.sk-parallel-item:last-child::after {\n",
              "  align-self: flex-start;\n",
              "  width: 50%;\n",
              "}\n",
              "\n",
              "#sk-container-id-2 div.sk-parallel-item:only-child::after {\n",
              "  width: 0;\n",
              "}\n",
              "\n",
              "/* Serial-specific style estimator block */\n",
              "\n",
              "#sk-container-id-2 div.sk-serial {\n",
              "  display: flex;\n",
              "  flex-direction: column;\n",
              "  align-items: center;\n",
              "  background-color: var(--sklearn-color-background);\n",
              "  padding-right: 1em;\n",
              "  padding-left: 1em;\n",
              "}\n",
              "\n",
              "\n",
              "/* Toggleable style: style used for estimator/Pipeline/ColumnTransformer box that is\n",
              "clickable and can be expanded/collapsed.\n",
              "- Pipeline and ColumnTransformer use this feature and define the default style\n",
              "- Estimators will overwrite some part of the style using the `sk-estimator` class\n",
              "*/\n",
              "\n",
              "/* Pipeline and ColumnTransformer style (default) */\n",
              "\n",
              "#sk-container-id-2 div.sk-toggleable {\n",
              "  /* Default theme specific background. It is overwritten whether we have a\n",
              "  specific estimator or a Pipeline/ColumnTransformer */\n",
              "  background-color: var(--sklearn-color-background);\n",
              "}\n",
              "\n",
              "/* Toggleable label */\n",
              "#sk-container-id-2 label.sk-toggleable__label {\n",
              "  cursor: pointer;\n",
              "  display: block;\n",
              "  width: 100%;\n",
              "  margin-bottom: 0;\n",
              "  padding: 0.5em;\n",
              "  box-sizing: border-box;\n",
              "  text-align: center;\n",
              "}\n",
              "\n",
              "#sk-container-id-2 label.sk-toggleable__label-arrow:before {\n",
              "  /* Arrow on the left of the label */\n",
              "  content: \"▸\";\n",
              "  float: left;\n",
              "  margin-right: 0.25em;\n",
              "  color: var(--sklearn-color-icon);\n",
              "}\n",
              "\n",
              "#sk-container-id-2 label.sk-toggleable__label-arrow:hover:before {\n",
              "  color: var(--sklearn-color-text);\n",
              "}\n",
              "\n",
              "/* Toggleable content - dropdown */\n",
              "\n",
              "#sk-container-id-2 div.sk-toggleable__content {\n",
              "  max-height: 0;\n",
              "  max-width: 0;\n",
              "  overflow: hidden;\n",
              "  text-align: left;\n",
              "  /* unfitted */\n",
              "  background-color: var(--sklearn-color-unfitted-level-0);\n",
              "}\n",
              "\n",
              "#sk-container-id-2 div.sk-toggleable__content.fitted {\n",
              "  /* fitted */\n",
              "  background-color: var(--sklearn-color-fitted-level-0);\n",
              "}\n",
              "\n",
              "#sk-container-id-2 div.sk-toggleable__content pre {\n",
              "  margin: 0.2em;\n",
              "  border-radius: 0.25em;\n",
              "  color: var(--sklearn-color-text);\n",
              "  /* unfitted */\n",
              "  background-color: var(--sklearn-color-unfitted-level-0);\n",
              "}\n",
              "\n",
              "#sk-container-id-2 div.sk-toggleable__content.fitted pre {\n",
              "  /* unfitted */\n",
              "  background-color: var(--sklearn-color-fitted-level-0);\n",
              "}\n",
              "\n",
              "#sk-container-id-2 input.sk-toggleable__control:checked~div.sk-toggleable__content {\n",
              "  /* Expand drop-down */\n",
              "  max-height: 200px;\n",
              "  max-width: 100%;\n",
              "  overflow: auto;\n",
              "}\n",
              "\n",
              "#sk-container-id-2 input.sk-toggleable__control:checked~label.sk-toggleable__label-arrow:before {\n",
              "  content: \"▾\";\n",
              "}\n",
              "\n",
              "/* Pipeline/ColumnTransformer-specific style */\n",
              "\n",
              "#sk-container-id-2 div.sk-label input.sk-toggleable__control:checked~label.sk-toggleable__label {\n",
              "  color: var(--sklearn-color-text);\n",
              "  background-color: var(--sklearn-color-unfitted-level-2);\n",
              "}\n",
              "\n",
              "#sk-container-id-2 div.sk-label.fitted input.sk-toggleable__control:checked~label.sk-toggleable__label {\n",
              "  background-color: var(--sklearn-color-fitted-level-2);\n",
              "}\n",
              "\n",
              "/* Estimator-specific style */\n",
              "\n",
              "/* Colorize estimator box */\n",
              "#sk-container-id-2 div.sk-estimator input.sk-toggleable__control:checked~label.sk-toggleable__label {\n",
              "  /* unfitted */\n",
              "  background-color: var(--sklearn-color-unfitted-level-2);\n",
              "}\n",
              "\n",
              "#sk-container-id-2 div.sk-estimator.fitted input.sk-toggleable__control:checked~label.sk-toggleable__label {\n",
              "  /* fitted */\n",
              "  background-color: var(--sklearn-color-fitted-level-2);\n",
              "}\n",
              "\n",
              "#sk-container-id-2 div.sk-label label.sk-toggleable__label,\n",
              "#sk-container-id-2 div.sk-label label {\n",
              "  /* The background is the default theme color */\n",
              "  color: var(--sklearn-color-text-on-default-background);\n",
              "}\n",
              "\n",
              "/* On hover, darken the color of the background */\n",
              "#sk-container-id-2 div.sk-label:hover label.sk-toggleable__label {\n",
              "  color: var(--sklearn-color-text);\n",
              "  background-color: var(--sklearn-color-unfitted-level-2);\n",
              "}\n",
              "\n",
              "/* Label box, darken color on hover, fitted */\n",
              "#sk-container-id-2 div.sk-label.fitted:hover label.sk-toggleable__label.fitted {\n",
              "  color: var(--sklearn-color-text);\n",
              "  background-color: var(--sklearn-color-fitted-level-2);\n",
              "}\n",
              "\n",
              "/* Estimator label */\n",
              "\n",
              "#sk-container-id-2 div.sk-label label {\n",
              "  font-family: monospace;\n",
              "  font-weight: bold;\n",
              "  display: inline-block;\n",
              "  line-height: 1.2em;\n",
              "}\n",
              "\n",
              "#sk-container-id-2 div.sk-label-container {\n",
              "  text-align: center;\n",
              "}\n",
              "\n",
              "/* Estimator-specific */\n",
              "#sk-container-id-2 div.sk-estimator {\n",
              "  font-family: monospace;\n",
              "  border: 1px dotted var(--sklearn-color-border-box);\n",
              "  border-radius: 0.25em;\n",
              "  box-sizing: border-box;\n",
              "  margin-bottom: 0.5em;\n",
              "  /* unfitted */\n",
              "  background-color: var(--sklearn-color-unfitted-level-0);\n",
              "}\n",
              "\n",
              "#sk-container-id-2 div.sk-estimator.fitted {\n",
              "  /* fitted */\n",
              "  background-color: var(--sklearn-color-fitted-level-0);\n",
              "}\n",
              "\n",
              "/* on hover */\n",
              "#sk-container-id-2 div.sk-estimator:hover {\n",
              "  /* unfitted */\n",
              "  background-color: var(--sklearn-color-unfitted-level-2);\n",
              "}\n",
              "\n",
              "#sk-container-id-2 div.sk-estimator.fitted:hover {\n",
              "  /* fitted */\n",
              "  background-color: var(--sklearn-color-fitted-level-2);\n",
              "}\n",
              "\n",
              "/* Specification for estimator info (e.g. \"i\" and \"?\") */\n",
              "\n",
              "/* Common style for \"i\" and \"?\" */\n",
              "\n",
              ".sk-estimator-doc-link,\n",
              "a:link.sk-estimator-doc-link,\n",
              "a:visited.sk-estimator-doc-link {\n",
              "  float: right;\n",
              "  font-size: smaller;\n",
              "  line-height: 1em;\n",
              "  font-family: monospace;\n",
              "  background-color: var(--sklearn-color-background);\n",
              "  border-radius: 1em;\n",
              "  height: 1em;\n",
              "  width: 1em;\n",
              "  text-decoration: none !important;\n",
              "  margin-left: 1ex;\n",
              "  /* unfitted */\n",
              "  border: var(--sklearn-color-unfitted-level-1) 1pt solid;\n",
              "  color: var(--sklearn-color-unfitted-level-1);\n",
              "}\n",
              "\n",
              ".sk-estimator-doc-link.fitted,\n",
              "a:link.sk-estimator-doc-link.fitted,\n",
              "a:visited.sk-estimator-doc-link.fitted {\n",
              "  /* fitted */\n",
              "  border: var(--sklearn-color-fitted-level-1) 1pt solid;\n",
              "  color: var(--sklearn-color-fitted-level-1);\n",
              "}\n",
              "\n",
              "/* On hover */\n",
              "div.sk-estimator:hover .sk-estimator-doc-link:hover,\n",
              ".sk-estimator-doc-link:hover,\n",
              "div.sk-label-container:hover .sk-estimator-doc-link:hover,\n",
              ".sk-estimator-doc-link:hover {\n",
              "  /* unfitted */\n",
              "  background-color: var(--sklearn-color-unfitted-level-3);\n",
              "  color: var(--sklearn-color-background);\n",
              "  text-decoration: none;\n",
              "}\n",
              "\n",
              "div.sk-estimator.fitted:hover .sk-estimator-doc-link.fitted:hover,\n",
              ".sk-estimator-doc-link.fitted:hover,\n",
              "div.sk-label-container:hover .sk-estimator-doc-link.fitted:hover,\n",
              ".sk-estimator-doc-link.fitted:hover {\n",
              "  /* fitted */\n",
              "  background-color: var(--sklearn-color-fitted-level-3);\n",
              "  color: var(--sklearn-color-background);\n",
              "  text-decoration: none;\n",
              "}\n",
              "\n",
              "/* Span, style for the box shown on hovering the info icon */\n",
              ".sk-estimator-doc-link span {\n",
              "  display: none;\n",
              "  z-index: 9999;\n",
              "  position: relative;\n",
              "  font-weight: normal;\n",
              "  right: .2ex;\n",
              "  padding: .5ex;\n",
              "  margin: .5ex;\n",
              "  width: min-content;\n",
              "  min-width: 20ex;\n",
              "  max-width: 50ex;\n",
              "  color: var(--sklearn-color-text);\n",
              "  box-shadow: 2pt 2pt 4pt #999;\n",
              "  /* unfitted */\n",
              "  background: var(--sklearn-color-unfitted-level-0);\n",
              "  border: .5pt solid var(--sklearn-color-unfitted-level-3);\n",
              "}\n",
              "\n",
              ".sk-estimator-doc-link.fitted span {\n",
              "  /* fitted */\n",
              "  background: var(--sklearn-color-fitted-level-0);\n",
              "  border: var(--sklearn-color-fitted-level-3);\n",
              "}\n",
              "\n",
              ".sk-estimator-doc-link:hover span {\n",
              "  display: block;\n",
              "}\n",
              "\n",
              "/* \"?\"-specific style due to the `<a>` HTML tag */\n",
              "\n",
              "#sk-container-id-2 a.estimator_doc_link {\n",
              "  float: right;\n",
              "  font-size: 1rem;\n",
              "  line-height: 1em;\n",
              "  font-family: monospace;\n",
              "  background-color: var(--sklearn-color-background);\n",
              "  border-radius: 1rem;\n",
              "  height: 1rem;\n",
              "  width: 1rem;\n",
              "  text-decoration: none;\n",
              "  /* unfitted */\n",
              "  color: var(--sklearn-color-unfitted-level-1);\n",
              "  border: var(--sklearn-color-unfitted-level-1) 1pt solid;\n",
              "}\n",
              "\n",
              "#sk-container-id-2 a.estimator_doc_link.fitted {\n",
              "  /* fitted */\n",
              "  border: var(--sklearn-color-fitted-level-1) 1pt solid;\n",
              "  color: var(--sklearn-color-fitted-level-1);\n",
              "}\n",
              "\n",
              "/* On hover */\n",
              "#sk-container-id-2 a.estimator_doc_link:hover {\n",
              "  /* unfitted */\n",
              "  background-color: var(--sklearn-color-unfitted-level-3);\n",
              "  color: var(--sklearn-color-background);\n",
              "  text-decoration: none;\n",
              "}\n",
              "\n",
              "#sk-container-id-2 a.estimator_doc_link.fitted:hover {\n",
              "  /* fitted */\n",
              "  background-color: var(--sklearn-color-fitted-level-3);\n",
              "}\n",
              "</style><div id=\"sk-container-id-2\" class=\"sk-top-container\"><div class=\"sk-text-repr-fallback\"><pre>RandomizedSearchCV(cv=3,\n",
              "                   estimator=CRF(algorithm=&#x27;lbfgs&#x27;,\n",
              "                                 all_possible_transitions=True, c1=0.1, c2=0.1,\n",
              "                                 max_iterations=100),\n",
              "                   n_jobs=-1,\n",
              "                   param_distributions={&#x27;c1&#x27;: &lt;scipy.stats._distn_infrastructure.rv_continuous_frozen object at 0x7f121838ba00&gt;,\n",
              "                                        &#x27;c2&#x27;: &lt;scipy.stats._distn_infrastructure.rv_continuous_frozen object at 0x7f12101061a0&gt;},\n",
              "                   scoring=make_scorer(flat_f1_score, response_method=&#x27;predict&#x27;, average=weighted, labels=[&#x27;B-O&#x27;, &#x27;B-LF&#x27;, &#x27;I-LF&#x27;, &#x27;B-AC&#x27;]),\n",
              "                   verbose=3)</pre><b>In a Jupyter environment, please rerun this cell to show the HTML representation or trust the notebook. <br />On GitHub, the HTML representation is unable to render, please try loading this page with nbviewer.org.</b></div><div class=\"sk-container\" hidden><div class=\"sk-item sk-dashed-wrapped\"><div class=\"sk-label-container\"><div class=\"sk-label fitted sk-toggleable\"><input class=\"sk-toggleable__control sk-hidden--visually\" id=\"sk-estimator-id-2\" type=\"checkbox\" ><label for=\"sk-estimator-id-2\" class=\"sk-toggleable__label fitted sk-toggleable__label-arrow fitted\">&nbsp;&nbsp;RandomizedSearchCV<a class=\"sk-estimator-doc-link fitted\" rel=\"noreferrer\" target=\"_blank\" href=\"https://scikit-learn.org/1.4/modules/generated/sklearn.model_selection.RandomizedSearchCV.html\">?<span>Documentation for RandomizedSearchCV</span></a><span class=\"sk-estimator-doc-link fitted\">i<span>Fitted</span></span></label><div class=\"sk-toggleable__content fitted\"><pre>RandomizedSearchCV(cv=3,\n",
              "                   estimator=CRF(algorithm=&#x27;lbfgs&#x27;,\n",
              "                                 all_possible_transitions=True, c1=0.1, c2=0.1,\n",
              "                                 max_iterations=100),\n",
              "                   n_jobs=-1,\n",
              "                   param_distributions={&#x27;c1&#x27;: &lt;scipy.stats._distn_infrastructure.rv_continuous_frozen object at 0x7f121838ba00&gt;,\n",
              "                                        &#x27;c2&#x27;: &lt;scipy.stats._distn_infrastructure.rv_continuous_frozen object at 0x7f12101061a0&gt;},\n",
              "                   scoring=make_scorer(flat_f1_score, response_method=&#x27;predict&#x27;, average=weighted, labels=[&#x27;B-O&#x27;, &#x27;B-LF&#x27;, &#x27;I-LF&#x27;, &#x27;B-AC&#x27;]),\n",
              "                   verbose=3)</pre></div> </div></div><div class=\"sk-parallel\"><div class=\"sk-parallel-item\"><div class=\"sk-item\"><div class=\"sk-label-container\"><div class=\"sk-label fitted sk-toggleable\"><input class=\"sk-toggleable__control sk-hidden--visually\" id=\"sk-estimator-id-3\" type=\"checkbox\" ><label for=\"sk-estimator-id-3\" class=\"sk-toggleable__label fitted sk-toggleable__label-arrow fitted\">estimator: CRF</label><div class=\"sk-toggleable__content fitted\"><pre>CRF(algorithm=&#x27;lbfgs&#x27;, all_possible_transitions=True, c1=0.1, c2=0.1,\n",
              "    max_iterations=100)</pre></div> </div></div><div class=\"sk-serial\"><div class=\"sk-item\"><div class=\"sk-estimator fitted sk-toggleable\"><input class=\"sk-toggleable__control sk-hidden--visually\" id=\"sk-estimator-id-4\" type=\"checkbox\" ><label for=\"sk-estimator-id-4\" class=\"sk-toggleable__label fitted sk-toggleable__label-arrow fitted\">CRF</label><div class=\"sk-toggleable__content fitted\"><pre>CRF(algorithm=&#x27;lbfgs&#x27;, all_possible_transitions=True, c1=0.1, c2=0.1,\n",
              "    max_iterations=100)</pre></div> </div></div></div></div></div></div></div></div></div>"
            ],
            "text/plain": [
              "RandomizedSearchCV(cv=3,\n",
              "                   estimator=CRF(algorithm='lbfgs',\n",
              "                                 all_possible_transitions=True, c1=0.1, c2=0.1,\n",
              "                                 max_iterations=100),\n",
              "                   n_jobs=-1,\n",
              "                   param_distributions={'c1': <scipy.stats._distn_infrastructure.rv_continuous_frozen object at 0x7f121838ba00>,\n",
              "                                        'c2': <scipy.stats._distn_infrastructure.rv_continuous_frozen object at 0x7f12101061a0>},\n",
              "                   scoring=make_scorer(flat_f1_score, response_method='predict', average=weighted, labels=['B-O', 'B-LF', 'I-LF', 'B-AC']),\n",
              "                   verbose=3)"
            ]
          },
          "execution_count": 42,
          "metadata": {},
          "output_type": "execute_result"
        }
      ],
      "source": [
        "\n",
        "# define fixed parameters and parameters to search\n",
        "\n",
        "predictions = crf.predict(X_test)\n",
        "params_space = {\n",
        "    'c1': scipy.stats.expon(scale=0.5),\n",
        "    'c2': scipy.stats.expon(scale=0.05),\n",
        "}\n",
        "\n",
        "# use the same metric for evaluation\n",
        "f1_scorer = make_scorer(metrics.flat_f1_score,\n",
        "                        average='weighted', labels=labels)\n",
        "\n",
        "# search\n",
        "rs = RandomizedSearchCV(crf, params_space,\n",
        "                        cv=3,\n",
        "                        verbose=3,\n",
        "                        n_jobs=-1,\n",
        "                        n_iter=10,\n",
        "                        scoring=f1_scorer)\n",
        "rs.fit(X_train, y_train)"
      ]
    },
    {
      "cell_type": "markdown",
      "metadata": {},
      "source": [
        "##Print best results"
      ]
    },
    {
      "cell_type": "code",
      "execution_count": 43,
      "metadata": {},
      "outputs": [
        {
          "name": "stdout",
          "output_type": "stream",
          "text": [
            "best params: {'c1': 0.6583728467727247, 'c2': 0.04564712768879767}\n",
            "best CV score: 0.8984847989390016\n",
            "model size: 0.29M\n"
          ]
        }
      ],
      "source": [
        "# crf = rs.best_estimator_\n",
        "print('best params:', rs.best_params_)\n",
        "print('best CV score:', rs.best_score_)\n",
        "print('model size: {:0.2f}M'.format(rs.best_estimator_.size_ / 1000000))"
      ]
    },
    {
      "cell_type": "code",
      "execution_count": 22,
      "metadata": {},
      "outputs": [
        {
          "ename": "KeyError",
          "evalue": "'mean_train_score'",
          "output_type": "error",
          "traceback": [
            "\u001b[0;31m---------------------------------------------------------------------------\u001b[0m",
            "\u001b[0;31mKeyError\u001b[0m                                  Traceback (most recent call last)",
            "Cell \u001b[0;32mIn[22], line 1\u001b[0m\n\u001b[0;32m----> 1\u001b[0m \u001b[38;5;28mprint\u001b[39m(\u001b[43mrs\u001b[49m\u001b[38;5;241;43m.\u001b[39;49m\u001b[43mcv_results_\u001b[49m\u001b[43m[\u001b[49m\u001b[38;5;124;43m'\u001b[39;49m\u001b[38;5;124;43mmean_train_score\u001b[39;49m\u001b[38;5;124;43m'\u001b[39;49m\u001b[43m]\u001b[49m)\n",
            "\u001b[0;31mKeyError\u001b[0m: 'mean_train_score'"
          ]
        }
      ],
      "source": []
    },
    {
      "cell_type": "code",
      "execution_count": 44,
      "metadata": {},
      "outputs": [
        {
          "name": "stdout",
          "output_type": "stream",
          "text": [
            "Dark blue => 0.8933, dark red => 0.8985\n"
          ]
        },
        {
          "data": {
            "image/png": "[encoded data removed]",
            "text/plain": [
              "<Figure size 1200x1200 with 1 Axes>"
            ]
          },
          "metadata": {},
          "output_type": "display_data"
        }
      ],
      "source": [
        "_x = [s['c1'] for s in rs.cv_results_['params']]\n",
        "_y = [s['c2'] for s in rs.cv_results_['params']]\n",
        "_c = [s for s in rs.cv_results_['mean_test_score']]\n",
        "fig = plt.figure()\n",
        "fig.set_size_inches(12, 12)\n",
        "ax = plt.gca()\n",
        "ax.set_yscale('log')\n",
        "ax.set_xscale('log')\n",
        "ax.set_xlabel('C1')\n",
        "ax.set_ylabel('C2')\n",
        "ax.set_title(\"Randomized Hyperparameter Search CV Results (min={:0.3}, max={:0.3})\".format(\n",
        "    min(_c), max(_c)\n",
        "))\n",
        "\n",
        "ax.scatter(_x, _y, c=_c, s=60, alpha=0.9, edgecolors=[0,0,0])\n",
        "\n",
        "print(\"Dark blue => {:0.4}, dark red => {:0.4}\".format(min(_c), max(_c)))"
      ]
    },
    {
      "cell_type": "code",
      "execution_count": 45,
      "metadata": {},
      "outputs": [
        {
          "name": "stdout",
          "output_type": "stream",
          "text": [
            "              precision    recall  f1-score   support\n",
            "\n",
            "        B-AC       0.85      0.89      0.87       270\n",
            "        B-LF       0.64      0.51      0.57       150\n",
            "         B-O       0.96      0.97      0.96      4292\n",
            "        I-LF       0.73      0.67      0.70       288\n",
            "\n",
            "    accuracy                           0.93      5000\n",
            "   macro avg       0.79      0.76      0.77      5000\n",
            "weighted avg       0.93      0.93      0.93      5000\n",
            "\n"
          ]
        }
      ],
      "source": [
        "\n",
        "y_pred = rs.predict(X_test)\n",
        "    \n",
        "y_test_flat = flatten(y_test)\n",
        "y_pred_flat = flatten(y_pred)\n",
        "    \n",
        "print(skmetrics.classification_report(y_test_flat, y_pred_flat))"
      ]
    },
    {
      "cell_type": "code",
      "execution_count": 48,
      "metadata": {},
      "outputs": [
        {
          "name": "stdout",
          "output_type": "stream",
          "text": [
            "Fitting 3 folds for each of 16 candidates, totalling 48 fits\n",
            "[CV 2/3] END c1=0.1, c2=0.1;, score=(train=0.994, test=0.907) total time=   1.6s\n",
            "[CV 1/3] END c1=0.1, c2=0.1;, score=(train=0.995, test=0.882) total time=   1.9s\n",
            "[CV 2/3] END c1=0.1, c2=0.25;, score=(train=0.990, test=0.909) total time=   1.7s\n",
            "[CV 3/3] END c1=0.1, c2=0.1;, score=(train=0.996, test=0.899) total time=   1.8s\n",
            "[CV 3/3] END c1=0.1, c2=0.25;, score=(train=0.989, test=0.901) total time=   1.9s\n",
            "[CV 1/3] END c1=0.1, c2=0.25;, score=(train=0.990, test=0.885) total time=   2.0s\n",
            "[CV 2/3] END c1=0.1, c2=0.5;, score=(train=0.979, test=0.908) total time=   1.9s\n",
            "[CV 1/3] END c1=0.1, c2=0.5;, score=(train=0.981, test=0.888) total time=   2.2s\n",
            "[CV 3/3] END c1=0.1, c2=0.5;, score=(train=0.980, test=0.901) total time=   2.1s\n",
            "[CV 1/3] END ..c1=0.1, c2=1;, score=(train=0.971, test=0.889) total time=   2.1s\n",
            "[CV 2/3] END ..c1=0.1, c2=1;, score=(train=0.965, test=0.908) total time=   2.1s\n",
            "[CV 3/3] END ..c1=0.1, c2=1;, score=(train=0.965, test=0.898) total time=   2.3s\n",
            "[CV 1/3] END c1=0.25, c2=0.1;, score=(train=0.991, test=0.884) total time=   2.0s\n",
            "[CV 2/3] END c1=0.25, c2=0.1;, score=(train=0.991, test=0.906) total time=   2.0s\n",
            "[CV 3/3] END c1=0.25, c2=0.1;, score=(train=0.991, test=0.901) total time=   2.0s\n",
            "[CV 2/3] END c1=0.25, c2=0.25;, score=(train=0.980, test=0.909) total time=   1.9s\n",
            "[CV 3/3] END c1=0.25, c2=0.25;, score=(train=0.982, test=0.900) total time=   1.9s\n",
            "[CV 1/3] END c1=0.25, c2=0.25;, score=(train=0.983, test=0.886) total time=   2.1s\n",
            "[CV 2/3] END c1=0.25, c2=0.5;, score=(train=0.970, test=0.909) total time=   1.9s\n",
            "[CV 1/3] END c1=0.25, c2=0.5;, score=(train=0.973, test=0.888) total time=   2.1s\n",
            "[CV 3/3] END c1=0.25, c2=0.5;, score=(train=0.970, test=0.900) total time=   2.0s\n",
            "[CV 2/3] END .c1=0.25, c2=1;, score=(train=0.957, test=0.909) total time=   2.0s\n",
            "[CV 1/3] END .c1=0.25, c2=1;, score=(train=0.962, test=0.887) total time=   2.2s\n",
            "[CV 3/3] END .c1=0.25, c2=1;, score=(train=0.958, test=0.900) total time=   2.1s\n",
            "[CV 1/3] END c1=0.5, c2=0.1;, score=(train=0.971, test=0.888) total time=   2.0s\n",
            "[CV 2/3] END c1=0.5, c2=0.1;, score=(train=0.966, test=0.906) total time=   2.0s\n",
            "[CV 3/3] END c1=0.5, c2=0.1;, score=(train=0.967, test=0.901) total time=   2.1s\n",
            "[CV 1/3] END c1=0.5, c2=0.25;, score=(train=0.964, test=0.887) total time=   2.0s\n",
            "[CV 3/3] END c1=0.5, c2=0.25;, score=(train=0.960, test=0.902) total time=   2.0s\n",
            "[CV 2/3] END c1=0.5, c2=0.25;, score=(train=0.958, test=0.909) total time=   2.2s\n",
            "[CV 2/3] END c1=0.5, c2=0.5;, score=(train=0.947, test=0.910) total time=   2.0s\n",
            "[CV 3/3] END c1=0.5, c2=0.5;, score=(train=0.950, test=0.902) total time=   2.1s\n",
            "[CV 1/3] END c1=0.5, c2=0.5;, score=(train=0.955, test=0.888) total time=   2.3s\n",
            "[CV 2/3] END ..c1=0.5, c2=1;, score=(train=0.938, test=0.909) total time=   2.0s\n",
            "[CV 1/3] END ..c1=0.5, c2=1;, score=(train=0.945, test=0.886) total time=   2.1s\n",
            "[CV 3/3] END ..c1=0.5, c2=1;, score=(train=0.942, test=0.901) total time=   2.2s\n",
            "[CV 2/3] END ..c1=1, c2=0.1;, score=(train=0.936, test=0.909) total time=   1.8s\n",
            "[CV 1/3] END ..c1=1, c2=0.1;, score=(train=0.944, test=0.887) total time=   2.1s\n",
            "[CV 3/3] END ..c1=1, c2=0.1;, score=(train=0.939, test=0.904) total time=   2.0s\n",
            "[CV 1/3] END .c1=1, c2=0.25;, score=(train=0.938, test=0.886) total time=   2.0s\n",
            "[CV 1/3] END ..c1=1, c2=0.5;, score=(train=0.933, test=0.884) total time=   1.8s\n",
            "[CV 3/3] END .c1=1, c2=0.25;, score=(train=0.934, test=0.903) total time=   1.9s\n",
            "[CV 2/3] END ..c1=1, c2=0.5;, score=(train=0.926, test=0.907) total time=   1.7s\n",
            "[CV 2/3] END .c1=1, c2=0.25;, score=(train=0.929, test=0.907) total time=   2.2s\n",
            "[CV 3/3] END ..c1=1, c2=0.5;, score=(train=0.931, test=0.903) total time=   1.8s\n",
            "[CV 1/3] END ....c1=1, c2=1;, score=(train=0.928, test=0.887) total time=   1.9s\n",
            "[CV 2/3] END ....c1=1, c2=1;, score=(train=0.922, test=0.905) total time=   1.8s\n",
            "[CV 3/3] END ....c1=1, c2=1;, score=(train=0.923, test=0.901) total time=   1.6s\n"
          ]
        },
        {
          "data": {
            "text/html": [
              "<style>#sk-container-id-3 {\n",
              "  /* Definition of color scheme common for light and dark mode */\n",
              "  --sklearn-color-text: black;\n",
              "  --sklearn-color-line: gray;\n",
              "  /* Definition of color scheme for unfitted estimators */\n",
              "  --sklearn-color-unfitted-level-0: #fff5e6;\n",
              "  --sklearn-color-unfitted-level-1: #f6e4d2;\n",
              "  --sklearn-color-unfitted-level-2: #ffe0b3;\n",
              "  --sklearn-color-unfitted-level-3: chocolate;\n",
              "  /* Definition of color scheme for fitted estimators */\n",
              "  --sklearn-color-fitted-level-0: #f0f8ff;\n",
              "  --sklearn-color-fitted-level-1: #d4ebff;\n",
              "  --sklearn-color-fitted-level-2: #b3dbfd;\n",
              "  --sklearn-color-fitted-level-3: cornflowerblue;\n",
              "\n",
              "  /* Specific color for light theme */\n",
              "  --sklearn-color-text-on-default-background: var(--sg-text-color, var(--theme-code-foreground, var(--jp-content-font-color1, black)));\n",
              "  --sklearn-color-background: var(--sg-background-color, var(--theme-background, var(--jp-layout-color0, white)));\n",
              "  --sklearn-color-border-box: var(--sg-text-color, var(--theme-code-foreground, var(--jp-content-font-color1, black)));\n",
              "  --sklearn-color-icon: #696969;\n",
              "\n",
              "  @media (prefers-color-scheme: dark) {\n",
              "    /* Redefinition of color scheme for dark theme */\n",
              "    --sklearn-color-text-on-default-background: var(--sg-text-color, var(--theme-code-foreground, var(--jp-content-font-color1, white)));\n",
              "    --sklearn-color-background: var(--sg-background-color, var(--theme-background, var(--jp-layout-color0, #111)));\n",
              "    --sklearn-color-border-box: var(--sg-text-color, var(--theme-code-foreground, var(--jp-content-font-color1, white)));\n",
              "    --sklearn-color-icon: #878787;\n",
              "  }\n",
              "}\n",
              "\n",
              "#sk-container-id-3 {\n",
              "  color: var(--sklearn-color-text);\n",
              "}\n",
              "\n",
              "#sk-container-id-3 pre {\n",
              "  padding: 0;\n",
              "}\n",
              "\n",
              "#sk-container-id-3 input.sk-hidden--visually {\n",
              "  border: 0;\n",
              "  clip: rect(1px 1px 1px 1px);\n",
              "  clip: rect(1px, 1px, 1px, 1px);\n",
              "  height: 1px;\n",
              "  margin: -1px;\n",
              "  overflow: hidden;\n",
              "  padding: 0;\n",
              "  position: absolute;\n",
              "  width: 1px;\n",
              "}\n",
              "\n",
              "#sk-container-id-3 div.sk-dashed-wrapped {\n",
              "  border: 1px dashed var(--sklearn-color-line);\n",
              "  margin: 0 0.4em 0.5em 0.4em;\n",
              "  box-sizing: border-box;\n",
              "  padding-bottom: 0.4em;\n",
              "  background-color: var(--sklearn-color-background);\n",
              "}\n",
              "\n",
              "#sk-container-id-3 div.sk-container {\n",
              "  /* jupyter's `normalize.less` sets `[hidden] { display: none; }`\n",
              "     but bootstrap.min.css set `[hidden] { display: none !important; }`\n",
              "     so we also need the `!important` here to be able to override the\n",
              "     default hidden behavior on the sphinx rendered scikit-learn.org.\n",
              "     See: https://github.com/scikit-learn/scikit-learn/issues/21755 */\n",
              "  display: inline-block !important;\n",
              "  position: relative;\n",
              "}\n",
              "\n",
              "#sk-container-id-3 div.sk-text-repr-fallback {\n",
              "  display: none;\n",
              "}\n",
              "\n",
              "div.sk-parallel-item,\n",
              "div.sk-serial,\n",
              "div.sk-item {\n",
              "  /* draw centered vertical line to link estimators */\n",
              "  background-image: linear-gradient(var(--sklearn-color-text-on-default-background), var(--sklearn-color-text-on-default-background));\n",
              "  background-size: 2px 100%;\n",
              "  background-repeat: no-repeat;\n",
              "  background-position: center center;\n",
              "}\n",
              "\n",
              "/* Parallel-specific style estimator block */\n",
              "\n",
              "#sk-container-id-3 div.sk-parallel-item::after {\n",
              "  content: \"\";\n",
              "  width: 100%;\n",
              "  border-bottom: 2px solid var(--sklearn-color-text-on-default-background);\n",
              "  flex-grow: 1;\n",
              "}\n",
              "\n",
              "#sk-container-id-3 div.sk-parallel {\n",
              "  display: flex;\n",
              "  align-items: stretch;\n",
              "  justify-content: center;\n",
              "  background-color: var(--sklearn-color-background);\n",
              "  position: relative;\n",
              "}\n",
              "\n",
              "#sk-container-id-3 div.sk-parallel-item {\n",
              "  display: flex;\n",
              "  flex-direction: column;\n",
              "}\n",
              "\n",
              "#sk-container-id-3 div.sk-parallel-item:first-child::after {\n",
              "  align-self: flex-end;\n",
              "  width: 50%;\n",
              "}\n",
              "\n",
              "#sk-container-id-3 div.sk-parallel-item:last-child::after {\n",
              "  align-self: flex-start;\n",
              "  width: 50%;\n",
              "}\n",
              "\n",
              "#sk-container-id-3 div.sk-parallel-item:only-child::after {\n",
              "  width: 0;\n",
              "}\n",
              "\n",
              "/* Serial-specific style estimator block */\n",
              "\n",
              "#sk-container-id-3 div.sk-serial {\n",
              "  display: flex;\n",
              "  flex-direction: column;\n",
              "  align-items: center;\n",
              "  background-color: var(--sklearn-color-background);\n",
              "  padding-right: 1em;\n",
              "  padding-left: 1em;\n",
              "}\n",
              "\n",
              "\n",
              "/* Toggleable style: style used for estimator/Pipeline/ColumnTransformer box that is\n",
              "clickable and can be expanded/collapsed.\n",
              "- Pipeline and ColumnTransformer use this feature and define the default style\n",
              "- Estimators will overwrite some part of the style using the `sk-estimator` class\n",
              "*/\n",
              "\n",
              "/* Pipeline and ColumnTransformer style (default) */\n",
              "\n",
              "#sk-container-id-3 div.sk-toggleable {\n",
              "  /* Default theme specific background. It is overwritten whether we have a\n",
              "  specific estimator or a Pipeline/ColumnTransformer */\n",
              "  background-color: var(--sklearn-color-background);\n",
              "}\n",
              "\n",
              "/* Toggleable label */\n",
              "#sk-container-id-3 label.sk-toggleable__label {\n",
              "  cursor: pointer;\n",
              "  display: block;\n",
              "  width: 100%;\n",
              "  margin-bottom: 0;\n",
              "  padding: 0.5em;\n",
              "  box-sizing: border-box;\n",
              "  text-align: center;\n",
              "}\n",
              "\n",
              "#sk-container-id-3 label.sk-toggleable__label-arrow:before {\n",
              "  /* Arrow on the left of the label */\n",
              "  content: \"▸\";\n",
              "  float: left;\n",
              "  margin-right: 0.25em;\n",
              "  color: var(--sklearn-color-icon);\n",
              "}\n",
              "\n",
              "#sk-container-id-3 label.sk-toggleable__label-arrow:hover:before {\n",
              "  color: var(--sklearn-color-text);\n",
              "}\n",
              "\n",
              "/* Toggleable content - dropdown */\n",
              "\n",
              "#sk-container-id-3 div.sk-toggleable__content {\n",
              "  max-height: 0;\n",
              "  max-width: 0;\n",
              "  overflow: hidden;\n",
              "  text-align: left;\n",
              "  /* unfitted */\n",
              "  background-color: var(--sklearn-color-unfitted-level-0);\n",
              "}\n",
              "\n",
              "#sk-container-id-3 div.sk-toggleable__content.fitted {\n",
              "  /* fitted */\n",
              "  background-color: var(--sklearn-color-fitted-level-0);\n",
              "}\n",
              "\n",
              "#sk-container-id-3 div.sk-toggleable__content pre {\n",
              "  margin: 0.2em;\n",
              "  border-radius: 0.25em;\n",
              "  color: var(--sklearn-color-text);\n",
              "  /* unfitted */\n",
              "  background-color: var(--sklearn-color-unfitted-level-0);\n",
              "}\n",
              "\n",
              "#sk-container-id-3 div.sk-toggleable__content.fitted pre {\n",
              "  /* unfitted */\n",
              "  background-color: var(--sklearn-color-fitted-level-0);\n",
              "}\n",
              "\n",
              "#sk-container-id-3 input.sk-toggleable__control:checked~div.sk-toggleable__content {\n",
              "  /* Expand drop-down */\n",
              "  max-height: 200px;\n",
              "  max-width: 100%;\n",
              "  overflow: auto;\n",
              "}\n",
              "\n",
              "#sk-container-id-3 input.sk-toggleable__control:checked~label.sk-toggleable__label-arrow:before {\n",
              "  content: \"▾\";\n",
              "}\n",
              "\n",
              "/* Pipeline/ColumnTransformer-specific style */\n",
              "\n",
              "#sk-container-id-3 div.sk-label input.sk-toggleable__control:checked~label.sk-toggleable__label {\n",
              "  color: var(--sklearn-color-text);\n",
              "  background-color: var(--sklearn-color-unfitted-level-2);\n",
              "}\n",
              "\n",
              "#sk-container-id-3 div.sk-label.fitted input.sk-toggleable__control:checked~label.sk-toggleable__label {\n",
              "  background-color: var(--sklearn-color-fitted-level-2);\n",
              "}\n",
              "\n",
              "/* Estimator-specific style */\n",
              "\n",
              "/* Colorize estimator box */\n",
              "#sk-container-id-3 div.sk-estimator input.sk-toggleable__control:checked~label.sk-toggleable__label {\n",
              "  /* unfitted */\n",
              "  background-color: var(--sklearn-color-unfitted-level-2);\n",
              "}\n",
              "\n",
              "#sk-container-id-3 div.sk-estimator.fitted input.sk-toggleable__control:checked~label.sk-toggleable__label {\n",
              "  /* fitted */\n",
              "  background-color: var(--sklearn-color-fitted-level-2);\n",
              "}\n",
              "\n",
              "#sk-container-id-3 div.sk-label label.sk-toggleable__label,\n",
              "#sk-container-id-3 div.sk-label label {\n",
              "  /* The background is the default theme color */\n",
              "  color: var(--sklearn-color-text-on-default-background);\n",
              "}\n",
              "\n",
              "/* On hover, darken the color of the background */\n",
              "#sk-container-id-3 div.sk-label:hover label.sk-toggleable__label {\n",
              "  color: var(--sklearn-color-text);\n",
              "  background-color: var(--sklearn-color-unfitted-level-2);\n",
              "}\n",
              "\n",
              "/* Label box, darken color on hover, fitted */\n",
              "#sk-container-id-3 div.sk-label.fitted:hover label.sk-toggleable__label.fitted {\n",
              "  color: var(--sklearn-color-text);\n",
              "  background-color: var(--sklearn-color-fitted-level-2);\n",
              "}\n",
              "\n",
              "/* Estimator label */\n",
              "\n",
              "#sk-container-id-3 div.sk-label label {\n",
              "  font-family: monospace;\n",
              "  font-weight: bold;\n",
              "  display: inline-block;\n",
              "  line-height: 1.2em;\n",
              "}\n",
              "\n",
              "#sk-container-id-3 div.sk-label-container {\n",
              "  text-align: center;\n",
              "}\n",
              "\n",
              "/* Estimator-specific */\n",
              "#sk-container-id-3 div.sk-estimator {\n",
              "  font-family: monospace;\n",
              "  border: 1px dotted var(--sklearn-color-border-box);\n",
              "  border-radius: 0.25em;\n",
              "  box-sizing: border-box;\n",
              "  margin-bottom: 0.5em;\n",
              "  /* unfitted */\n",
              "  background-color: var(--sklearn-color-unfitted-level-0);\n",
              "}\n",
              "\n",
              "#sk-container-id-3 div.sk-estimator.fitted {\n",
              "  /* fitted */\n",
              "  background-color: var(--sklearn-color-fitted-level-0);\n",
              "}\n",
              "\n",
              "/* on hover */\n",
              "#sk-container-id-3 div.sk-estimator:hover {\n",
              "  /* unfitted */\n",
              "  background-color: var(--sklearn-color-unfitted-level-2);\n",
              "}\n",
              "\n",
              "#sk-container-id-3 div.sk-estimator.fitted:hover {\n",
              "  /* fitted */\n",
              "  background-color: var(--sklearn-color-fitted-level-2);\n",
              "}\n",
              "\n",
              "/* Specification for estimator info (e.g. \"i\" and \"?\") */\n",
              "\n",
              "/* Common style for \"i\" and \"?\" */\n",
              "\n",
              ".sk-estimator-doc-link,\n",
              "a:link.sk-estimator-doc-link,\n",
              "a:visited.sk-estimator-doc-link {\n",
              "  float: right;\n",
              "  font-size: smaller;\n",
              "  line-height: 1em;\n",
              "  font-family: monospace;\n",
              "  background-color: var(--sklearn-color-background);\n",
              "  border-radius: 1em;\n",
              "  height: 1em;\n",
              "  width: 1em;\n",
              "  text-decoration: none !important;\n",
              "  margin-left: 1ex;\n",
              "  /* unfitted */\n",
              "  border: var(--sklearn-color-unfitted-level-1) 1pt solid;\n",
              "  color: var(--sklearn-color-unfitted-level-1);\n",
              "}\n",
              "\n",
              ".sk-estimator-doc-link.fitted,\n",
              "a:link.sk-estimator-doc-link.fitted,\n",
              "a:visited.sk-estimator-doc-link.fitted {\n",
              "  /* fitted */\n",
              "  border: var(--sklearn-color-fitted-level-1) 1pt solid;\n",
              "  color: var(--sklearn-color-fitted-level-1);\n",
              "}\n",
              "\n",
              "/* On hover */\n",
              "div.sk-estimator:hover .sk-estimator-doc-link:hover,\n",
              ".sk-estimator-doc-link:hover,\n",
              "div.sk-label-container:hover .sk-estimator-doc-link:hover,\n",
              ".sk-estimator-doc-link:hover {\n",
              "  /* unfitted */\n",
              "  background-color: var(--sklearn-color-unfitted-level-3);\n",
              "  color: var(--sklearn-color-background);\n",
              "  text-decoration: none;\n",
              "}\n",
              "\n",
              "div.sk-estimator.fitted:hover .sk-estimator-doc-link.fitted:hover,\n",
              ".sk-estimator-doc-link.fitted:hover,\n",
              "div.sk-label-container:hover .sk-estimator-doc-link.fitted:hover,\n",
              ".sk-estimator-doc-link.fitted:hover {\n",
              "  /* fitted */\n",
              "  background-color: var(--sklearn-color-fitted-level-3);\n",
              "  color: var(--sklearn-color-background);\n",
              "  text-decoration: none;\n",
              "}\n",
              "\n",
              "/* Span, style for the box shown on hovering the info icon */\n",
              ".sk-estimator-doc-link span {\n",
              "  display: none;\n",
              "  z-index: 9999;\n",
              "  position: relative;\n",
              "  font-weight: normal;\n",
              "  right: .2ex;\n",
              "  padding: .5ex;\n",
              "  margin: .5ex;\n",
              "  width: min-content;\n",
              "  min-width: 20ex;\n",
              "  max-width: 50ex;\n",
              "  color: var(--sklearn-color-text);\n",
              "  box-shadow: 2pt 2pt 4pt #999;\n",
              "  /* unfitted */\n",
              "  background: var(--sklearn-color-unfitted-level-0);\n",
              "  border: .5pt solid var(--sklearn-color-unfitted-level-3);\n",
              "}\n",
              "\n",
              ".sk-estimator-doc-link.fitted span {\n",
              "  /* fitted */\n",
              "  background: var(--sklearn-color-fitted-level-0);\n",
              "  border: var(--sklearn-color-fitted-level-3);\n",
              "}\n",
              "\n",
              ".sk-estimator-doc-link:hover span {\n",
              "  display: block;\n",
              "}\n",
              "\n",
              "/* \"?\"-specific style due to the `<a>` HTML tag */\n",
              "\n",
              "#sk-container-id-3 a.estimator_doc_link {\n",
              "  float: right;\n",
              "  font-size: 1rem;\n",
              "  line-height: 1em;\n",
              "  font-family: monospace;\n",
              "  background-color: var(--sklearn-color-background);\n",
              "  border-radius: 1rem;\n",
              "  height: 1rem;\n",
              "  width: 1rem;\n",
              "  text-decoration: none;\n",
              "  /* unfitted */\n",
              "  color: var(--sklearn-color-unfitted-level-1);\n",
              "  border: var(--sklearn-color-unfitted-level-1) 1pt solid;\n",
              "}\n",
              "\n",
              "#sk-container-id-3 a.estimator_doc_link.fitted {\n",
              "  /* fitted */\n",
              "  border: var(--sklearn-color-fitted-level-1) 1pt solid;\n",
              "  color: var(--sklearn-color-fitted-level-1);\n",
              "}\n",
              "\n",
              "/* On hover */\n",
              "#sk-container-id-3 a.estimator_doc_link:hover {\n",
              "  /* unfitted */\n",
              "  background-color: var(--sklearn-color-unfitted-level-3);\n",
              "  color: var(--sklearn-color-background);\n",
              "  text-decoration: none;\n",
              "}\n",
              "\n",
              "#sk-container-id-3 a.estimator_doc_link.fitted:hover {\n",
              "  /* fitted */\n",
              "  background-color: var(--sklearn-color-fitted-level-3);\n",
              "}\n",
              "</style><div id=\"sk-container-id-3\" class=\"sk-top-container\"><div class=\"sk-text-repr-fallback\"><pre>GridSearchCV(cv=3,\n",
              "             estimator=CRF(algorithm=&#x27;lbfgs&#x27;, all_possible_transitions=True,\n",
              "                           c1=0.1, c2=0.1, max_iterations=100),\n",
              "             n_jobs=-1,\n",
              "             param_grid={&#x27;c1&#x27;: [0.1, 0.25, 0.5, 1], &#x27;c2&#x27;: [0.1, 0.25, 0.5, 1]},\n",
              "             return_train_score=True,\n",
              "             scoring=make_scorer(flat_f1_score, response_method=&#x27;predict&#x27;, average=weighted, labels=[&#x27;B-O&#x27;, &#x27;B-LF&#x27;, &#x27;I-LF&#x27;, &#x27;B-AC&#x27;]),\n",
              "             verbose=3)</pre><b>In a Jupyter environment, please rerun this cell to show the HTML representation or trust the notebook. <br />On GitHub, the HTML representation is unable to render, please try loading this page with nbviewer.org.</b></div><div class=\"sk-container\" hidden><div class=\"sk-item sk-dashed-wrapped\"><div class=\"sk-label-container\"><div class=\"sk-label fitted sk-toggleable\"><input class=\"sk-toggleable__control sk-hidden--visually\" id=\"sk-estimator-id-5\" type=\"checkbox\" ><label for=\"sk-estimator-id-5\" class=\"sk-toggleable__label fitted sk-toggleable__label-arrow fitted\">&nbsp;&nbsp;GridSearchCV<a class=\"sk-estimator-doc-link fitted\" rel=\"noreferrer\" target=\"_blank\" href=\"https://scikit-learn.org/1.4/modules/generated/sklearn.model_selection.GridSearchCV.html\">?<span>Documentation for GridSearchCV</span></a><span class=\"sk-estimator-doc-link fitted\">i<span>Fitted</span></span></label><div class=\"sk-toggleable__content fitted\"><pre>GridSearchCV(cv=3,\n",
              "             estimator=CRF(algorithm=&#x27;lbfgs&#x27;, all_possible_transitions=True,\n",
              "                           c1=0.1, c2=0.1, max_iterations=100),\n",
              "             n_jobs=-1,\n",
              "             param_grid={&#x27;c1&#x27;: [0.1, 0.25, 0.5, 1], &#x27;c2&#x27;: [0.1, 0.25, 0.5, 1]},\n",
              "             return_train_score=True,\n",
              "             scoring=make_scorer(flat_f1_score, response_method=&#x27;predict&#x27;, average=weighted, labels=[&#x27;B-O&#x27;, &#x27;B-LF&#x27;, &#x27;I-LF&#x27;, &#x27;B-AC&#x27;]),\n",
              "             verbose=3)</pre></div> </div></div><div class=\"sk-parallel\"><div class=\"sk-parallel-item\"><div class=\"sk-item\"><div class=\"sk-label-container\"><div class=\"sk-label fitted sk-toggleable\"><input class=\"sk-toggleable__control sk-hidden--visually\" id=\"sk-estimator-id-6\" type=\"checkbox\" ><label for=\"sk-estimator-id-6\" class=\"sk-toggleable__label fitted sk-toggleable__label-arrow fitted\">estimator: CRF</label><div class=\"sk-toggleable__content fitted\"><pre>CRF(algorithm=&#x27;lbfgs&#x27;, all_possible_transitions=True, c1=0.1, c2=0.1,\n",
              "    max_iterations=100)</pre></div> </div></div><div class=\"sk-serial\"><div class=\"sk-item\"><div class=\"sk-estimator fitted sk-toggleable\"><input class=\"sk-toggleable__control sk-hidden--visually\" id=\"sk-estimator-id-7\" type=\"checkbox\" ><label for=\"sk-estimator-id-7\" class=\"sk-toggleable__label fitted sk-toggleable__label-arrow fitted\">CRF</label><div class=\"sk-toggleable__content fitted\"><pre>CRF(algorithm=&#x27;lbfgs&#x27;, all_possible_transitions=True, c1=0.1, c2=0.1,\n",
              "    max_iterations=100)</pre></div> </div></div></div></div></div></div></div></div></div>"
            ],
            "text/plain": [
              "GridSearchCV(cv=3,\n",
              "             estimator=CRF(algorithm='lbfgs', all_possible_transitions=True,\n",
              "                           c1=0.1, c2=0.1, max_iterations=100),\n",
              "             n_jobs=-1,\n",
              "             param_grid={'c1': [0.1, 0.25, 0.5, 1], 'c2': [0.1, 0.25, 0.5, 1]},\n",
              "             return_train_score=True,\n",
              "             scoring=make_scorer(flat_f1_score, response_method='predict', average=weighted, labels=['B-O', 'B-LF', 'I-LF', 'B-AC']),\n",
              "             verbose=3)"
            ]
          },
          "execution_count": 48,
          "metadata": {},
          "output_type": "execute_result"
        }
      ],
      "source": [
        "#GridSearchCV\n",
        "from sklearn.model_selection import GridSearchCV\n",
        "params_space = {\n",
        "    \"c1\": [0.1, 0.25,0.5,1],\n",
        "    \"c2\": [0.1, 0.25,0.5,1]\n",
        "}\n",
        "\n",
        "\n",
        "f1_scorer = make_scorer(metrics.flat_f1_score,\n",
        "                        average='weighted', labels=labels)\n",
        "\n",
        "grids = GridSearchCV(estimator = crf, \n",
        "                     param_grid=params_space,\n",
        "                        cv=3,\n",
        "                        verbose=3,\n",
        "                        n_jobs=-1,\n",
        "                        scoring=f1_scorer,\n",
        "                        return_train_score=True)\n",
        "grids.fit(X_train, y_train)"
      ]
    },
    {
      "cell_type": "code",
      "execution_count": 49,
      "metadata": {},
      "outputs": [
        {
          "name": "stdout",
          "output_type": "stream",
          "text": [
            "best params: {'c1': 0.5, 'c2': 0.5}\n",
            "best CV score: 0.9001606467175421\n",
            "model size: 0.50M\n"
          ]
        }
      ],
      "source": [
        "#crf = rs.best_estimator_\n",
        "print('best params:', grids.best_params_)\n",
        "print('best CV score:', grids.best_score_)\n",
        "print('model size: {:0.2f}M'.format(grids.best_estimator_.size_ / 1000000))"
      ]
    },
    {
      "cell_type": "code",
      "execution_count": 50,
      "metadata": {},
      "outputs": [
        {
          "name": "stdout",
          "output_type": "stream",
          "text": [
            "Dark blue => 0.9244, dark red => 0.995\n"
          ]
        },
        {
          "data": {
            "image/png": "[encoded data removed]",
            "text/plain": [
              "<Figure size 1200x1200 with 1 Axes>"
            ]
          },
          "metadata": {},
          "output_type": "display_data"
        }
      ],
      "source": [
        "_x = [s['c1'] for s in grids.cv_results_['params']]\n",
        "_y = [s['c2'] for s in grids.cv_results_['params']]\n",
        "_c = [s for s in grids.cv_results_['mean_train_score']]\n",
        "fig = plt.figure()\n",
        "fig.set_size_inches(12, 12)\n",
        "ax = plt.gca()\n",
        "ax.set_yscale('log')\n",
        "ax.set_xscale('log')\n",
        "ax.set_xlabel('C1')\n",
        "ax.set_ylabel('C2')\n",
        "ax.set_title(\"Grid Hyperparameter Search CV Results (min={:0.3}, max={:0.3})\".format(\n",
        "    min(_c), max(_c)\n",
        "))\n",
        "\n",
        "ax.scatter(_x, _y, c=_c, s=60, alpha=0.9, edgecolors=[0,0,0])\n",
        "\n",
        "print(\"Dark blue => {:0.4}, dark red => {:0.4}\".format(min(_c), max(_c)))"
      ]
    },
    {
      "cell_type": "code",
      "execution_count": 51,
      "metadata": {},
      "outputs": [
        {
          "name": "stdout",
          "output_type": "stream",
          "text": [
            "              precision    recall  f1-score   support\n",
            "\n",
            "        B-AC       0.85      0.89      0.87       270\n",
            "        B-LF       0.67      0.51      0.58       150\n",
            "         B-O       0.96      0.97      0.96      4292\n",
            "        I-LF       0.74      0.66      0.70       288\n",
            "\n",
            "    accuracy                           0.93      5000\n",
            "   macro avg       0.80      0.76      0.78      5000\n",
            "weighted avg       0.93      0.93      0.93      5000\n",
            "\n"
          ]
        }
      ],
      "source": [
        "y_pred = grids.predict(X_test)\n",
        "    \n",
        "y_test_flat = flatten(y_test)\n",
        "y_pred_flat = flatten(y_pred)\n",
        "    \n",
        "print(skmetrics.classification_report(y_test_flat, y_pred_flat))"
      ]
    },
    {
      "cell_type": "code",
      "execution_count": null,
      "metadata": {
        "id": "FvvaYTgGEXM4"
      },
      "outputs": [],
      "source": [
        "# Number of vector elements (dimensions) to represent the word vector\n",
        "num_features = 300\n",
        "# Min number of word count to be considered in the Word2vec model. If your corpus is small, reduce the min count. If you’re training with a large corpus, increase the min count.\n",
        "min_word_count = 1\n",
        "# Number of CPU cores used for the training. If you want to set the number of cores dynamically, check out import multiprocessing:\n",
        "#num_workers = multiprocessing.cpu_count()\n",
        "num_workers = 2\n",
        "# Context window size\n",
        "window_size = 3\n",
        "# Subsampling rate for frequent terms\n",
        "subsampling = 1e-3"
      ]
    },
    {
      "cell_type": "code",
      "execution_count": null,
      "metadata": {
        "id": "oclHus17BAOm"
      },
      "outputs": [],
      "source": [
        "from gensim.test.utils import common_texts, get_tmpfile\n",
        "from gensim.models import Word2Vec\n",
        "from gensim.models import KeyedVectors\n",
        "\n",
        "temp_path = get_tmpfile('test_w2v')\n",
        "\n",
        "epoch = datasets[\"train\"].num_rows\n",
        "for i in range(1, epoch+1): # epoch:\n",
        "  model = Word2Vec(label_list, workers=2, vector_size=num_features, min_count=min_word_count, window=window_size, sample=subsampling)\n",
        "  print(\"Model trained with \" + str(i) + \" epochs\")\n",
        "model_name = \"NLPtestWord2Vec\"\n",
        "# I used wv function from the model to save it so that it remembers the mapping between words and vectors\n",
        "#The reason for separating the trained vectors into KeyedVectors is that if you don’t need the full model state any more (don’t need to continue training), the state can discarded, resulting in a much smaller and faster object that can be mmapped for lightning fast loading and sharing the vectors in RAM between processes:\n",
        "model.wv.save(temp_path)\n",
        "modelxd = KeyedVectors.load(temp_path, mmap='r')\n",
        "\n",
        "result = modelxd.wv.most_similar(\"human\", topn=1)\n",
        "print(result)\n",
        "#model.load_state_dict(torch.load(path))"
      ]
    },
    {
      "cell_type": "code",
      "execution_count": null,
      "metadata": {},
      "outputs": [],
      "source": []
    },
    {
      "cell_type": "markdown",
      "metadata": {
        "id": "VOfD6s8qekmh"
      },
      "source": [
        "##Data Visualization"
      ]
    },
    {
      "cell_type": "code",
      "execution_count": null,
      "metadata": {
        "colab": {
          "base_uri": "https://localhost:8080/"
        },
        "id": "pn1Ddz05gZCy",
        "outputId": "9da27d9d-3d9d-4c62-afd0-4b730d53e36f"
      },
      "outputs": [],
      "source": [
        "import nltk\n",
        "nltk.download('punkt')"
      ]
    },
    {
      "cell_type": "markdown",
      "metadata": {
        "id": "ccOYjLwtVvj_"
      },
      "source": [
        "##NLTK Bigrams Trigram"
      ]
    },
    {
      "cell_type": "code",
      "execution_count": null,
      "metadata": {
        "id": "gTsMK9FmVzLh"
      },
      "outputs": [],
      "source": []
    },
    {
      "cell_type": "code",
      "execution_count": null,
      "metadata": {
        "id": "Hq2F7sDcVzaT"
      },
      "outputs": [],
      "source": [
        "%%time\n",
        "bigram = gensim.models.Phrases(example, min_count=5, threshold=100) # higher threshold fewer phrases.\n",
        "trigram = gensim.models.Phrases(bigram[example], threshold=100)\n",
        "\n",
        "# Faster way to get a sentence clubbed as a trigram/bigram\n",
        "bigram_mod = gensim.models.phrases.Phraser(bigram)\n",
        "trigram_mod = gensim.models.phrases.Phraser(trigram)\n"
      ]
    },
    {
      "cell_type": "code",
      "execution_count": null,
      "metadata": {
        "id": "HQ73d9QxWo-Q"
      },
      "outputs": [],
      "source": [
        "def make_bigrams(texts):\n",
        "    return [bigram_mod[doc] for doc in texts]\n",
        "\n",
        "def make_trigrams(texts):\n",
        "    return [trigram_mod[bigram_mod[doc]] for doc in texts]\n",
        "\n",
        "def lemmatization(texts, allowed_postags=['NOUN', 'ADJ', 'VERB', 'ADV']):\n",
        "    \"\"\"https://spacy.io/api/annotation\"\"\"\n",
        "    texts_out = []\n",
        "    for sent in texts:\n",
        "        doc = nlp(\" \".join(sent))\n",
        "        texts_out.append([token.lemma_ for token in doc if token.pos_ in allowed_postags])\n",
        "    return texts_out\n"
      ]
    },
    {
      "cell_type": "code",
      "execution_count": null,
      "metadata": {
        "id": "z2ZQtVyEYVW3"
      },
      "outputs": [],
      "source": [
        "!python -m spacy download en_core_web_sm"
      ]
    },
    {
      "cell_type": "code",
      "execution_count": null,
      "metadata": {
        "id": "QYPaBZm5W-JW"
      },
      "outputs": [],
      "source": [
        "import spacy\n",
        "\n",
        "# Form Bigrams\n",
        "data_words_bigrams = make_bigrams(label_list)\n",
        "\n",
        "print(data_words_bigrams)\n",
        "# Initialize spacy 'en' model, keeping only tagger component (for efficiency)\n",
        "nlp = spacy.load(\"en_core_web_sm\", disable=['parser', 'ner'])\n",
        "\n",
        "# Do lemmatization keeping only noun, adj, vb, adv\n",
        "data_lemmatized = lemmatization(data_words_bigrams, allowed_postags=['ADJ', 'ADP', 'ADV', 'AUX', 'CONJ', 'CCONJ', 'DET', 'INTJ', 'NOUN', 'NUM', 'PART', 'PRON', 'PROPN', 'PUNCT', 'SCONJ', 'SYM', 'VERB', 'X', 'SPACE'])\n",
        "\n",
        "print(data_lemmatized[:1][0][:30])"
      ]
    },
    {
      "cell_type": "code",
      "execution_count": null,
      "metadata": {
        "id": "nh1eQr4puryN"
      },
      "outputs": [],
      "source": [
        "# visualizing bigrams\n",
        "fig = px.bar(bigram_df[:20], x='ngram', y='count', title='Counts of top bigrams', template='plotly_white', labels={'ngram': 'Bigram', 'count': 'Count'})\n",
        "fig.show()"
      ]
    },
    {
      "cell_type": "markdown",
      "metadata": {
        "id": "VunU4nQQLRm0"
      },
      "source": []
    },
    {
      "cell_type": "code",
      "execution_count": null,
      "metadata": {
        "id": "48ZaoZDvNa3j"
      },
      "outputs": [],
      "source": [
        "import gensim.corpora as corpora\n",
        "\n",
        "data_pos = datasets['train'].features[f\"pos_tags\"].feature.names\n",
        "print(data_pos)\n",
        "# Create Dictionary\n",
        "id2word = corpora.Dictionary(data_pos)\n",
        "\n",
        "# Create Corpus\n",
        "texts = data_pos\n",
        "\n",
        "# Term Document Frequency\n",
        "corpus = [id2word.doc2bow(text) for text in texts]\n",
        "\n",
        "# View\n",
        "print(corpus[:1][0][:30])"
      ]
    },
    {
      "cell_type": "code",
      "execution_count": null,
      "metadata": {
        "id": "iH0s_atrJ7Rx"
      },
      "outputs": [],
      "source": [
        "from gensim.models import LdaModel\n",
        "\n",
        "%%time\n",
        "# Build LDA model\n",
        "lda_model = gensim.models.LdaMulticore(corpus=datasets,\n",
        "                                       id2word=id2word,\n",
        "                                       num_topics=10,\n",
        "                                       random_state=100,\n",
        "                                       chunksize=100,\n",
        "                                       passes=10,\n",
        "                                       per_word_topics=True)\n",
        "\n",
        "\n",
        "\n",
        "\n",
        "from pprint import pprint\n",
        "\n",
        "# Print the Keyword in the 10 topics\n",
        "pprint(lda_model.print_topics())\n",
        "doc_lda = lda_model[corpus]\n",
        "\n"
      ]
    },
    {
      "cell_type": "markdown",
      "metadata": {
        "id": "4HfZwN4TkU7o"
      },
      "source": []
    },
    {
      "cell_type": "markdown",
      "metadata": {
        "id": "TVY_cjNgZbw3"
      },
      "source": [
        "### **Tokenizer**"
      ]
    },
    {
      "cell_type": "markdown",
      "metadata": {
        "id": "UxnfkKBXkTIo"
      },
      "source": [
        "Rudra Murthy, Mitesh M. Khapra, and Pushpak Bhattacharyya. 2018. Improving NER Tagging Performance in Low-Resource Languages via Multilingual Learning. ACM Trans. Asian Low-Resour. Lang. Inf. Process. 18, 2, Article 9 (June 2019), 20 pages. https://doi.org/10.1145/3238797\n"
      ]
    },
    {
      "cell_type": "code",
      "execution_count": null,
      "metadata": {
        "id": "tMrkRXA9N5jW"
      },
      "outputs": [],
      "source": [
        "from torchtext.data.utils import get_tokenizer\n",
        "\n",
        "class SpacyTokenizer(torch.nn.Module):\n",
        "    def __init__(self):\n",
        "        super().__init__()\n",
        "        self.tokenizer = get_tokenizer(\"spacy\", language=\"en_core_web_sm\")\n",
        "\n",
        "    def forward(self, input):\n",
        "        if isinstance(input, list):\n",
        "            tokens = []\n",
        "            for text in input:\n",
        "                tokens.append(self.tokenizer(text))\n",
        "            return tokens\n",
        "        elif isinstance(input, str):\n",
        "            return self.tokenizer(input)\n",
        "        raise ValueError(f\"Type {type(input)} is not supported.\")"
      ]
    },
    {
      "cell_type": "code",
      "execution_count": null,
      "metadata": {
        "id": "7RPPGhsnbtrC"
      },
      "outputs": [],
      "source": [
        "tokenizer = SpacyTokenizer()\n",
        "tokenized_input = tokenizer(example[\"tokens\"])\n",
        "print(tokenized_input)"
      ]
    },
    {
      "cell_type": "markdown",
      "metadata": {
        "id": "74it1YPPDMXE"
      },
      "source": [
        "https://radimrehurek.com/gensim/ gensim\n"
      ]
    },
    {
      "cell_type": "code",
      "execution_count": null,
      "metadata": {
        "id": "MJ8Gd5CMGvsX"
      },
      "outputs": [],
      "source": [
        "model = 'models/fastText/'"
      ]
    },
    {
      "cell_type": "code",
      "execution_count": null,
      "metadata": {
        "id": "L6tb9UkXEugW"
      },
      "outputs": [],
      "source": [
        "#Hyperparams config\n",
        "lr = 0.05\n",
        "dim = 100\n",
        "ws = 5\n",
        "epoch = 5\n",
        "minCount = 5\n",
        "neg = 5\n",
        "loss = 'ns'\n",
        "t = 1e-4\n",
        "\n",
        "params = {\n",
        "    'alpha': lr,\n",
        "    'size': dim,\n",
        "    'window': ws,\n",
        "    'iter': epoch,\n",
        "    'min_count': minCount,\n",
        "    'sample': t,\n",
        "    'sg': 1,\n",
        "    'hs': 0,\n",
        "    'negative': neg\n",
        "}\n"
      ]
    },
    {
      "cell_type": "code",
      "execution_count": null,
      "metadata": {
        "id": "9XLUEAfRCuxr"
      },
      "outputs": [],
      "source": [
        "from pprint import pprint as print\n",
        "from gensim.models.fasttext import FastText\n",
        "from gensim.test.utils import datapath\n",
        "\n",
        "# Set file names for train and test data\n",
        "\n",
        "model = FastText(vector_size=200)\n",
        "\n",
        "# build the vocabulary\n",
        "model.build_vocab(corpus_file=datasets)\n",
        "\n",
        "# train the model\n",
        "model.train(\n",
        "    corpus_file=corpus_file, epochs=model.epochs,\n",
        "    total_examples=model.corpus_count, total_words=model.corpus_total_words,\n",
        ")\n",
        "torch.save(model.state_dict(), path)\n",
        "print(model)\n",
        "\n",
        "model.load_state_dict(torch.load(path))"
      ]
    }
  ],
  "metadata": {
    "colab": {
      "provenance": []
    },
    "kernelspec": {
      "display_name": "Python 3",
      "name": "python3"
    },
    "language_info": {
      "codemirror_mode": {
        "name": "ipython",
        "version": 3
      },
      "file_extension": ".py",
      "mimetype": "text/x-python",
      "name": "python",
      "nbconvert_exporter": "python",
      "pygments_lexer": "ipython3",
      "version": "3.10.14"
    },
    "widgets": {
      "application/vnd.jupyter.widget-state+json": {
        "0de5256b7043476b8918da9cc6210338": {
          "model_module": "@jupyter-widgets/base",
          "model_module_version": "1.2.0",
          "model_name": "LayoutModel",
          "state": {
            "_model_module": "@jupyter-widgets/base",
            "_model_module_version": "1.2.0",
            "_model_name": "LayoutModel",
            "_view_count": null,
            "_view_module": "@jupyter-widgets/base",
            "_view_module_version": "1.2.0",
            "_view_name": "LayoutView",
            "align_content": null,
            "align_items": null,
            "align_self": null,
            "border": null,
            "bottom": null,
            "display": null,
            "flex": null,
            "flex_flow": null,
            "grid_area": null,
            "grid_auto_columns": null,
            "grid_auto_flow": null,
            "grid_auto_rows": null,
            "grid_column": null,
            "grid_gap": null,
            "grid_row": null,
            "grid_template_areas": null,
            "grid_template_columns": null,
            "grid_template_rows": null,
            "height": null,
            "justify_content": null,
            "justify_items": null,
            "left": null,
            "margin": null,
            "max_height": null,
            "max_width": null,
            "min_height": null,
            "min_width": null,
            "object_fit": null,
            "object_position": null,
            "order": null,
            "overflow": null,
            "overflow_x": null,
            "overflow_y": null,
            "padding": null,
            "right": null,
            "top": null,
            "visibility": null,
            "width": null
          }
        },
        "19c9dd030e1f45edb09dafba6068f73f": {
          "model_module": "@jupyter-widgets/controls",
          "model_module_version": "1.5.0",
          "model_name": "ProgressStyleModel",
          "state": {
            "_model_module": "@jupyter-widgets/controls",
            "_model_module_version": "1.5.0",
            "_model_name": "ProgressStyleModel",
            "_view_count": null,
            "_view_module": "@jupyter-widgets/base",
            "_view_module_version": "1.2.0",
            "_view_name": "StyleView",
            "bar_color": null,
            "description_width": ""
          }
        },
        "36892ec72c9a41a7aeb58bb8f366485d": {
          "model_module": "@jupyter-widgets/controls",
          "model_module_version": "1.5.0",
          "model_name": "FloatProgressModel",
          "state": {
            "_dom_classes": [],
            "_model_module": "@jupyter-widgets/controls",
            "_model_module_version": "1.5.0",
            "_model_name": "FloatProgressModel",
            "_view_count": null,
            "_view_module": "@jupyter-widgets/controls",
            "_view_module_version": "1.5.0",
            "_view_name": "ProgressView",
            "bar_style": "",
            "description": "",
            "description_tooltip": null,
            "layout": "IPY_MODEL_0de5256b7043476b8918da9cc6210338",
            "max": 1,
            "min": 0,
            "orientation": "horizontal",
            "style": "IPY_MODEL_19c9dd030e1f45edb09dafba6068f73f",
            "value": 1
          }
        },
        "422e83053d3048288724a675e555c35e": {
          "model_module": "@jupyter-widgets/controls",
          "model_module_version": "1.5.0",
          "model_name": "VBoxModel",
          "state": {
            "_dom_classes": [],
            "_model_module": "@jupyter-widgets/controls",
            "_model_module_version": "1.5.0",
            "_model_name": "VBoxModel",
            "_view_count": null,
            "_view_module": "@jupyter-widgets/controls",
            "_view_module_version": "1.5.0",
            "_view_name": "VBoxView",
            "box_style": "",
            "children": [
              "IPY_MODEL_938bcf4accc840959e7c787b3f804171",
              "IPY_MODEL_36892ec72c9a41a7aeb58bb8f366485d"
            ],
            "layout": "IPY_MODEL_803bd1b7062e4ef49cf2794e205110cc"
          }
        },
        "803bd1b7062e4ef49cf2794e205110cc": {
          "model_module": "@jupyter-widgets/base",
          "model_module_version": "1.2.0",
          "model_name": "LayoutModel",
          "state": {
            "_model_module": "@jupyter-widgets/base",
            "_model_module_version": "1.2.0",
            "_model_name": "LayoutModel",
            "_view_count": null,
            "_view_module": "@jupyter-widgets/base",
            "_view_module_version": "1.2.0",
            "_view_name": "LayoutView",
            "align_content": null,
            "align_items": null,
            "align_self": null,
            "border": null,
            "bottom": null,
            "display": null,
            "flex": null,
            "flex_flow": null,
            "grid_area": null,
            "grid_auto_columns": null,
            "grid_auto_flow": null,
            "grid_auto_rows": null,
            "grid_column": null,
            "grid_gap": null,
            "grid_row": null,
            "grid_template_areas": null,
            "grid_template_columns": null,
            "grid_template_rows": null,
            "height": null,
            "justify_content": null,
            "justify_items": null,
            "left": null,
            "margin": null,
            "max_height": null,
            "max_width": null,
            "min_height": null,
            "min_width": null,
            "object_fit": null,
            "object_position": null,
            "order": null,
            "overflow": null,
            "overflow_x": null,
            "overflow_y": null,
            "padding": null,
            "right": null,
            "top": null,
            "visibility": null,
            "width": null
          }
        },
        "938bcf4accc840959e7c787b3f804171": {
          "model_module": "@jupyter-widgets/controls",
          "model_module_version": "1.5.0",
          "model_name": "LabelModel",
          "state": {
            "_dom_classes": [],
            "_model_module": "@jupyter-widgets/controls",
            "_model_module_version": "1.5.0",
            "_model_name": "LabelModel",
            "_view_count": null,
            "_view_module": "@jupyter-widgets/controls",
            "_view_module_version": "1.5.0",
            "_view_name": "LabelView",
            "description": "",
            "description_tooltip": null,
            "layout": "IPY_MODEL_e299722aeaa442cba5a3d3e8be2413eb",
            "placeholder": "​",
            "style": "IPY_MODEL_f9d23a27e11045148785e3e27e999538",
            "value": "0.046 MB of 0.046 MB uploaded\r"
          }
        },
        "e299722aeaa442cba5a3d3e8be2413eb": {
          "model_module": "@jupyter-widgets/base",
          "model_module_version": "1.2.0",
          "model_name": "LayoutModel",
          "state": {
            "_model_module": "@jupyter-widgets/base",
            "_model_module_version": "1.2.0",
            "_model_name": "LayoutModel",
            "_view_count": null,
            "_view_module": "@jupyter-widgets/base",
            "_view_module_version": "1.2.0",
            "_view_name": "LayoutView",
            "align_content": null,
            "align_items": null,
            "align_self": null,
            "border": null,
            "bottom": null,
            "display": null,
            "flex": null,
            "flex_flow": null,
            "grid_area": null,
            "grid_auto_columns": null,
            "grid_auto_flow": null,
            "grid_auto_rows": null,
            "grid_column": null,
            "grid_gap": null,
            "grid_row": null,
            "grid_template_areas": null,
            "grid_template_columns": null,
            "grid_template_rows": null,
            "height": null,
            "justify_content": null,
            "justify_items": null,
            "left": null,
            "margin": null,
            "max_height": null,
            "max_width": null,
            "min_height": null,
            "min_width": null,
            "object_fit": null,
            "object_position": null,
            "order": null,
            "overflow": null,
            "overflow_x": null,
            "overflow_y": null,
            "padding": null,
            "right": null,
            "top": null,
            "visibility": null,
            "width": null
          }
        },
        "f9d23a27e11045148785e3e27e999538": {
          "model_module": "@jupyter-widgets/controls",
          "model_module_version": "1.5.0",
          "model_name": "DescriptionStyleModel",
          "state": {
            "_model_module": "@jupyter-widgets/controls",
            "_model_module_version": "1.5.0",
            "_model_name": "DescriptionStyleModel",
            "_view_count": null,
            "_view_module": "@jupyter-widgets/base",
            "_view_module_version": "1.2.0",
            "_view_name": "StyleView",
            "description_width": ""
          }
        }
      }
    }
  },
  "nbformat": 4,
  "nbformat_minor": 0
}
